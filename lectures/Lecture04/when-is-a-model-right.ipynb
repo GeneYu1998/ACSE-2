{
 "cells": [
  {
   "cell_type": "markdown",
   "metadata": {},
   "source": [
    "# ACSE-2  <a class=\"tocSkip\">\n",
    "\n",
    "## When is a \"model\" right, how do we demonstrate this, and how can things go wrong?  <a class=\"tocSkip\">"
   ]
  },
  {
   "cell_type": "markdown",
   "metadata": {},
   "source": [
    "## Learning objectives  <a class=\"tocSkip\">\n",
    "   \n",
    "   \n",
    "1. To further discuss what a model is including its uses and users, and to discuss how we can know if a model is right or wrong, and how to establish the degree of \"rightness\" and \"wrongness\".\n",
    "\n",
    "\n",
    "2. To understand the formal processes of Verification & Validation, and to go through some examples, including the Method of Manufactured Solutions.\n",
    "\n",
    "\n",
    "3. To consider some examples demonstrating some of the ways models can go wrong.\n",
    "\n",
    "\n",
    "4. To understand some of the different types of errors, norms and what ill-conditioned problems are.\n",
    "\n",
    "\n",
    "5. To provide a brief introduction to symbolic computation."
   ]
  },
  {
   "cell_type": "markdown",
   "metadata": {
    "toc": true
   },
   "source": [
    "<h1>Table of Contents<span class=\"tocSkip\"></span></h1>\n",
    "<div class=\"toc\"><ul class=\"toc-item\"><li><span><a href=\"#Introductory-comments\" data-toc-modified-id=\"Introductory-comments-1\"><span class=\"toc-item-num\">1&nbsp;&nbsp;</span>Introductory comments</a></span><ul class=\"toc-item\"><li><span><a href=\"#Further-reading\" data-toc-modified-id=\"Further-reading-1.1\"><span class=\"toc-item-num\">1.1&nbsp;&nbsp;</span>Further reading</a></span></li></ul></li><li><span><a href=\"#What-is-a-model\" data-toc-modified-id=\"What-is-a-model-2\"><span class=\"toc-item-num\">2&nbsp;&nbsp;</span>What is a model</a></span><ul class=\"toc-item\"><li><span><a href=\"#Uses-and-users-of-a-model\" data-toc-modified-id=\"Uses-and-users-of-a-model-2.1\"><span class=\"toc-item-num\">2.1&nbsp;&nbsp;</span>Uses and users of a model</a></span></li><li><span><a href=\"#Terminology\" data-toc-modified-id=\"Terminology-2.2\"><span class=\"toc-item-num\">2.2&nbsp;&nbsp;</span>Terminology</a></span></li><li><span><a href=\"#All-Models-Are-Wrong!--[A-reminder---taken-direct-from-lecture-1]\" data-toc-modified-id=\"All-Models-Are-Wrong!--[A-reminder---taken-direct-from-lecture-1]-2.3\"><span class=\"toc-item-num\">2.3&nbsp;&nbsp;</span>All Models Are Wrong!  [A reminder - taken direct from lecture 1]</a></span></li><li><span><a href=\"#One-key-reason-Computational-Scientists-get-jobs!\" data-toc-modified-id=\"One-key-reason-Computational-Scientists-get-jobs!-2.4\"><span class=\"toc-item-num\">2.4&nbsp;&nbsp;</span>One key reason Computational Scientists get jobs!</a></span></li></ul></li><li><span><a href=\"#Verification-&amp;-Validation-(V&amp;V)\" data-toc-modified-id=\"Verification-&amp;-Validation-(V&amp;V)-3\"><span class=\"toc-item-num\">3&nbsp;&nbsp;</span>Verification &amp; Validation (V&amp;V)</a></span><ul class=\"toc-item\"><li><span><a href=\"#Getting-the-right-answer-for-the-wrong-reasons\" data-toc-modified-id=\"Getting-the-right-answer-for-the-wrong-reasons-3.1\"><span class=\"toc-item-num\">3.1&nbsp;&nbsp;</span>Getting the right answer for the wrong reasons</a></span></li><li><span><a href=\"#Verification\" data-toc-modified-id=\"Verification-3.2\"><span class=\"toc-item-num\">3.2&nbsp;&nbsp;</span>Verification</a></span><ul class=\"toc-item\"><li><span><a href=\"#Code-verification\" data-toc-modified-id=\"Code-verification-3.2.1\"><span class=\"toc-item-num\">3.2.1&nbsp;&nbsp;</span>Code verification</a></span></li><li><span><a href=\"#A-code-verification-testing-hierarchy\" data-toc-modified-id=\"A-code-verification-testing-hierarchy-3.2.2\"><span class=\"toc-item-num\">3.2.2&nbsp;&nbsp;</span>A code verification testing hierarchy</a></span></li><li><span><a href=\"#Solution-verification\" data-toc-modified-id=\"Solution-verification-3.2.3\"><span class=\"toc-item-num\">3.2.3&nbsp;&nbsp;</span>Solution verification</a></span><ul class=\"toc-item\"><li><span><a href=\"#Aside:-describing-&quot;user-error&quot;\" data-toc-modified-id=\"Aside:-describing-&quot;user-error&quot;-3.2.3.1\"><span class=\"toc-item-num\">3.2.3.1&nbsp;&nbsp;</span>Aside: describing \"user error\"</a></span></li></ul></li><li><span><a href=\"#Summary\" data-toc-modified-id=\"Summary-3.2.4\"><span class=\"toc-item-num\">3.2.4&nbsp;&nbsp;</span>Summary</a></span></li></ul></li><li><span><a href=\"#Validation\" data-toc-modified-id=\"Validation-3.3\"><span class=\"toc-item-num\">3.3&nbsp;&nbsp;</span>Validation</a></span></li></ul></li><li><span><a href=\"#Errors\" data-toc-modified-id=\"Errors-4\"><span class=\"toc-item-num\">4&nbsp;&nbsp;</span>Errors</a></span><ul class=\"toc-item\"><li><span><a href=\"#Magnitudes\" data-toc-modified-id=\"Magnitudes-4.1\"><span class=\"toc-item-num\">4.1&nbsp;&nbsp;</span>Magnitudes</a></span></li></ul></li><li><span><a href=\"#Norms\" data-toc-modified-id=\"Norms-5\"><span class=\"toc-item-num\">5&nbsp;&nbsp;</span>Norms</a></span><ul class=\"toc-item\"><li><span><a href=\"#Vector-norms\" data-toc-modified-id=\"Vector-norms-5.1\"><span class=\"toc-item-num\">5.1&nbsp;&nbsp;</span>Vector norms</a></span></li><li><span><a href=\"#Warning\" data-toc-modified-id=\"Warning-5.2\"><span class=\"toc-item-num\">5.2&nbsp;&nbsp;</span>Warning</a></span><ul class=\"toc-item\"><li><span><a href=\"#Example-1---response-to-outliers-[*]\" data-toc-modified-id=\"Example-1---response-to-outliers-[*]-5.2.1\"><span class=\"toc-item-num\">5.2.1&nbsp;&nbsp;</span>Example 1 - response to outliers [*]</a></span></li><li><span><a href=\"#Example-2---comparing-vectors-of-differing-lengths\" data-toc-modified-id=\"Example-2---comparing-vectors-of-differing-lengths-5.2.2\"><span class=\"toc-item-num\">5.2.2&nbsp;&nbsp;</span>Example 2 - comparing vectors of differing lengths</a></span></li></ul></li><li><span><a href=\"#RMS-(root-mean-square)-norm-and-its-relation-to-the-$L^2$-norm-[*---this-is-important,-but-in-the-interest-of-time]\" data-toc-modified-id=\"RMS-(root-mean-square)-norm-and-its-relation-to-the-$L^2$-norm-[*---this-is-important,-but-in-the-interest-of-time]-5.3\"><span class=\"toc-item-num\">5.3&nbsp;&nbsp;</span>RMS (root mean square) norm and its relation to the $L^2$ norm [* - this is important, but in the interest of time]</a></span></li></ul></li><li><span><a href=\"#Comparing-algorithms-against-analytic-solutions---code-verification\" data-toc-modified-id=\"Comparing-algorithms-against-analytic-solutions---code-verification-6\"><span class=\"toc-item-num\">6&nbsp;&nbsp;</span>Comparing algorithms against analytic solutions - code verification</a></span><ul class=\"toc-item\"><li><span><a href=\"#A-problem-with-an-exact-solution-to-compare-against\" data-toc-modified-id=\"A-problem-with-an-exact-solution-to-compare-against-6.1\"><span class=\"toc-item-num\">6.1&nbsp;&nbsp;</span>A problem with an exact solution to compare against</a></span></li></ul></li><li><span><a href=\"#Plotting-errors-using-a-log-log-plot-[*]\" data-toc-modified-id=\"Plotting-errors-using-a-log-log-plot-[*]-7\"><span class=\"toc-item-num\">7&nbsp;&nbsp;</span>Plotting errors using a log-log plot [*]</a></span><ul class=\"toc-item\"><li><span><a href=\"#Motivation\" data-toc-modified-id=\"Motivation-7.1\"><span class=\"toc-item-num\">7.1&nbsp;&nbsp;</span>Motivation</a></span></li><li><span><a href=\"#Theory\" data-toc-modified-id=\"Theory-7.2\"><span class=\"toc-item-num\">7.2&nbsp;&nbsp;</span>Theory</a></span></li></ul></li><li><span><a href=\"#The-Method-of-Manufactured-Solutions-(MMS)\" data-toc-modified-id=\"The-Method-of-Manufactured-Solutions-(MMS)-8\"><span class=\"toc-item-num\">8&nbsp;&nbsp;</span>The Method of Manufactured Solutions (MMS)</a></span><ul class=\"toc-item\"><li><span><a href=\"#A-simple-approach-for-an-ODE\" data-toc-modified-id=\"A-simple-approach-for-an-ODE-8.1\"><span class=\"toc-item-num\">8.1&nbsp;&nbsp;</span>A simple approach for an ODE</a></span></li><li><span><a href=\"#An-approach-more-akin-to-how-we-would-perform-MMS-on-PDEs\" data-toc-modified-id=\"An-approach-more-akin-to-how-we-would-perform-MMS-on-PDEs-8.2\"><span class=\"toc-item-num\">8.2&nbsp;&nbsp;</span>An approach more akin to how we would perform MMS on PDEs</a></span></li></ul></li><li><span><a href=\"#How-can-things-go-wrong?-[*]\" data-toc-modified-id=\"How-can-things-go-wrong?-[*]-9\"><span class=\"toc-item-num\">9&nbsp;&nbsp;</span>How can things go wrong? [*]</a></span><ul class=\"toc-item\"><li><span><a href=\"#Rounding-errors\" data-toc-modified-id=\"Rounding-errors-9.1\"><span class=\"toc-item-num\">9.1&nbsp;&nbsp;</span>Rounding errors</a></span><ul class=\"toc-item\"><li><span><a href=\"#A-very-simple-example\" data-toc-modified-id=\"A-very-simple-example-9.1.1\"><span class=\"toc-item-num\">9.1.1&nbsp;&nbsp;</span>A very simple example</a></span></li><li><span><a href=\"#An-example\" data-toc-modified-id=\"An-example-9.1.2\"><span class=\"toc-item-num\">9.1.2&nbsp;&nbsp;</span>An example</a></span></li><li><span><a href=\"#Minimising-round-off-errors\" data-toc-modified-id=\"Minimising-round-off-errors-9.1.3\"><span class=\"toc-item-num\">9.1.3&nbsp;&nbsp;</span>Minimising round-off errors</a></span></li></ul></li><li><span><a href=\"#Truncation-errors\" data-toc-modified-id=\"Truncation-errors-9.2\"><span class=\"toc-item-num\">9.2&nbsp;&nbsp;</span>Truncation errors</a></span></li><li><span><a href=\"#Overflow\" data-toc-modified-id=\"Overflow-9.3\"><span class=\"toc-item-num\">9.3&nbsp;&nbsp;</span>Overflow</a></span><ul class=\"toc-item\"><li><span><a href=\"#Examples\" data-toc-modified-id=\"Examples-9.3.1\"><span class=\"toc-item-num\">9.3.1&nbsp;&nbsp;</span>Examples</a></span></li><li><span><a href=\"#Example---Fibonacci-numbers\" data-toc-modified-id=\"Example---Fibonacci-numbers-9.3.2\"><span class=\"toc-item-num\">9.3.2&nbsp;&nbsp;</span>Example - Fibonacci numbers</a></span></li></ul></li></ul></li><li><span><a href=\"#Matrix-norms-[*]\" data-toc-modified-id=\"Matrix-norms-[*]-10\"><span class=\"toc-item-num\">10&nbsp;&nbsp;</span>Matrix norms [*]</a></span><ul class=\"toc-item\"><li><span><a href=\"#Norm-equivalence\" data-toc-modified-id=\"Norm-equivalence-10.1\"><span class=\"toc-item-num\">10.1&nbsp;&nbsp;</span>Norm equivalence</a></span></li><li><span><a href=\"#Implementing-our-own-matrix-norms\" data-toc-modified-id=\"Implementing-our-own-matrix-norms-10.2\"><span class=\"toc-item-num\">10.2&nbsp;&nbsp;</span>Implementing our own matrix norms</a></span></li><li><span><a href=\"#Vector-induced-matrix-norms\" data-toc-modified-id=\"Vector-induced-matrix-norms-10.3\"><span class=\"toc-item-num\">10.3&nbsp;&nbsp;</span>Vector induced matrix norms</a></span></li><li><span><a href=\"#The-condition-number\" data-toc-modified-id=\"The-condition-number-10.4\"><span class=\"toc-item-num\">10.4&nbsp;&nbsp;</span>The condition number</a></span></li></ul></li><li><span><a href=\"#Ill-conditioned-matrices-[*]\" data-toc-modified-id=\"Ill-conditioned-matrices-[*]-11\"><span class=\"toc-item-num\">11&nbsp;&nbsp;</span>Ill-conditioned matrices [*]</a></span><ul class=\"toc-item\"><li><span><a href=\"#An-Example\" data-toc-modified-id=\"An-Example-11.1\"><span class=\"toc-item-num\">11.1&nbsp;&nbsp;</span>An Example</a></span></li></ul></li><li><span><a href=\"#Algorithm-stability\" data-toc-modified-id=\"Algorithm-stability-12\"><span class=\"toc-item-num\">12&nbsp;&nbsp;</span>Algorithm stability</a></span></li><li><span><a href=\"#Summary\" data-toc-modified-id=\"Summary-13\"><span class=\"toc-item-num\">13&nbsp;&nbsp;</span>Summary</a></span></li></ul></div>"
   ]
  },
  {
   "cell_type": "code",
   "execution_count": 1,
   "metadata": {},
   "outputs": [
    {
     "data": {
      "text/html": [
       "<style>\n",
       "div.optional {\n",
       "    display: block;\n",
       "    background-color: #d7e2ff;\n",
       "    border-color: #d7e2ff;\n",
       "    border-left: 5px solid #d7e2ff;\n",
       "    padding: 0.5em;\n",
       "}\n",
       "div.advanced {\n",
       "    display: block;\n",
       "    background-color: #fff4d7;\n",
       "    border-color: #fff4d7;\n",
       "    border-left: 5px solid #fff4d7;\n",
       "    padding: 0.5em;\n",
       "}\n",
       "</style>\n"
      ],
      "text/plain": [
       "<IPython.core.display.HTML object>"
      ]
     },
     "metadata": {},
     "output_type": "display_data"
    }
   ],
   "source": [
    "%%html\n",
    "<style>\n",
    "div.optional {\n",
    "    display: block;\n",
    "    background-color: #d7e2ff;\n",
    "    border-color: #d7e2ff;\n",
    "    border-left: 5px solid #d7e2ff;\n",
    "    padding: 0.5em;\n",
    "}\n",
    "div.advanced {\n",
    "    display: block;\n",
    "    background-color: #fff4d7;\n",
    "    border-color: #fff4d7;\n",
    "    border-left: 5px solid #fff4d7;\n",
    "    padding: 0.5em;\n",
    "}\n",
    "</style>"
   ]
  },
  {
   "cell_type": "markdown",
   "metadata": {},
   "source": [
    "# Introductory comments\n",
    "\n",
    "In L1 we made a start at (computational) modelling, then in L2 and L3 we introduced some (numerical) linear algebra and ordinary differential equations.\n",
    "\n",
    "With this we are able to start writing code to solve some quite complex problems.\n",
    "\n",
    "As soon as we start formulating and implementing models we need to start asking the question: **is our model correct?**\n",
    "\n",
    "This is a deceptively simple question [it's relatively simple to give a definitive \"no\", but very difficult, perhaps impossible, to give a definitive \"yes\" without qualification] ... \n",
    "\n",
    "we need to understand the ways a model/code can be wrong, and what correctness means when simulating a complex (e.g. real world) process or system.\n",
    "\n",
    "By **model** here we include all of:   the conceptual model, the underlying continuous equations, their discretisation and the solution of the derived discrete equations, i.e. all of the steps that are involved in ultimately generating a numerical solution or prediction."
   ]
  },
  {
   "cell_type": "markdown",
   "metadata": {},
   "source": [
    "## Further reading\n",
    "\n",
    "The following book gives an exhaustive recent review of computer simulation validation, from the philosphical aspects through theory to best practice examples. It is a series of individual chapters written by leading authorities on these topics.\n",
    "\n",
    "- Computer Simulation Validation: Fundamental Concepts, Methodological Frameworks, and Philosophical Perspectives. (Springer, 2019), eds: Claus Beisbart, Nicole J. Saam, 1074 pages.   <https://link.springer.com/book/10.1007/978-3-319-70766-2>\n",
    "\n",
    "\n",
    "Another text on this topic\n",
    "\n",
    "- Oberkampf, W. L., & Roy, C. Verification and Validation in Scientific Computing. Cambridge: Cambridge University Press. (2010) doi:10.1017/CBO9780511760396 <https://www.researchgate.net/publication/237076931_Verification_and_Validation_in_Scientific_Computing>\n",
    "\n",
    "and an earlier report by the same lead author:\n",
    "\n",
    "- Oberkampf, W. L., &  Trucano, T. G.. Verification and Validation in Computational Fluid Dynamics, Progress in Aerospace Sciences 38, Pages 209-272, (2002). <Oberkampf, W. L., & Trucano, T. G.. Verification and Validation in Computational Fluid Dynamics, Progress in Aerospace Sciences 38, Pages 209-272, (2002). \n",
    "<https://www.sciencedirect.com/science/article/pii/S0376042102000052>\n",
    "\n",
    "\n",
    "and an AIAA report where some of the commonly accepted definitions are presented\n",
    "\n",
    "- American Institute of Aeronautics and Astronautics (AIAA). Guide for the Verification and Validation of Computational Fluid Dynamics Simulations, AIAA-G-077-1998, (1998). <https://arc.aiaa.org/doi/10.2514/4.472855.001>"
   ]
  },
  {
   "cell_type": "code",
   "execution_count": 2,
   "metadata": {},
   "outputs": [],
   "source": [
    "%matplotlib inline\n",
    "%precision 6\n",
    "import numpy as np\n",
    "import matplotlib.pyplot as plt\n",
    "import scipy.linalg as sl\n",
    "from pprint import pprint\n",
    "# the following allows us to plot triangles indicating convergence order\n",
    "from mpltools import annotation"
   ]
  },
  {
   "cell_type": "markdown",
   "metadata": {},
   "source": [
    "# What is a model\n",
    "\n",
    "At a high level we can think of a model as a mapping or a function that takes in input data and generates output data.\n",
    "\n",
    "The input data includes \n",
    "\n",
    "\n",
    "1. physical (or chemical, biological, ...) data including parameters, time series, and/or spatial fields as appropriate to describe the system being modelled, e.g. the viscosity of a fluid under consideration, forcing fields, initial and boundary conditions ...\n",
    "\n",
    "\n",
    "2. approximated physical parameters/fields - in a computational model the continuous world needs to be approximated, e.g. continuous time and space is replaced by a finite time step size and a finite computational mesh. The latter spatial approximation potentially involves both the continuum hypothesis for real world systems, as well as leading to an approximation of the geometry.\n",
    "\n",
    "\n",
    "3. numerical parameters - generally mathematical models, and certainly numerical models, will have some parameters that can be varied by the user, e.g. a discretisation option, or stabilisation/filtering mechanism. These can be thought of as abstract non-physical quantities, although often they may have a possible physical interpretation. These are generally introduced for pragmatic reasons to provide a robust algorithm in face of the approximations made under 2.\n",
    "\n",
    "\n",
    "\n",
    "The output is then some prediction, e.g. the future state of the system in the form of fields varying in space and time, from which addition diagnostic quantities can be computed. The computation of diagnostics generally involves code that itself takes some numerical inputs, for completeness we list this as a 4th input to the overall model\n",
    "\n",
    "\n",
    "\n",
    "4. inputs to post-processing and diagnostic calculations, e.g. you may perform a numerical integration to compute a flux, or interpolate to another mesh for visualisaton purposes ..."
   ]
  },
  {
   "cell_type": "markdown",
   "metadata": {},
   "source": [
    "## Uses and users of a model\n",
    "\n",
    "A key aspect of asking the question is my model right, is asking the question how will my model be used and by whom?\n",
    "\n",
    "We need to ask ourselves some questions such as:\n",
    "\n",
    "\n",
    "- Who are the users of the model/software - \"stakeholders\", \"decision-makers\"?\n",
    "\n",
    "\n",
    "- What will they do with the results?\n",
    "\n",
    "\n",
    "- How accurately do they **need** the results to be?\n",
    "\n",
    "\n",
    "- How fast do they need results?\n",
    "\n",
    "\n",
    "- Do we need predictive capability, i.e. do we want to know that actual value of some quantity, or do we just need to know trends? For example, is knowing that a doubling of an input leads to a particular change in an output, without needing to know or have confidence over the actual values, good enough?"
   ]
  },
  {
   "cell_type": "markdown",
   "metadata": {},
   "source": [
    "## Terminology\n",
    "\n",
    "\n",
    "If used in a design context, sometimes instead of model you will hear the term [*digital twin*](https://en.wikipedia.org/wiki/Digital_twin), and you may hear about models being used for *virtual prototyping*.\n",
    "\n",
    "With the maturing of simulation tools, an explosion in data availability and our ability to analyse and interpret large disparate data sets using \"data science\" and machine learning techniques, models on their own are being supplanted by *model-data fusion* techniques - e.g. see <https://en.wikipedia.org/wiki/Data_fusion> and <https://en.wikipedia.org/wiki/Data_assimilation>.\n",
    "\n",
    "Similarly, results from multiple different models can be combined - e.g. as in IPCC studies."
   ]
  },
  {
   "cell_type": "markdown",
   "metadata": {},
   "source": [
    "## All Models Are Wrong!  [A reminder - taken direct from lecture 1]\n",
    "\n",
    "[*Wikipedia: All models are wrong*](https://en.wikipedia.org/wiki/All_models_are_wrong)\n",
    "\n",
    "This is an interesting topic, and it is important that you appreciate the points being made here..\n",
    "\n",
    "Some famous quotes from Statistician George Box (and colleagues)\n",
    "\n",
    "- \"... all models are approximations. Essentially, all models are wrong, but some are useful. However, the approximate nature of the model must always be borne in mind....\"\n",
    "<br>\n",
    "\n",
    "\n",
    "- \"It has been said that \"all models are wrong but some models are useful.\" In other words, any model is at best a useful fiction—there never was, or ever will be, an exactly normal distribution or an exact linear relationship. Nevertheless, enormous progress has been made by entertaining such fictions and using them as approximations.\"\n",
    "<br>\n",
    "\n",
    "\n",
    "- \"All models are approximations. Assumptions, whether implied or clearly stated, are never exactly true. All models are wrong, but some models are useful. So the question you need to ask is not \"Is the model true?\" (it never is) but \"Is the model good enough for this particular application?\"\n",
    "<br>\n",
    "\n",
    "<br>\n",
    "\n",
    "and others:\n",
    "\n",
    "- \"Modelling in science remains, partly at least, an art. Some principles do exist, however, to guide the modeller. The first is that all models are wrong; some, though, are better than others and we can search for the better ones. At the same time we must recognize that eternal truth is not within our grasp.\"\n",
    "<br>\n",
    "\n",
    "\n",
    "- \"... it does not seem helpful just to say that all models are wrong. The very word model implies simplification and idealization. The idea that complex physical, biological or sociological systems can be exactly described by a few formulae is patently absurd. The construction of idealized representations that capture important stable aspects of such systems is, however, a vital part of general scientific analysis and statistical models, especially substantive ones, do not seem essentially different from other kinds of model.\"\n",
    "<br>\n",
    "\n",
    "\n",
    "- \"A model is a simplification or approximation of reality and hence will not reflect all of reality. ... Box noted that \"all models are wrong, but some are useful.\" While a model can never be \"truth,\" a model might be ranked from very useful, to useful, to somewhat useful to, finally, essentially useless.\"\n"
   ]
  },
  {
   "cell_type": "markdown",
   "metadata": {},
   "source": [
    "## One key reason Computational Scientists get jobs!\n",
    "\n",
    "In this lecture we are going to explore these ideas and understand what we can do as \"Computational Scientists\" to ensure that models are as useful as possible.\n",
    "\n",
    "Without this, modelling is a waste of time.\n",
    "\n",
    "Knowledge/expertise in these topics is highly transferable across computer/computational science in their broadest terms, and makes you employable!"
   ]
  },
  {
   "cell_type": "markdown",
   "metadata": {},
   "source": [
    "There's a lot of text in the coming section I'm afraid, but it is important and hopefully interesting.\n",
    "\n",
    "<br>\n",
    "\n",
    "# Verification & Validation (V&V)\n",
    "\n",
    "These are very important, and the two terms are not interchangeable in the context of software.\n",
    "\n",
    "Very loosely **validation** asks whether the equations (i.e. the \"mathematical model\") we implement in our computational model appropriately represent the real system we are seeking to model/simulate.\n",
    "\n",
    "**Verification** asks the question are we solving these equations correctly [i.e. it doesn't concern itself with whether the mathematical model is right or not].\n",
    "\n",
    "The latter is in the realm of computational mathematics (e.g. discretisation techniques we've chosen) and software engineering (our implementation in code). \n",
    "\n",
    "The former is more in the realm of physics (or biology, chemistry ... whatever the underlying subject domain is) and its intersection with mathematical modelling.\n",
    "\n",
    "As a \"Computational Scientist\" we need to be intimately aware of both, be experts in the latter, while we may work with domain specialists on the former."
   ]
  },
  {
   "cell_type": "markdown",
   "metadata": {},
   "source": [
    "More informally: \n",
    "\n",
    "\n",
    "- Verification = **did I build the system right?**\n",
    "\n",
    "\n",
    "- Validation = **did I build the right system?**"
   ]
  },
  {
   "cell_type": "markdown",
   "metadata": {},
   "source": [
    "From L1:\n",
    "\n",
    "<img src=\"./figures/model-schematic.png\" width=700px style=\"border: 1px solid black\">"
   ]
  },
  {
   "cell_type": "markdown",
   "metadata": {},
   "source": [
    "## Getting the right answer for the wrong reasons\n",
    "\n",
    "We gave a loose definition of V&V above.\n",
    "\n",
    "An important point to note is that one does not necessarily imply the other - **you should always be concerned with the issue of \"getting the right answer for the wrong reasons\"**:\n",
    "\n",
    "*(Figure: https://xkcd.com/759/)*\n",
    "<img src=\"https://imgs.xkcd.com/comics/3x9.png\" width=500x>\n",
    "\n",
    "$3\\sqrt{81}$ being interpreted here as long division - Google this if you've forgotten from school how to do this!\n",
    "\n",
    "So we got the right answer: $3\\times 9 = 27$, however our methodology is completely wrong."
   ]
  },
  {
   "cell_type": "markdown",
   "metadata": {},
   "source": [
    "Getting \"the right answer for the wrong reasons\" (and thus being lulled into thinking all is well with your model/code) is very possible to do if you perform a single calculation (e.g. for one numerical or physical parameter choice), get an acceptable error, and say job done.\n",
    "\n",
    "Let's consider the silly example above - we want to write some code to compute $x \\times 9$. \n",
    "\n",
    "Based on the (flawed) derivation above we believe we can compute this as $81/x$. Let's code this up, plot it and compute an error."
   ]
  },
  {
   "cell_type": "code",
   "execution_count": 3,
   "metadata": {},
   "outputs": [
    {
     "name": "stdout",
     "output_type": "stream",
     "text": [
      "The relative error in our calculation is:  0.03418557885665028\n"
     ]
    },
    {
     "data": {
      "image/png": "[encoded data removed]",
      "text/plain": [
       "<Figure size 360x360 with 1 Axes>"
      ]
     },
     "metadata": {
      "needs_background": "light"
     },
     "output_type": "display_data"
    }
   ],
   "source": [
    "# the flawed algorithm\n",
    "def times9(x):\n",
    "    return 81 / x\n",
    "\n",
    "fig = plt.figure(figsize=(5, 5))\n",
    "ax1 = plt.subplot(111)\n",
    "\n",
    "# value we want to test\n",
    "x = 2.95\n",
    "ax1.plot(x, times9(x), 'bo', label='our code')\n",
    "\n",
    "ax1.plot(x, x*9, 'ro', label='truth')\n",
    "\n",
    "ax1.set_xlabel('$x$', fontsize = 14)\n",
    "ax1.set_ylabel('$9x$', fontsize = 14)\n",
    "ax1.set_title('Code verfication (one run)', fontsize = 16)\n",
    "ax1.grid(True)\n",
    "ax1.set_xlim(2.5,3.5)\n",
    "ax1.set_ylim(0,100)\n",
    "ax1.legend(loc='best', fontsize=14)\n",
    "\n",
    "print('The relative error in our calculation is: ', \n",
    "      np.abs(times9(x) - x*9)/(x*9))"
   ]
  },
  {
   "cell_type": "markdown",
   "metadata": {},
   "source": [
    "So things look pretty good from the plot (partly as we set the $y$ axis limits to be quite large), and our relative error is around $3.4\\%$. This may well be a low enough error \"for engineering purposes\".\n",
    "\n",
    "But let's check some more.\n",
    "\n",
    "A **\"sanity check\"** might simply be to check that as we increase the code's input the output increases - we know this to be true for our problem (times by 9) - this could be knowledge our domain expert imparts on us, or what observations tell us. \n",
    "\n",
    "This could also be called a \"trend check\"."
   ]
  },
  {
   "cell_type": "code",
   "execution_count": 4,
   "metadata": {},
   "outputs": [
    {
     "data": {
      "text/plain": [
       "<matplotlib.legend.Legend at 0x27baab10d48>"
      ]
     },
     "execution_count": 4,
     "metadata": {},
     "output_type": "execute_result"
    },
    {
     "data": {
      "image/png": "[encoded data removed]",
      "text/plain": [
       "<Figure size 360x360 with 1 Axes>"
      ]
     },
     "metadata": {
      "needs_background": "light"
     },
     "output_type": "display_data"
    }
   ],
   "source": [
    "# the flawed algorithm\n",
    "def times9(x):\n",
    "    return 81 / x\n",
    "\n",
    "fig = plt.figure(figsize=(5, 5))\n",
    "ax1 = plt.subplot(111)\n",
    "\n",
    "# range of values we want to test\n",
    "x = np.linspace(2.5,3.5,10)\n",
    "ax1.plot(x, times9(x), 'b.-', label='our code')\n",
    "\n",
    "ax1.plot(x, x*9, 'r.-', label='\"truth\"')\n",
    "\n",
    "ax1.set_xlabel('$x$', fontsize = 14)\n",
    "ax1.set_ylabel('$9x$', fontsize = 14)\n",
    "ax1.set_title('Code verfication (multiple runs/trend)', \n",
    "              fontsize = 16)\n",
    "ax1.grid(True)\n",
    "ax1.set_xlim(2.4,3.6)\n",
    "ax1.set_ylim(20,40)\n",
    "ax1.legend(loc='best', fontsize=14)"
   ]
  },
  {
   "cell_type": "markdown",
   "metadata": {},
   "source": [
    "So our code doesn't pass the \"sanity\", or \"trend\" check - just by looking at the blue line (ignore the red for now) and knowing we expect to see growth.\n",
    "\n",
    "**If** we were lucky enough to have some independent knowledge of the solution (the red line above), it's very clear we have big problems with our code.\n",
    "\n",
    "But note we don't know whether the problem is with the model (i.e. the underlying equation), or our implementation in code (a bug).\n",
    "\n",
    "For this problem our implementation is correct (there are no bugs in our code) but our starting equations are wrong - so we've failed the validation check really (our code is correct so technically we would pass verification, but this is a bit pointless if our underlying model/equations are wrong and validation has failed).\n",
    "\n",
    "[For this problem there is a bit of a grey area between verification and validation as there isn't a clear distinction between the \"mathematical model\" and the methodology used to solve them].\n",
    "\n",
    "If you discount the potential for getting the right answer for the wrong reasons (which you shouldn't!), then generally \"validation\"$\\implies$\"verification\".\n",
    "\n",
    "In almost all situations you have to assume that \"verification\"$\\nRightarrow$\"validation\".  There are arguably some exceptions to this but it would be best practice to ignore these.\n",
    "\n",
    "It's often quoted that **verification is a pre-requisite for validation**. Hence that's the order you would generally perform these activities, and the order we will discuss them in more detail now.\n",
    "\n",
    "It's also the case that verification can be conducted on components of software in isolation, or on a compiutational model as it develops but before it is complete, while validation generally requires the full model to have been implemented."
   ]
  },
  {
   "cell_type": "markdown",
   "metadata": {},
   "source": [
    "## Verification\n",
    "\n",
    "After some initial sanity checking (maybe as simple as checking your code runs and returns a sensible value, e.g. values of the right order of magnitude), the next step would be to conduct formal verification.\n",
    "\n",
    "The AIAA definition of verification is:\n",
    "\n",
    "> \"Verification: The process of determining that a model implementation accurately represents the\n",
    "developer's conceptual description of the model and the solution to the model.\"\n",
    "\n",
    "An important point to note about verification is that we do not need to use physically realistic parameters as inputs - a good verification test can be completely artificial and non-physical.\n",
    "\n",
    "Verification can be split into two aspects:\n",
    "\n",
    "[for further discussion on vertification see: \n",
    "Christopher J.Roy, Review of code and solution verification procedures for computational simulation, Journal of Computational Physics, Volume 205, Issue 1, 1 May 2005, Pages 131-156 <http://ftp.demec.ufpr.br/CFD/bibliografia/erros_numericos/Roy_2005.pdf>]"
   ]
  },
  {
   "cell_type": "markdown",
   "metadata": {},
   "source": [
    "### Code verification\n",
    "\n",
    "Code verification is essentially targeted at finding and eliminating coding mistakes (bugs).\n",
    "\n",
    "In principle if the code doesn't change then code verification only need to be performed once. \n",
    "\n",
    "In practice as compilers change previously hidden bugs may suddenly cause problems. Changes in external libraries, e.g. API changes, may also generate bugs in your code.\n",
    "\n",
    "Code verification therefore needs to be an ongoing (ideally automated) activity (see more at <https://www.geosci-model-dev.net/4/435/2011/gmd-4-435-2011.pdf>)\n",
    "\n",
    "A broader characterisation of this activity is [Software Quality Assurance](https://en.wikipedia.org/wiki/Software_quality_assurance).\n",
    "\n",
    "Checking that the errors from the code, when solving a problem with an exact solution, converge at the expected rate is the most powerful approach to perform code verification (we saw this at the end of L1 where we confirmed our forward Euler implementation converged at first order). \n",
    "\n",
    "This is because **when performed carefully a convergence analysis will often show up even the smallest, subtlest bug which may not be obviously clear at all from a single run of the code.**\n",
    "\n",
    "When driving down errors to an extreme amount, numerical parameter choices can compromise convergence rates, this isn't a bug and appropriate parameter choices may need to be made in order to fully verify the code - e.g. to differentiate a bug from the errors that result from a finite valued solver tolerance. Note that this aspect of code verification has overlap with the *solution verification* step to be discussed next.\n",
    "\n",
    "If an exact solution isn't available, or to be used in addition even if it is, it is possible to use benchmark solutions - research communities often publish benchmark results for standard test cases - these may have been computed to such a high degree of accuracy by multiple independent models, and thus be de-facto considered truth. A downside is that the quoted quantities will not generally be complete solution fields, they may be pointwise or integral values, or some other derived/diagnostic quantity. There is therefore the potential, however unlikely, to fall foul of getting the right answer for the wrong reasons.\n",
    "\n",
    "The benefit of benchmark solutions and the reasons they may be considered even when verification against an exact solution has been performed, is that often CPU timings for different codes will also be presented by the community. This gives us the opportunity to additionally compare our run times against others for a given accuracy.\n",
    "\n",
    "But what if we fail code verification?  Actually tracking down the bug could be **extremely difficult**.\n",
    "\n",
    "One option is to simplify the problem being solved.\n",
    "\n",
    "Related to the community benchmark comments, there is the potential to download trusted external models/codes and compare directly against our code on a series of test cases through sanity check, benchmark test and against exact solution. The benefit here is that if we fail some aspect of code verification we can systematically de/in-crease complexity in both models side by side (e.g. turning off/on terms in the equations one by one) and the point at which we see differences helps us track down our bug.\n",
    "\n",
    "I can't over-emphasise the value in comparing against trusted external models (if they exist!) when you are developing your own code.  But always question to what degree the external model can be trusted."
   ]
  },
  {
   "cell_type": "markdown",
   "metadata": {},
   "source": [
    "### A code verification testing hierarchy\n",
    "\n",
    "We can characterise code verification steps as follows:\n",
    "\n",
    "\n",
    "1. Sanity tests [qualitative] - does an experienced computational scientist and/or an application domain specialist think a solution looks correct. Actually that's very hard to say with confidence, but they can much more easily say a solution looks incorrect, in what ways it looks wrong, and experience therefore pointing to the bug potentially being \"X, Y or Z\".  A simple example of a sanity check might be if I input zero do I get zero as an output.\n",
    "\n",
    "\n",
    "2. Trend/conservation tests [qualitative] - rather than looking at the result for a single calculation we could instead check that an expected trend is present - the physics implies that increasing an input parameter should lead to an increase/decrease in an output. Similarly the physics AND/OR the numerics (if implemented correctly) might be subject to conservation laws that can be checked - the integral of a quanitity in the domain should be conserved, e.g. mass.\n",
    "\n",
    "\n",
    "3. Benchmark test [\"quantitative\"] - as discussed above, checking your code can recreate an accepted community benchmark value.\n",
    "\n",
    "\n",
    "4. Comparison tests [qualitative/qualitative] - cursory or detailed side by side comparison against another code - as discussed above potentially incredibly useful. Can either be performed with benchmark tests or against exact solutions. Abstract sanity checks can also be used to zero in on locating a bug. Run time comparisons possible with 3 and 4 - unexpectedly slow run times could also point to bugs or poor choice of numerical parameters.\n",
    "\n",
    "\n",
    "5. Against exact solutions [quantitative], which could be either\n",
    "\n",
    "   5a. analytic solutions\n",
    "   \n",
    "   5b. or via the \"Method of Manufactured Solutions\"\n",
    "   \n",
    "\n",
    "<br>\n",
    "\n",
    "We'll come back to 5 in particular later - this should be considered the \"gold standard\", but the whole hierarchy is useful, especially for locating bugs."
   ]
  },
  {
   "cell_type": "markdown",
   "metadata": {},
   "source": [
    "### Solution verification\n",
    "\n",
    "If we have conducted a rigorous code verification step can we then confidently (or with little subsequent thought) make use of our model on problems that are *different* to the configuration of the exact or benchmark solution?\n",
    "\n",
    "<br>\n",
    "\n",
    "**NO!**\n",
    "\n",
    "<br>\n",
    "\n",
    "\n",
    "Why not? How might errors be introduced that negate or override the code verification we've conducted?  \n",
    "\n",
    "<br>\n",
    "\n",
    "Well essentially due to [**user error**](https://en.wikipedia.org/wiki/User_error), as well as the inherent limitations of discrete approximations to continuous objects.\n"
   ]
  },
  {
   "cell_type": "markdown",
   "metadata": {},
   "source": [
    "#### Aside: describing \"user error\"\n",
    "\n",
    "From <https://en.wikipedia.org/wiki/User_error>\n",
    "\n",
    "\n",
    "- PEBKAC - \"problem exists between keyboard and chair\" and variations\n",
    "\n",
    "\n",
    "- PICNIC - \"problem in chair not in computer\"\n",
    "\n",
    "\n",
    "- EBKAC - \"error between keyboard and chair\"\n",
    "\n",
    "\n",
    "<br>\n",
    "\n",
    "- Said as an \"ID-10-T\" / \"ID-Ten-T\" error - which when spelled out gives \"IDIOT\" \n",
    "\n",
    "\n",
    "- In military said as \"eye dee ten tango\" /  \"one delta ten tango\""
   ]
  },
  {
   "cell_type": "markdown",
   "metadata": {},
   "source": [
    "For example, for all 4 of the items described above as inputs to a model, a user may make a mistake. They may mess up whatever pre-processing is required to generate input fields. They may choose the wrong physical parameters. They may select a poor, or inconsistent combination of, numerical parameter(s). They may mess up the post-processing or generate an inappropriate computational mesh.\n",
    "\n",
    "Some of these will lead to a disastrous (unstable / obviously wrong) solution. This is a comparatively *good* result as something is obviously wrong and generally will be easy to figure out, also the simulation will ideally die quickly meaning minimal time is wasted.\n",
    "\n",
    "More problematic are user choices that lead to plausible stable results, but which have errors that may not be obvious. \n",
    "\n",
    "This is tied up with *numerical errors* - a user's choices in how to set up a model will interact with inevitable numerical errors either in bad or acceptable ways."
   ]
  },
  {
   "cell_type": "markdown",
   "metadata": {},
   "source": [
    "**The worst possible scenario is that you have bugs, or errors that are too large to make a simulation useful, but you don't realise.**\n",
    "\n",
    "While code verification is easy to understand and possible for a non-expert to conduct in a rigorous manner (although a non-expert is unlikely to be able to locate and fix a bug), solution verification is based far more on experience. \n",
    "\n",
    "This is because solution verification is more subjective and will be constrained by pragmatism - given finite resources and a possibly very complicated problem, what level of error is acceptable?\n",
    "\n",
    "Source of **numerical error** are generally one of:\n",
    "\n",
    "\n",
    "1. Round-off errors, or errors associated with floating point arithmetic\n",
    "\n",
    "\n",
    "2. Iterative convergence errors\n",
    "\n",
    "\n",
    "3. Discretisation errors"
   ]
  },
  {
   "cell_type": "markdown",
   "metadata": {},
   "source": [
    "How does one conduct solution verification?\n",
    "\n",
    "Essentially this can be boiled down to either \"error estimation\" or \"sensitivity testing\".\n",
    "\n",
    "In **error estimation** we can use mathematical techniques to try and estimate the total error in a simulation. If acceptable we accept the answer (and are able to place an \"error bar\" on it!). If not we need to update our set-up. A common example is the use of an error estimator to guide mesh generation or mesh adaptivity - generating a new mesh, or updating an existing mesh, in order to achieve a given (acceptable for the given uses of the simulation) error tolerance.\n",
    "\n",
    "**Sensitivity testing** is a more pragmatic approach whereby we alter all the user choices in the model and check that whatever conclusions or use we want to make from the numerical results, are insensitive to these choices. \n",
    "\n",
    "E.g. if I refine my mesh or reduce my time step size (or choose a different discretisation, ....) I check that my output quantities of interest only change by an acceptably small amount. What is acceptable will depend on what you are using the model for.\n",
    "\n",
    "Note that in principle only two different choices need to be made to give some level of confidence that the outputs vary within acceptable bounds. This also doesn't need to be expensive - you don't necessarily need to refine your mesh or time step, coarsening could also be acceptable. \n",
    "\n",
    "<br>\n",
    "\n",
    "\n",
    "This sensitivity testing should be the absolute minimum that the user of a model (as well as the developer of the model when using it in anger) performs. \n",
    "\n",
    "It's amazing how many papers/reports don't bother with this - they argue that the model has already been verified/validated (by themsleves or others in previous work), but of course we know that this does not preclude the various possible \"user errors\" (or poor user choices) that could mean you solution is useless."
   ]
  },
  {
   "cell_type": "markdown",
   "metadata": {},
   "source": [
    "### Summary\n",
    "\n",
    "If you are writing code **you need to perform code verification** - there is no debate about this.\n",
    "\n",
    "If you are a user of a code **you need to perform solution verification**. Strictly speaking this should be conducted for every new simulation, in practice (if you have some experience) you would probably only do this when major changes to the problem you are solving are made, your experience allowing you to judge if anything looks suspicious when minor changes are made, and also allowing you to judge if a change to the problem should be considered minor or major. At a minimum this solution verification should be some **sensitivity testing** of the user choices, especially those that may diverge from previously verified cases.\n",
    "\n",
    "A user should also question whether the authors of the model have performed rigorous code verification. E.g. some sectors have very rigorous \"Software Quality Assurance\" procedures that stipulate what new software (or new versions of software) need to demonstrate in order for the community to have faith in that code. A respected body may then provide that software with \"accreditation\". This is common for software that is used in [\"safety critical system\"](https://en.wikipedia.org/wiki/Safety-critical_system).\n",
    "\n",
    "Note that solution verification is still somewhat disjointed from asking whether or not our simulation is actually any good, e.g. has any predictive ability. This is where **validation** comes in ..."
   ]
  },
  {
   "cell_type": "markdown",
   "metadata": {},
   "source": [
    "## Validation\n",
    "\n",
    "There are lots of subtle variations on what the **validation of software** designed to simulate some process or system means.  \n",
    "\n",
    "This is a definition which expands slightly on the AIAA definition (and due to Roache)\n",
    "\n",
    "> \"Validation: The process of determining the degree to which a model with its\n",
    "associated data is an accurate representation of the real world as determined by experimental\n",
    "data, the metrics of which are chosen from the perspective of the intended uses of the model.\"\n",
    "\n",
    "Now clearly \"validation\" has different definitions in different disciplines of science and engineering.\n"
   ]
  },
  {
   "cell_type": "markdown",
   "metadata": {},
   "source": [
    "Generally speaking you have developed a piece of software, or as a user you have obtained a piece of software, in order to simulate some real-world system.\n",
    "\n",
    "As in lecture 1, the software will have been built up from decisions/compromises made as someone has progressed through (1) conceptual model, (2) a mathematical model which embodies the conceptual model, to (3) software implementation, and then (4) in its application by a user.\n",
    "\n",
    "As already discussed verification focuses on the last two of these, while validation is concerned with the first two. \n",
    "\n",
    "Note that for some systems there is minimal debate on the equations (e.g. the Navier-Stokes equations to describe fluid dynamics), although conceptual models come in when processes such as turbulence need to be parametrised.\n",
    "\n",
    "In other fields the equations are not known and so the stage of developing a conceptual model and turning that into a mathematical model is also key and so needs to be examined for correctness/appropriateness."
   ]
  },
  {
   "cell_type": "markdown",
   "metadata": {},
   "source": [
    "Generally speaking validation involves making qualitative and quantitative comparisons between the outputs of your model and measurements of the **real world**.\n",
    "\n",
    "This often includes laboratory data since data is often cheaper and easier to collect here. Validation against lab data may be a useful stepping stone to validation against real world data. If we have only done the former and not the latter, then we haven't completely validated the model for the real world system.\n",
    "\n",
    "In general we wouldn't necessarily expect a great agreement with data without some **\"model calibration\"**. This has overlap with \"solution verification\" described above. Simulating the full (e.g. real world) system as opposed perhaps somewhat smaller problems under \"verification\" often means that we need to make compromises with things like mesh resolution, this leads to numerical errors (e.g. truncation errors), and hence the precise details of the mesh can in practice impact on the results obtained. Calibration involves altering some of the (physical and numerical) input parameters in order to provide the best match against data. This can be done rigorously via approaches where calibration is performed on a subset of the available data, with some kept back to then independently assess predictive ability.\n",
    "\n",
    "Calibration can be via trial and error (and hence user experience is very important), or it can be automated.\n",
    "\n",
    "This takes us into the fields of data assimilation, inversion, optimal parameter estimation and uncertainty quantification.\n",
    "\n",
    "All of these are extremely interesting and important but we don't have time to cover now. Some you will return to in **ACSE-7**, and some inevitably in your final projects."
   ]
  },
  {
   "cell_type": "markdown",
   "metadata": {},
   "source": [
    "# Errors\n",
    "\n",
    "OK, that was a lot of hand-waving discussion that essentially boils down to working out (and controlling) errors.\n",
    "\n",
    "Let's talk more about errors."
   ]
  },
  {
   "cell_type": "markdown",
   "metadata": {},
   "source": [
    "## Magnitudes\n",
    "\n",
    "Consider a true solution value $x$ and its numerical approximation $x_{\\text{approx}}$. Let's assume for a second that these are scalars.\n",
    "\n",
    "The _**absolute error**_ is defined as the magnitude of the difference\n",
    "\n",
    "$$e_{\\text{abs}} = | x - x_{\\text{approx}} |$$\n",
    "\n",
    "The problem with this is how do we place whatever value we get in context - let's say we work out this error and get the value 100, is this a good result?  We need something to compare this to - to make it \"relative\".\n",
    "\n",
    "The _**relative error**_ is defined as\n",
    "\n",
    "$$e_{\\text{rel}} = \\frac{e_{\\text{abs}}}{|x|} = \\left|\\frac{ x - x_{\\text{approx}} }{x}\\right| = \\left|1-\\frac{ x_{\\text{approx}} }{x}\\right| $$\n",
    "\n",
    "from which if we want we can obtain a _**percentage error**_ if we multiple by 100:\n",
    "\n",
    "$$e_{{\\%}} = 100 \\times \\left|\\frac{ x - x_{\\text{approx}} }{x}\\right|$$\n",
    "\n",
    "The relative and percentage errors place our error in context (in the context of the true solution).\n",
    "\n",
    "For the example above, if $x = 10^6$, then our error of 100 suddenly looks very good - a percentage error of $0.01\\%$.\n",
    "\n",
    "The above is only defined at present when $x$ is a scalar. What do we do if it is a field (e.g. a time series or spatial profile in 1D, a spatial field in 2D or 3D, ...)?  We need to introduce norms."
   ]
  },
  {
   "cell_type": "markdown",
   "metadata": {},
   "source": [
    "# Norms\n",
    "\n",
    "A [norm](https://en.wikipedia.org/wiki/Norm_(mathematics)) on some space (could be finite dimensional, e.g. the space of all vectors, matrices; or it could be infinite dimensional, e.g. the space of all continuous functions) is a function which assigns to every entry in that space a *size*.\n",
    "\n",
    "It is often denoted by the operator $\\|\\cdot\\|\\;$ (where $\\cdot$ is a placeholder symbol indicating that we stick in the thing we are measuring the size of),\n",
    "\n",
    "and satisfies the following properties for all entries $x$ and $y$ in the space under consideration and any scalar $\\alpha$\n",
    "\n",
    "\n",
    "<br>\n",
    "\n",
    "\n",
    "1. $\\|x\\| \\geq 0$, with $\\|x\\| = 0$ if and only if $x = 0$, i.e. only the zero entry in the space has a zero size.\n",
    "\n",
    "\n",
    "2. $\\|x + y\\| \\leq \\|x\\| + \\|y\\|$ (this is known as the [triangle inequality](https://en.wikipedia.org/wiki/Triangle_inequality)).\n",
    "\n",
    "\n",
    "3. $\\|\\alpha x\\| = |\\alpha|  \\|x\\|$ for scalars $\\alpha$. \n",
    "\n",
    "<br>\n",
    "\n",
    "\n",
    "Norms are very useful when asking the question how large are my errors? Does my algorithm converge? Which algorithm is better? etc."
   ]
  },
  {
   "cell_type": "markdown",
   "metadata": {},
   "source": [
    "## Vector norms\n",
    "\n",
    "Consider a vector $\\boldsymbol{v}$ (assumed a $n\\times 1$ column vector), we have multiple possible [*norms*](https://en.wikipedia.org/wiki/Norm_(mathematics)) to help us quantify its size or magnitude.\n",
    "\n",
    "Three common ones (<https://en.wikipedia.org/wiki/Norm_(mathematics)#Examples>) are\n",
    "\n",
    "\\begin{align*}\n",
    "\\|\\boldsymbol{v}\\,\\|_2 & = \\sqrt{v_1^2 + v_2^2 + \\ldots + v_n^2} = \\left(\\sum_{i=1}^n v_i^2 \\right)^{1/2}, &&{\\text{the two-norm}}\\\\[5pt]\n",
    "\\|\\boldsymbol{v}\\,\\|_1  & = |v_1| + |v_2| + \\ldots + |v_n| = \\sum_{i=1}^n |v_i|, &&{\\text{the one-norm}}\\\\[5pt]\n",
    "\\|\\boldsymbol{v}\\,\\|_{\\infty}  &= \\max\\{|v_1|,|v_2|, \\ldots, |v_n| = \\max_{i=1}^n |v_i|, &&{\\text{the max-norm}}\n",
    "\\end{align*}\n",
    "\n",
    "Termed the two norm, the one norm, and the maximum (or max-norm) norm, respectively.\n",
    "\n",
    "I've placed the \"two norm\" first in this list as, when asked to compute the length of a vector, this is probably the one you would think of, and in this context it has the name \"Euclidean norm\".\n",
    "\n",
    "The \"one norm\" also has the name the taxi-cab or manhattan norm: <https://en.wikipedia.org/wiki/Norm_(mathematics)#Taxicab_norm_or_Manhattan_norm>\n",
    "\n",
    "Sometimes the max norm will be referred to as the infinity norm or inf-norm: <https://en.wikipedia.org/wiki/Norm_(mathematics)#Maximum_norm_(special_case_of:_infinity_norm,_uniform_norm,_or_supremum_norm)>\n",
    "\n",
    "In 2D we can define the \"unit circle\" as the shape that is formed by all points that are unit (magnitude of 1) distance from the origin. \n",
    "\n",
    "For example, if we know the two-norm magnitude of a vector in 2D space (a vector in 2D space will be of length 2), but not the actual entries, we can constrain the possible entries to a circle.\n",
    "\n",
    "Thus, in 2D, the two-norm unit circle is a circle. The concept of unit circle is different in different norms, which we can see below."
   ]
  },
  {
   "cell_type": "code",
   "execution_count": 5,
   "metadata": {},
   "outputs": [
    {
     "data": {
      "image/png": "[encoded data removed]",
      "text/plain": [
       "<Figure size 864x288 with 3 Axes>"
      ]
     },
     "metadata": {
      "needs_background": "light"
     },
     "output_type": "display_data"
    }
   ],
   "source": [
    "# define an x and y mesh spacing\n",
    "x = np.linspace(-1.25, 1.25, 200)\n",
    "y = x\n",
    "\n",
    "# use meshgrid to expand these vectors to matrices\n",
    "[X, Y] = np.meshgrid(x, y)\n",
    "\n",
    "# initialise space to store the norm values over the (x,y) domain,\n",
    "# i.e. these are matrices\n",
    "two_norm = np.zeros_like(X)\n",
    "one_norm = np.zeros_like(X)\n",
    "inf_norm = np.zeros_like(X)\n",
    "\n",
    "# loop over all points in our 2D space\n",
    "for i in range(len(x)):\n",
    "    for j in range(len(y)):\n",
    "        # define the point as a vector of length 2\n",
    "        op = np.array([x[i], y[j]])\n",
    "        # compute and store the norm values\n",
    "        two_norm[i, j] = sl.norm(op, 2)\n",
    "        one_norm[i, j] = sl.norm(op, 1)\n",
    "        inf_norm[i, j] = sl.norm(op, np.inf)\n",
    "\n",
    "# we can now plot the \"unit circles\" using a contour plot where we only plot the unit contour:\n",
    "fig = plt.figure(figsize=(12, 4))\n",
    "\n",
    "ax1 = fig.add_subplot(131)\n",
    "\n",
    "ax1.contour(X, Y, two_norm, levels = [1])\n",
    "ax1.set_xlabel('$x$', fontsize=16)\n",
    "ax1.set_ylabel('$y$', fontsize=16)\n",
    "ax1.set_title('$|| (x,y)^T ||_{2} = 1$', fontsize=16)\n",
    "ax1.grid(True)\n",
    "\n",
    "ax2 = fig.add_subplot(132)\n",
    "\n",
    "ax2.contour(X, Y, one_norm, levels = [1])\n",
    "ax2.set_xlabel('$x$', fontsize=16)\n",
    "ax2.set_ylabel('$y$', fontsize=16)\n",
    "ax2.set_title('$|| (x,y)^T ||_{1} = 1$', fontsize=16)\n",
    "ax2.grid(True)\n",
    "\n",
    "ax3 = fig.add_subplot(133)\n",
    "\n",
    "ax3.contour(X, Y, inf_norm, levels = [1])\n",
    "ax3.set_xlabel('$x$', fontsize=16)\n",
    "ax3.set_ylabel('$y$', fontsize=16)\n",
    "ax3.set_title('$|| (x,y)^T ||_{\\infty} = 1$', fontsize=16)\n",
    "ax3.grid(True)\n",
    "\n",
    "plt.tight_layout(pad = 2.0)"
   ]
  },
  {
   "cell_type": "markdown",
   "metadata": {},
   "source": [
    "Note that we can prove from the mathematical definitions, and what is consistent with the above plots:\n",
    "\n",
    "$$\\|\\boldsymbol{v}\\|_{\\infty} \\leq\n",
    "\\|\\boldsymbol{v}\\|_2 \\leq\n",
    "\\|\\boldsymbol{v}\\|_1$$"
   ]
  },
  {
   "cell_type": "markdown",
   "metadata": {},
   "source": [
    "\n",
    "## Warning\n",
    "\n",
    "The example above shows that while the details are different these norms are to an extent equivalent, i.e. it often doesn't really matter which you use.\n",
    "\n",
    "There are two things you need to be wary of however:\n",
    "\n",
    "\n",
    "1. How each of these respond to *outliers* in the data\n",
    "\n",
    "\n",
    "\n",
    "2. What happens when the number of entries in the vector changes.\n"
   ]
  },
  {
   "cell_type": "markdown",
   "metadata": {},
   "source": [
    "\n",
    "<div class=\"optional\">\n",
    "\n",
    "### Example 1 - response to outliers [*]\n",
    "\n",
    "Here we are going to fit a *linear* line to some invented data, and see what happens if we create an outlier - how much is the slope of the best-fit line impacted?\n",
    "    \n",
    "If we want to be robust in our estimation of a trend (i.e. the slope), then we might not want one outlier, which could be due to measurement error, to impact our result very much.\n",
    "    \n",
    "</div>"
   ]
  },
  {
   "cell_type": "code",
   "execution_count": 6,
   "metadata": {},
   "outputs": [
    {
     "data": {
      "image/png": "[encoded data removed]",
      "text/plain": [
       "<Figure size 576x432 with 1 Axes>"
      ]
     },
     "metadata": {
      "needs_background": "light"
     },
     "output_type": "display_data"
    }
   ],
   "source": [
    "# Invent some raw data - we will use the notation (xi,yi) for the\n",
    "# given data, where xi and yi are of length N+1 (N=len(xi)-1)\n",
    "xi = np.linspace(0,1,10)\n",
    "yi = xi +  0.2 * np.random.random((10,))\n",
    "\n",
    "# We will want to overlay a plot of the raw data a few times below so \n",
    "# let's do this via a function that we can call repeatedly\n",
    "# [Note that I've been a bit lazy in later lectures and really should\n",
    "# do this sort of thing more often to make code easier to read - apologies]\n",
    "def plot_raw_data(xi, yi, ax):\n",
    "    \"\"\"Plot x vs y on axes ax, \n",
    "    add axes labels and turn on grid\n",
    "\n",
    "    Parameters\n",
    "    ----------\n",
    "    xi : array_like\n",
    "        Array containing x data\n",
    "    yi : array_like\n",
    "        Array containing y data\n",
    "    ax :  matplotlib axes, optional\n",
    "        The axes to plot on\n",
    "    \"\"\"\n",
    "    ax.plot(xi, yi, 'ko', label='raw data')\n",
    "    ax.set_xlabel('$x$', fontsize=16)\n",
    "    ax.set_ylabel('$y$', fontsize=16)\n",
    "    ax.grid(True)\n",
    "\n",
    "\n",
    "# set up figure\n",
    "fig = plt.figure(figsize=(8, 6))\n",
    "ax1 = fig.add_subplot(111)\n",
    "\n",
    "# For clarity we are going to add a small margin to all the plots.\n",
    "ax1.margins(0.1)\n",
    "\n",
    "# plot the raw data\n",
    "plot_raw_data(xi, yi, ax1)\n",
    "\n",
    "# add a figure title\n",
    "ax1.set_title('Our simple raw data', fontsize=16)\n",
    "\n",
    "# Add a legend\n",
    "ax1.legend(loc='best', fontsize=14);\n",
    "# loc='best' means we let matplotlib decide the best place for the\n",
    "# legend to go.  For other options see \n",
    "#  https://matplotlib.org/api/_as_gen/matplotlib.pyplot.legend.html"
   ]
  },
  {
   "cell_type": "code",
   "execution_count": 7,
   "metadata": {},
   "outputs": [
    {
     "name": "stdout",
     "output_type": "stream",
     "text": [
      "poly_coeffs:  [1.09384  0.035122]\n"
     ]
    },
    {
     "data": {
      "image/png": "[encoded data removed]",
      "text/plain": [
       "<Figure size 576x432 with 1 Axes>"
      ]
     },
     "metadata": {
      "needs_background": "light"
     },
     "output_type": "display_data"
    }
   ],
   "source": [
    "# Fit a polynomial of degree 1, i.e. a straight line, to our (xi, yi) data from above\n",
    "# we'll explain what's going on here later in this lecture\n",
    "degree = 1\n",
    "poly_coeffs = np.polyfit(xi, yi, degree)\n",
    "print('poly_coeffs: ',poly_coeffs)\n",
    "\n",
    "# use poly1d to turn the coeffs into a function, p1, we can evaluate\n",
    "p1 = np.poly1d(poly_coeffs)\n",
    "\n",
    "# set up figure\n",
    "fig = plt.figure(figsize=(8, 6))\n",
    "ax1 = fig.add_subplot(111)\n",
    "ax1.margins(0.1)\n",
    "\n",
    "# Plot the linear fit - define 100 evenly spaced points (x) covering our\n",
    "# x extent and plot our linear polynomial evaluated at these points (p1(x))\n",
    "# of course 100 is overkill for this linear example\n",
    "x = np.linspace(0., 1, 100)\n",
    "\n",
    "ax1.plot(x, p1(x), 'b', label=r'$y = {0:.4f}x+{1:.4f}$'.format(poly_coeffs[0], poly_coeffs[1]))\n",
    "\n",
    "# Overlay raw data\n",
    "plot_raw_data(xi, yi, ax1)\n",
    "\n",
    "# Add a legend\n",
    "ax1.legend(loc='best', fontsize=14)\n",
    "\n",
    "# add a figure title\n",
    "ax1.set_title('Raw data and the corresponding linear best fit line', fontsize=16);"
   ]
  },
  {
   "cell_type": "markdown",
   "metadata": {},
   "source": [
    "We have used NumPy's polynomial fitting function which \"minimises the squared error\" <https://docs.scipy.org/doc/numpy/reference/generated/numpy.polyfit.html>\n",
    "\n",
    "i.e. it seeks the polynomial (here we chose just a straight line) which minimises the two-norm of the errors at the locations where we have data.\n",
    "\n",
    "[Don't worry about the details too much here, we'll go over these methods in detail in ACSE-3].\n",
    "\n",
    "\n",
    "We can code this up ourselves using SciPy, and in doing so check that our code recreates above when we choose the two-norm, but also see what happens if we select other norms with which to define the best fitting line - we need to code it up ourselves to allow us to change the norm!"
   ]
  },
  {
   "cell_type": "code",
   "execution_count": 8,
   "metadata": {},
   "outputs": [
    {
     "data": {
      "image/png": "[encoded data removed]",
      "text/plain": [
       "<Figure size 720x720 with 4 Axes>"
      ]
     },
     "metadata": {
      "needs_background": "light"
     },
     "output_type": "display_data"
    }
   ],
   "source": [
    "from scipy.optimize import minimize\n",
    "\n",
    "def line_fit(x, line_coeffs):\n",
    "    \"\"\"\n",
    "    Find y-axis value given x-axis value and coefficients\n",
    "\n",
    "    Parameters\n",
    "    ----------\n",
    "    x : array_like\n",
    "        Array containing x data\n",
    "    line_slope : array_like\n",
    "        Array containing gradient and constant\n",
    "\n",
    "    \"\"\"\n",
    "    return line_coeffs[0]*x + line_coeffs[1]\n",
    "\n",
    "def cost_fun(line_coeffs, x, y, norm):\n",
    "    \"\"\"Cost function using two, one or max-norm\n",
    "\n",
    "    Parameters\n",
    "    ----------\n",
    "    line_slope : float\n",
    "        Slope of best fit line\n",
    "    x : array_like\n",
    "        Array containing x data\n",
    "    y : array_like\n",
    "        Array containing y data\n",
    "    norm : string\n",
    "        'two' for two-norm, 'one' for one-norm, 'max' for max-norm\n",
    "    \"\"\"\n",
    "    if norm=='two':\n",
    "        return sl.norm(y - line_fit(x, line_coeffs), 2)\n",
    "    elif norm=='one':\n",
    "        return sl.norm(y - line_fit(x, line_coeffs), 1)\n",
    "    elif norm=='max':\n",
    "        return sl.norm(y - line_fit(x, line_coeffs), np.inf)\n",
    "    else:\n",
    "        raise ValueError('check your norm string')\n",
    "\n",
    "degree = 1\n",
    "poly_coeffs = np.polyfit(xi, yi, degree)\n",
    "p1 = np.poly1d(poly_coeffs)\n",
    "\n",
    "# set up figure\n",
    "fig = plt.figure(figsize=(10, 10))\n",
    "\n",
    "# polyfit line\n",
    "ax = fig.add_subplot(221)\n",
    "ax.margins(0.1)\n",
    "x = np.linspace(0., 1, 100)\n",
    "ax.plot(x, p1(x), 'b', label=r'$y = {0:.4f}x+{1:.4f}$'.format(poly_coeffs[0], poly_coeffs[1]))\n",
    "plot_raw_data(xi, yi, ax)\n",
    "ax.legend(loc='best', fontsize=14)\n",
    "ax.set_title('polyfit  linear best fit line', fontsize=12)\n",
    "        \n",
    "# minimise two-norm cost function\n",
    "x0 = poly_coeffs\n",
    "output = minimize(cost_fun, x0, args=(xi,yi,'two'))\n",
    "# use poly1d to turn the coeffs into a function, p1, we can evaluate\n",
    "p1 = np.poly1d(output.x)\n",
    "ax = fig.add_subplot(222)\n",
    "ax.margins(0.1)\n",
    "x = np.linspace(0., 1, 100)\n",
    "ax.plot(x, p1(x), 'b', label=r'$y = {0:.4f}x+{1:.4f}$'.format(output.x[0], output.x[1]))\n",
    "plot_raw_data(xi, yi, ax)\n",
    "ax.legend(loc='best', fontsize=14)\n",
    "ax.set_title('Best fit (two-norm)', fontsize=12)\n",
    "\n",
    "# minimise one-norm cost function\n",
    "x0 = poly_coeffs\n",
    "output = minimize(cost_fun, x0, args=(xi,yi,'one'))\n",
    "# use poly1d to turn the coeffs into a function, p1, we can evaluate\n",
    "p1 = np.poly1d(output.x)\n",
    "ax = fig.add_subplot(223)\n",
    "ax.margins(0.1)\n",
    "x = np.linspace(0., 1, 100)\n",
    "ax.plot(x, p1(x), 'b', label=r'$y = {0:.4f}x+{1:.4f}$'.format(output.x[0], output.x[1]))\n",
    "plot_raw_data(xi, yi, ax)\n",
    "ax.legend(loc='best', fontsize=14)\n",
    "ax.set_title('Best fit (one-norm)', fontsize=12)\n",
    "\n",
    "# minimise max-norm cost function\n",
    "x0 = poly_coeffs\n",
    "output = minimize(cost_fun, x0, args=(xi,yi,'max'))\n",
    "# use poly1d to turn the coeffs into a function, p1, we can evaluate\n",
    "p1 = np.poly1d(output.x)\n",
    "ax = fig.add_subplot(224)\n",
    "ax.margins(0.1)\n",
    "x = np.linspace(0., 1, 100)\n",
    "ax.plot(x, p1(x), 'b', label=r'$y = {0:.4f}x+{1:.4f}$'.format(output.x[0], output.x[1]))\n",
    "plot_raw_data(xi, yi, ax)\n",
    "ax.legend(loc='best', fontsize=14)\n",
    "ax.set_title('Best fit (max-norm)', fontsize=12)\n",
    "\n",
    "\n",
    "plt.tight_layout(pad = 2.0)"
   ]
  },
  {
   "cell_type": "markdown",
   "metadata": {},
   "source": [
    "Note that our code recreates the `numpy.polyfit` result when we choose the two-norm. Note also that we get slightly different results when we use the one-norm or the max-norm.\n",
    "\n",
    "These results are all equally valid. The fact that `numpy.polyfit` implements the two-norm without giving us the ability to change the norm highlights that so-called \"least squares\" fitting is by far the most common approach, but there may be situations where the other norms are beneficial.\n",
    "\n",
    "Let's see what happens when we perturb a single entry - this is motivated by a situation where maybe one of our sensors failed and gave a spurious result."
   ]
  },
  {
   "cell_type": "code",
   "execution_count": 9,
   "metadata": {},
   "outputs": [
    {
     "data": {
      "image/png": "[encoded data removed]",
      "text/plain": [
       "<Figure size 720x720 with 4 Axes>"
      ]
     },
     "metadata": {
      "needs_background": "light"
     },
     "output_type": "display_data"
    }
   ],
   "source": [
    "# perturb one of the entries - imagine it's corrupted or subject to major measurement error\n",
    "\n",
    "yi[8] = 2.\n",
    "\n",
    "degree = 1\n",
    "poly_coeffs = np.polyfit(xi, yi, degree)\n",
    "p1 = np.poly1d(poly_coeffs)\n",
    "\n",
    "# set up figure\n",
    "fig = plt.figure(figsize=(10, 10))\n",
    "\n",
    "# polyfit line\n",
    "ax = fig.add_subplot(221)\n",
    "ax.margins(0.1)\n",
    "x = np.linspace(0., 1, 100)\n",
    "ax.plot(x, p1(x), 'b', label=r'$y = {0:.4f}x+{1:.4f}$'.format(poly_coeffs[0], poly_coeffs[1]))\n",
    "plot_raw_data(xi, yi, ax)\n",
    "ax.legend(loc='best', fontsize=14)\n",
    "ax.set_title('polyfit  linear best fit line', fontsize=12)\n",
    "\n",
    "# minimise two-norm cost function\n",
    "x0 = poly_coeffs\n",
    "output = minimize(cost_fun, x0, args=(xi,yi,'two'))\n",
    "# use poly1d to turn the coeffs into a function, p1, we can evaluate\n",
    "p1 = np.poly1d(output.x)\n",
    "ax = fig.add_subplot(222)\n",
    "ax.margins(0.1)\n",
    "x = np.linspace(0., 1, 100)\n",
    "ax.plot(x, p1(x), 'b', label=r'$y = {0:.4f}x+{1:.4f}$'.format(output.x[0], output.x[1]))\n",
    "plot_raw_data(xi, yi, ax)\n",
    "ax.legend(loc='best', fontsize=14)\n",
    "ax.set_title('Best fit (two-norm)', fontsize=12)\n",
    "\n",
    "# minimise one-norm cost function\n",
    "x0 = poly_coeffs\n",
    "output = minimize(cost_fun, x0, args=(xi,yi,'one'))\n",
    "# use poly1d to turn the coeffs into a function, p1, we can evaluate\n",
    "p1 = np.poly1d(output.x)\n",
    "ax = fig.add_subplot(223)\n",
    "ax.margins(0.1)\n",
    "x = np.linspace(0., 1, 100)\n",
    "ax.plot(x, p1(x), 'b', label=r'$y = {0:.4f}x+{1:.4f}$'.format(output.x[0], output.x[1]))\n",
    "plot_raw_data(xi, yi, ax)\n",
    "ax.legend(loc='best', fontsize=14)\n",
    "ax.set_title('Best fit (one-norm)', fontsize=12)\n",
    "\n",
    "# minimise max-norm cost function\n",
    "x0 = poly_coeffs\n",
    "output = minimize(cost_fun, x0, args=(xi,yi,'max'))\n",
    "# use poly1d to turn the coeffs into a function, p1, we can evaluate\n",
    "p1 = np.poly1d(output.x)\n",
    "ax = fig.add_subplot(224)\n",
    "ax.margins(0.1)\n",
    "x = np.linspace(0., 1, 100)\n",
    "ax.plot(x, p1(x), 'b', label=r'$y = {0:.4f}x+{1:.4f}$'.format(output.x[0], output.x[1]))\n",
    "plot_raw_data(xi, yi, ax)\n",
    "ax.legend(loc='best', fontsize=14)\n",
    "ax.set_title('Best fit (max-norm)', fontsize=12)\n",
    "\n",
    "\n",
    "plt.tight_layout(pad = 2.0)"
   ]
  },
  {
   "cell_type": "markdown",
   "metadata": {},
   "source": [
    "If you compare the resulting slopes of the best fit lines, between this case with the outlier with the previous slopes (between 0.88 and 0.93) without the outlier, you should see that the one-norm is by far the least impacted while the max-norm is the most impacted.\n",
    "\n",
    "These sorts of issues will be important in the modules on **Inversion & Optimisation (ACSE-7)** and **Machine Learning (ACSE-8)**."
   ]
  },
  {
   "cell_type": "markdown",
   "metadata": {},
   "source": [
    "### Example 2 - comparing vectors of differing lengths\n",
    "\n",
    "Consider the example from the first lecture where we numerically integrated the logistic ordinary differential equation and compared the error against the exact solution at the end time, i.e. we defined the error in the calculation as `abs(x_all[-1] - x_ex(t_max,x0,alpha))`\n",
    "\n",
    "Now we know from that for this type of problem the solution converges to an \"attractor\", and hence the error could initially grow, but then reduce (this isn't normal behaviour for errors) as both the exact and the numerical solution converge to the same (or similar) attractors.\n",
    "\n",
    "A fairer means of computing the error would be some sort of \"average\" over time - we could evaluate the error at every computed time level, this would give us a vector of errors, and then we could compute the norm of this error to give us a scalar number we can plot on the $y$ axis of our convergence plots.\n",
    "\n",
    "First let's re-run the exact code from last time:"
   ]
  },
  {
   "cell_type": "code",
   "execution_count": 10,
   "metadata": {},
   "outputs": [
    {
     "data": {
      "text/plain": [
       "<matplotlib.legend.Legend at 0x27bac26ea88>"
      ]
     },
     "execution_count": 10,
     "metadata": {},
     "output_type": "execute_result"
    },
    {
     "data": {
      "image/png": "[encoded data removed]",
      "text/plain": [
       "<Figure size 720x360 with 1 Axes>"
      ]
     },
     "metadata": {
      "needs_background": "light"
     },
     "output_type": "display_data"
    }
   ],
   "source": [
    "def logistic_rhs(alpha, x):\n",
    "    return alpha*x*(1-x)\n",
    "\n",
    "def x_ex(t, x0, alpha):\n",
    "    \"\"\"Function to evaluate the exact solution to the logistic problem.\n",
    "\n",
    "    Parameters\n",
    "    ----------\n",
    "    t : numpy.ndarray or float\n",
    "        Times\n",
    "    x0 : float\n",
    "        Initial population, value from 0 to 1\n",
    "    alpha : float\n",
    "        Parameter\n",
    "\n",
    "    Returns\n",
    "    -------\n",
    "    numpy.ndarray or float\n",
    "        Function values for times given\n",
    "    \"\"\"\n",
    "    return x0/(x0 + (1-x0)*np.exp(-alpha*t))\n",
    "    \n",
    "def time_step(alpha, x0, t0, t_max, dt):\n",
    "    \"\"\"Implement simple time-stepper\n",
    "\n",
    "    Parameters\n",
    "    ----------\n",
    "    alpha : float\n",
    "        Growth parameter, input to logistic_rhs function\n",
    "    x0 : float\n",
    "        Initial population, value from 0 to 1\n",
    "    t0 : float\n",
    "        Initial time\n",
    "    t_max : float\n",
    "        The last time step\n",
    "    dt : float\n",
    "        Time step size\n",
    "\n",
    "    Returns\n",
    "    -------\n",
    "    tuple of ndarray\n",
    "        Tuple containing numpy arrays with all x and t values within\n",
    "        the specified interval\n",
    "    \"\"\"\n",
    "    x = np.array(x0)\n",
    "    t = np.array(t0)\n",
    "    x_all = [x0]\n",
    "    t_all = [t0]  \n",
    "    while t < t_max:\n",
    "        # start from the most recent value\n",
    "        x = x_all[-1]\n",
    "        x = x + dt * logistic_rhs(alpha, x)\n",
    "        x_all.append(x) \n",
    "        t = t + dt\n",
    "        t_all.append(t)\n",
    "    return np.array(x_all), np.array(t_all)\n",
    "\n",
    "alpha = 0.95\n",
    "t0 = 0.0\n",
    "x0 = 0.1\n",
    "\n",
    "dt = 5.\n",
    "# as this problem approaches an attractor at large times - this obfuscates the early time errors\n",
    "# so only run for a relatively short time\n",
    "t_max = 5.\n",
    "errors = []\n",
    "dt_array = []\n",
    "\n",
    "# compute error in forward euler solution as dt varies\n",
    "while dt > 1.e-4:\n",
    "    dt_array.append(dt)\n",
    "    x_all, t_all = time_step(alpha, x0, t0, t_max, dt)\n",
    "    errors.append(abs(x_all[-1] - x_ex(t_max,x0,alpha)))\n",
    "    dt *= 0.5\n",
    "\n",
    "fig, ax1 = plt.subplots(1, 1, figsize=(10, 5))\n",
    "ax1.loglog(dt_array, errors, 'k.', label='Error')\n",
    "ax1.set_xlabel('$\\Delta t$', fontsize=14)\n",
    "ax1.set_ylabel('Error', fontsize=14)\n",
    "ax1.set_title('Convergence plot', fontsize=16)\n",
    "ax1.grid(True)\n",
    "\n",
    "# use numpy.polyfit to find best fit linear line to data\n",
    "# we expect linear asymptotic behaviour - use this parameter to discount some of  the larger dt values\n",
    "start_fit = 3\n",
    "\n",
    "line_fit1 = np.polyfit(np.log(dt_array[start_fit:]), np.log(errors[start_fit:]), 1)\n",
    "ax1.loglog(dt_array[start_fit:], np.exp(line_fit1[1]) * dt_array[start_fit:]**(line_fit1[0]), 'k-', label = 'slope: {:.2f}'.format(line_fit1[0]))\n",
    "\n",
    "ax1.legend(loc='best', fontsize=14)"
   ]
  },
  {
   "cell_type": "markdown",
   "metadata": {},
   "source": [
    "We see first-order convergence which agrees with theory.\n",
    "\n",
    "We should see the same if instead of only comparing the error at the end time step, we measure the size of the vector of errors over all time steps. And it shouldn't matter which vector norm we choose to use to establish this measure.\n",
    "\n",
    "Let's check:"
   ]
  },
  {
   "cell_type": "code",
   "execution_count": 11,
   "metadata": {},
   "outputs": [
    {
     "data": {
      "image/png": "[encoded data removed]",
      "text/plain": [
       "<Figure size 1080x360 with 3 Axes>"
      ]
     },
     "metadata": {
      "needs_background": "light"
     },
     "output_type": "display_data"
    }
   ],
   "source": [
    "alpha = 0.95\n",
    "t0 = 0.0\n",
    "x0 = 0.1\n",
    "\n",
    "t_max = 5.\n",
    "\n",
    "errors = []\n",
    "dt_array = []\n",
    "dt = 5.\n",
    "\n",
    "while dt > 1.e-4:\n",
    "    dt_array.append(dt)\n",
    "    x_all, t_all = time_step(alpha, x0, t0, t_max, dt)\n",
    "    errors.append(sl.norm(x_all - x_ex(t_all,x0,alpha),np.inf))\n",
    "    dt *= 0.5\n",
    "\n",
    "fig, axs = plt.subplots(1, 3, figsize=(15, 5))\n",
    "axs[0].loglog(dt_array, errors, 'k.', label='Error')\n",
    "axs[0].set_xlabel('$\\Delta t$', fontsize=14)\n",
    "axs[0].set_ylabel('Error', fontsize=14)\n",
    "axs[0].set_title('Convergence plot (max-norm)', fontsize=16)\n",
    "axs[0].grid(True)\n",
    "start_fit = 3\n",
    "line_fit1 = np.polyfit(np.log(dt_array[start_fit:]), np.log(errors[start_fit:]), 1)\n",
    "axs[0].loglog(dt_array[start_fit:], np.exp(line_fit1[1]) * dt_array[start_fit:]**(line_fit1[0]), \n",
    "              'k-', label = 'slope: {:.2f}'.format(line_fit1[0]))\n",
    "axs[0].legend(loc='best', fontsize=14)\n",
    "\n",
    "\n",
    "errors = []\n",
    "dt_array = []\n",
    "dt = 5.\n",
    "while dt > 1.e-4:\n",
    "    dt_array.append(dt)\n",
    "    x_all, t_all = time_step(alpha, x0, t0, t_max, dt)\n",
    "    errors.append(sl.norm(x_all - x_ex(t_all,x0,alpha),2))\n",
    "    dt *= 0.5\n",
    "\n",
    "axs[1].loglog(dt_array, errors, 'k.', label='Error')\n",
    "axs[1].set_xlabel('$\\Delta t$', fontsize=14)\n",
    "axs[1].set_ylabel('Error', fontsize=14)\n",
    "axs[1].set_title('Convergence plot (two-norm)', fontsize=16)\n",
    "axs[1].grid(True)\n",
    "start_fit = 3\n",
    "line_fit1 = np.polyfit(np.log(dt_array[start_fit:]), np.log(errors[start_fit:]), 1)\n",
    "axs[1].loglog(dt_array[start_fit:], np.exp(line_fit1[1]) * dt_array[start_fit:]**(line_fit1[0]), \n",
    "              'k-', label = 'slope: {:.2f}'.format(line_fit1[0]))\n",
    "axs[1].legend(loc='best', fontsize=14)\n",
    "\n",
    "errors = []\n",
    "dt_array = []\n",
    "dt = 5.\n",
    "while dt > 1.e-4:\n",
    "    dt_array.append(dt)\n",
    "    x_all, t_all = time_step(alpha, x0, t0, t_max, dt)\n",
    "    errors.append(sl.norm(x_all - x_ex(t_all,x0,alpha),1))\n",
    "    dt *= 0.5\n",
    "\n",
    "axs[2].loglog(dt_array, errors, 'k.', label='Error')\n",
    "axs[2].set_xlabel('$\\Delta t$', fontsize=14)\n",
    "axs[2].set_ylabel('Error', fontsize=14)\n",
    "axs[2].set_title('Convergence plot (one-norm)', fontsize=16)\n",
    "axs[2].grid(True)\n",
    "start_fit = 5 # i've set this a bit larger to capture the final trend\n",
    "line_fit1 = np.polyfit(np.log(dt_array[start_fit:]), np.log(errors[start_fit:]), 1)\n",
    "axs[2].loglog(dt_array[start_fit:], np.exp(line_fit1[1]) * dt_array[start_fit:]**(line_fit1[0]), \n",
    "              'k-', label = 'slope: {:.2f}'.format(line_fit1[0]))\n",
    "axs[2].legend(loc='best', fontsize=14)\n",
    "\n",
    "plt.tight_layout(pad = 2.0)"
   ]
  },
  {
   "cell_type": "markdown",
   "metadata": {},
   "source": [
    "So the result with the max-norm is consistent with when we simply use the error at the final time. Of course on the assumption that the maximum error is at the end time, then this makes sense as the max-norm of all the errors would indeed then just return the error at the final time.\n",
    "\n",
    "But something strange has gone on for the two-norm and the one-norm. \n",
    "\n",
    "For the two-norm our rate of convergence has gone from first order, to order half. And for the one-norm we don't show convergence at all.  \n",
    "\n",
    "What's happened?"
   ]
  },
  {
   "cell_type": "markdown",
   "metadata": {},
   "source": [
    "Well the length of the vectors of differences at each time level gets longer as we make the time step size smaller (as we fix our end time - halve the time step gives us double the size of error vector), and looking at the mathematical definitions (the summations) it is clear that the magnitude of the two-norm and the one-norm will grow for each case as we are adding up more numbers (note the max-norm doesn't suffer from this due to its definition and this is why convergence is unaffected).\n",
    "\n",
    "\\begin{align*}\n",
    "\\|\\boldsymbol{v}\\|_2 & = \\sqrt{v_1^2 + v_2^2 + \\ldots + v_n^2} = \\left(\\sum_{i=1}^n v_i^2 \\right)^{1/2}, &&{\\text{the two-norm}}\\\\[5pt]\n",
    "\\|\\boldsymbol{v}\\|_1  & = |v_1| + |v_2| + \\ldots + |v_n| = \\sum_{i=1}^n |v_i|, &&{\\text{the one-norm}}\\\\[5pt]\n",
    "\\|\\boldsymbol{v}\\|_{\\infty}  &= \\max\\{|v_1|,|v_2|, \\ldots, |v_n| = \\max_{i=1}^n |v_i|, &&{\\text{the max-norm}}\n",
    "\\end{align*}\n",
    "\n",
    "<br> \n",
    "\n",
    "We can fix this by either only evaluating the error at the original locations in time, i.e. throwing away the errors at many of the time levels for the smaller `dt` values, and computing the error on a single consistent temporal mesh,\n",
    "\n",
    "or by updating the definitions of these norms to be based on averages rather than summations:\n",
    "\n",
    "\\begin{align*}\n",
    "\\|\\boldsymbol{v}\\|_{2*} & = \\left(\\frac{1}{n}\\sum_{i=1}^n v_i^2 \\right)^{1/2} = \\frac{1}{n^{1/2}} \\left(\\sum_{i=1}^n v_i^2 \\right)^{1/2}, \\\\[5pt]\n",
    "\\|\\boldsymbol{v}\\|_{1*}  & = \\frac{1}{n}\\sum_{i=1}^n |v_i|\n",
    "\\end{align*}\n",
    "\n",
    "to make a fair comparison between vectors with different sizes we are *normalizing* these norms based on the number of entries of the vectors.\n",
    "\n",
    "Let's check that if we use these updated definitions then we again can show convergence:"
   ]
  },
  {
   "cell_type": "code",
   "execution_count": 12,
   "metadata": {},
   "outputs": [
    {
     "data": {
      "image/png": "[encoded data removed]",
      "text/plain": [
       "<Figure size 1080x360 with 3 Axes>"
      ]
     },
     "metadata": {
      "needs_background": "light"
     },
     "output_type": "display_data"
    }
   ],
   "source": [
    "alpha = 0.95\n",
    "t0 = 0.0\n",
    "x0 = 0.1\n",
    "\n",
    "t_max = 5.\n",
    "\n",
    "errors = []\n",
    "dt_array = []\n",
    "dt = 5.\n",
    "\n",
    "while dt > 1.e-4:\n",
    "    dt_array.append(dt)\n",
    "    x_all, t_all = time_step(alpha, x0, t0, t_max, dt)\n",
    "    errors.append(sl.norm(x_all - x_ex(t_all,x0,alpha),np.inf))\n",
    "    dt *= 0.5\n",
    "\n",
    "fig, axs = plt.subplots(1, 3, figsize=(15, 5))\n",
    "axs[0].loglog(dt_array, errors, 'k.', label='Error')\n",
    "axs[0].set_xlabel('$\\Delta t$', fontsize=14)\n",
    "axs[0].set_ylabel('Error', fontsize=14)\n",
    "axs[0].set_title('Convergence plot (max-norm)', fontsize=16)\n",
    "axs[0].grid(True)\n",
    "start_fit = 3\n",
    "line_fit1 = np.polyfit(np.log(dt_array[start_fit:]), np.log(errors[start_fit:]), 1)\n",
    "axs[0].loglog(dt_array[start_fit:], np.exp(line_fit1[1]) * dt_array[start_fit:]**(line_fit1[0]), \n",
    "              'k-', label = 'slope: {:.2f}'.format(line_fit1[0]))\n",
    "axs[0].legend(loc='best', fontsize=14)\n",
    "\n",
    "\n",
    "errors = []\n",
    "dt_array = []\n",
    "dt = 5.\n",
    "while dt > 1.e-4:\n",
    "    dt_array.append(dt)\n",
    "    x_all, t_all = time_step(alpha, x0, t0, t_max, dt)\n",
    "    # our updated norm\n",
    "    errors.append(sl.norm(x_all - x_ex(t_all,x0,alpha),2)/np.sqrt(len(x_all)))\n",
    "    dt *= 0.5\n",
    "\n",
    "axs[1].loglog(dt_array, errors, 'k.', label='Error')\n",
    "axs[1].set_xlabel('$\\Delta t$', fontsize=14)\n",
    "axs[1].set_ylabel('Error', fontsize=14)\n",
    "axs[1].set_title('Convergence plot (two-norm*)', fontsize=16)\n",
    "axs[1].grid(True)\n",
    "start_fit = 3\n",
    "line_fit1 = np.polyfit(np.log(dt_array[start_fit:]), np.log(errors[start_fit:]), 1)\n",
    "axs[1].loglog(dt_array[start_fit:], np.exp(line_fit1[1]) * dt_array[start_fit:]**(line_fit1[0]), \n",
    "              'k-', label = 'slope: {:.2f}'.format(line_fit1[0]))\n",
    "axs[1].legend(loc='best', fontsize=14)\n",
    "\n",
    "errors = []\n",
    "dt_array = []\n",
    "dt = 5.\n",
    "while dt > 1.e-4:\n",
    "    dt_array.append(dt)\n",
    "    x_all, t_all = time_step(alpha, x0, t0, t_max, dt)\n",
    "    # our updated norm\n",
    "    errors.append(sl.norm(x_all - x_ex(t_all,x0,alpha),1)/len(x_all))\n",
    "    dt *= 0.5\n",
    "\n",
    "axs[2].loglog(dt_array, errors, 'k.', label='Error')\n",
    "axs[2].set_xlabel('$\\Delta t$', fontsize=14)\n",
    "axs[2].set_ylabel('Error', fontsize=14)\n",
    "axs[2].set_title('Convergence plot (one-norm*)', fontsize=16)\n",
    "axs[2].grid(True)\n",
    "start_fit = 3\n",
    "line_fit1 = np.polyfit(np.log(dt_array[start_fit:]), np.log(errors[start_fit:]), 1)\n",
    "axs[2].loglog(dt_array[start_fit:], np.exp(line_fit1[1]) * dt_array[start_fit:]**(line_fit1[0]), \n",
    "              'k-', label = 'slope: {:.2f}'.format(line_fit1[0]))\n",
    "axs[2].legend(loc='best', fontsize=14)\n",
    "\n",
    "plt.tight_layout(pad = 2.0)"
   ]
  },
  {
   "cell_type": "markdown",
   "metadata": {},
   "source": [
    "As the two-norm is the default in `sl.norm`, we don't need to pass the \"2\" argument, and a concise way to write this updated (RMS - see next section) norm that makes use of SciPy (on the assumption that it's optimised better then we could do oursleves) is to compute\n",
    "\n",
    "```Python\n",
    "sl.norm(a - b) / np.sqrt(len(a))\n",
    "```\n",
    "\n",
    "where $a$ and $b$ are two vectors of discrete values of the same length.  Since in the `sl.norm` calculation the square root has already been taken, we need to divide through by the square root of the length of the vectors (which of course need to be the same as one another).\n",
    "\n",
    "Of course you could wrap this in your own function."
   ]
  },
  {
   "cell_type": "markdown",
   "metadata": {},
   "source": [
    "\n",
    "<div class=\"optional\">\n",
    "\n",
    "## RMS (root mean square) norm and its relation to the $L^2$ norm [* - this is important, but in the interest of time]\n",
    "\n",
    "What we defined above as two-norm$^*$ is actually termed the **root-mean-square (RMS) error** - we take the square of the entries of the vector, compute the mean and then take the square root.\n",
    "\n",
    "We pointed out that this was the redefinition of the (discrete) two-norm that accounted for fairly comparing vectors of differing lengths.\n",
    "\n",
    "There is a related reason the RMS error is important and often used:\n",
    "\n",
    "suppose we want to compute the difference between two continuous functions. We can do this by computing the so-called $L^2$ norm which is defined as the square root of the integral of the square of the difference between the functions:\n",
    "\n",
    "\\begin{align*} \n",
    "e_{L^2}  := \\| f - g\\|_{L^2(I)}\n",
    "= \\left( \\int_I\\, \\left[f -g\\right]^2\\, dx\\right)^{1/2}.\n",
    "\\end{align*}\n",
    "\n",
    "The next example considers two functions and shows what is going on here.\n",
    "   \n",
    "</div>    "
   ]
  },
  {
   "cell_type": "code",
   "execution_count": 13,
   "metadata": {},
   "outputs": [
    {
     "data": {
      "image/png": "[encoded data removed]",
      "text/plain": [
       "<Figure size 1080x360 with 3 Axes>"
      ]
     },
     "metadata": {
      "needs_background": "light"
     },
     "output_type": "display_data"
    }
   ],
   "source": [
    "def func_1(x):\n",
    "    return x**3\n",
    "\n",
    "def func_2(x):\n",
    "    return x**2\n",
    "\n",
    "fig, (ax1, ax2, ax3) = plt.subplots(1, 3, figsize=(15, 5))\n",
    "\n",
    "x = np.linspace(0.0, 1.2, 100)\n",
    "\n",
    "ax1.plot(x, func_1(x) , 'k', label = '$f(x)$')\n",
    "ax1.plot(x, func_2(x) , 'r', label = '$g(x)$')\n",
    "# shade the region between the two to emphasise the difference\n",
    "ax1.fill_between(x, func_1(x), func_2(x),color='lightsalmon')\n",
    "ax1.legend(loc='best', fontsize=13)\n",
    "ax1.set_xlabel('$x$', fontsize=14)\n",
    "ax1.set_title('Two functions', fontsize=14)\n",
    "\n",
    "ax2.plot(x, func_1(x) - func_2(x), 'k', label = 'Difference $f(x)-g(x)$')\n",
    "ax2.fill_between(x, func_1(x) - func_2(x),color='lightsalmon')\n",
    "ax2.legend(loc='best', fontsize=13)\n",
    "ax2.set_xlabel('$x$', fontsize=14)\n",
    "ax2.set_title('Difference between functions', fontsize=14)\n",
    "\n",
    "ax3.plot(x, (func_1(x) - func_2(x))**2, 'k', label = 'Squared difference $(f(x)-g(x))^2$')\n",
    "ax3.fill_between(x, (func_1(x) - func_2(x))**2,color='lightsalmon')\n",
    "ax3.legend(loc='best', fontsize=13)\n",
    "ax3.set_xlabel('$x$', fontsize=14)\n",
    "ax3.set_title('Squared difference between functions', fontsize=14)\n",
    "\n",
    "plt.tight_layout(pad = 2.0)"
   ]
  },
  {
   "cell_type": "markdown",
   "metadata": {},
   "source": [
    "\n",
    "<div class=\"optional\">\n",
    "\n",
    "The square serves two roles - it makes all differences positive so they all contribute (errors in different locations cannot cancel one another out), and it weights differences in a nonlinear manner - twice the difference means a factor four contribution to the error.\n",
    "\n",
    "The $L^2$ norm of the error is the square root of the area under the final curve.\n",
    "    \n",
    "</div>"
   ]
  },
  {
   "cell_type": "markdown",
   "metadata": {},
   "source": [
    "\n",
    "<div class=\"optional\">\n",
    "    \n",
    "We can approximate the integral as\n",
    "\n",
    "$$ \\int_I\\, \\left[f(x) - g(x)\\right]^2\\, dx \n",
    "\\approx \\sum_{i=1}^N  \\, \\left[f(s_i) - g(s_i)\\right]^2\\,\\Delta s.$$\n",
    "\n",
    "\n",
    "In this numerical approximation the $s_i$ represent the locations of discrete values after we have discretised our curve above, and $\\Delta s$ is the spacing between these points (we assume these spacings are uniform but this can easily be generalised to the case where the spacing is not uniform).\n",
    "\n",
    "In the case of computing an error between vectors the two functions are essentially already discretised, with $\\Delta s$ being the time step for our time stepping example (this could again be generalised to the case of a spatial mesh error analysis, and more dimensions).\n",
    "\n",
    "In the case of a uniformly distributed set of points, if we assume that our domain is of length 1, then\n",
    "\n",
    "$$\\Delta s = \\frac{1}{N}.$$\n",
    "\n",
    "Note that we've introduced a scaling here by assuming $1/N$ rather than $T/N$ where $T$ is the total simulation time.  But for the application of comparing errors on increasingly fine temporal meshes, $T$ is the same for all the vectors we will be comparing so this scaling isn't important, and you could introduce it if wanted at the end.\n",
    "\n",
    "\n",
    "Let's plot what's going on here to convince ourselves that this is indeed a reasonable approximation to the integral, and it converges if we decrease $\\Delta s$.\n",
    "\n",
    "</div>"
   ]
  },
  {
   "cell_type": "code",
   "execution_count": 14,
   "metadata": {},
   "outputs": [
    {
     "data": {
      "image/png": "[encoded data removed]",
      "text/plain": [
       "<Figure size 864x288 with 1 Axes>"
      ]
     },
     "metadata": {
      "needs_background": "light"
     },
     "output_type": "display_data"
    },
    {
     "name": "stdout",
     "output_type": "stream",
     "text": [
      "The sum of the areas of the rectangles is (I_M): 0.011711733381\n"
     ]
    }
   ],
   "source": [
    "from matplotlib.patches import Rectangle\n",
    "\n",
    "def func_3(x):\n",
    "    return (func_1(x) - func_2(x))**2\n",
    "\n",
    "x = np.linspace(0.0, 1.2, 100)\n",
    "\n",
    "# plot\n",
    "fig = plt.figure(figsize=(12, 4))\n",
    "ax1 = plt.subplot(111)\n",
    "ax1.plot(x, func_3(x), 'b', lw=2)\n",
    "\n",
    "ax1.margins(0.1)\n",
    "\n",
    "# label axis\n",
    "ax1.set_xlabel('$x$', fontsize=16)\n",
    "ax1.set_title('Approximating the integral', fontsize=16)\n",
    "\n",
    "\n",
    "\n",
    "number_intervals = 20\n",
    "dx = 1./(number_intervals)\n",
    "xi = np.linspace(0, 1.2, number_intervals+1)\n",
    "# define si points to be the midpoints of these intervals\n",
    "si = 0.5*(xi[:-1] + xi[1:])\n",
    "ds = dx\n",
    "I_M = 0.0\n",
    "for i in range(number_intervals):\n",
    "    ax1.add_patch(Rectangle((xi[i], 0.0), (xi[i+1] - xi[i]),\n",
    "                            func_3((xi[i+1]+xi[i])/2), fill=True, \n",
    "                            edgecolor='k', facecolor='darksalmon', lw=1))\n",
    "    I_M += func_3(si[i])*ds\n",
    "\n",
    "# use an explicit show here to force the figure to appear before the following print.\n",
    "plt.show()\n",
    "print('The sum of the areas of the rectangles is (I_M): {:.12f}'.format(I_M))"
   ]
  },
  {
   "cell_type": "markdown",
   "metadata": {},
   "source": [
    "\n",
    "<div class=\"optional\">\n",
    "\n",
    "We have done here what is termed numerical integration, or quadrature, we'll do more in this in ACSE-3.\n",
    "\n",
    "The point here is that the RMS error can be interpreted as a discrete analogue of the $L^2$ norm:\n",
    "\n",
    "\\begin{align*} \n",
    "e_{L^2} & := \\| f - g\\|_{L^2(I)}\\\\[10pt]\n",
    "&= \\left( \\int_I\\, \\left[f - g\\right]^2\\, dx\\right)^{1/2}\\\\[10pt]\n",
    "&\\approx \\left( \\frac{1}{N} \\sum_{i=1}^N  \\, \\left[f(s_i) - g(s_i)\\right]^2 \\right)^{1/2}\n",
    "\\\\[10pt]\n",
    "&=: e_{\\text{RMS}}.\n",
    "\\end{align*}\n",
    "\n",
    "</div>"
   ]
  },
  {
   "cell_type": "markdown",
   "metadata": {},
   "source": [
    "# Comparing algorithms against analytic solutions - code verification\n",
    "\n",
    "An [analytic solution](http://mathworld.wolfram.com/Analytic.html) just means an exact solution we can write down in closed form (e.g. not in terms of an infinite series), or for some people it just means a solution that is obtained using analytic(al) rather than numerical means.\n",
    "\n",
    "\n",
    "There are two approaches we can take here.\n",
    "\n",
    "In general we won't have access to analytic solutions for **all** problems we want to apply our code to. If we did then what is the point of the numerical approach in this case?\n",
    "\n",
    "We might be able to find analytic solutions to representative problems we want our code to solve.  To do this we may need to make some simplifications to the problem, e.g. make a nonlinear problem linear, consider simple forms of boundary conditions, etc. \n",
    "\n",
    "This isn't ideal as it isn't necessarily fully stressing all parts of the code, or confronting it with complex solution behaviour.\n",
    "\n",
    "We have three scenarios:\n",
    "\n",
    "\n",
    "1. We can find an analytic solution where we don't need to simplify the type of problem we want to solve.\n",
    "\n",
    "\n",
    "2. We need to simplify our problem in order to find an analytic solution.\n",
    "\n",
    "\n",
    "3. We can construct a solution to the full problem (plus some extra terms, i.e. arguably more complex rather than simplified!).\n",
    "\n",
    "\n",
    "\n",
    "For ODEs we can generally do 1 - we'll go through an example below.\n",
    "\n",
    "But for PDEs, this isn't generally possible. People typically therefore conduct option 2, but the 3rd option is a very powerful approach that we will also explain here in the context of ODEs (**we'll return to this for PDEs in ACSE-3**).\n",
    "\n",
    "Note that with option 2 we really need to consider a suite of tests which even if all the terms aren't included at once, all of the terms of considered in different combinations. Even then this really isn't as good as options 1 or 3."
   ]
  },
  {
   "cell_type": "markdown",
   "metadata": {},
   "source": [
    "## A problem with an exact solution to compare against\n",
    "\n",
    "Let's suppose that we want to verify our forward Euler code we saw from lecture 1\n",
    "\n",
    "```Python\n",
    "def forward_euler(f, y0, t0, t_max, dt):\n",
    "    \"\"\" Forward Euler time stepper\n",
    "    f is the RHS function expected to be of the form f=f(t,y)\n",
    "    \"\"\"\n",
    "    y = np.array(y0)\n",
    "    t = np.array(t0)\n",
    "    y_all = [y0]\n",
    "    t_all = [t0]\n",
    "    while t < t_max:\n",
    "        y = y + dt*f(t, y) \n",
    "        y_all.append(y)\n",
    "        t = t + dt\n",
    "        t_all.append(t)\n",
    "    return np.array(y_all), np.array(t_all)\n",
    "```\n",
    "\n",
    "Suppose we've verified convergence to simple problems with $\\,f\\equiv y\\,$ and $\\,y \\equiv\\exp(t)\\,$, where we can find the analytic solution, \n",
    "\n",
    "but are concerned that we haven't verified it in the case where the RHS function depends on both $t$ *and* $y$ at the same time. \n",
    "\n",
    "Well we can do this with the ODE\n",
    "\n",
    "$$ y' \\equiv \\dot{y} \\equiv \\frac{dy}{dt} = t^3 + y, \\qquad y(0)=y_0=1 $$\n",
    "\n",
    "Now with PDEs we don't have much chance of finding an exact solution to a general problem we write done, but with ODEs we have a chance.\n",
    "\n",
    "Python has a **symbolic math package** called SymPy. \n",
    "\n",
    "Let's see how we could use this to try and find a solution to our problem. "
   ]
  },
  {
   "cell_type": "code",
   "execution_count": 15,
   "metadata": {},
   "outputs": [
    {
     "data": {
      "image/png": "[encoded data removed]",
      "text/latex": [
       "$\\displaystyle \\frac{d}{d t} y{\\left(t \\right)} = t^{3} + y{\\left(t \\right)}$"
      ],
      "text/plain": [
       "d           3       \n",
       "──(y(t)) = t  + y(t)\n",
       "dt                  "
      ]
     },
     "execution_count": 15,
     "metadata": {},
     "output_type": "execute_result"
    }
   ],
   "source": [
    "# import Python's symbolic math library\n",
    "import sympy as sym\n",
    "# print maths nicely:\n",
    "sym.init_printing()\n",
    "# define the 'symbols' that will be our variables/parameters\n",
    "t, y0 = sym.symbols('t, y0')\n",
    "# define a function - this will be the solution we're looking for\n",
    "y = sym.Function('y')\n",
    "# define this function's derivative with respect to t\n",
    "dydt = y(t).diff(t)\n",
    "# define the ODE - see https://docs.sympy.org/latest/tutorial/gotchas.html#tutorial-gotchas-equals\n",
    "ode_expr = sym.Eq(dydt, y(t) + t**3) \n",
    "# print it out to check it's correct\n",
    "ode_expr"
   ]
  },
  {
   "cell_type": "code",
   "execution_count": 16,
   "metadata": {},
   "outputs": [
    {
     "data": {
      "image/png": "[encoded data removed]",
      "text/latex": [
       "$\\displaystyle y{\\left(t \\right)} = \\left(C_{1} + \\left(- t^{3} - 3 t^{2} - 6 t - 6\\right) e^{- t}\\right) e^{t}$"
      ],
      "text/plain": [
       "       ⎛     ⎛   3      2          ⎞  -t⎞  t\n",
       "y(t) = ⎝C₁ + ⎝- t  - 3⋅t  - 6⋅t - 6⎠⋅ℯ  ⎠⋅ℯ "
      ]
     },
     "execution_count": 16,
     "metadata": {},
     "output_type": "execute_result"
    }
   ],
   "source": [
    "# solve the ODE symbolically\n",
    "ode_sol = sym.dsolve(ode_expr, y(t))\n",
    "ode_sol"
   ]
  },
  {
   "cell_type": "code",
   "execution_count": 17,
   "metadata": {},
   "outputs": [
    {
     "data": {
      "image/png": "[encoded data removed]",
      "text/latex": [
       "$\\displaystyle y{\\left(t \\right)} = \\left(\\left(- t^{3} - 3 t^{2} - 6 t - 6\\right) e^{- t} + 7\\right) e^{t}$"
      ],
      "text/plain": [
       "       ⎛⎛   3      2          ⎞  -t    ⎞  t\n",
       "y(t) = ⎝⎝- t  - 3⋅t  - 6⋅t - 6⎠⋅ℯ   + 7⎠⋅ℯ "
      ]
     },
     "execution_count": 17,
     "metadata": {},
     "output_type": "execute_result"
    }
   ],
   "source": [
    "# above included a constant of integeration C_1, \n",
    "# we can specify this in the solve so we don't need to work it our separately\n",
    "ode_sol = sym.dsolve(ode_expr, y(t), ics={y(0):1})\n",
    "ode_sol"
   ]
  },
  {
   "cell_type": "code",
   "execution_count": 18,
   "metadata": {},
   "outputs": [
    {
     "data": {
      "image/png": "[encoded data removed]",
      "text/latex": [
       "$\\displaystyle y{\\left(t \\right)} = - t^{3} - 3 t^{2} - 6 t + 7 e^{t} - 6$"
      ],
      "text/plain": [
       "          3      2            t    \n",
       "y(t) = - t  - 3⋅t  - 6⋅t + 7⋅ℯ  - 6"
      ]
     },
     "execution_count": 18,
     "metadata": {},
     "output_type": "execute_result"
    }
   ],
   "source": [
    "# try simplifying this\n",
    "sym.simplify(ode_sol)"
   ]
  },
  {
   "cell_type": "code",
   "execution_count": 19,
   "metadata": {},
   "outputs": [],
   "source": [
    "# and turn it into a function we can evaluate (so we can easily plot it or compare against it)\n",
    "ode_sol_fun = sym.lambdify(t, ode_sol.rhs)"
   ]
  },
  {
   "cell_type": "code",
   "execution_count": 20,
   "metadata": {},
   "outputs": [
    {
     "data": {
      "image/png": "[encoded data removed]",
      "text/plain": [
       "<Figure size 432x432 with 1 Axes>"
      ]
     },
     "metadata": {
      "needs_background": "light"
     },
     "output_type": "display_data"
    }
   ],
   "source": [
    "# now plot the solution using the function we just generated\n",
    "fig = plt.figure(figsize=(6, 6))\n",
    "ax1 = plt.subplot(111)\n",
    "\n",
    "t = np.arange(0, 10, 0.1)\n",
    "ax1.plot(t, ode_sol_fun(t), 'b', label='SymPy solution')\n",
    "\n",
    "ax1.set_xlabel('$t$', fontsize = 16)\n",
    "ax1.set_ylabel('$y$', fontsize = 16)\n",
    "ax1.set_title('SymPy solution', fontsize = 16)\n",
    "ax1.legend(loc='best', fontsize = 14);"
   ]
  },
  {
   "cell_type": "markdown",
   "metadata": {},
   "source": [
    "So now we have an analytic solution, let's solve the problem numerically using the forward Euler scheme we derived in lecture 1 and compare it against the analytic solution.\n",
    "\n",
    "Since we now know how to compute the RMS error, let's use this as our norm to compare"
   ]
  },
  {
   "cell_type": "code",
   "execution_count": 21,
   "metadata": {},
   "outputs": [
    {
     "data": {
      "text/plain": [
       "<matplotlib.legend.Legend at 0x27baf909d08>"
      ]
     },
     "execution_count": 21,
     "metadata": {},
     "output_type": "execute_result"
    },
    {
     "data": {
      "image/png": "[encoded data removed]",
      "text/plain": [
       "<Figure size 1152x360 with 2 Axes>"
      ]
     },
     "metadata": {
      "needs_background": "light"
     },
     "output_type": "display_data"
    }
   ],
   "source": [
    "# problem definition (RHS function)\n",
    "def f(t, y):\n",
    "    return y + t**3\n",
    "\n",
    "# exact solution\n",
    "def y_ex(t):\n",
    "    return -t**3 - 3*t**2 - 6*t + 7*np.exp(t) - 6\n",
    "  \n",
    "def forward_euler(f, y0, t0, t_max, dt):\n",
    "    \"\"\"Forward Euler time stepper\n",
    "\n",
    "    Parameters\n",
    "    ----------\n",
    "    f\n",
    "        RHS function expected to be of the form f=f(t,y)\n",
    "    y0 : float\n",
    "        Initial y value\n",
    "    t0 : float\n",
    "        Initial time\n",
    "    t_max : float\n",
    "        The last timestep\n",
    "    dt : float\n",
    "        Timestep size\n",
    "\n",
    "    Returns\n",
    "    -------\n",
    "    tuple of ndarray\n",
    "        Tuple containing numpy arrays with all y and t values within\n",
    "        the specified interval\n",
    "    \"\"\"\n",
    "    y = np.array(y0)\n",
    "    t = np.array(t0)\n",
    "    y_all = [y0]\n",
    "    t_all = [t0]  \n",
    "    while t < t_max:\n",
    "        y = y_all[-1]\n",
    "        y = y + dt * f(t, y) \n",
    "        y_all.append(y) \n",
    "        t = t + dt\n",
    "        t_all.append(t)\n",
    "    return np.array(y_all), np.array(t_all)\n",
    "\n",
    "t0 = 0.0\n",
    "y0 = y_ex(t0)\n",
    "\n",
    "# space to store the errors and time step sizes in the conv analysis\n",
    "error1 = []\n",
    "error2 = []\n",
    "dt_array = []\n",
    "\n",
    "# an initial dt value\n",
    "dt = 1.0\n",
    "\n",
    "# as per comment below, what happens if we choose\n",
    "#dt = 1.1\n",
    "\n",
    "# the integration period\n",
    "t_max = 2.0\n",
    "\n",
    "while dt > 1.e-4:\n",
    "    dt_array.append(dt)\n",
    "    y_all, t_all = forward_euler(f, y0, t0, t_max, dt)\n",
    "    error1.append( abs(y_all[-1] - y_ex(t_max)) )  # mag of final error\n",
    "    #error1.append( abs(y_all[-1] - y_ex(t_all[-1])) )  # this would be more robust\n",
    "    error2.append( sl.norm(y_all - y_ex(t_all)) / np.sqrt(len(y_all)) )   # RMS\n",
    "    dt *= 0.5\n",
    "\n",
    "\n",
    "fig = plt.figure(figsize=(16, 5))\n",
    "ax1 = plt.subplot(121)\n",
    "ax2 = plt.subplot(122)\n",
    "\n",
    "# plot end time error\n",
    "ax1.loglog(dt_array, error1, 'k.', label='Error with forward Euler')\n",
    "ax1.set_xlabel('$\\Delta t$', fontsize=14)\n",
    "ax1.set_ylabel('Error', fontsize=14)\n",
    "ax1.set_title('Forward Euler convergence plot (end val)', fontsize=16)\n",
    "ax1.grid(True)\n",
    "\n",
    "\n",
    "# plot RMS error\n",
    "ax2.loglog(dt_array, error2, 'k.', label='Error with forward Euler')\n",
    "ax2.set_xlabel('$\\Delta t$', fontsize=14)\n",
    "ax2.set_ylabel('Error', fontsize=14)\n",
    "ax2.set_title('Forward Euler convergence plot (RMS)', fontsize=16)\n",
    "ax2.grid(True)\n",
    "\n",
    "# use numpy.polyfit to find best fit linear line to data\n",
    "\n",
    "start_fit = 3\n",
    "\n",
    "line_fit = np.polyfit(np.log(dt_array[start_fit:]), np.log(error1[start_fit:]), 1)\n",
    "ax1.loglog(dt_array, np.exp(line_fit[1]) * dt_array**(line_fit[0]), 'k-', label = 'slope: {:.2f}'.format(line_fit[0]))\n",
    "\n",
    "# add a nice way to indicate slope\n",
    "annotation.slope_marker((2.e-3, 2e-2), (1, 1), ax=ax1,\n",
    "                        size_frac=0.25, pad_frac=0.05, text_kwargs = dict(fontsize = 14))\n",
    "\n",
    "start_fit = 3\n",
    "\n",
    "line_fit = np.polyfit(np.log(dt_array[start_fit:]), np.log(error2[start_fit:]), 1)\n",
    "ax2.loglog(dt_array, np.exp(line_fit[1]) * dt_array**(line_fit[0]), 'k-', label = 'slope: {:.2f}'.format(line_fit[0]))\n",
    "\n",
    "\n",
    "# add a nice way to indicate slope\n",
    "annotation.slope_marker((2.e-3, 1e-2), (1, 1), ax=ax2,\n",
    "                        size_frac=0.25, pad_frac=0.05, text_kwargs = dict(fontsize = 14))\n",
    "\n",
    "ax1.legend(loc='best', fontsize=14)\n",
    "ax2.legend(loc='best', fontsize=14)"
   ]
  },
  {
   "cell_type": "markdown",
   "metadata": {},
   "source": [
    "Note that in the above the starting `dt` is an exact integer factor of `t_max`, and then we divide dt by 2 each time, so it remains an exact integer factor.\n",
    "\n",
    "What happens if you start with dt not being an exact integer factor, e.g. try `dt` = 1.1.\n",
    "\n",
    "How does the convergence plot change, and why might this have happened?\n",
    "\n",
    "Safer to use `y_ex(t_all[-1])`, but then you really need a separate check that the simulation has successfully reached the end time you wanted."
   ]
  },
  {
   "cell_type": "markdown",
   "metadata": {},
   "source": [
    "We never fully addressed the question of why we plot these sorts of graphs using a log-log plot."
   ]
  },
  {
   "cell_type": "markdown",
   "metadata": {},
   "source": [
    "<div class=\"optional\">\n",
    "\n",
    "# Plotting errors using a log-log plot [\\*]\n",
    "\n",
    "## Motivation\n",
    "\n",
    "Why did we plot the convergence of the method (i.e. the error as a function of interval size (or number of subintervals)) using logarithmic scales on both the $x$ and the $y$ axis?\n",
    "\n",
    "This is a very common thing to do when we think we have some polynomial relationship.  \n",
    "\n",
    "In our case of ODE solvers, based on the Taylor series derivation where we we truncated the full expression by throwing away the second order terms, we can expect the error to be dominated for small $\\Delta t$ values by the quadratic terms, i.e.\n",
    "\n",
    "$$\\text{error} = \\mathcal{O}({\\Delta t^2}) \\quad\\text{as}\\quad t\\rightarrow 0$$\n",
    "\n",
    "By plotting using log-log axes it allows us to visually confirm whether or not this is true.\n",
    "\n",
    "We'll explain why next, but essentially in log-log space we see in the plot above that we have a straight line (for small enough $\\Delta t$ values). The line is not necessarily straight to the right of the image (i.e. for larger $\\Delta t$ values) as other (higher-order) parts of the full error expansion are contributing to the total error in a non-trivial manner. We saw an example of this when we talked about Big-O notation in an earlier lecture.\n",
    "\n",
    "As we move to the left they become less and less important and we do indeed observe a straight line - we reach the asymptotic limit.  The second important thing to note is the slope of this line - here we see it is approximately 1.\n",
    "    \n",
    "</div>"
   ]
  },
  {
   "cell_type": "markdown",
   "metadata": {},
   "source": [
    "\n",
    "<div class=\"optional\">\n",
    "    \n",
    "## Theory\n",
    "\n",
    "Suppose we are plotting $y$ vs $x$ data.\n",
    "\n",
    "If we have a simple [monomial](https://en.wikipedia.org/wiki/Monomial) relationship of the form \n",
    "\n",
    "$$ y = ax^k, $$\n",
    "\n",
    "then taking the log of this equation (in any base, although note that unless otherwise stated we always assume that $\\log$ is base $e$), we get\n",
    "\n",
    "\\begin{align*}\n",
    "\\log(y) &= \\log\\left(ax^k\\right)\\\\\n",
    "&= \\log(a) + \\log\\left(x^k\\right)\\\\\n",
    "&= \\log(a) + k \\log(x)\\\\\n",
    "&=  k \\log(x) + \\log(a) \n",
    "\\end{align*}\n",
    "\n",
    "Thus if we were to plot the curve $y = ax^k$ (or data points from this expression) using log-log axes (i.e. letting $X:=\\log(x)$ and $Y:=\\log(y)$) then the curve/points would follow\n",
    "\n",
    "$$Y = m X + c,$$\n",
    "\n",
    "which we recognise as the equation for a *straight line* with slope $m$ (and intercept $c$).\n",
    "\n",
    "So **if** we plot data using log-log axes and **if** we get a straight line then we know the underlying function must be of the form $\\, y = ax^k $, where we can estimate $k$ by finding the slope of the line.\n",
    "\n",
    "Similarly, if we get *approximately* a straight line, of *approximate* slope $k$, then we know that $\\, y \\approx ax^k $.  \n",
    "\n",
    "Or, if we approach a straight line of splope $p$ in some limit say, then we know that $\\, y = \\mathcal{O}(x^p) $ in that limit.  This is our case from above.  \n",
    "\n",
    "<br>\n",
    "\n",
    "For more on this see:\n",
    "<https://en.wikipedia.org/wiki/Log%E2%80%93log_plot>\n",
    "    \n",
    "</div>"
   ]
  },
  {
   "cell_type": "markdown",
   "metadata": {},
   "source": [
    "<div class=\"optional\">\n",
    "\n",
    "You may have spotted that Taylor series analysis pointed to the dominant error term (the leading part of the Taylor series we ignored) being $\\mathcal{O}(\\Delta t^2)$, but the slope of our error plot above, for small $\\Delta t$ values actually converged to a slope of 1, indicating the error is actually $\\mathcal{O}(\\Delta t)$ - what's going on here?\n",
    "\n",
    "Well the answer is that $\\mathcal{O}(\\Delta t^2)$ is the error we would expect in a single time step. \n",
    "\n",
    "Since we did multiple time steps to reach our fixed end time, these accumulate by an extra order of magnitude - recall the figure from L1 repeated below. \n",
    "\n",
    "Theory demonstrates that the error at the final time should indeed be one order lower than the leading term in the Taylor series - essentially as the final time is fixed with a smaller time step we end up having to do more time steps, this and the accumulation of errors combine to lose us one order of convergence.\n",
    "\n",
    "This will be gone over in more detail on ACSE-3.\n",
    "\n",
    "</br>"
   ]
  },
  {
   "cell_type": "code",
   "execution_count": 22,
   "metadata": {},
   "outputs": [
    {
     "data": {
      "text/plain": [
       "[<matplotlib.lines.Line2D at 0x27baf87ab48>]"
      ]
     },
     "execution_count": 22,
     "metadata": {},
     "output_type": "execute_result"
    },
    {
     "data": {
      "image/png": "[encoded data removed]",
      "text/plain": [
       "<Figure size 432x432 with 1 Axes>"
      ]
     },
     "metadata": {
      "needs_background": "light"
     },
     "output_type": "display_data"
    }
   ],
   "source": [
    "fig = plt.figure(figsize=(6, 6))\n",
    "ax1 = plt.subplot(111)\n",
    "ax1.set_title('Two steps of Forward Euler', fontsize=16)\n",
    "ax1.set_xlabel('$t$', fontsize=16)\n",
    "ax1.set_ylabel('$y(t)$', fontsize=16)\n",
    "\n",
    "t = np.linspace(0, 1.5, 1000)\n",
    "\n",
    "# the RHS of the ODE\n",
    "def f(t,y):\n",
    "    return y\n",
    "\n",
    "# an example solution trajectory (or solution to ODE $\\dot{y}=f(y), y(0)=1$)\n",
    "def y(t):\n",
    "    return np.exp(t)\n",
    "\n",
    "\n",
    "ax1.plot(t, y(t), 'k', label='Trajectory $y=y(t)$')\n",
    "\n",
    "# this is just some location in time\n",
    "t0 = 0.35\n",
    "# and an example of a time step size large enough we can see what the method is doing\n",
    "dt = 0.4\n",
    "\n",
    "\n",
    "ax1.plot([t0], [y(t0)], 'ro')\n",
    "ax1.plot([t0, t0 + dt], [y(t0), y(t0) + dt * f(t0, y(t0))], 'b')\n",
    "y1 = y(t0) + dt * f(t0, y(t0))\n",
    "ax1.plot([t0 + dt, t0 + 2*dt], [y1, y1 + dt * f(t0+dt, y1)], 'b')\n",
    "\n",
    "ax1.plot([t0 + dt, t0+2*dt], [y(t0 + dt), y(t0+2*dt)], 'ko')\n",
    "ax1.plot([t0 + dt, t0 + 2*dt], [y(t0) + dt * f(t0, y(t0)), y1 + dt * f(t0+dt, y1)], 'go')"
   ]
  },
  {
   "cell_type": "markdown",
   "metadata": {},
   "source": [
    "# The Method of Manufactured Solutions (MMS)\n",
    "\n",
    "Let's suppose for whatever reason we couldn't find a convenient exact solution - there just isn't one we can write down in analytic form, we don't know how to use symbolic tools, it's too difficult or we don't have time, ...\n",
    "\n",
    "This is where the Method of Manufactured Solutions provides a very powerful and convenient approach.\n",
    "\n",
    "Let's suppose we want to test our forward Euler code but we don't know anything about how to solve ODEs analytically.\n",
    "\n",
    "Rather than starting from an equation and looking for a solution, the MMS approach starts from a \"manufactured solution\" and finds a corresponding equation (one that's very similar to the one we want to solve, and in verification of this we verify the code on the original).\n",
    "\n",
    "We think to ourselves, what is a \"non-trivial\" solution - a solution that if our algorithm was able to recreate accurately we would be happy. \n",
    "\n",
    "By \"trivial\" I mean for our ODE solver to sucessfully recreat - for example $y=$constant, since then the RHS function is just zero, our code will get the answer correct exactly and we are not \"stressing\" our solver at all. We don't want this, we want a \"non-trivial\" solution.\n",
    "\n",
    "Now this seems a stupid example, or that I am making an obvious point, but this is an issue we need to give appropriate care to in the case of PDEs - we may foolishly choose a solution that *looks* non-trivial but for which some of the terms in the PDE are actually zero (or very small compared to other terms), or exactly cancel for all numerical parameter choices - again we wouldn't be fully stressing all parts of our solver. So selection of an appropriate manufactured solution is an important part of the process, but shouldn't be that difficult with some trial and error, and turning terms on our solver on and off (and checking that the solution behaviour changes! If we turn a term on and off and the solution hardly changes, it indicates that that term wasn't doing much and the test we've come up with may not be a good for it).\n",
    "\n",
    "Next we will demonstrate the general approach with an ODE example.\n",
    "\n",
    "Second we will repeat in a manner that is actually a bit closer to how we would perform MMS on PDEs."
   ]
  },
  {
   "cell_type": "markdown",
   "metadata": {},
   "source": [
    "## A simple approach for an ODE\n",
    "\n",
    "We want to test our implementation of our code to solve the ODE problem\n",
    "\n",
    "$$ y' = f(t,y), \\qquad y(0)=y_0=1 $$\n",
    "\n",
    "<br>\n",
    "\n",
    "Let's start by writing down a function of $t$, this will be our \"manufactured solution\":\n",
    "\n",
    "$$y(t) = 7\\exp(t) - 3t^2 - 6t - 5, \\qquad \\text{for which} \\qquad y(0) = 2$$\n",
    "\n",
    "the next step in MMS is to substitute this into the LHS of the equation our code is designed to solve:\n",
    "\n",
    "$$ y' =  \\frac{dy}{dt} = 7\\exp(t) - 6t - 6 $$\n",
    "\n",
    "If we use this expression we have just derived as the RHS of our solver (i.e. the $f(t,y)$ function) then we have by construction the analytic solution to compare against.\n",
    "\n",
    "Now we could of course code these two functions up ourselves and proceed, but if possible (as depending on what manufactured solution we choose, and what O/PDE we are solving, this could be extremely complicated and easy to make a mistake either in our derivation by hand or in the implementation in code) it makes sense to try and do this symbolically, i.e. here to use SymPy - we're only differentiating so it shouldn't have a problem with this."
   ]
  },
  {
   "cell_type": "code",
   "execution_count": 23,
   "metadata": {},
   "outputs": [
    {
     "name": "stdout",
     "output_type": "stream",
     "text": [
      "-3*t**2 - 6*t + 7*exp(t) - 5\n",
      "-6*t + 7*exp(t) - 6\n"
     ]
    }
   ],
   "source": [
    "t, y = sym.symbols('t, y')\n",
    "y_ex = 7*sym.exp(t) - 3*t**2 - 6*t - 5\n",
    "print(y_ex)\n",
    "print(sym.diff(y_ex,t))"
   ]
  },
  {
   "cell_type": "markdown",
   "metadata": {},
   "source": [
    "This is consistent with what we have above.\n",
    "\n",
    "Let's turn these into functions and use both of them (as the RHS source term we give to the solver, and the analytic solution we compare the solution to) directly in a convergence analysis."
   ]
  },
  {
   "cell_type": "code",
   "execution_count": 24,
   "metadata": {},
   "outputs": [],
   "source": [
    "y_ex_fun = sym.lambdify(t, y_ex)\n",
    "f = sym.lambdify((t,y), sym.diff(y_ex,t))\n",
    "# f here is a function of t and y to be consistent with what our solver function expects\n",
    "# even though the form of f we have derived is only dependent on t"
   ]
  },
  {
   "cell_type": "code",
   "execution_count": 25,
   "metadata": {},
   "outputs": [
    {
     "data": {
      "text/plain": [
       "<matplotlib.legend.Legend at 0x27bafdaf848>"
      ]
     },
     "execution_count": 25,
     "metadata": {},
     "output_type": "execute_result"
    },
    {
     "data": {
      "image/png": "[encoded data removed]",
      "text/plain": [
       "<Figure size 576x360 with 1 Axes>"
      ]
     },
     "metadata": {
      "needs_background": "light"
     },
     "output_type": "display_data"
    }
   ],
   "source": [
    "# now test cojnvergence using this exact solution and the corresponding f function we've derived\n",
    "\n",
    "t0 = 0.0\n",
    "y0 = y_ex_fun(t0) \n",
    "\n",
    "error = []\n",
    "dt_array = []\n",
    "\n",
    "# an initial dt value\n",
    "dt = 1.0\n",
    "\n",
    "# the integration period\n",
    "t_max = 2.0\n",
    "\n",
    "# compute error in forward euler solution as dt varies\n",
    "while dt > 1.e-4:\n",
    "    dt_array.append(dt)\n",
    "    y_all, t_all = forward_euler(f, y0, t0, t_max, dt)\n",
    "    error.append(abs(y_all[-1] - y_ex_fun(t_max))) \n",
    "    dt *= 0.5\n",
    "\n",
    "\n",
    "fig = plt.figure(figsize=(8, 5))\n",
    "ax1 = plt.subplot(111)\n",
    "\n",
    "# plot error vs dt with a log-log plot\n",
    "ax1.loglog(dt_array, error, 'k.', label='Error with forward Euler')\n",
    "ax1.set_xlabel('$\\Delta t$', fontsize=14)\n",
    "ax1.set_ylabel('Error', fontsize=14)\n",
    "ax1.set_title('Forward Euler convergence plot', fontsize=16)\n",
    "ax1.grid(True)\n",
    "\n",
    "# use numpy.polyfit to find best fit linear line to data\n",
    "\n",
    "start_fit = 3\n",
    "\n",
    "line_fit = np.polyfit(np.log(dt_array[start_fit:]), np.log(error[start_fit:]), 1)\n",
    "ax1.loglog(dt_array, np.exp(line_fit[1]) * dt_array**(line_fit[0]), 'k-', label = 'slope: {:.2f}'.format(line_fit[0]))\n",
    "\n",
    "ax1.legend(loc='best', fontsize=14)"
   ]
  },
  {
   "cell_type": "markdown",
   "metadata": {},
   "source": [
    "## An approach more akin to how we would perform MMS on PDEs\n",
    "\n",
    "Now you may notice that in performing the above we have changed the problem we want to solve - our RHS function is now only a function of $t$, there is no $y$ dependence - we need to spot things like this as we may not be as rigorous (i.e. complete) in our testing as we think we are.\n",
    "\n",
    "Of course we could use what we've done so far to rearrange (using that we know $y(t) = 7\\exp(t) - 3t^2 - 6t - 5$):\n",
    "\n",
    "$$ y' \\equiv \\dot{y} \\equiv \\frac{dy}{dt} = 7\\exp(t) - 6t - 6 = y + 3t^2 -1$$\n",
    "\n",
    "and perform the convergence analysis with\n",
    "\n",
    "```Python\n",
    "def f2(t, y):\n",
    "    return y + 3*t**2 -1\n",
    "```\n",
    "\n",
    "\n",
    "\n",
    "If you use this for for the RHS in the analysis above you will see that as expected we converge at the correct rate, but the errors are a little different - why? (Hint: refer back to the discussion of the forward Euler schematic from lecture 1).\n",
    "\n",
    "\n",
    "<br>\n",
    "\n",
    "\n",
    "However, the following is actually closer to what we would do with MMS for more general problems including PDEs. \n",
    "\n"
   ]
  },
  {
   "cell_type": "markdown",
   "metadata": {},
   "source": [
    "Let's suppose we have a solver (our forward Euler code will suffice), for the problem\n",
    "\n",
    "$$ y' \\equiv \\dot{y} \\equiv \\frac{dy}{dt} = y$$\n",
    "\n",
    "i.e. we have fixed the RHS.\n",
    "\n",
    "Let's further suppose we don't know how to solve this problem analytically.\n",
    "\n",
    "Rewrite the problem in terms of the (differential) operator:\n",
    "\n",
    "$$L(y) = y'-y$$\n",
    "\n",
    "$L(\\cdot)$ is an operator and we know if we apply it to the exact solution we will get zero: $L(y_{\\text{ex}}) = 0$, we might say that we have zero *residual* when plugging in the exact solution.\n",
    "\n",
    "\n",
    "<br>\n",
    "\n",
    "\n",
    "Now suppose we have a (manufactured) solution that isn't an exact solution: $y_{\\text{mms}}$. \n",
    "\n",
    "Not being a solution is the same as saying that the residual is non-zero:\n",
    "\n",
    "$$\\text{residual} = L(y_{\\text{mms}}) \\ne 0$$\n",
    "\n",
    "But of course $y_{\\text{mms}}$ **is an exact solution to the modified problem**\n",
    "\n",
    "$$y' - y = \\text{residual}\\qquad\\text{or}\\qquad y' = y+ \\text{residual}$$\n",
    "\n",
    "Since we choose $y_{\\text{mms}}$ we can compute the appropriate derivatives etc contained in $L$ analytically and have an exact expression for the RHS residual - in typical O/PDE language we effectively have an **additional source term**.  \n",
    "\n",
    "We simply update our code with this additional source term and conduct a convergence analysis using $y_{\\text{mms}}$ as the exact solution.\n",
    "\n",
    "Depending on whether our underlying solver already accepts a source term, we may or may not need to update the solver in order to perform this MMS analysis. But even if we do this is likely to be a relatively minor, and worthwhile update.\n",
    "\n",
    "Further to this, we may be in a nice situation where our solver is in a language that also has symbolic capabilities so that we can automate most steps, which speeds things up and avoids us making silly errors in performing an MMS analysis.\n",
    "\n",
    "For example:"
   ]
  },
  {
   "cell_type": "code",
   "execution_count": 26,
   "metadata": {},
   "outputs": [
    {
     "name": "stdout",
     "output_type": "stream",
     "text": [
      "-3*t**2 - 6*t + 7*exp(t) + log(t + 1) + cos(3*t) - 5\n",
      "3*t**2 - log(t + 1) - 3*sin(3*t) - cos(3*t) - 1 + 1/(t + 1)\n"
     ]
    }
   ],
   "source": [
    "# this is the new solver we want to check (the RHS is now:  y + source(t))\n",
    "\n",
    "def our_solver(S, y0, t0, t_max, dt):\n",
    "    \"\"\" A version of forward Euler that assumes our ODE \n",
    "    is of the form y' = y + source where source is \n",
    "    assumed to be a function of the form S(t)\n",
    "\n",
    "    Parameters\n",
    "    ----------\n",
    "    S : callable\n",
    "        The residual, L(y_ex) = y_ex' - y_ex\n",
    "    y0 : float\n",
    "        Exact value of y at time t0\n",
    "    t0 : float\n",
    "        Initial time\n",
    "    t_max : float\n",
    "        The last time step\n",
    "    dt : float\n",
    "        Time step size\n",
    "\n",
    "    Returns\n",
    "    -------\n",
    "    tuple of ndarray\n",
    "        Tuple containing numpy arrays for all y and t values within\n",
    "        the specified interval\n",
    "    \"\"\"\n",
    "    y = np.array(y0)\n",
    "    t = np.array(t0)\n",
    "    y_all = [y0]\n",
    "    t_all = [t0]  \n",
    "    while t < t_max:\n",
    "        y = y_all[-1]\n",
    "        y = y + dt * (y + S(t)) \n",
    "        y_all.append(y) \n",
    "        t = t + dt\n",
    "        t_all.append(t)\n",
    "    return np.array(y_all), np.array(t_all)\n",
    "\n",
    "\n",
    "t = sym.symbols('t')\n",
    "\n",
    "# try a more complicated manufactured solution\n",
    "y_ex = 7*sym.exp(t) - 3*t**2 - 6*t - 5 + sym.cos(3*t) + sym.log(1+t)\n",
    "print(y_ex)\n",
    "# this is the corresponding residual (what will become our source):  L(y_ex) = y_ex' - y_ex\n",
    "print(sym.diff(y_ex,t) - y_ex)\n",
    "\n",
    "# turn these into functions we can use in our solver and testing\n",
    "y_ex_fun = sym.lambdify(t, y_ex)\n",
    "S = sym.lambdify(t, sym.diff(y_ex,t) - y_ex)"
   ]
  },
  {
   "cell_type": "markdown",
   "metadata": {},
   "source": [
    "For the first of these to be a solution we can compare our solver against, we need to use the second as our source term.\n",
    "\n",
    "First let's plot this solution just to check it isn't trivial in some way that would mean it's not a good candidate to test our code."
   ]
  },
  {
   "cell_type": "code",
   "execution_count": 27,
   "metadata": {},
   "outputs": [
    {
     "data": {
      "text/plain": [
       "<matplotlib.legend.Legend at 0x27bb0048308>"
      ]
     },
     "execution_count": 27,
     "metadata": {},
     "output_type": "execute_result"
    },
    {
     "data": {
      "image/png": "[encoded data removed]",
      "text/plain": [
       "<Figure size 576x360 with 1 Axes>"
      ]
     },
     "metadata": {
      "needs_background": "light"
     },
     "output_type": "display_data"
    }
   ],
   "source": [
    "fig = plt.figure(figsize=(8, 5))\n",
    "ax1 = plt.subplot(111)\n",
    "t = np.arange(0, 1, 0.01)\n",
    "ax1.plot(t,y_ex_fun(t), 'b', label='Our manufactured sol')\n",
    "ax1.set_xlabel('$t$', fontsize=14)\n",
    "ax1.set_ylabel('$y$', fontsize=14)\n",
    "ax1.set_title('Our manufactured sol', fontsize=16)\n",
    "ax1.grid(True)\n",
    "ax1.legend(loc='best', fontsize=14)"
   ]
  },
  {
   "cell_type": "markdown",
   "metadata": {},
   "source": [
    "Looks OK and is more complicated than the analytic solution we used earlier. \n",
    "\n",
    "Let's check convergence of our solver."
   ]
  },
  {
   "cell_type": "code",
   "execution_count": 28,
   "metadata": {},
   "outputs": [
    {
     "data": {
      "text/plain": [
       "<matplotlib.legend.Legend at 0x27bb01b1148>"
      ]
     },
     "execution_count": 28,
     "metadata": {},
     "output_type": "execute_result"
    },
    {
     "data": {
      "image/png": "[encoded data removed]",
      "text/plain": [
       "<Figure size 576x360 with 1 Axes>"
      ]
     },
     "metadata": {
      "needs_background": "light"
     },
     "output_type": "display_data"
    }
   ],
   "source": [
    "t0 = 0.0\n",
    "y0 = y_ex_fun(t0)\n",
    "\n",
    "error = []\n",
    "dt_array = []\n",
    "\n",
    "# an initial dt value\n",
    "dt = 0.5\n",
    "\n",
    "# the integration period\n",
    "t_max = 1.0\n",
    "\n",
    "# compute error in forward euler solution as dt varies\n",
    "while dt > 1.e-4:\n",
    "    dt_array.append(dt)\n",
    "    y_all, t_all = our_solver(S, y0, t0, t_max, dt)\n",
    "    error.append(abs(y_all[-1] - y_ex_fun(t_max))) \n",
    "    dt *= 0.5\n",
    "\n",
    "\n",
    "fig = plt.figure(figsize=(8, 5))\n",
    "ax1 = plt.subplot(111)\n",
    "\n",
    "# plot error vs dt with a log-log plot\n",
    "ax1.loglog(dt_array, error, 'k.', label='Error with forward Euler')\n",
    "ax1.set_xlabel('$\\Delta t$', fontsize=14)\n",
    "ax1.set_ylabel('Error', fontsize=14)\n",
    "ax1.set_title('Forward Euler convergence plot', fontsize=16)\n",
    "ax1.grid(True)\n",
    "\n",
    "# use numpy.polyfit to find best fit linear line to data\n",
    "\n",
    "start_fit = 3\n",
    "\n",
    "line_fit = np.polyfit(np.log(dt_array[start_fit:]), np.log(error[start_fit:]), 1)\n",
    "ax1.loglog(dt_array, np.exp(line_fit[1]) * dt_array**(line_fit[0]), 'k-', label = 'slope: {:.2f}'.format(line_fit[0]))\n",
    "\n",
    "ax1.legend(loc='best', fontsize=14)"
   ]
  },
  {
   "cell_type": "markdown",
   "metadata": {},
   "source": [
    "In verifying convergence for the slightly more complicated problem (i.e. with the additional source term) we can conclude that our original solver is bug free.\n",
    "\n",
    "We can do this with a solution that allows us to test convergence holds (i.e. the errors keep reducing at the correct rate) down to very very small errors - helping identify subtle bugs that may be hard to identify if we use one of the other (non-analytic solution based) verification methods. MMS allows us to do this without the pain of needing to find an anlytic solution - so particularly powerful for complicated problems where this may simply not be possible."
   ]
  },
  {
   "cell_type": "markdown",
   "metadata": {},
   "source": [
    "\n",
    "<div class=\"optional\">\n",
    "\n",
    "# How can things go wrong? [*]\n",
    "\n",
    "Let's review some of the ways things can go wrong - how errors occur in a model.\n",
    "    \n",
    "</div>"
   ]
  },
  {
   "cell_type": "markdown",
   "metadata": {},
   "source": [
    "\n",
    "<div class=\"optional\">\n",
    "\n",
    "## Rounding errors\n",
    "\n",
    "Understanding/appreciating the limitations of the floating point arithmetic performed by finite computers, including [round-off errors](https://en.wikipedia.org/wiki/Round-off_error) and [loss of significance](https://en.wikipedia.org/wiki/Loss_of_significance) or \"catastrophic cancellation\", is vitally important.\n",
    "\n",
    "This is often the topic of the first lecture of courses, or first chapter of books, on Numerical Methods or Numerical Analysis - do take a look at some examples if you are interested.  \n",
    "\n",
    "You covered this briefly in ACSE-1.\n",
    "\n",
    "Also take a look at *D. Goldberg 1991: What every computer scientist should know about floating-point arithmetic, ACM Computing Surveys 23, Pages 5-48*. [Google it and you will find pdfs online.  Or <https://docs.oracle.com/cd/E19957-01/806-3568/ncg_goldberg.html>].\n",
    "\n",
    "For some examples of catastrophic failures due to round off errors see <https://www.ma.utexas.edu/users/arbogast/misc/disasters.html> and <http://ta.twi.tudelft.nl/users/vuik/wi211/disasters.html> and [the sinking of the Sleipner A offshore platform](http://www.ima.umn.edu/~arnold/disasters/sleipner.html).\n",
    "\n",
    "Let's consider some examples.\n",
    "    \n",
    "</div>"
   ]
  },
  {
   "cell_type": "markdown",
   "metadata": {},
   "source": [
    "\n",
    "<div class=\"optional\">\n",
    "\n",
    "### A very simple example\n",
    "\n",
    "Here's a very simple example that illustrates the issue\n",
    "    \n",
    "</div>"
   ]
  },
  {
   "cell_type": "code",
   "execution_count": 29,
   "metadata": {},
   "outputs": [
    {
     "name": "stdout",
     "output_type": "stream",
     "text": [
      "a is 0.3333333333333333\n",
      "a with 16-digit decimal precision is 0.3333333333333333\n",
      "a with 17-digit decimal precision is 0.33333333333333331\n",
      "a with 20-digit decimal precision is 0.33333333333333331483\n",
      "\n",
      "b is 3*a with 16-digit decimal precision, which is 1.0000000000000000\n",
      "\n",
      "c is 100000*a - 33333, which is 0.3333333333284827\n",
      "\n",
      "d is 3*c, which is 0.9999999999854481\n",
      "1-d is 1.455191511734455e-08\n"
     ]
    }
   ],
   "source": [
    "a = 1/3\n",
    "print('a is',a)\n",
    "print('a with 16-digit decimal precision is {:.16f}'.format(a))\n",
    "print('a with 17-digit decimal precision is {:.17f}'.format(a))\n",
    "print('a with 20-digit decimal precision is {:.20f}'.format(a))\n",
    "b = 3*a\n",
    "print('\\nb is 3*a with 16-digit decimal precision, which is {:.16f}'.format(b))\n",
    "c = 100000*a - 33333\n",
    "print('\\nc is 100000*a - 33333, which is', c)\n",
    "d = 3*c\n",
    "print('\\nd is 3*c, which is', d)\n",
    "print('1-d is',1 - d**1000)"
   ]
  },
  {
   "cell_type": "markdown",
   "metadata": {},
   "source": [
    "\n",
    "<div class=\"optional\">\n",
    "\n",
    "### An example\n",
    "\n",
    "As an example, consider the mathematical formula\n",
    "\n",
    "$$f(x):=(1-x)^{10}.$$\n",
    "\n",
    "We can of course relatively easily expand this out by hand\n",
    "\n",
    "$$f(x) \\equiv 1- 10x + 45x^2 - 120x^3 + 210x^4 - 252x^5 + 210x^6 - 120x^7 + 45x^8 - 10x^9 + x^{10}.$$\n",
    "\n",
    "Mathematically these two expressions for $f(x)$ are identical.\n",
    "\n",
    "But when evaluated by a computer different operations will be performed (note that different orders of the same operations will also lead to slight differences in results), which (we hope) should give the same answer. For numbers $x$ away from $1$ these two expressions do return (pretty much) the same answer.  \n",
    "\n",
    "However, for $x$ close to 1 the second expression adds and subtracts individual terms of increasing size. These *should* largely cancel out, but they don't to sufficient accuracy due to round off errors; these errors accumulate with more and more operations, leading a loss of significance <https://en.wikipedia.org/wiki/Loss_of_significance>.\n",
    "    \n",
    "</div>"
   ]
  },
  {
   "cell_type": "code",
   "execution_count": 30,
   "metadata": {
    "scrolled": true
   },
   "outputs": [
    {
     "name": "stdout",
     "output_type": "stream",
     "text": [
      "f1(x), f2(x), 1.-f1(x)/f2(x): 1.0485760000000006e-04, 1.0485760000436464e-04, 4.1623815505431594e-11\n",
      "f1(x), f2(x), 1.-f1(x)/f2(x): 1.0239999999999978e-07, 1.0240001356576212e-07, 1.3247813024364063e-07\n",
      "f1(x), f2(x), 1.-f1(x)/f2(x): 9.7656250000000862e-14, 1.2378986724570495e-13, 2.1111273343425307e-01\n"
     ]
    }
   ],
   "source": [
    "def f1(x):\n",
    "    return (1. - x)**10\n",
    "\n",
    "\n",
    "def f2(x):\n",
    "    return (1. - 10.*x + 45.*x**2 - 120.*x**3 +\n",
    "           210.*x**4 - 252.*x**5 + 210.*x**6 -\n",
    "           120.*x**7 + 45.*x**8 - 10.*x**9 + x**10)\n",
    "\n",
    "\n",
    "x=0.6\n",
    "# values computed in different ways and their relative difference\n",
    "print('f1(x), f2(x), 1.-f1(x)/f2(x): {0:.16e}, {1:.16e}, {2:.16e}'.format(f1(x), f2(x), 1.-f1(x)/f2(x))) \n",
    "\n",
    "x=0.8\n",
    "print('f1(x), f2(x), 1.-f1(x)/f2(x): {0:.16e}, {1:.16e}, {2:.16e}'.format(f1(x), f2(x), 1.-f1(x)/f2(x))) \n",
    "\n",
    "x=0.95\n",
    "print('f1(x), f2(x), 1.-f1(x)/f2(x): {0:.16e}, {1:.16e}, {2:.16e}'.format(f1(x), f2(x), 1.-f1(x)/f2(x))) \n"
   ]
  },
  {
   "cell_type": "markdown",
   "metadata": {},
   "source": [
    "\n",
    "<div class=\"optional\">\n",
    "\n",
    "### Minimising round-off errors\n",
    "\n",
    "Take a look at the example of computing $\\pi$ here <https://en.wikipedia.org/wiki/Floating-point_arithmetic#Minimizing_the_effect_of_accuracy_problems>\n",
    "    \n",
    "</div>"
   ]
  },
  {
   "cell_type": "markdown",
   "metadata": {},
   "source": [
    "\n",
    "<div class=\"optional\">\n",
    "\n",
    "We'll see below a further example of this when we consider Fibonacci numbers, \n",
    "\n",
    "and then at the end if we have time we will consider ill-conditioned matrix problems where even the tiniest floating point errors can lead to disastrous results.\n",
    "    \n",
    "</div>"
   ]
  },
  {
   "cell_type": "markdown",
   "metadata": {},
   "source": [
    "\n",
    "<div class=\"optional\">\n",
    "\n",
    "## Truncation errors\n",
    "\n",
    "These are essentially due to needing to truncate a mathematical function or operation that includes infinitely many terms by a finite number of terms (so similar in nature to round-off - approximating something infinite by something discrete).\n",
    "\n",
    "An example are the errors we saw when approximating the exponential function with a Taylor series in lecture 1 (or indeed any [transcendental function](https://en.wikipedia.org/wiki/Transcendental_function)).\n",
    "\n",
    "This is very much linked to discretisation error where a similar truncation error is used in the formulation of discrete versions of derivative operators.\n",
    "\n",
    "We will consider this topic more in ACSE-3.\n",
    "\n",
    "A homework exercise asks you to consider a problem which is susceptible to both round-off and truncation errors.\n",
    "    \n",
    "</div>"
   ]
  },
  {
   "cell_type": "markdown",
   "metadata": {},
   "source": [
    "\n",
    "<div class=\"optional\">\n",
    "\n",
    "## Overflow\n",
    "\n",
    "Overflow occurs when we try to create a new number via arithmetic operations that is outside the range that is representable with the  number of bits we have chosen to store numbers on our finite computer.\n",
    "\n",
    "See <https://en.wikipedia.org/wiki/Integer_overflow>.\n",
    "   \n",
    "<\\div>"
   ]
  },
  {
   "cell_type": "markdown",
   "metadata": {},
   "source": [
    "\n",
    "<div class=\"optional\">\n",
    "\n",
    "### Examples\n",
    "\n",
    "\"Nuclear Gandhi\" is a fun example of a \"bug\" in the game Civilization which doesn't crash the software but leads to unexpected behaviour: <https://kotaku.com/why-gandhi-is-such-an-asshole-in-civilization-1653818245>.\n",
    "    \n",
    "</div>"
   ]
  },
  {
   "cell_type": "code",
   "execution_count": 31,
   "metadata": {},
   "outputs": [
    {
     "name": "stdout",
     "output_type": "stream",
     "text": [
      "[2147483644 2147483645 2147483646 2147483647]\n",
      "[ 2147483645  2147483646  2147483647 -2147483648]\n"
     ]
    }
   ],
   "source": [
    "y = np.int32([2147483644, 2147483645, 2147483646, 2147483647])\n",
    "print(y)\n",
    "print(y+1)"
   ]
  },
  {
   "cell_type": "markdown",
   "metadata": {},
   "source": [
    "\n",
    "<div class=\"optional\">\n",
    "\n",
    "We see slightly different behaviour with floats:\n",
    "\n",
    "</div>"
   ]
  },
  {
   "cell_type": "code",
   "execution_count": 32,
   "metadata": {},
   "outputs": [
    {
     "name": "stdout",
     "output_type": "stream",
     "text": [
      "Machine parameters for float64\n",
      "---------------------------------------------------------------\n",
      "precision =  15   resolution = 1.0000000000000001e-15\n",
      "machep =    -52   eps =        2.2204460492503131e-16\n",
      "negep =     -53   epsneg =     1.1102230246251565e-16\n",
      "minexp =  -1022   tiny =       2.2250738585072014e-308\n",
      "maxexp =   1024   max =        1.7976931348623157e+308\n",
      "nexp =       11   min =        -max\n",
      "---------------------------------------------------------------\n",
      "\n"
     ]
    }
   ],
   "source": [
    "print(np.finfo(np.float64))"
   ]
  },
  {
   "cell_type": "code",
   "execution_count": 33,
   "metadata": {},
   "outputs": [
    {
     "name": "stdout",
     "output_type": "stream",
     "text": [
      "1.0\n",
      "1.0000000000000002\n"
     ]
    }
   ],
   "source": [
    "print(1.+ 0.5*np.finfo(np.float64).eps)\n",
    "print(1.+ np.finfo(np.float64).eps)"
   ]
  },
  {
   "cell_type": "code",
   "execution_count": 34,
   "metadata": {},
   "outputs": [
    {
     "name": "stdout",
     "output_type": "stream",
     "text": [
      "1.7976931348623157e+308\n",
      "1.7976931348623157e+308\n",
      "inf\n",
      "-1.7976931348623157e+308\n",
      "-1.7976931348623157e+308\n",
      "-inf\n"
     ]
    },
    {
     "name": "stderr",
     "output_type": "stream",
     "text": [
      "C:\\Users\\mdpig\\anaconda3\\lib\\site-packages\\ipykernel_launcher.py:4: RuntimeWarning: overflow encountered in double_scalars\n",
      "  after removing the cwd from sys.path.\n",
      "C:\\Users\\mdpig\\anaconda3\\lib\\site-packages\\ipykernel_launcher.py:9: RuntimeWarning: overflow encountered in double_scalars\n",
      "  if __name__ == '__main__':\n"
     ]
    }
   ],
   "source": [
    "x = np.finfo(np.float64).max\n",
    "print(x + 1)\n",
    "print(x + 1e291)\n",
    "print(x + 1e292)\n",
    "\n",
    "x = np.finfo(np.float64).min\n",
    "print(x - 1)\n",
    "print(x - 1e291)\n",
    "print(x - 1e292)"
   ]
  },
  {
   "cell_type": "markdown",
   "metadata": {},
   "source": [
    "\n",
    "<div class=\"optional\">\n",
    "\n",
    "Let's try to trigger an underflow warning (for a description of warnings and how to change how floating point errors are handled see <https://docs.scipy.org/doc/numpy/reference/generated/numpy.seterr.html>).\n",
    "\n",
    "</div>"
   ]
  },
  {
   "cell_type": "code",
   "execution_count": 35,
   "metadata": {},
   "outputs": [
    {
     "data": {
      "text/plain": [
       "{'divide': 'warn', 'over': 'warn', 'under': 'ignore', 'invalid': 'warn'}"
      ]
     },
     "execution_count": 35,
     "metadata": {},
     "output_type": "execute_result"
    }
   ],
   "source": [
    "np.seterr()"
   ]
  },
  {
   "cell_type": "code",
   "execution_count": 36,
   "metadata": {},
   "outputs": [
    {
     "name": "stderr",
     "output_type": "stream",
     "text": [
      "C:\\Users\\mdpig\\anaconda3\\lib\\site-packages\\ipykernel_launcher.py:2: RuntimeWarning: underflow encountered in nextafter\n",
      "  \n"
     ]
    },
    {
     "data": {
      "text/plain": [
       "{'divide': 'warn', 'over': 'warn', 'under': 'ignore', 'invalid': 'warn'}"
      ]
     },
     "execution_count": 36,
     "metadata": {},
     "output_type": "execute_result"
    }
   ],
   "source": [
    "np.seterr(under='warn')\n",
    "x = np.nextafter(0, 1)\n",
    "np.seterr(under='ignore')\n",
    "np.seterr()"
   ]
  },
  {
   "cell_type": "markdown",
   "metadata": {},
   "source": [
    "\n",
    "<div class=\"optional\">\n",
    "\n",
    "### Example - Fibonacci numbers\n",
    "\n",
    "Consider the Fibonacci nunmbers:\n",
    "\n",
    "$$ 0 \\;  1 \\; 1 \\; 2 \\; 3 \\; 5 \\; 8 \\; 13 \\; 21 \\; \\ldots$$\n",
    "\n",
    "Let's label them $F_i$, $i=0,1,\\ldots$.  \n",
    "\n",
    "Then initialising with $F_0=0$, $F_1=1$ allows us to define all of the Fibonacci numbers via the recurrence relation\n",
    "\n",
    "$$F_{i+1} = F_i+F_{i-1}$$\n",
    "\n",
    "</div>"
   ]
  },
  {
   "cell_type": "code",
   "execution_count": 37,
   "metadata": {},
   "outputs": [
    {
     "name": "stdout",
     "output_type": "stream",
     "text": [
      "[0, 1, 1, 2, 3, 5, 8, 13, 21, 34]\n",
      "102334155\n",
      "12586269025\n"
     ]
    }
   ],
   "source": [
    "def compute_fib_number(n):\n",
    "    F_i_minus_1 = 0\n",
    "    if n==0: return 0\n",
    "    F_i = 1\n",
    "    if n==1: return 1\n",
    "    F_i_plus_1 = 0\n",
    "    for i in range(n-1):\n",
    "        F_i_plus_1 =  F_i + F_i_minus_1\n",
    "        F_i_minus_1 = F_i\n",
    "        F_i = F_i_plus_1 \n",
    "    return F_i_plus_1\n",
    "\n",
    "print([compute_fib_number(i) for i in range(10)])\n",
    "print(compute_fib_number(40))\n",
    "print(compute_fib_number(50))"
   ]
  },
  {
   "cell_type": "markdown",
   "metadata": {},
   "source": [
    "\n",
    "<div class=\"optional\">\n",
    "\n",
    "Recall from a previous lecture that this code happily went up to compute the 1000th Fibonacci number.  \n",
    "\n",
    "Let's treat these numbers as truth and see below various ways different versions of this function fail.\n",
    "\n",
    "</div>"
   ]
  },
  {
   "cell_type": "markdown",
   "metadata": {},
   "source": [
    "\n",
    "<div class=\"optional\">\n",
    "\n",
    "Lets write a different version of the function which initialises a numpy array and then fills it up with the numbers up to the $n$-th and output the whole array.\n",
    "\n",
    "We'll initialise the array with `dtype=np.int32` in order to make a point.\n",
    "\n",
    "</div>"
   ]
  },
  {
   "cell_type": "code",
   "execution_count": 38,
   "metadata": {},
   "outputs": [
    {
     "name": "stdout",
     "output_type": "stream",
     "text": [
      "[ 0  1  1  2  3  5  8 13 21 34 55]\n",
      "102334155\n",
      "-298632863\n"
     ]
    },
    {
     "name": "stderr",
     "output_type": "stream",
     "text": [
      "C:\\Users\\mdpig\\anaconda3\\lib\\site-packages\\ipykernel_launcher.py:9: RuntimeWarning: overflow encountered in long_scalars\n",
      "  if __name__ == '__main__':\n"
     ]
    }
   ],
   "source": [
    "def compute_fib_number2(n):\n",
    "    fib = np.zeros(n+1, dtype=np.int32)\n",
    "    fib[0]=0\n",
    "    F_i_minus_1 = 0\n",
    "    if n==0: return fib\n",
    "    fib[1]=1\n",
    "    if n==1: return fib\n",
    "    for i in range(n-1):\n",
    "        fib[i+2] = fib[i+1] + fib[i]\n",
    "    return fib\n",
    "\n",
    "print(compute_fib_number2(10))\n",
    "print(compute_fib_number2(40)[-1])\n",
    "print(compute_fib_number2(50)[-1])"
   ]
  },
  {
   "cell_type": "markdown",
   "metadata": {},
   "source": [
    "\n",
    "<div class=\"optional\">\n",
    "\n",
    "So we hit overflow for 32 bit signed integers.\n",
    "\n",
    "We can see the limits via:\n",
    "\n",
    "</div>"
   ]
  },
  {
   "cell_type": "code",
   "execution_count": 39,
   "metadata": {},
   "outputs": [
    {
     "name": "stdout",
     "output_type": "stream",
     "text": [
      "Machine parameters for int32\n",
      "---------------------------------------------------------------\n",
      "min = -2147483648\n",
      "max = 2147483647\n",
      "---------------------------------------------------------------\n",
      "\n",
      "1836311903\n"
     ]
    }
   ],
   "source": [
    "print(np.iinfo(np.int32))\n",
    "\n",
    "# this is the largest we can compute with 32 bit ints\n",
    "print(compute_fib_number2(46)[-1])"
   ]
  },
  {
   "cell_type": "markdown",
   "metadata": {},
   "source": [
    "\n",
    "<div class=\"optional\">\n",
    "\n",
    "So how did our first function manage this - as Python ints have arbitrary precision, but NumPy ints do not:\n",
    "\n",
    "<https://mortada.net/can-integer-operations-overflow-in-python.html>\n",
    "\n",
    "Let's see how far we should be able to push things if we use 64 bit ints:\n",
    "\n",
    "</div>"
   ]
  },
  {
   "cell_type": "code",
   "execution_count": 40,
   "metadata": {},
   "outputs": [
    {
     "name": "stdout",
     "output_type": "stream",
     "text": [
      "Machine parameters for int64\n",
      "---------------------------------------------------------------\n",
      "min = -9223372036854775808\n",
      "max = 9223372036854775807\n",
      "---------------------------------------------------------------\n",
      "\n"
     ]
    }
   ],
   "source": [
    "np.iinfo(np.int64)\n",
    "print(np.iinfo(np.int64))"
   ]
  },
  {
   "cell_type": "code",
   "execution_count": 41,
   "metadata": {},
   "outputs": [
    {
     "name": "stdout",
     "output_type": "stream",
     "text": [
      "[ 0  1  1  2  3  5  8 13 21 34 55]\n",
      "102334155\n",
      "12586269025\n"
     ]
    }
   ],
   "source": [
    "def compute_fib_number3(n):\n",
    "    fib = np.zeros(n+1, dtype=np.int64)\n",
    "    fib[0]=0\n",
    "    F_i_minus_1 = 0\n",
    "    if n==0: return fib\n",
    "    fib[1]=1\n",
    "    if n==1: return fib\n",
    "    for i in range(n-1):\n",
    "        fib[i+2] = fib[i+1] + fib[i]\n",
    "    return fib\n",
    "\n",
    "print(compute_fib_number3(10))\n",
    "print(compute_fib_number3(40)[-1])\n",
    "print(compute_fib_number3(50)[-1])"
   ]
  },
  {
   "cell_type": "code",
   "execution_count": 42,
   "metadata": {},
   "outputs": [
    {
     "name": "stdout",
     "output_type": "stream",
     "text": [
      "True\n",
      "False\n"
     ]
    },
    {
     "name": "stderr",
     "output_type": "stream",
     "text": [
      "C:\\Users\\mdpig\\anaconda3\\lib\\site-packages\\ipykernel_launcher.py:9: RuntimeWarning: overflow encountered in longlong_scalars\n",
      "  if __name__ == '__main__':\n"
     ]
    }
   ],
   "source": [
    "# reuse our test from lecture 1 homework\n",
    "truth = 43466557686937456435688527675040625802564660517371780402481729089536555417949051890403879840079255169295922593080322634775209689623239873322471161642996440906533187938298969649928516003704476137795166849228875\n",
    "\n",
    "print(compute_fib_number(1000) == truth)\n",
    "\n",
    "# can we push our new function this far?\n",
    "print(compute_fib_number3(1000)[-1] == truth)"
   ]
  },
  {
   "cell_type": "markdown",
   "metadata": {},
   "source": [
    "\n",
    "<div class=\"optional\">\n",
    "\n",
    "No, we hit overflow again.\n",
    "\n",
    "Let's try using a matrix based approach, with ints.\n",
    "\n",
    "</div>"
   ]
  },
  {
   "cell_type": "markdown",
   "metadata": {},
   "source": [
    "\n",
    "<div class=\"optional\">\n",
    "\n",
    "Define\n",
    "\n",
    "$$Q_k = \\begin{pmatrix}\n",
    "F_{k+1}\\\\\n",
    "F_k\n",
    "\\end{pmatrix}$$\n",
    "\n",
    "Then the Fibonacci numbers can equivalently be defined via\n",
    "\n",
    "$$\n",
    "Q_{k} = Q \\,  Q_{k-1},\n",
    "\\qquad\n",
    "Q = \\begin{pmatrix}\n",
    "1 & 1\\\\\n",
    "1 & 0\n",
    "\\end{pmatrix}, \\qquad\n",
    "Q_0 = \n",
    "\\begin{pmatrix}\n",
    "F_{1}\\\\\n",
    "F_0\n",
    "\\end{pmatrix}=  \n",
    "\\begin{pmatrix}\n",
    "1\\\\\n",
    "0\n",
    "\\end{pmatrix}\n",
    "$$\n",
    "\n",
    "</div>"
   ]
  },
  {
   "cell_type": "code",
   "execution_count": 43,
   "metadata": {
    "scrolled": true
   },
   "outputs": [
    {
     "name": "stdout",
     "output_type": "stream",
     "text": [
      "[0, 1, 1, 2, 3, 5, 8, 13, 21, 34]\n",
      "102334155\n",
      "12586269025\n"
     ]
    }
   ],
   "source": [
    "def compute_fib_number4(n):\n",
    "#    Q_k = np.array([1, 0], dtype=np.int32) # if not explicit defaults to int32 and reach overflow quite quickly\n",
    "    Q_k = np.array([1, 0], dtype=np.int64)\n",
    "    if n==0: return 0\n",
    "    if n==1: return 1\n",
    "    Q_k_plus_1 = Q_k\n",
    "    Q = np.array([[1, 1],[1, 0]])   \n",
    "    for k in range(n-1):\n",
    "        Q_k_plus_1 =  Q@Q_k\n",
    "        Q_k = Q_k_plus_1\n",
    "    return Q_k[0]\n",
    "\n",
    "print([compute_fib_number4(i) for i in range(10)])\n",
    "print(compute_fib_number4(40))\n",
    "print(compute_fib_number4(50))"
   ]
  },
  {
   "cell_type": "markdown",
   "metadata": {},
   "source": [
    "\n",
    "\n",
    "<div class=\"optional\">\n",
    "    \n",
    "Of course this is equivalent to \n",
    "\n",
    "$$ Q_k\n",
    "= \\begin{pmatrix}\n",
    "F_{k+1}\\\\\n",
    "F_k\n",
    "\\end{pmatrix}\n",
    "=Q Q_{k-1} =  Q^k \\,  Q_{0} = Q^k \\, \\begin{pmatrix}\n",
    "1\\\\\n",
    "0\n",
    "\\end{pmatrix}\n",
    "$$\n",
    "\n",
    "This looks ripe for us to use what we learned about matrix diagonalisation and matrix powers:\n",
    "\n",
    "$$ Q_k\n",
    "= \n",
    " Q^k \\, \\begin{pmatrix}\n",
    "1\\\\\n",
    "0\n",
    "\\end{pmatrix} = \n",
    " P\\Lambda^k P^{-1} \\, \\begin{pmatrix}\n",
    "1\\\\\n",
    "0\n",
    "\\end{pmatrix} \n",
    "$$\n",
    "\n",
    "we computed the eigenvalues and eigenvectors in the previous homework exercises.\n",
    "\n",
    "A difference in our implementation that this necessitates is that as the eigenvalues are floats, we have to move away from only using its.  Let's start by trying `dtype=np.float32`.\n",
    "\n",
    "\n",
    "</div>"
   ]
  },
  {
   "cell_type": "code",
   "execution_count": 44,
   "metadata": {},
   "outputs": [
    {
     "name": "stdout",
     "output_type": "stream",
     "text": [
      "[0, 1, 1, 2, 3, 5, 8, 13, 21, 34]\n",
      "102334188\n",
      "12586274419\n",
      "False\n"
     ]
    }
   ],
   "source": [
    "def compute_fib_number5(n):\n",
    "    if n==0: return 0\n",
    "    if n==1: return 1\n",
    "    Q = np.array([[1, 1],[1, 0]], dtype=np.float32)   \n",
    "    lam, vecs = sl.eig(Q)\n",
    "    re_lam_power = [np.real(lami)**(n-2) for lami in lam] # make the assumption are all e'vals are real\n",
    "    Q_power_n = vecs@np.diag(re_lam_power)@sl.inv(vecs) \n",
    "    return np.int(np.round(Q_power_n[0,0] + Q_power_n[0,1]))\n",
    "\n",
    "print([compute_fib_number5(i) for i in range(10)])\n",
    "print(compute_fib_number5(40))\n",
    "print(compute_fib_number5(50))\n",
    "print(compute_fib_number5(1000) == truth)"
   ]
  },
  {
   "cell_type": "markdown",
   "metadata": {},
   "source": [
    "\n",
    "<div class=\"optional\">\n",
    "\n",
    "The last three of these are all wrong, let's check when the answer went wrong by comapring with `compute_fib_number` which we are pretty confident is safe until a least $n=1000$.\n",
    "\n",
    "</div>"
   ]
  },
  {
   "cell_type": "code",
   "execution_count": 45,
   "metadata": {},
   "outputs": [
    {
     "name": "stdout",
     "output_type": "stream",
     "text": [
      "30 832040 832040 0.0\n",
      "31 1346269 1346269 0.0\n",
      "32 2178309 2178310 4.5907169276718774e-05\n",
      "33 3524578 3524579 2.837219094030548e-05\n",
      "34 5702887 5702889 3.506995667282203e-05\n",
      "35 9227465 9227468 3.2511637811685005e-05\n",
      "36 14930352 14930356 2.6791062930063536e-05\n",
      "37 24157817 24157824 2.8976128099654035e-05\n",
      "38 39088169 39088181 3.069982633364075e-05\n",
      "39 63245986 63246006 3.1622560204848415e-05\n"
     ]
    }
   ],
   "source": [
    "for n in range(30,40):\n",
    "    print(n, compute_fib_number(n), compute_fib_number5(n), \n",
    "         100*np.abs((compute_fib_number(n) - \n",
    "                 compute_fib_number5(n))/compute_fib_number(n)))"
   ]
  },
  {
   "cell_type": "markdown",
   "metadata": {},
   "source": [
    "\n",
    "<div class=\"optional\">\n",
    "\n",
    "he errors start to creep to a degree that our output integer is wrong at $n=32$, and the (relative) errors grow.\n",
    "\n",
    "This is a consequence of floating point arithmetic.\n",
    "\n",
    "We can do better with 64 bit floating point arithmetic.\n",
    "\n",
    "</div>"
   ]
  },
  {
   "cell_type": "code",
   "execution_count": 46,
   "metadata": {},
   "outputs": [
    {
     "name": "stdout",
     "output_type": "stream",
     "text": [
      "[0, 1, 1, 2, 3, 5, 8, 13, 21, 34]\n",
      "102334155\n",
      "12586269025\n",
      "False\n"
     ]
    }
   ],
   "source": [
    "def compute_fib_number6(n):\n",
    "    if n==0: return 0\n",
    "    if n==1: return 1\n",
    "    Q = np.array([[1, 1],[1, 0]], dtype=np.float64)   \n",
    "    lam, vecs = sl.eig(Q)\n",
    "    re_lam_power = [np.real(lami)**(n-2) for lami in lam] # make the assumption are all e'vals are real\n",
    "    Q_power_n = vecs@np.diag(re_lam_power)@sl.inv(vecs) \n",
    "    return np.int(np.round(Q_power_n[0,0] + Q_power_n[0,1]))\n",
    "\n",
    "print([compute_fib_number6(i) for i in range(10)])\n",
    "print(compute_fib_number6(40))\n",
    "print(compute_fib_number6(50))\n",
    "print(compute_fib_number6(1000) == truth)"
   ]
  },
  {
   "cell_type": "code",
   "execution_count": 47,
   "metadata": {},
   "outputs": [
    {
     "name": "stdout",
     "output_type": "stream",
     "text": [
      "30 832040 832040 0.0\n",
      "31 1346269 1346269 0.0\n",
      "32 2178309 2178309 0.0\n",
      "33 3524578 3524578 0.0\n",
      "34 5702887 5702887 0.0\n",
      "35 9227465 9227465 0.0\n",
      "36 14930352 14930352 0.0\n",
      "37 24157817 24157817 0.0\n",
      "38 39088169 39088169 0.0\n",
      "39 63245986 63245986 0.0\n"
     ]
    }
   ],
   "source": [
    "for n in range(30,40):\n",
    "    print(n, compute_fib_number(n), compute_fib_number6(n), \n",
    "         100*np.abs((compute_fib_number(n) - \n",
    "                 compute_fib_number6(n))/compute_fib_number(n)))"
   ]
  },
  {
   "cell_type": "markdown",
   "metadata": {},
   "source": [
    "\n",
    "<div class=\"optional\">\n",
    "    \n",
    "So we're OK up to at least $n=50$, but fail some time before $n=1000$.\n",
    "\n",
    "We'll always hit a limit:\n",
    "\n",
    "</div>"
   ]
  },
  {
   "cell_type": "code",
   "execution_count": 48,
   "metadata": {},
   "outputs": [
    {
     "name": "stdout",
     "output_type": "stream",
     "text": [
      "70 190392490709135 190392490709135 0.0 \n",
      "\n",
      "80 23416728348467685 23416728348467748 2.6903843723379283e-13\n"
     ]
    }
   ],
   "source": [
    "n=70\n",
    "print(n, compute_fib_number(n), compute_fib_number6(n), \n",
    "         100*np.abs((compute_fib_number(n) - \n",
    "                 compute_fib_number6(n))/compute_fib_number(n)),'\\n')\n",
    "\n",
    "n=80\n",
    "print(n, compute_fib_number(n), compute_fib_number6(n), \n",
    "         100*np.abs((compute_fib_number(n) - \n",
    "                 compute_fib_number6(n))/compute_fib_number(n)))"
   ]
  },
  {
   "cell_type": "markdown",
   "metadata": {},
   "source": [
    "\n",
    "<div class=\"optional\">\n",
    "\n",
    "We can go to arbitrary precision if we make use of special libraries specifically for this job.\n",
    "    \n",
    "</div>"
   ]
  },
  {
   "cell_type": "code",
   "execution_count": 49,
   "metadata": {},
   "outputs": [
    {
     "name": "stdout",
     "output_type": "stream",
     "text": [
      "500 2521294125 2521294125 0.0 \n",
      "\n",
      "1000 795166849228875 795186298191872 4.4744658956153756e-197\n"
     ]
    }
   ],
   "source": [
    "import mpmath  # arbitrary precision math library - see http://mpmath.org/\n",
    "def compute_fib_number7(n):\n",
    "    mpmath.mp.dps = 200  # set Decimal Precision\n",
    "    if n==0: return 0\n",
    "    if n==1: return 1\n",
    "    Q = mpmath.matrix([[1, 1],[1, 0]])\n",
    "    lam, vecs = mpmath.eig(Q)\n",
    "    re_lam_power = [lami**(n-2) for lami in lam]\n",
    "    # note * means matrix multiply (like numpy matrix)\n",
    "    Q_power_n = vecs * mpmath.diag(re_lam_power) * mpmath.inverse(vecs)\n",
    "    return np.int(mpmath.nint(Q_power_n[0,0] + Q_power_n[0,1]))\n",
    "\n",
    "\n",
    "# just print the final digits:\n",
    "\n",
    "n=500\n",
    "print(n, str(compute_fib_number(n))[-10:], \n",
    "      str(compute_fib_number7(n))[-10:],  \n",
    "         100*np.abs((compute_fib_number(n) - \n",
    "                 compute_fib_number7(n))/compute_fib_number(n)),'\\n')\n",
    "\n",
    "n=1000\n",
    "print(n, str(compute_fib_number(n))[-15:], \n",
    "      str(compute_fib_number7(n))[-15:],  \n",
    "         100*np.abs((compute_fib_number(n) - \n",
    "                 compute_fib_number7(n))/compute_fib_number(n)))"
   ]
  },
  {
   "cell_type": "code",
   "execution_count": 50,
   "metadata": {},
   "outputs": [
    {
     "name": "stdout",
     "output_type": "stream",
     "text": [
      "True\n"
     ]
    }
   ],
   "source": [
    "# push the precision even further to show we can do the n=1000 case\n",
    "\n",
    "\n",
    "def compute_fib_number8(n):\n",
    "    mpmath.mp.dps = 500  # set Decimal Precision\n",
    "    if n==0: return 0\n",
    "    if n==1: return 1\n",
    "    Q = mpmath.matrix([[1, 1],[1, 0]])\n",
    "    lam, vecs = mpmath.eig(Q)\n",
    "    re_lam_power = [lami**(n-2) for lami in lam]\n",
    "    # note * means matrix multiply (like numpy matrix)\n",
    "    Q_power_n = vecs * mpmath.diag(re_lam_power) * mpmath.inverse(vecs)\n",
    "    return np.int(mpmath.nint(Q_power_n[0,0] + Q_power_n[0,1]))\n",
    "\n",
    "\n",
    "print(compute_fib_number8(1000) == truth)"
   ]
  },
  {
   "cell_type": "markdown",
   "metadata": {},
   "source": [
    "<div class=\"optional\">\n",
    "\n",
    "\n",
    "# Matrix norms [*]\n",
    "\n",
    "[*Matrix norms*](https://en.wikipedia.org/wiki/Matrix_norm)\n",
    "provide us with a measure for the size of matrices.\n",
    "\n",
    "For a matrix $A$ which for complete generality we will assume is of shape $m\\times n$, common choices are:\n",
    "\n",
    "\\begin{align*}\n",
    "\\|A\\|_F & = \\left(\\sum_{i=1}^m \\sum_{j=1}^n A_{ij}^2 \\right)^{1/2}, &&{\\text{the matrix Euclidean or Frobenius norm}}\\\\[5pt]\n",
    "\\|A\\|_{\\infty} & = \\max_{i=1}^m \\sum_{j=1}^n|A_{ij}|, &&{\\text{the maximum absolute row-sum norm}}\n",
    "\\\\[5pt]\n",
    "\\|A\\|_{1} & = \\max_{i=1}^n \\sum_{i=1}^m|A_{ij}|, &&{\\text{the maximum absolute column-sum norm}}\n",
    "\\\\[5pt]\n",
    "\\|A\\|_{2} & = \\sigma_{\\max}(A), &&{\\text{the spectral norm}}\n",
    "\\end{align*}\n",
    "\n",
    "</div>"
   ]
  },
  {
   "cell_type": "markdown",
   "metadata": {},
   "source": [
    "<div class=\"optional\">\n",
    "\n",
    "\n",
    "## Norm equivalence\n",
    "\n",
    "Note that while these norms give different results (in both the vector and matrix cases), they are consistent or equivalent in that they are always within a constant factor of one another (a result that is true for finite-dimensional or discrete problems as here). \n",
    "\n",
    "See [https://en.wikipedia.org/wiki/Matrix_norm#Equivalence_of_norms](https://en.wikipedia.org/wiki/Matrix_norm#Equivalence_of_norms).\n",
    "\n",
    "This means we don't really need to worry too much about which norm we're using, as long as we're consistent.\n",
    "\n",
    "Let's evaluate some examples.\n",
    "\n",
    "</div>"
   ]
  },
  {
   "cell_type": "code",
   "execution_count": 51,
   "metadata": {},
   "outputs": [
    {
     "name": "stdout",
     "output_type": "stream",
     "text": [
      "[[10.  2.  1.]\n",
      " [ 6.  5.  4.]\n",
      " [ 1.  4.  7.]]\n"
     ]
    }
   ],
   "source": [
    "# some matrix A\n",
    "A = np.array([[10., 2., 1.],[6., 5., 4.],[1., 4., 7.]])\n",
    "print(A)"
   ]
  },
  {
   "cell_type": "code",
   "execution_count": 52,
   "metadata": {},
   "outputs": [
    {
     "name": "stdout",
     "output_type": "stream",
     "text": [
      "15.748015748023622\n"
     ]
    }
   ],
   "source": [
    "print(sl.norm(A))"
   ]
  },
  {
   "cell_type": "code",
   "execution_count": 53,
   "metadata": {},
   "outputs": [
    {
     "name": "stdout",
     "output_type": "stream",
     "text": [
      "15.748015748023622\n"
     ]
    }
   ],
   "source": [
    "# the Frobenius norm - the default\n",
    "print(sl.norm(A,'fro'))"
   ]
  },
  {
   "cell_type": "code",
   "execution_count": 54,
   "metadata": {},
   "outputs": [
    {
     "name": "stdout",
     "output_type": "stream",
     "text": [
      "15.0\n"
     ]
    }
   ],
   "source": [
    "# the maximum absolute row-sum\n",
    "print(sl.norm(A,np.inf))"
   ]
  },
  {
   "cell_type": "code",
   "execution_count": 55,
   "metadata": {},
   "outputs": [
    {
     "name": "stdout",
     "output_type": "stream",
     "text": [
      "17.0\n"
     ]
    }
   ],
   "source": [
    "# the maximum absolute column-sum\n",
    "print(sl.norm(A,1))"
   ]
  },
  {
   "cell_type": "code",
   "execution_count": 56,
   "metadata": {},
   "outputs": [
    {
     "name": "stdout",
     "output_type": "stream",
     "text": [
      "13.793091098640064\n"
     ]
    }
   ],
   "source": [
    "# the two-norm - note not the same as the Frobenius norm - also termed the spectral norm\n",
    "print(sl.norm(A,2))"
   ]
  },
  {
   "cell_type": "markdown",
   "metadata": {},
   "source": [
    "<div class=\"optional\">\n",
    "\n",
    "\n",
    "The spectral norm is defined as the largest singular value of the matrix. \n",
    "\n",
    "The singular values are the square roots of the eigenvalues of the matrix $A^*A$, where $A^*$ is the conjugate transpose matrix.\n",
    "\n",
    "Conjugate (as in [complex conjugate](https://en.wikipedia.org/wiki/Complex_conjugate)) means swap the sign of the imaginary component of a complex number.\n",
    "\n",
    "So for a real matrix $A^* \\equiv A^T$.\n",
    "\n",
    "We can easily evaluate this in our own code.\n",
    "\n",
    "You will see more on singular values in the module  Optimisaton & Inversion.\n",
    "\n",
    "</div>"
   ]
  },
  {
   "cell_type": "code",
   "execution_count": 57,
   "metadata": {},
   "outputs": [
    {
     "name": "stdout",
     "output_type": "stream",
     "text": [
      "13.793091098640064\n"
     ]
    }
   ],
   "source": [
    "# which is defined as:\n",
    "print(np.sqrt(np.real((np.max(sl.eigvals( A.T @ A ))))))\n",
    "# eigvals returns only the eigenvalues, \n",
    "# whereas eig returns the e'vectors as well (which we don't need here)\n",
    "\n",
    "# Note that the e'vals of A.T@A are called the *singular values* of A"
   ]
  },
  {
   "cell_type": "markdown",
   "metadata": {},
   "source": [
    "<div class=\"optional\">\n",
    "\n",
    "\n",
    "## Implementing our own matrix norms\n",
    "\n",
    "We've already shown above that we can recreate the matrix two norm.\n",
    "\n",
    "Let's write some code to explicitly compute the two matrix norms defined mathematically above (i.e. the Frobenius and the maximum absolute row-sum norms) and compare against the values found above using in-built SciPy functions.\n",
    "\n",
    "</div>"
   ]
  },
  {
   "cell_type": "code",
   "execution_count": 58,
   "metadata": {},
   "outputs": [
    {
     "name": "stdout",
     "output_type": "stream",
     "text": [
      "Our frob function gives same results as SciPy:  True\n",
      "\n",
      "Our mars function gives same results as SciPy:  True\n"
     ]
    }
   ],
   "source": [
    "def frob(A):\n",
    "    \"\"\"Function to compute the matrix Frobenius norm.\n",
    "\n",
    "    Parameters\n",
    "    ----------\n",
    "    A : array_like\n",
    "        Matrix for which to compute the norm\n",
    "\n",
    "    Returns\n",
    "    -------\n",
    "    float\n",
    "        The Frobenius norm of matrix A\n",
    "    \"\"\"\n",
    "    m, n = A.shape\n",
    "    squsum = 0.\n",
    "    for i in range(m):\n",
    "        for j in range(n):\n",
    "            squsum += A[i, j]**2\n",
    "    return np.sqrt(squsum)\n",
    "\n",
    "\n",
    "def mars(A):\n",
    "    \"\"\"Function to compute the maximum absolute row-sum norm.\n",
    "\n",
    "    Parameters\n",
    "    ----------\n",
    "    A : array_like\n",
    "        Matrix for which to compute the norm\n",
    "\n",
    "    Returns\n",
    "    -------\n",
    "    maxarsum : float\n",
    "        The maximum absolute row-sum norm of matrix A\n",
    "    \"\"\"\n",
    "    m, n = A.shape\n",
    "    maxarsum = 0.\n",
    "    for i in range(m):\n",
    "        arsum = np.sum(np.abs(A[i]))\n",
    "        maxarsum = arsum if arsum > maxarsum else maxarsum\n",
    "    return maxarsum\n",
    "\n",
    "\n",
    "A = np.array([[10., 2., 1.],\n",
    "                 [6., 5., 4.],\n",
    "                 [1., 4., 7.]])\n",
    "\n",
    "\n",
    "print('Our frob function gives same results as SciPy: ', np.allclose(frob(A), sl.norm(A, 'fro')))\n",
    "\n",
    "print('\\nOur mars function gives same results as SciPy: ', np.allclose(mars(A), sl.norm(A, np.inf)))\n"
   ]
  },
  {
   "cell_type": "markdown",
   "metadata": {},
   "source": [
    "\n",
    "<div class=\"optional\">\n",
    "\n",
    "## Vector induced matrix norms\n",
    "\n",
    "Note that for any vector norm, we can derive a so-called *induced matrix norm*:\n",
    "\n",
    "$$\\|A\\| := \\max_{\\boldsymbol{x}\\ne 0}\\frac{\\|A\\boldsymbol{x}\\,\\|}{\\|\\boldsymbol{x}\\,\\|} = \\max_{\\|\\boldsymbol{x}\\,\\|=1}{\\|A\\boldsymbol{x}\\,\\|}$$\n",
    "\n",
    "The 1, 2 and $\\infty$ matrix norms are so-called as they are the norms induced by the corresponding vector norms.\n",
    "\n",
    "These relationships can all be proven, but let's check the two-norm geometrically (in the square matrix case).   \n",
    "\n",
    "Recall the following plot from the previous lecture:\n",
    "\n",
    "</div>"
   ]
  },
  {
   "cell_type": "code",
   "execution_count": 59,
   "metadata": {},
   "outputs": [
    {
     "data": {
      "image/png": "[encoded data removed]",
      "text/latex": [
       "$\\displaystyle \\left( -2.4417681887890703, \\  2.442280539208872, \\  -3.3253700137371256, \\  3.324817894974686\\right)$"
      ],
      "text/plain": [
       "(-2.4417681887890703, 2.442280539208872, -3.3253700137371256, 3.32481789497468\n",
       "6)"
      ]
     },
     "execution_count": 59,
     "metadata": {},
     "output_type": "execute_result"
    },
    {
     "data": {
      "image/png": "[encoded data removed]",
      "text/plain": [
       "<Figure size 576x576 with 1 Axes>"
      ]
     },
     "metadata": {
      "needs_background": "light"
     },
     "output_type": "display_data"
    }
   ],
   "source": [
    "fig = plt.figure(figsize=(8, 8))\n",
    "\n",
    "ax1 = fig.add_subplot(111)\n",
    "\n",
    "# construct points on a circle parametrically\n",
    "theta = np.linspace(0,2*np.pi,100)\n",
    "np.append(theta, 0) # add a zero at the end so we go back to the start in the plot\n",
    "\n",
    "# A 2xn array of points\n",
    "points = np.vstack( (np.cos(theta), np.sin(theta)) )\n",
    "\n",
    "ax1.set_xlabel(\"$x, x'$\", fontsize=14)\n",
    "ax1.set_ylabel(\"$y, y'$\", fontsize=14)\n",
    "ax1.grid(True)\n",
    "\n",
    "x = np.array([1,0])\n",
    "y = np.array([0,1])\n",
    "\n",
    "# plot the circle\n",
    "ax1.plot(points[0,:], points[1,:], color='blue')\n",
    "\n",
    "# plot some vectors\n",
    "ax1.quiver(x[0], x[1], angles='xy', scale_units='xy', scale=1, color='b', lw=2, zorder=10)\n",
    "ax1.quiver(y[0], y[1], angles='xy', scale_units='xy', scale=1, color='b', lw=2, zorder=10)\n",
    "\n",
    "A = np.array([[2.2,0.3],[1.7,2.5]])\n",
    "#A = np.array([[1.5,0.0],[0.0,1.]])\n",
    "\n",
    "xp = A@x\n",
    "yp = A@y\n",
    "pointsp = A@points\n",
    "\n",
    "# plot the transformed circle\n",
    "ax1.plot(pointsp[0,:], pointsp[1,:], color='red')\n",
    "\n",
    "# plot the transformed vectors\n",
    "ax1.quiver(xp[0], xp[1], angles='xy', scale_units='xy', scale=1, color='r', lw=2, zorder=10)\n",
    "ax1.quiver(yp[0], yp[1], angles='xy', scale_units='xy', scale=1, color='r', lw=2, zorder=10)\n",
    "\n",
    "# plot a subsect of vectors and how they transform\n",
    "for i, angle in enumerate(theta[::5]):  # don't use all the angles\n",
    "    ax1.plot([0,points[0,5*i]],[0,points[1,5*i]],'k')\n",
    "    ax1.plot([points[0,5*i],pointsp[0,5*i]],[points[1,5*i],pointsp[1,5*i]],'k')\n",
    "\n",
    "# compute and plot some special directions!\n",
    "lam, vecs = sl.eig(A)\n",
    "# plot the scaled eigenvectors\n",
    "ax1.plot([0,np.real(lam[0])*vecs[0,0]], [0,np.real(lam[0])*vecs[1,0]], color='g', lw=4, zorder=20)\n",
    "ax1.plot([0,np.real(lam[1])*vecs[0,1]], [0,np.real(lam[1])*vecs[1,1]], color='g', lw=4, zorder=20)\n",
    "\n",
    "ax1.axis('equal')\n"
   ]
  },
  {
   "cell_type": "markdown",
   "metadata": {},
   "source": [
    "<div class=\"optional\">\n",
    "\n",
    "\n",
    "This shows how the unit circle is mapped to an ellipse, i.e. how $\\boldsymbol{x}$ of unit length are mapped to new points $A\\boldsymbol{x}$.  \n",
    "\n",
    "So the two-norm of the matrix is the maximum stretching of a vector - it's the maximum distance from the origin of the obtained ellipse, i.e. the point on the ellipse in the direction of the semi-major axis.\n",
    "\n",
    "Now in the case of the symmetric matrix you might recall that this is just the largest eigenvalue.\n",
    "\n",
    "For the above example we're not symmetric so the distance from the origin in terms of the eigenvalues is not obvious.\n",
    "\n",
    "But recall our definition involving square roots of the eigenvalues of the matrix $A^* A$ - let's see what we have geometrically if we additionally multiply by $A^*$, which for this real case is just the transpose.\n",
    "\n",
    "</div>"
   ]
  },
  {
   "cell_type": "code",
   "execution_count": 60,
   "metadata": {},
   "outputs": [
    {
     "name": "stdout",
     "output_type": "stream",
     "text": [
      "black dot (left): [1.857779 2.922773]\n",
      "magenta dot (left): [-1.216     0.772917]\n",
      "sl.norm(A_,2), sl.norm(origin_p,2), sl.norm(p,2), np.sqrt(sl.norm(p,2)):  11.993943939993677 3.46322738785568 11.993943939993676 3.46322738785568\n"
     ]
    },
    {
     "data": {
      "image/png": "[encoded data removed]",
      "text/latex": [
       "$\\displaystyle \\left( -10, \\  10\\right)$"
      ],
      "text/plain": [
       "(-10, 10)"
      ]
     },
     "execution_count": 60,
     "metadata": {},
     "output_type": "execute_result"
    },
    {
     "data": {
      "image/png": "[encoded data removed]",
      "text/plain": [
       "<Figure size 1008x504 with 2 Axes>"
      ]
     },
     "metadata": {
      "needs_background": "light"
     },
     "output_type": "display_data"
    }
   ],
   "source": [
    "fig = plt.figure(figsize=(14, 7))\n",
    "\n",
    "ax1 = fig.add_subplot(121)\n",
    "\n",
    "# construct points on a circle parametrically\n",
    "theta = np.linspace(0,2*np.pi,100)\n",
    "np.append(theta, 0) # add a zero at the end so we go back to the start in the plot\n",
    "\n",
    "# A 2xn array of points\n",
    "points = np.vstack( (np.cos(theta), np.sin(theta)) )\n",
    "\n",
    "ax1.set_xlabel(\"$x, x'$\", fontsize=14)\n",
    "ax1.set_ylabel(\"$y, y'$\", fontsize=14)\n",
    "ax1.set_title('$A$', fontsize=14)\n",
    "ax1.grid(True)\n",
    "\n",
    "x = np.array([1,0])\n",
    "y = np.array([0,1])\n",
    "\n",
    "# plot the circle\n",
    "ax1.plot(points[0,:], points[1,:], color='blue')\n",
    "\n",
    "A = np.array([[2.2,0.3],[1.7,2.5]])\n",
    " \n",
    "xp = A@x\n",
    "yp = A@y\n",
    "pointsp = A@points\n",
    "\n",
    "# plot the transformed circle\n",
    "ax1.plot(pointsp[0,:], pointsp[1,:], color='red')\n",
    "\n",
    "# compute and plot some special directions!\n",
    "lam, vecs = sl.eig(A)\n",
    "# plot the scaled eigenvectors\n",
    "ax1.plot([0,np.real(lam[0])*vecs[0,0]], [0,np.real(lam[0])*vecs[1,0]], color='g', lw=4, zorder=20)\n",
    "ax1.plot([0,np.real(lam[1])*vecs[0,1]], [0,np.real(lam[1])*vecs[1,1]], color='g', lw=4, zorder=20)\n",
    "\n",
    "ax1.set_xlim(-10,10)\n",
    "ax1.set_ylim(-10,10)\n",
    "#ax1.axis('equal')\n",
    "####################################\n",
    "ax2 = fig.add_subplot(122)\n",
    "\n",
    "ax2.set_xlabel(\"$x, x'$\", fontsize=14)\n",
    "ax2.set_ylabel(\"$y, y'$\", fontsize=14)\n",
    "ax2.set_title('$A^TA$', fontsize=14)\n",
    "ax2.grid(True)\n",
    "\n",
    "# plot the circle\n",
    "ax2.plot(points[0,:], points[1,:], color='blue')\n",
    "\n",
    "A_ = A.T @ A\n",
    "\n",
    "xp = A_@x\n",
    "yp = A_@y\n",
    "pointsp = A_@points\n",
    "\n",
    "# plot the transformed circle\n",
    "ax2.plot(pointsp[0,:], pointsp[1,:], color='red')\n",
    "\n",
    "# compute and plot some special directions!\n",
    "lam, vecs = sl.eig(A_)\n",
    "# plot the scaled eigenvectors\n",
    "ax2.plot([0,np.real(lam[0])*vecs[0,0]], [0,np.real(lam[0])*vecs[1,0]], color='g', lw=4, zorder=20)\n",
    "ax2.plot([0,np.real(lam[1])*vecs[0,1]], [0,np.real(lam[1])*vecs[1,1]], color='g', lw=4, zorder=20)\n",
    "\n",
    "# plot a point at maximum distance in the right image\n",
    "p = np.array([np.real(lam[0])*vecs[0,0], np.real(lam[0])*vecs[1,0]])\n",
    "ax2.plot(p[0], p[1], 'ko', lw=4, zorder=30)\n",
    "\n",
    "# and min distance\n",
    "p2 = np.array([np.real(lam[1])*vecs[0,1], np.real(lam[1])*vecs[1,1]])\n",
    "ax2.plot(p2[0], p2[1], 'mo', lw=4, zorder=30)\n",
    "\n",
    "# plot where it came from on left\n",
    "origin_p = sl.inv(A.T)@p\n",
    "ax1.plot(origin_p[0], origin_p[1], 'ko', lw=4, zorder=30)\n",
    "\n",
    "origin_p2 = sl.inv(A.T)@p2\n",
    "ax1.plot(origin_p2[0], origin_p2[1], 'mo', lw=4, zorder=30)\n",
    "\n",
    "print('black dot (left):', origin_p)\n",
    "print('magenta dot (left):', origin_p2)\n",
    "\n",
    "\n",
    "print('sl.norm(A_,2), sl.norm(origin_p,2), sl.norm(p,2), np.sqrt(sl.norm(p,2)): ',\n",
    "      sl.norm(A_,2), sl.norm(origin_p,2), sl.norm(p,2), np.sqrt(sl.norm(p,2)))\n",
    "\n",
    "ax1.set_xlim(-10,10)\n",
    "ax2.set_ylim(-10,10)\n",
    "#ax1.axis('equal')"
   ]
  },
  {
   "cell_type": "markdown",
   "metadata": {},
   "source": [
    "<div class=\"optional\">\n",
    "\n",
    "\n",
    "The black dot on the left indicates the maximum stretching - its distance from the origin is the two-norm of this matrix.\n",
    "\n",
    "What is this distance - the green vectors on the left (the e'vecs scales by the e'vals of $A$) show that this isn't obviously linked to the eigenvalues/vectors of $A$.\n",
    "\n",
    "Let's multiply the red ellipse and the black/magenta dot locations through by $A^*$.\n",
    "\n",
    "The black dots distance from the origin has been squared, but now (as we might have guessed as $A^*A$ is symmetric, this distance does now correspond to the maximum eigenvalue of this new matrix, which we conclude by seeing the eigenvector pointing in this direction.\n",
    "\n",
    "Hence we conclude that the black dot on the left is a distance from the origin equal to the square root of the maximum eigenvalue of $A^*A$, and this is equal to the two-norm of the matrix - let's compute these three things to confirm this:\n",
    "\n",
    "</div>"
   ]
  },
  {
   "cell_type": "code",
   "execution_count": 61,
   "metadata": {},
   "outputs": [
    {
     "name": "stdout",
     "output_type": "stream",
     "text": [
      "3.46322738785568\n",
      "3.4632273878556803\n",
      "3.46322738785568\n"
     ]
    }
   ],
   "source": [
    "A = np.array([[2.2,0.3],[1.7,2.5]])\n",
    "# two norm of matrix\n",
    "print(sl.norm(A,2))\n",
    "# square root of the max e'val of A^T A - symmetric so we know e'vals are real\n",
    "print(np.sqrt(np.real((np.max(sl.eigvals( A.T @ A ))))))\n",
    "# the distance of the black dot from origin in the left figure\n",
    "print(sl.norm(origin_p,2)) # this is the vector norm"
   ]
  },
  {
   "cell_type": "markdown",
   "metadata": {},
   "source": [
    "<div class=\"optional\">\n",
    "\n",
    "\n",
    "The magenta dots are the minimum distance. By the same logic the minimum distance on the left is the square root of the minimum eigenvalue of $A^*A$.  Let's check this:\n",
    "\n",
    "</div>"
   ]
  },
  {
   "cell_type": "code",
   "execution_count": 62,
   "metadata": {},
   "outputs": [
    {
     "name": "stdout",
     "output_type": "stream",
     "text": [
      "1.4408525462400117\n",
      "1.4408525462400115\n"
     ]
    }
   ],
   "source": [
    "print(sl.norm(origin_p2,2))\n",
    "print(np.sqrt(np.real((np.min(sl.eigvals( A.T @ A ))))))"
   ]
  },
  {
   "cell_type": "markdown",
   "metadata": {},
   "source": [
    "<div class=\"optional\">\n",
    "\n",
    "\n",
    "But this is just one over the two-norm of the inverse matrix:\n",
    "\n",
    "</div>"
   ]
  },
  {
   "cell_type": "code",
   "execution_count": 63,
   "metadata": {},
   "outputs": [
    {
     "name": "stdout",
     "output_type": "stream",
     "text": [
      "1.4408525462400115\n",
      "1.4408525462400117\n"
     ]
    }
   ],
   "source": [
    "invA = sl.inv(A)\n",
    "print(1./sl.norm(invA,2))\n",
    "print(1./np.sqrt(np.real((np.max(sl.eigvals( invA.T @ invA ))))))"
   ]
  },
  {
   "cell_type": "markdown",
   "metadata": {},
   "source": [
    "<div class=\"optional\">\n",
    "\n",
    "\n",
    "## The condition number\n",
    "\n",
    "A measure of the distortion of the ellipse is the distance of the back dot from the origin divided by the distance of the magenta dot from the origin, which would be one if matrix multiplication mapped us to a circle but increasingly larger than one the more distorted the ellipse generated by the mapping.\n",
    "\n",
    "For our example:\n",
    "\n",
    "</div>"
   ]
  },
  {
   "cell_type": "code",
   "execution_count": 64,
   "metadata": {},
   "outputs": [
    {
     "name": "stdout",
     "output_type": "stream",
     "text": [
      "2.403595979958652\n"
     ]
    }
   ],
   "source": [
    "print(sl.norm(origin_p,2) / sl.norm(origin_p2,2))"
   ]
  },
  {
   "cell_type": "markdown",
   "metadata": {},
   "source": [
    "<div class=\"optional\">\n",
    "\n",
    "Which based on the above is equal to the ratio of the maximum to minimum singular values which is defined as the square root of the ratio of the maximum to minimum e/vals of $A^*A$, which is the square root of the product the maximum e/val of $A^*A$ and the maximum e/val of $(A^{-1})^*A^{-1}$, which is the product of the two-norms of $A$ and $A^{-1}$:\n",
    "\n",
    "</div>"
   ]
  },
  {
   "cell_type": "code",
   "execution_count": 65,
   "metadata": {},
   "outputs": [
    {
     "name": "stdout",
     "output_type": "stream",
     "text": [
      "2.4035959799586526\n",
      "2.403595979958652\n",
      "2.403595979958652\n"
     ]
    }
   ],
   "source": [
    "print(np.sqrt(np.real((np.max(sl.eigvals( A.T @ A ))))) / np.sqrt(np.real((np.min(sl.eigvals( A.T @ A ))))))\n",
    "print(np.sqrt(np.real((np.max(sl.eigvals( A.T @ A ))))) * np.sqrt(np.real((np.max(sl.eigvals( invA.T @ invA ))))))\n",
    "print(sl.norm(A,2)*sl.norm(sl.inv(A),2))"
   ]
  },
  {
   "cell_type": "markdown",
   "metadata": {},
   "source": [
    "<div class=\"optional\">\n",
    "\n",
    "which is a thing we call the *condition number*:\n",
    "\n",
    "$$\\textrm{cond}(A) = \\|A\\|\\|A^{-1}\\|$$\n",
    "\n",
    "Let's check the NumPy method to compute this for the matrix $A$ agrees with our calculation above.\n",
    "\n",
    "</div>"
   ]
  },
  {
   "cell_type": "code",
   "execution_count": 66,
   "metadata": {},
   "outputs": [
    {
     "name": "stdout",
     "output_type": "stream",
     "text": [
      "2.4035959799586526\n",
      "2.403595979958652\n"
     ]
    }
   ],
   "source": [
    "print(np.linalg.cond(A))\n",
    "print(sl.norm(A,2)*sl.norm(sl.inv(A),2))"
   ]
  },
  {
   "cell_type": "markdown",
   "metadata": {},
   "source": [
    "<div class=\"optional\">\n",
    "\n",
    "\n",
    "Note that it was the matrix two-norm that gave the correct answer for the distortion of the ellipse.  This is the case when it is the vector two-norm (i.e. usual Euclidean distance) that we use for measuring the distance of points (as is normal and as we did above and below).\n",
    "\n",
    "</div>"
   ]
  },
  {
   "cell_type": "markdown",
   "metadata": {},
   "source": [
    "<div class=\"optional\">\n",
    "\n",
    "\n",
    "# Ill-conditioned matrices [*]\n",
    "\n",
    "When we started talking about matrices we noted that as long as the matrix is non-singular, i.e. $\\det(A)\\ne 0$, then an inverse exists, and a linear system with that $A$ has a unique solution. We left it at that. \n",
    "\n",
    "What we can do now is think about the situation where the determinant is *non-zero but small*.\n",
    "\n",
    "Well smallness is a relative term and so we need to ask the question of how large or small $\\det(A)$ is compared to something. \n",
    "\n",
    "The condition number\n",
    "\n",
    "$$\\textrm{cond}(A) = \\|A\\|\\|A^{-1}\\|$$\n",
    "\n",
    "gives us a measure for the singularity of the matrix that *is relative*.\n",
    "\n",
    "If this is close to one then $A$ is termed well-conditioned; the value increases with the degree of ill-conditioning, reaching infinity for a singular matrix.\n",
    "\n",
    "For large matrices the condition number is expensive to compute (as computing eigenvalues is expensive). In practice it is possible to use the relative size of the determinant of the matrix to the magnitude of the entries of the matrix to estimate the conditioning.\n",
    "\n",
    "</div>"
   ]
  },
  {
   "cell_type": "markdown",
   "metadata": {},
   "source": [
    "<div class=\"optional\">\n",
    "\n",
    "\n",
    "Based on the example above, we've seen that the higher the condition number the more distorted this ellipse is,\n",
    "\n",
    "or thought of in another important way, higher condition numbers (more singular matrices) have the potential to mean that  perturbations in either the entries of the matrix $A$ or the RHS vector $\\boldsymbol{b}$ can result in larger perturbations in the solution to the linear system:\n",
    "\n",
    "$$A(\\boldsymbol{x}+\\delta \\boldsymbol{x}) = \\boldsymbol{b} + \\delta \\boldsymbol{b}, \\qquad (A+\\delta A) (\\boldsymbol{x}+\\delta \\boldsymbol{x}) = \\boldsymbol{b}$$\n",
    "\n",
    "For the first we are concerned with how perturbations to the RHS map to perturbations in the solution.\n",
    "\n",
    "In the second we are concerned with how perturbations to the matrix map to perturbations in the solution.\n",
    "\n",
    "These are both important considerations as errors could creep into the entries of $A$ and/or $\\boldsymbol{b}$, e.g. small round-off errors could be introduced as the entries are computed from some underlying discretisation, or perhaps measurement errors if the entries are dependent on real world observations.\n",
    "\n",
    "Again, we are interested in the *relative* size of perturbations, e.g. for the first perturbation case above we want to know how $ {\\|\\delta \\boldsymbol{x}\\|} / {\\|\\boldsymbol{x}\\|}$ relates to ${\\|\\delta \\boldsymbol{b}\\|} / {\\|\\boldsymbol{b}\\|} $. It turns out that it is exactly the condition number that describes (or rather gives a suitable bound on) this:\n",
    "\n",
    "\n",
    "$$\\frac{\\|\\delta \\boldsymbol{x}\\|}{\\|\\boldsymbol{x}\\|}  \n",
    "\\leq \\text{cond}(A)  \n",
    "\\frac{\\|\\delta \\boldsymbol{b}\\|}{\\|\\boldsymbol{b}\\|}$$\n",
    "\n",
    "with a similar bound possible for the case where it's the entries of the matrix that are perturbed.\n",
    "\n",
    "Essentially what we have is an ability to relate potential (i.e. worst case) errors in the output of a solver to errors in the inputs:\n",
    "\n",
    "$$ \\text{condition number} \\sim \\frac{ \\text{relative error of output} }{ \\text{relative error of input} }, $$\n",
    "\n",
    "in words, the condition number tells us about the sensitivity of the outputs of an algorithm to perturbations of the inputs\n",
    "\n",
    "$$ \\text{relative error of output}  \\sim  \\text{condition number} \\times  \\text{relative error of input}. $$\n",
    "\n",
    "</div>"
   ]
  },
  {
   "cell_type": "markdown",
   "metadata": {},
   "source": [
    "<div class=\"optional\">\n",
    "\n",
    "\n",
    "## An Example\n",
    "\n",
    "We know that a singular matrix does not result in a unique solution to its corresponding linear matrix system. But what are the consequences of near-singularity (ill-conditioning)?\n",
    "\n",
    "Consider the following example\n",
    "\n",
    "\n",
    "$$\n",
    "\\left(\n",
    "  \\begin{array}{cc}\n",
    "    2 & 1 \\\\\n",
    "    2 & 1 + \\epsilon  \\\\\n",
    "  \\end{array}\n",
    "\\right)\\left(\n",
    "  \\begin{array}{c}\n",
    "    x \\\\\n",
    "    y \\\\\n",
    "  \\end{array}\n",
    "\\right) = \\left(\n",
    "  \\begin{array}{c}\n",
    "    3 \\\\\n",
    "    0 \\\\\n",
    "  \\end{array}\n",
    "\\right)\n",
    "$$\n",
    "\n",
    "Clearly when $\\epsilon=0$ the two columns/rows are not linear independent, and hence the determinant of this matrix is zero, the condition number is infinite, and the linear system does not have a solution (as the two equations would be telling us the contradictory information that $2x+y$ is equal to 3 and is also equal to 0).\n",
    "\n",
    "Consider a range of small values for $\\epsilon$ and calculate the matrix determinant, the condition number and the solution to the system.\n",
    "\n",
    "</div>"
   ]
  },
  {
   "cell_type": "code",
   "execution_count": 67,
   "metadata": {},
   "outputs": [
    {
     "name": "stdout",
     "output_type": "stream",
     "text": [
      "det of A is 0.0 thus it is singular\n",
      "0.0009999999999998899 0.0019999999999997797 5001.000300040541 [ 1501.5 -3000. ]\n",
      "0.0019999999999997797 0.0039999999999995595 2501.0006001602164 [  751.5 -1500. ]\n",
      "0.0029999999999996696 0.005999999999999339 1667.6675670268792 [  501.5 -1000. ]\n"
     ]
    }
   ],
   "source": [
    "A = np.array([[2.,1.],\n",
    "              [2.,1.]])\n",
    "b = np.array([3.,0.])\n",
    "\n",
    "print('det of A is', sl.det(A), 'thus it is singular')\n",
    "\n",
    "#adding small pertubation to one entry of A\n",
    "for i in range(3):\n",
    "    A[1,1] += 0.001\n",
    "    print(A[1,1]-1, sl.det(A), np.linalg.cond(A),  sl.inv(A) @ b )"
   ]
  },
  {
   "cell_type": "markdown",
   "metadata": {},
   "source": [
    "<div class=\"optional\">\n",
    "\n",
    "\n",
    "We find that for $\\;\\epsilon=0.001$,  $\\;\\;\\det(A)=0.002\\;\\;$ (i.e. quite a lot smaller than the coefficients in the matrix) and $\\textrm{cond}(A)\\approx 5000$.\n",
    "\n",
    "In this case we compute the solution as $\\boldsymbol{x}=(1501.5,-3000.)^T$.\n",
    "\n",
    "But notice what happens when we make a very small change to the coefficients of the matrix (e.g. set $\\epsilon=0.002$ - i.e. a relatively small perturbation compared to the size of the matrix).\n",
    "\n",
    "This change of just $0.1\\%$ in one of the coefficients of the matrix results in a $100\\%$ change in both components of the solution!\n",
    "\n",
    "\n",
    "Similar to how we considered things geometrically previously, let's plot what the mapping of the circle under multiplication by the matrix looks like for this problem.\n",
    "\n",
    "</div>"
   ]
  },
  {
   "cell_type": "code",
   "execution_count": 68,
   "metadata": {},
   "outputs": [
    {
     "data": {
      "image/png": "[encoded data removed]",
      "text/plain": [
       "<Figure size 1152x288 with 4 Axes>"
      ]
     },
     "metadata": {
      "needs_background": "light"
     },
     "output_type": "display_data"
    }
   ],
   "source": [
    "A = np.array([[2.,1.],[2.,1.]])\n",
    "\n",
    "n_figs = 4\n",
    "\n",
    "# construct points on a circle parametrically\n",
    "theta = np.linspace(0,2*np.pi,100)\n",
    "np.append(theta, 0) # add a zero at the end so we go back to the start in the plot\n",
    "\n",
    "# A 2xn array of points\n",
    "points = np.vstack( (np.cos(theta), np.sin(theta)) )\n",
    "\n",
    "x = np.array([1,0])\n",
    "y = np.array([0,1])\n",
    "\n",
    "fig, axs = plt.subplots(1, n_figs, figsize=(4*n_figs, 4))\n",
    "for i in range(n_figs):\n",
    "    eps = i*0.1\n",
    "    A[1,1] = 1 + eps\n",
    "    axs[i].set_xlabel(\"$x$\", fontsize=14)\n",
    "    axs[i].set_ylabel(\"$y$\", fontsize=14)\n",
    "    axs[i].set_title('eps={0:.1f}, det={1:.1e}, cond={2:.1e}'.format(eps, sl.det(A), np.linalg.cond(A)), fontsize=10)\n",
    "    axs[i].grid(True)\n",
    "    # plot the circle\n",
    "    axs[i].plot(points[0,:], points[1,:], color='blue')\n",
    "    # transform the circle\n",
    "    xp = A@x\n",
    "    yp = A@y\n",
    "    pointsp = A@points\n",
    "    # plot the transformed circle\n",
    "    axs[i].plot(pointsp[0,:], pointsp[1,:], color='red')"
   ]
  },
  {
   "cell_type": "markdown",
   "metadata": {},
   "source": [
    "<div class=\"optional\">\n",
    "\n",
    "\n",
    "The first case is singular, and the mapped shape in red is just a line, while it's an ellipse of decreasing distortion as we increase the perturbation size - i.e. as we move away from a singular matrix.\n",
    "\n",
    "If you look closely you will see that the ellipse not only changes its distortion, it also rotates a little bit. So there are more subtle things going on here than just the ellipse becoming less distorted.\n",
    "\n",
    "</div>"
   ]
  },
  {
   "cell_type": "markdown",
   "metadata": {},
   "source": [
    "<div class=\"optional\">\n",
    "\n",
    "\n",
    "Like the example in the previous section, let's compute the extreme magenta and black points for this example.\n",
    "\n",
    "</div>"
   ]
  },
  {
   "cell_type": "code",
   "execution_count": 69,
   "metadata": {},
   "outputs": [
    {
     "name": "stdout",
     "output_type": "stream",
     "text": [
      "black dot - origin_p: [2.235621 2.282122]\n",
      "magenta dot - origin_p2: [-0.044721  0.04381 ]\n"
     ]
    },
    {
     "data": {
      "image/png": "[encoded data removed]",
      "text/latex": [
       "$\\displaystyle \\left( -4, \\  4\\right)$"
      ],
      "text/plain": [
       "(-4, 4)"
      ]
     },
     "execution_count": 69,
     "metadata": {},
     "output_type": "execute_result"
    },
    {
     "data": {
      "image/png": "[encoded data removed]",
      "text/plain": [
       "<Figure size 504x504 with 1 Axes>"
      ]
     },
     "metadata": {
      "needs_background": "light"
     },
     "output_type": "display_data"
    }
   ],
   "source": [
    "A = np.array([[2.,1.],[2.,1. + 0.1]])\n",
    "\n",
    "A_ = A.T @ A\n",
    "\n",
    "lam, vecs = sl.eig(A_)\n",
    "\n",
    "# a point at maximum distance \n",
    "p = np.array([np.real(lam[0])*vecs[0,0], np.real(lam[0])*vecs[1,0]])\n",
    "\n",
    "# and min distance\n",
    "p2 = np.array([np.real(lam[1])*vecs[0,1], np.real(lam[1])*vecs[1,1]])\n",
    "\n",
    "# where these came from on left\n",
    "origin_p = sl.inv(A.T)@p\n",
    "origin_p2 = sl.inv(A.T)@p2\n",
    "\n",
    "print('black dot - origin_p:', origin_p)\n",
    "print('magenta dot - origin_p2:', origin_p2)\n",
    "\n",
    "fig = plt.figure(figsize=(7, 7))\n",
    "ax1 = fig.add_subplot(111)\n",
    "\n",
    "# construct points on a circle parametrically\n",
    "theta = np.linspace(0,2*np.pi,100)\n",
    "np.append(theta, 0) # add a zero at the end so we go back to the start in the plot\n",
    "\n",
    "# A 2xn array of points\n",
    "points = np.vstack( (np.cos(theta), np.sin(theta)) )\n",
    "\n",
    "ax1.set_xlabel(\"$x, x'$\", fontsize=14)\n",
    "ax1.set_ylabel(\"$y, y'$\", fontsize=14)\n",
    "ax1.set_title('Linear transformation', fontsize=14)\n",
    "ax1.grid(True)\n",
    "\n",
    "x = np.array([1,0])\n",
    "y = np.array([0,1])\n",
    "\n",
    "# plot the circle\n",
    "ax1.plot(points[0,:], points[1,:], color='blue')\n",
    "\n",
    "xp = A@x\n",
    "yp = A@y\n",
    "pointsp = A@points\n",
    "\n",
    "# plot the transformed circle\n",
    "ax1.plot(pointsp[0,:], pointsp[1,:], color='red')\n",
    "\n",
    "# add the extreme points\n",
    "ax1.plot(origin_p[0], origin_p[1], 'ko', lw=4, zorder=30)\n",
    "ax1.plot(origin_p2[0], origin_p2[1], 'mo', lw=4, zorder=30)\n",
    "\n",
    "ax1.set_xlim(-4,4)\n",
    "ax1.set_ylim(-4,4)"
   ]
  },
  {
   "cell_type": "markdown",
   "metadata": {},
   "source": [
    "<div class=\"optional\">\n",
    " \n",
    " \n",
    " Let's fix the RHS $\\boldsymbol{b}$, perturb the matrix by eps as above, and see how the solution $x$ changes:\n",
    " \n",
    " </div>"
   ]
  },
  {
   "cell_type": "code",
   "execution_count": 70,
   "metadata": {},
   "outputs": [
    {
     "name": "stdout",
     "output_type": "stream",
     "text": [
      "[0.885304 0.465012]\n",
      "[1.001557 0.232506]\n",
      "Rel error in A's:  0.03130188557682524\n",
      "Rel error in x's:  0.2599498776103063\n",
      "Ratio of these (x's over A's):  8.304607624109506\n",
      "51.0304038391865\n"
     ]
    }
   ],
   "source": [
    "# eps = 0.1\n",
    "A1 = np.array([[2.,1.],[2.,1. + 0.1]])\n",
    "b1 = origin_p\n",
    "\n",
    "# Perturn one of the entries of A by eps = 0.2\n",
    "A2 = np.copy(A1)\n",
    "A2[1,1] = 1+0.2\n",
    "\n",
    "# compute solution to the linear system in original ..\n",
    "x1 = sl.inv(A1)@b1\n",
    "print(x1)\n",
    "\n",
    "# and perturbed form\n",
    "x2 = sl.inv(A2)@b1\n",
    "print(x2)\n",
    "\n",
    "print(\"Rel error in A's: \", (sl.norm(A2 - A1,2)/sl.norm(A1,2)))\n",
    "print(\"Rel error in x's: \", (sl.norm(x1 - x2)/sl.norm(x1)))\n",
    "print(\"Ratio of these (x's over A's): \",(sl.norm(x1 - x2)/sl.norm(x1)) /  (sl.norm(A2 - A1,2)/sl.norm(A1,2)))\n",
    "print(np.linalg.cond(A))"
   ]
  },
  {
   "cell_type": "markdown",
   "metadata": {},
   "source": [
    "<div class=\"optional\">\n",
    "\n",
    "So the condition number does indeed give us a **bound** on how the relative change in the $\\boldsymbol{x}$'s depends on the relative change in $A$.\n",
    "\n",
    "Now let's see what happens if we fix $A$ and perturb the RHS:\n",
    "\n",
    "</div>"
   ]
  },
  {
   "cell_type": "code",
   "execution_count": 71,
   "metadata": {},
   "outputs": [
    {
     "name": "stdout",
     "output_type": "stream",
     "text": [
      "[0.885304 0.465012]\n",
      "[0.838803 0.553543]\n",
      "Rel error in b's:  0.001959616081329328\n",
      "Rel error in x's:  0.10000000000000077\n",
      "Ratio of these (x's over b's):  51.03040383918702\n",
      "51.0304038391865\n"
     ]
    }
   ],
   "source": [
    "A = np.array([[2.,1.],[2.,1. + 0.1]])\n",
    "\n",
    "# let's start from the black dot location\n",
    "b1 = origin_p\n",
    "# and perturb a little in the magenta dot direction\n",
    "b2 = b1 + 0.1*origin_p2\n",
    "\n",
    "x1 = sl.inv(A)@b1\n",
    "print(x1)\n",
    "\n",
    "x2 = sl.inv(A)@b2\n",
    "print(x2)\n",
    "\n",
    "print(\"Rel error in b's: \", (sl.norm(b1 - b2)/sl.norm(b1)))\n",
    "print(\"Rel error in x's: \", (sl.norm(x1 - x2)/sl.norm(x1)))\n",
    "print(\"Ratio of these (x's over b's): \",(sl.norm(x1 - x2)/sl.norm(x1)) /  (sl.norm(b1 - b2)/sl.norm(b1)))\n",
    "print(np.linalg.cond(A))"
   ]
  },
  {
   "cell_type": "markdown",
   "metadata": {},
   "source": [
    "<div class=\"optional\">\n",
    "\n",
    "\n",
    "So in this case due to our choice of $\\boldsymbol{b}$ and perturbation direction, the condition number actually gives a very tight bound on how the relative perturbation to $\\boldsymbol{x}$ depends on the relative perturbation to $\\boldsymbol{b}$.\n",
    "\n",
    "Let's plot this:\n",
    "\n",
    "</div>"
   ]
  },
  {
   "cell_type": "code",
   "execution_count": 72,
   "metadata": {},
   "outputs": [
    {
     "name": "stdout",
     "output_type": "stream",
     "text": [
      "(sl.norm(x1 - x2)/sl.norm(x1)) /  (sl.norm(b1 - b2)/sl.norm(b1))):  51.03040383918702\n",
      "np.linalg.cond(A) : 51.0304038391865\n"
     ]
    },
    {
     "data": {
      "image/png": "[encoded data removed]",
      "text/plain": [
       "<Figure size 432x432 with 1 Axes>"
      ]
     },
     "metadata": {
      "needs_background": "light"
     },
     "output_type": "display_data"
    }
   ],
   "source": [
    "A = np.array([[2.,1.],[2.,1. + 0.1]])\n",
    "b = origin_p\n",
    "pert = origin_p2\n",
    "\n",
    "fig = plt.figure(figsize=(6, 6))\n",
    "\n",
    "ax1 = fig.add_subplot(111)\n",
    "\n",
    "for i in range(5):\n",
    "    b_ = b + i*0.1*pert\n",
    "    ax1.plot( b_[0], b_[1], 'r.')\n",
    "    x_ = sl.inv(A)@b_\n",
    "    ax1.plot( x_[0], x_[1], 'bo')\n",
    "\n",
    "ax1.axis('equal')\n",
    "\n",
    "b1 = b\n",
    "x1 = sl.inv(A)@b1\n",
    "b2 = b + 0.1*pert\n",
    "x2 = sl.inv(A)@b2\n",
    "print(\"(sl.norm(x1 - x2)/sl.norm(x1)) /  (sl.norm(b1 - b2)/sl.norm(b1))): \",(sl.norm(x1 - x2)/sl.norm(x1)) /  (sl.norm(b1 - b2)/sl.norm(b1)))\n",
    "print(\"np.linalg.cond(A) :\", np.linalg.cond(A))"
   ]
  },
  {
   "cell_type": "markdown",
   "metadata": {},
   "source": [
    "<div class=\"optional\">\n",
    "\n",
    "\n",
    "The five red dots are a series of perturbed RHS vectors, the blue dots are the corresponding solutions to the linear system - small errors lead to large consequences in this example!\n",
    "\n",
    "There's more on this in the homework.\n",
    "\n",
    "We'll also see some examples of larger matrices, where we'll see that increasing the matrix size leads to a larger condition number.\n",
    "\n",
    "</div>"
   ]
  },
  {
   "cell_type": "markdown",
   "metadata": {},
   "source": [
    "# Algorithm stability\n",
    "\n",
    "The susceptibility for a numerical algorithm to dampen (inevitable) errors, rather than to magnify them as we have seen in examples above, is termed *stability*.  \n",
    "\n",
    "This is a concern for numerical linear algebra as steps in an iterative algorithm could introduce errors into the matrix or the RHS, \n",
    "\n",
    "as well as for the numerical solution of differential equations as we will see later in the course.  \n",
    "\n",
    "In that latter case we don't want small errors to grow and accumulate as we propagate the solution to an ODE or PDE forward in time for example.\n",
    "\n",
    "If your algorithm is not inherently stable, or has other limitation, you need to understand and appreciate this, as it can cause catastrophic failures! \n"
   ]
  },
  {
   "cell_type": "markdown",
   "metadata": {},
   "source": [
    "# Summary\n",
    "\n",
    "This lecture has covered what it means for a model to be right, how we can establish this rigorously, and how things can go wrong.\n",
    "\n",
    "We have covered formal verification, validation and error estimation processes, and explained the powerful approach offered via the method of manufactured solutions.\n",
    "\n",
    "We touched on how small inevitable errors can, for some problems, have disastrous consequences."
   ]
  }
 ],
 "metadata": {
  "celltoolbar": "Slideshow",
  "kernelspec": {
   "display_name": "Python 3",
   "language": "python",
   "name": "python3"
  },
  "language_info": {
   "codemirror_mode": {
    "name": "ipython",
    "version": 3
   },
   "file_extension": ".py",
   "mimetype": "text/x-python",
   "name": "python",
   "nbconvert_exporter": "python",
   "pygments_lexer": "ipython3",
   "version": "3.8.5"
  },
  "latex_envs": {
   "LaTeX_envs_menu_present": true,
   "autoclose": true,
   "autocomplete": true,
   "bibliofile": "biblio.bib",
   "cite_by": "apalike",
   "current_citInitial": 1,
   "eqLabelWithNumbers": true,
   "eqNumInitial": 1,
   "hotkeys": {
    "equation": "Ctrl-E",
    "itemize": "Ctrl-I"
   },
   "labels_anchors": false,
   "latex_user_defs": false,
   "report_style_numbering": false,
   "user_envs_cfg": true
  },
  "toc": {
   "base_numbering": 1,
   "nav_menu": {},
   "number_sections": true,
   "sideBar": true,
   "skip_h1_title": false,
   "title_cell": "Table of Contents",
   "title_sidebar": "Contents",
   "toc_cell": true,
   "toc_position": {},
   "toc_section_display": true,
   "toc_window_display": false
  }
 },
 "nbformat": 4,
 "nbformat_minor": 1
}
