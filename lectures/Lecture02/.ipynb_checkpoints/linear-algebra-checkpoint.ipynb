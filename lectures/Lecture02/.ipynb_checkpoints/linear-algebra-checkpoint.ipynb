{
 "cells": [
  {
   "cell_type": "markdown",
   "metadata": {},
   "source": [
    "# ACSE-2  <a class=\"tocSkip\">\n",
    "\n",
    "## Linear Algebra (part introduction/reminder/revision depending on your background)  <a class=\"tocSkip\">"
   ]
  },
  {
   "cell_type": "markdown",
   "metadata": {},
   "source": [
    "## Learning objectives  <a class=\"tocSkip\">\n",
    "   \n",
    "   \n",
    "1. Hopefully for most of you much of this lecture will provide a refresher/reminder on matrices and linear algebra.\n",
    "\n",
    "\n",
    "2. This lecture will focus on matrix arithmetic, linear systems and their solution; the next lecture will move on to eigenvalues and the solution of systems of ODEs.\n",
    "\n",
    "\n",
    "3. Again there is ample opportunity here for us to practice our coding and plotting, and we will think a bit about code complexity and run times.\n",
    "\n",
    "\n",
    "4. To gain a further/firmer understanding of some of the key concepts we will make use of geometrical interpretations and examples as much as possible."
   ]
  },
  {
   "cell_type": "markdown",
   "metadata": {
    "toc": true
   },
   "source": [
    "<h1>Table of Contents<span class=\"tocSkip\"></span></h1>\n",
    "<div class=\"toc\"><ul class=\"toc-item\"><li><span><a href=\"#Introductory-comments-[*]\" data-toc-modified-id=\"Introductory-comments-[*]-1\"><span class=\"toc-item-num\">1&nbsp;&nbsp;</span>Introductory comments [*]</a></span><ul class=\"toc-item\"><li><span><a href=\"#Notation-&amp;-terminology\" data-toc-modified-id=\"Notation-&amp;-terminology-1.1\"><span class=\"toc-item-num\">1.1&nbsp;&nbsp;</span>Notation &amp; terminology</a></span></li><li><span><a href=\"#Matrix-dimension\" data-toc-modified-id=\"Matrix-dimension-1.2\"><span class=\"toc-item-num\">1.2&nbsp;&nbsp;</span>Matrix dimension</a></span></li><li><span><a href=\"#Arithmetic-and-other-simple-matrix-operations-(and-some-other-introductory-NumPy-comments)\" data-toc-modified-id=\"Arithmetic-and-other-simple-matrix-operations-(and-some-other-introductory-NumPy-comments)-1.3\"><span class=\"toc-item-num\">1.3&nbsp;&nbsp;</span>Arithmetic and other simple matrix operations (and some other introductory NumPy comments)</a></span><ul class=\"toc-item\"><li><span><a href=\"#Matrix-equivalence\" data-toc-modified-id=\"Matrix-equivalence-1.3.1\"><span class=\"toc-item-num\">1.3.1&nbsp;&nbsp;</span>Matrix equivalence</a></span></li><li><span><a href=\"#Addition-and-subtraction\" data-toc-modified-id=\"Addition-and-subtraction-1.3.2\"><span class=\"toc-item-num\">1.3.2&nbsp;&nbsp;</span>Addition and subtraction</a></span></li><li><span><a href=\"#Code\" data-toc-modified-id=\"Code-1.3.3\"><span class=\"toc-item-num\">1.3.3&nbsp;&nbsp;</span>Code</a></span></li><li><span><a href=\"#Scalar-multiplication\" data-toc-modified-id=\"Scalar-multiplication-1.3.4\"><span class=\"toc-item-num\">1.3.4&nbsp;&nbsp;</span>Scalar multiplication</a></span></li><li><span><a href=\"#Be-careful-about-assignments-vs-copies\" data-toc-modified-id=\"Be-careful-about-assignments-vs-copies-1.3.5\"><span class=\"toc-item-num\">1.3.5&nbsp;&nbsp;</span>Be careful about assignments vs copies</a></span></li><li><span><a href=\"#Matrix-transpose-and-complex-conjugate\" data-toc-modified-id=\"Matrix-transpose-and-complex-conjugate-1.3.6\"><span class=\"toc-item-num\">1.3.6&nbsp;&nbsp;</span>Matrix transpose and complex conjugate</a></span><ul class=\"toc-item\"><li><span><a href=\"#Properties-of-the-transpose-operator\" data-toc-modified-id=\"Properties-of-the-transpose-operator-1.3.6.1\"><span class=\"toc-item-num\">1.3.6.1&nbsp;&nbsp;</span>Properties of the transpose operator</a></span></li></ul></li><li><span><a href=\"#Indexing,-slicing-etc\" data-toc-modified-id=\"Indexing,-slicing-etc-1.3.7\"><span class=\"toc-item-num\">1.3.7&nbsp;&nbsp;</span>Indexing, slicing etc</a></span></li><li><span><a href=\"#Other-useful-NumPy-attributes\" data-toc-modified-id=\"Other-useful-NumPy-attributes-1.3.8\"><span class=\"toc-item-num\">1.3.8&nbsp;&nbsp;</span>Other useful NumPy attributes</a></span></li></ul></li></ul></li><li><span><a href=\"#Matrix-vector-multiplication\" data-toc-modified-id=\"Matrix-vector-multiplication-2\"><span class=\"toc-item-num\">2&nbsp;&nbsp;</span>Matrix-vector multiplication</a></span><ul class=\"toc-item\"><li><span><a href=\"#Mathematical-definition\" data-toc-modified-id=\"Mathematical-definition-2.1\"><span class=\"toc-item-num\">2.1&nbsp;&nbsp;</span>Mathematical definition</a></span></li><li><span><a href=\"#Code\" data-toc-modified-id=\"Code-2.2\"><span class=\"toc-item-num\">2.2&nbsp;&nbsp;</span>Code</a></span></li><li><span><a href=\"#Properties\" data-toc-modified-id=\"Properties-2.3\"><span class=\"toc-item-num\">2.3&nbsp;&nbsp;</span>Properties</a></span></li><li><span><a href=\"#Matrix-multiplication-using-NumPy\" data-toc-modified-id=\"Matrix-multiplication-using-NumPy-2.4\"><span class=\"toc-item-num\">2.4&nbsp;&nbsp;</span>Matrix multiplication using NumPy</a></span><ul class=\"toc-item\"><li><span><a href=\"#Aside:-matrix-objects-[*]\" data-toc-modified-id=\"Aside:-matrix-objects-[*]-2.4.1\"><span class=\"toc-item-num\">2.4.1&nbsp;&nbsp;</span>Aside: matrix objects [*]</a></span></li></ul></li><li><span><a href=\"#Testing-our-code\" data-toc-modified-id=\"Testing-our-code-2.5\"><span class=\"toc-item-num\">2.5&nbsp;&nbsp;</span>Testing our code</a></span></li><li><span><a href=\"#Another-useful-interpretation\" data-toc-modified-id=\"Another-useful-interpretation-2.6\"><span class=\"toc-item-num\">2.6&nbsp;&nbsp;</span>Another useful interpretation</a></span></li></ul></li><li><span><a href=\"#Motivation---linear-(or-matrix)-systems\" data-toc-modified-id=\"Motivation---linear-(or-matrix)-systems-3\"><span class=\"toc-item-num\">3&nbsp;&nbsp;</span>Motivation - linear (or matrix) systems</a></span><ul class=\"toc-item\"><li><span><a href=\"#A-simple-example\" data-toc-modified-id=\"A-simple-example-3.1\"><span class=\"toc-item-num\">3.1&nbsp;&nbsp;</span>A simple example</a></span></li><li><span><a href=\"#The-general-case\" data-toc-modified-id=\"The-general-case-3.2\"><span class=\"toc-item-num\">3.2&nbsp;&nbsp;</span>The general case</a></span></li><li><span><a href=\"#A-geometric-interpretation\" data-toc-modified-id=\"A-geometric-interpretation-3.3\"><span class=\"toc-item-num\">3.3&nbsp;&nbsp;</span>A geometric interpretation</a></span></li><li><span><a href=\"#Solving-a-general-linear-system\" data-toc-modified-id=\"Solving-a-general-linear-system-3.4\"><span class=\"toc-item-num\">3.4&nbsp;&nbsp;</span>Solving a general linear system</a></span></li></ul></li><li><span><a href=\"#Matrix-inverse\" data-toc-modified-id=\"Matrix-inverse-4\"><span class=\"toc-item-num\">4&nbsp;&nbsp;</span>Matrix inverse</a></span><ul class=\"toc-item\"><li><span><a href=\"#Properties-of-the-matrix-inverse\" data-toc-modified-id=\"Properties-of-the-matrix-inverse-4.1\"><span class=\"toc-item-num\">4.1&nbsp;&nbsp;</span>Properties of the matrix inverse</a></span></li><li><span><a href=\"#Using-the-inverse-matrix-to-solve-a-linear-system\" data-toc-modified-id=\"Using-the-inverse-matrix-to-solve-a-linear-system-4.2\"><span class=\"toc-item-num\">4.2&nbsp;&nbsp;</span>Using the inverse matrix to solve a linear system</a></span><ul class=\"toc-item\"><li><span><a href=\"#The-inverse-for-our-simple-example\" data-toc-modified-id=\"The-inverse-for-our-simple-example-4.2.1\"><span class=\"toc-item-num\">4.2.1&nbsp;&nbsp;</span>The inverse for our simple example</a></span></li><li><span><a href=\"#Row-operations-and-a-glimpse-at-Gaussian-elimination-[*---please-read-through-this-in-your-own-time]\" data-toc-modified-id=\"Row-operations-and-a-glimpse-at-Gaussian-elimination-[*---please-read-through-this-in-your-own-time]-4.2.2\"><span class=\"toc-item-num\">4.2.2&nbsp;&nbsp;</span>Row operations and a glimpse at Gaussian elimination [* - please read through this in your own time]</a></span></li><li><span><a href=\"#Solving-our-simple-example-using-the-inverse-matrix\" data-toc-modified-id=\"Solving-our-simple-example-using-the-inverse-matrix-4.2.3\"><span class=\"toc-item-num\">4.2.3&nbsp;&nbsp;</span>Solving our simple example using the inverse matrix</a></span></li></ul></li><li><span><a href=\"#Aside:-constructing-some-useful-simple-matrices-in-NumPy-[*]\" data-toc-modified-id=\"Aside:-constructing-some-useful-simple-matrices-in-NumPy-[*]-4.3\"><span class=\"toc-item-num\">4.3&nbsp;&nbsp;</span>Aside: constructing some useful simple matrices in NumPy [*]</a></span><ul class=\"toc-item\"><li><span><a href=\"#The-identity-matrix\" data-toc-modified-id=\"The-identity-matrix-4.3.1\"><span class=\"toc-item-num\">4.3.1&nbsp;&nbsp;</span>The identity matrix</a></span></li><li><span><a href=\"#Diagonal-matrices\" data-toc-modified-id=\"Diagonal-matrices-4.3.2\"><span class=\"toc-item-num\">4.3.2&nbsp;&nbsp;</span>Diagonal matrices</a></span></li><li><span><a href=\"#Matrices-of-zeros-or-ones,-empty-matrices\" data-toc-modified-id=\"Matrices-of-zeros-or-ones,-empty-matrices-4.3.3\"><span class=\"toc-item-num\">4.3.3&nbsp;&nbsp;</span>Matrices of zeros or ones, empty matrices</a></span></li></ul></li></ul></li><li><span><a href=\"#The-determinant\" data-toc-modified-id=\"The-determinant-5\"><span class=\"toc-item-num\">5&nbsp;&nbsp;</span>The determinant</a></span></li><li><span><a href=\"#Matrix-vector-multiplication-(again;-code-speed)-[*]\" data-toc-modified-id=\"Matrix-vector-multiplication-(again;-code-speed)-[*]-6\"><span class=\"toc-item-num\">6&nbsp;&nbsp;</span>Matrix-vector multiplication (again; code speed) [*]</a></span><ul class=\"toc-item\"><li><span><a href=\"#Testing-our-code\" data-toc-modified-id=\"Testing-our-code-6.1\"><span class=\"toc-item-num\">6.1&nbsp;&nbsp;</span>Testing our code</a></span></li><li><span><a href=\"#Checking-the-speed-of-our-code!\" data-toc-modified-id=\"Checking-the-speed-of-our-code!-6.2\"><span class=\"toc-item-num\">6.2&nbsp;&nbsp;</span>Checking the speed of our code!</a></span></li></ul></li><li><span><a href=\"#Matrix-matrix-product-[*]\" data-toc-modified-id=\"Matrix-matrix-product-[*]-7\"><span class=\"toc-item-num\">7&nbsp;&nbsp;</span>Matrix-matrix product [*]</a></span><ul class=\"toc-item\"><li><span><a href=\"#Conformable-dimensions\" data-toc-modified-id=\"Conformable-dimensions-7.1\"><span class=\"toc-item-num\">7.1&nbsp;&nbsp;</span>Conformable dimensions</a></span></li><li><span><a href=\"#Properties\" data-toc-modified-id=\"Properties-7.2\"><span class=\"toc-item-num\">7.2&nbsp;&nbsp;</span>Properties</a></span></li><li><span><a href=\"#Code\" data-toc-modified-id=\"Code-7.3\"><span class=\"toc-item-num\">7.3&nbsp;&nbsp;</span>Code</a></span><ul class=\"toc-item\"><li><span><a href=\"#Testing-our-code\" data-toc-modified-id=\"Testing-our-code-7.3.1\"><span class=\"toc-item-num\">7.3.1&nbsp;&nbsp;</span>Testing our code</a></span></li></ul></li></ul></li><li><span><a href=\"#Some-linear-algebra-theory\" data-toc-modified-id=\"Some-linear-algebra-theory-8\"><span class=\"toc-item-num\">8&nbsp;&nbsp;</span>Some linear algebra theory</a></span><ul class=\"toc-item\"><li><span><a href=\"#The-determinant-(again)\" data-toc-modified-id=\"The-determinant-(again)-8.1\"><span class=\"toc-item-num\">8.1&nbsp;&nbsp;</span>The determinant (again)</a></span><ul class=\"toc-item\"><li><span><a href=\"#Properties\" data-toc-modified-id=\"Properties-8.1.1\"><span class=\"toc-item-num\">8.1.1&nbsp;&nbsp;</span>Properties</a></span></li><li><span><a href=\"#Full-definition\" data-toc-modified-id=\"Full-definition-8.1.2\"><span class=\"toc-item-num\">8.1.2&nbsp;&nbsp;</span>Full definition</a></span></li></ul></li><li><span><a href=\"#The-inverse-matrix\" data-toc-modified-id=\"The-inverse-matrix-8.2\"><span class=\"toc-item-num\">8.2&nbsp;&nbsp;</span>The inverse matrix</a></span><ul class=\"toc-item\"><li><span><a href=\"#$2\\times-2$-case\" data-toc-modified-id=\"$2\\times-2$-case-8.2.1\"><span class=\"toc-item-num\">8.2.1&nbsp;&nbsp;</span>$2\\times 2$ case</a></span></li><li><span><a href=\"#$n\\times-n$-case\" data-toc-modified-id=\"$n\\times-n$-case-8.2.2\"><span class=\"toc-item-num\">8.2.2&nbsp;&nbsp;</span>$n\\times n$ case</a></span></li></ul></li><li><span><a href=\"#Using-SciPy-to-compute-the-inverse-matrix\" data-toc-modified-id=\"Using-SciPy-to-compute-the-inverse-matrix-8.3\"><span class=\"toc-item-num\">8.3&nbsp;&nbsp;</span>Using SciPy to compute the inverse matrix</a></span></li><li><span><a href=\"#Singular-matrices\" data-toc-modified-id=\"Singular-matrices-8.4\"><span class=\"toc-item-num\">8.4&nbsp;&nbsp;</span>Singular matrices</a></span></li><li><span><a href=\"#Solvability-of-linear-systems\" data-toc-modified-id=\"Solvability-of-linear-systems-8.5\"><span class=\"toc-item-num\">8.5&nbsp;&nbsp;</span>Solvability of linear systems</a></span><ul class=\"toc-item\"><li><span><a href=\"#Linear-(in)dependence\" data-toc-modified-id=\"Linear-(in)dependence-8.5.1\"><span class=\"toc-item-num\">8.5.1&nbsp;&nbsp;</span>Linear (in)dependence</a></span></li><li><span><a href=\"#Equivalent-properties\" data-toc-modified-id=\"Equivalent-properties-8.5.2\"><span class=\"toc-item-num\">8.5.2&nbsp;&nbsp;</span>Equivalent properties</a></span></li><li><span><a href=\"#Rank,-range-and-null-Space\" data-toc-modified-id=\"Rank,-range-and-null-Space-8.5.3\"><span class=\"toc-item-num\">8.5.3&nbsp;&nbsp;</span>Rank, range and null-Space</a></span></li><li><span><a href=\"#Another-geometrical-interpretation\" data-toc-modified-id=\"Another-geometrical-interpretation-8.5.4\"><span class=\"toc-item-num\">8.5.4&nbsp;&nbsp;</span>Another geometrical interpretation</a></span></li><li><span><a href=\"#Solving-our-simple-example-(again)\" data-toc-modified-id=\"Solving-our-simple-example-(again)-8.5.5\"><span class=\"toc-item-num\">8.5.5&nbsp;&nbsp;</span>Solving our simple example (again)</a></span></li></ul></li></ul></li><li><span><a href=\"#Cramer's-rule-[**]\" data-toc-modified-id=\"Cramer's-rule-[**]-9\"><span class=\"toc-item-num\">9&nbsp;&nbsp;</span>Cramer's rule [**]</a></span></li><li><span><a href=\"#Geometric-interpretation-of-linear-transformations-[*---assuming-we-have-run-out-of-time,-please-read-through-this-section-as-we-will-pick-up-the-next-lecture-from-these-ideas]\" data-toc-modified-id=\"Geometric-interpretation-of-linear-transformations-[*---assuming-we-have-run-out-of-time,-please-read-through-this-section-as-we-will-pick-up-the-next-lecture-from-these-ideas]-10\"><span class=\"toc-item-num\">10&nbsp;&nbsp;</span>Geometric interpretation of linear transformations [* - assuming we have run out of time, please read through this section as we will pick up the next lecture from these ideas]</a></span><ul class=\"toc-item\"><li><span><a href=\"#Some-examples\" data-toc-modified-id=\"Some-examples-10.1\"><span class=\"toc-item-num\">10.1&nbsp;&nbsp;</span>Some examples</a></span></li><li><span><a href=\"#A-general-transformation-and-the-determinant-again-[*]\" data-toc-modified-id=\"A-general-transformation-and-the-determinant-again-[*]-10.2\"><span class=\"toc-item-num\">10.2&nbsp;&nbsp;</span>A general transformation and the determinant again [*]</a></span></li></ul></li><li><span><a href=\"#An-animation-[*]\" data-toc-modified-id=\"An-animation-[*]-11\"><span class=\"toc-item-num\">11&nbsp;&nbsp;</span>An animation [*]</a></span></li><li><span><a href=\"#Summary\" data-toc-modified-id=\"Summary-12\"><span class=\"toc-item-num\">12&nbsp;&nbsp;</span>Summary</a></span><ul class=\"toc-item\"><li><span><a href=\"#Next-lecture\" data-toc-modified-id=\"Next-lecture-12.1\"><span class=\"toc-item-num\">12.1&nbsp;&nbsp;</span>Next lecture</a></span></li></ul></li></ul></div>"
   ]
  },
  {
   "cell_type": "code",
   "execution_count": 1,
   "metadata": {},
   "outputs": [
    {
     "data": {
      "text/html": [
       "<style>\n",
       "div.optional {\n",
       "    display: block;\n",
       "    background-color: #d7e2ff;\n",
       "    border-color: #d7e2ff;\n",
       "    border-left: 5px solid #d7e2ff;\n",
       "    padding: 0.5em;\n",
       "}\n",
       "div.advanced {\n",
       "    display: block;\n",
       "    background-color: #fff4d7;\n",
       "    border-color: #fff4d7;\n",
       "    border-left: 5px solid #fff4d7;\n",
       "    padding: 0.5em;\n",
       "}\n",
       "</style>\n"
      ],
      "text/plain": [
       "<IPython.core.display.HTML object>"
      ]
     },
     "metadata": {},
     "output_type": "display_data"
    }
   ],
   "source": [
    "%%html\n",
    "<style>\n",
    "div.optional {\n",
    "    display: block;\n",
    "    background-color: #d7e2ff;\n",
    "    border-color: #d7e2ff;\n",
    "    border-left: 5px solid #d7e2ff;\n",
    "    padding: 0.5em;\n",
    "}\n",
    "div.advanced {\n",
    "    display: block;\n",
    "    background-color: #fff4d7;\n",
    "    border-color: #fff4d7;\n",
    "    border-left: 5px solid #fff4d7;\n",
    "    padding: 0.5em;\n",
    "}\n",
    "</style>"
   ]
  },
  {
   "cell_type": "markdown",
   "metadata": {},
   "source": [
    "<div class=\"optional\">\n",
    "\n",
    "# Introductory comments [*]\n",
    "\n",
    "Linear algebra comes up everywhere in computational science (and elsewhere!).\n",
    "\n",
    "It's important that we have a firm grasp of the mathematical/conceptual aspects, as well as the numerical aspects and the software tools at our disposal.\n",
    "\n",
    "In this lecture we're going to briefly review the former and make a start at some of the latter.\n",
    "\n",
    "***As said previously - your backgrounds are quite varied so for some of you much of this material will already be very familiar, while for some of you some parts may be new. There is a lot of material here, we will start simply but try to move quite rapidly.***\n",
    "\n",
    "You touched on some of this material in ACSE-1 and will make use of it later in this and other modules. \n",
    "\n",
    "This material will give us ample opportunity to practice our use of NumPy and SciPy, and to gain further experience in plotting.\n",
    "\n",
    "I will go through this first section very quickly.\n",
    "    \n",
    "</div>"
   ]
  },
  {
   "cell_type": "markdown",
   "metadata": {},
   "source": [
    "If nothing else, at the end of this lecture you should understand how to create animations like this using linear algebra\n",
    "\n",
    "<video controls loop width=\"400\" src=\"animations/logo.mp4\"/>"
   ]
  },
  {
   "cell_type": "markdown",
   "metadata": {},
   "source": [
    "and then be able to extend to things like this\n",
    "\n",
    "<video controls loop width=\"400\" src=\"animations/logo-drunk.mp4\"/>"
   ]
  },
  {
   "cell_type": "markdown",
   "metadata": {},
   "source": [
    "## Notation & terminology\n",
    "\n",
    "\n",
    "- We will use bold fonts to indicate vectors, e.g. $\\boldsymbol{x } $ :\n",
    "\n",
    "$$ \\boldsymbol{x} = (x_1,x_2,\\ldots, x_m)^T$$\n",
    "\n",
    "(the transpose is here since we generally assume a vector is a *column* vector (i.e. has dimension, or shape, $m\\times 1$), but it's clearly easier and more compact to display it as the transpose of a *row* vector in writing - note that when writing on paper it's common to indicate a bold symbol with an underline: $\\boldsymbol{x} \\equiv \\underline{x} $. Sometimes people will use $\\vec{x}$.)\n",
    "\n",
    "- and capital letters to indicate matrices, e.g. $A$:\n",
    "\n",
    "$$A = \n",
    "\\begin{pmatrix}\n",
    "a_{11} & a_{12} \\\\\n",
    "a_{21} & a_{22}\n",
    "\\end{pmatrix}$$\n",
    "\n",
    "\n",
    "- Subscript letters or numbers will be used to indicate components of arrays or matrices, e.g. $x_i$ is the $i$-th component of the vector $\\boldsymbol{x}$, and $a_{ij}$ is the entry from the $i$-th row and the $j$-th column of the matrix $A$, with of course us needing to be careful over our numbering which starts from zero in our Python implementations.\n",
    "\n",
    "\n",
    "- We will identify column vectors of the matrix $A$ as\n",
    "\n",
    "$$A = \\begin{pmatrix}\n",
    "      &     &         &     \\\\\n",
    "  \\boldsymbol{a}_{\\,:1} & \\boldsymbol{a}_{\\,:2} &  \\ldots & \\boldsymbol{a}_{\\,:n} \\\\\n",
    "      &     &         &     \n",
    "\\end{pmatrix}$$\n",
    "\n",
    "i.e. $\\boldsymbol{a}_{\\,:j}$ indicates the $j$-th column of matrix $A$.\n",
    "\n",
    "\n",
    "\n",
    "- Square or rounded (i.e. paretheses) brackets are both fine for vectors and matrices (not for intervals where they mean different things!). \n",
    "\n",
    "<br>\n",
    "\n",
    "\n",
    "See also <https://en.wikipedia.org/wiki/Matrix_(mathematics)#Notation>"
   ]
  },
  {
   "cell_type": "markdown",
   "metadata": {},
   "source": [
    "Note that I've made the choice to start my indices at '1' for the purposes of writing things down mathematically. \n",
    "\n",
    "You could choose to start with '0' to better match Python indexing if you want, you just need to be consistent."
   ]
  },
  {
   "cell_type": "markdown",
   "metadata": {},
   "source": [
    "## Matrix dimension\n",
    "\n",
    "A general [matrix](https://en.wikipedia.org/wiki/Matrix_(mathematics)) of dimension (shape in NumPy) $m \\times n$ is\n",
    "\n",
    "\\begin{pmatrix}\n",
    "    a_{11} & a_{12} & \\dots & a_{1n} \\\\\n",
    "    a_{21} & a_{22} & \\dots & a_{2n} \\\\\n",
    "    \\vdots & \\vdots & \\ddots & \\vdots \\\\\n",
    "    a_{m1} & a_{m2} & \\dots & a_{mn}   \n",
    "\\end{pmatrix}\n",
    "\n",
    "where for a real matrix all *entries* $a_{ij}\\in\\mathbb{R}$, i.e. are real numbers, and for a complex matrix $a_{ij}\\in\\mathbb{C}$.  \n",
    "\n",
    "Mathematically we could also write $A\\in\\mathbb{R}^{m\\times n}$ or $A\\in\\in\\mathbb{C}^{m\\times n}$.\n",
    "\n",
    "We would say out loud that the matrix is of dimension \"m rows by n columns\" or just \"m by n\".\n",
    "\n",
    "The convention is to state the number of rows first, and columns second - we will see why this is sensible when we talk about matrix multiplication - indeed thinking about matrix multiplication is exactly how I remember that incrementing the first index ($i$) means we move down, and incrementing the second index ($j$) means we move to the right.\n",
    "\n",
    "A *square* matrix is one where $m=n$.\n",
    "\n",
    "An $m\\times 1$ matrix is also a *column vector*.\n",
    "\n",
    "A $1\\times n$ matrix is also a *row vector*."
   ]
  },
  {
   "cell_type": "markdown",
   "metadata": {},
   "source": [
    "## Arithmetic and other simple matrix operations (and some other introductory NumPy comments)\n",
    "\n",
    "We can also use the notation\n",
    "\n",
    "$$A = [a_{ij}]_{m\\times n}$$\n",
    "\n",
    "as shorthand to indicate that matrix $A$ is of dimension ${m\\times n}$ with entries signified by the variables $a_{ij}$."
   ]
  },
  {
   "cell_type": "markdown",
   "metadata": {},
   "source": [
    "### Matrix equivalence\n",
    "\n",
    "We can use this notation to define how two matrices are equivalent - there individually entires each need to be equivalent:\n",
    "\n",
    "$$A = B \\iff  a_{ij} = b_{ij}, \\quad \\forall\\; 1\\leq i \\leq m,\\;\\; 1\\leq j \\leq n$$\n",
    "\n",
    "Note that this definition only make sense if we are comparing matrices of the same size.\n",
    "\n",
    "In case you haven't seen it before $\\forall$ is mathematical shorthand notation for \"for all\" (https://en.wikipedia.org/wiki/Universal_quantification).\n",
    "\n",
    "NB. when proving things in mathamtical analysis, sequences etc, it's often used with a symbol for \"there exists\": $\\exists$."
   ]
  },
  {
   "cell_type": "code",
   "execution_count": 2,
   "metadata": {},
   "outputs": [],
   "source": [
    "%matplotlib inline\n",
    "%precision 6\n",
    "import numpy as np\n",
    "import matplotlib.pyplot as plt\n",
    "import scipy.linalg as sl\n",
    "from pprint import pprint"
   ]
  },
  {
   "cell_type": "code",
   "execution_count": 3,
   "metadata": {},
   "outputs": [
    {
     "name": "stdout",
     "output_type": "stream",
     "text": [
      "[[ True  True]\n",
      " [ True  True]]\n",
      "True\n",
      "\n",
      " [[ True  True]\n",
      " [ True False]]\n",
      "False\n"
     ]
    }
   ],
   "source": [
    "A = np.array([[1, 2], [3, 4]])\n",
    "B = np.array([[1, 2], [3, 4]])\n",
    "\n",
    "# the following compares element-wise\n",
    "print(A==B)\n",
    "# above works on pairs of entries element-wise, \n",
    "\n",
    "# while array_equal looks at the whole array.\n",
    "print(np.array_equal(A,B))\n",
    "\n",
    "# change one of the entries\n",
    "B = np.array([[1, 2], [3, 5]])\n",
    "\n",
    "print('\\n',A==B)\n",
    "print(np.array_equal(A,B))"
   ]
  },
  {
   "cell_type": "markdown",
   "metadata": {},
   "source": [
    "### Addition and subtraction\n",
    "\n",
    "With this notation we can also succinctly define the operation of adding two matrices (with the implicit requirement that the two matrices are of the same dimension)\n",
    "\n",
    "$$A + B = [a_{ij} + b_{ij}]_{m\\times n}$$\n",
    "\n",
    "and similar for subtraction.\n",
    "\n",
    "Let's check the mathematical description agrees with NumPy!"
   ]
  },
  {
   "cell_type": "code",
   "execution_count": 4,
   "metadata": {},
   "outputs": [
    {
     "name": "stdout",
     "output_type": "stream",
     "text": [
      "A =\n",
      " [[1 2]\n",
      " [3 4]] \n",
      "\n",
      "B =\n",
      " [[ 6 -2]\n",
      " [ 1 -7]] \n",
      "\n",
      "A+B =\n",
      " [[ 7  0]\n",
      " [ 4 -3]] \n",
      "\n",
      "A-B =\n",
      " [[-5  4]\n",
      " [ 2 11]] \n",
      "\n"
     ]
    }
   ],
   "source": [
    "# any old matrix\n",
    "A = np.array([[1, 2], [3, 4]])\n",
    "\n",
    "print('A =\\n', A, '\\n')\n",
    "# The '\\n's start new lines and are used just to make the printed text easier to read.\n",
    "\n",
    "# and another one\n",
    "B = np.array([[6, -2], [1, -7]])\n",
    "\n",
    "print('B =\\n', B, '\\n')\n",
    "\n",
    "C = A+B \n",
    "\n",
    "print('A+B =\\n', C, '\\n')\n",
    "\n",
    "print('A-B =\\n', A-B, '\\n')"
   ]
  },
  {
   "cell_type": "markdown",
   "metadata": {},
   "source": [
    "What happens when we try to perform arithmetic with matrices of different sizes?\n",
    "\n",
    "Remember that error/warning messages should be designed (by you and by other) to help the user - when you get an error/warning read it and try to understand what it's telling you!\n",
    "\n",
    "If you're note sure Google it!"
   ]
  },
  {
   "cell_type": "code",
   "execution_count": 5,
   "metadata": {},
   "outputs": [
    {
     "name": "stdout",
     "output_type": "stream",
     "text": [
      "A =\n",
      " [[1 2]\n",
      " [3 4]] \n",
      "\n",
      "B =\n",
      " [[ 6 -2]\n",
      " [ 1 -7]\n",
      " [ 5 -1]] \n",
      "\n"
     ]
    },
    {
     "ename": "ValueError",
     "evalue": "operands could not be broadcast together with shapes (2,2) (3,2) ",
     "output_type": "error",
     "traceback": [
      "\u001b[1;31m---------------------------------------------------------------------------\u001b[0m",
      "\u001b[1;31mValueError\u001b[0m                                Traceback (most recent call last)",
      "\u001b[1;32m<ipython-input-5-79181494f20b>\u001b[0m in \u001b[0;36m<module>\u001b[1;34m\u001b[0m\n\u001b[0;32m      3\u001b[0m \u001b[0mB\u001b[0m \u001b[1;33m=\u001b[0m \u001b[0mnp\u001b[0m\u001b[1;33m.\u001b[0m\u001b[0marray\u001b[0m\u001b[1;33m(\u001b[0m\u001b[1;33m[\u001b[0m\u001b[1;33m[\u001b[0m\u001b[1;36m6\u001b[0m\u001b[1;33m,\u001b[0m \u001b[1;33m-\u001b[0m\u001b[1;36m2\u001b[0m\u001b[1;33m]\u001b[0m\u001b[1;33m,\u001b[0m \u001b[1;33m[\u001b[0m\u001b[1;36m1\u001b[0m\u001b[1;33m,\u001b[0m \u001b[1;33m-\u001b[0m\u001b[1;36m7\u001b[0m\u001b[1;33m]\u001b[0m\u001b[1;33m,\u001b[0m \u001b[1;33m[\u001b[0m\u001b[1;36m5\u001b[0m\u001b[1;33m,\u001b[0m \u001b[1;33m-\u001b[0m\u001b[1;36m1\u001b[0m\u001b[1;33m]\u001b[0m\u001b[1;33m]\u001b[0m\u001b[1;33m)\u001b[0m\u001b[1;33m\u001b[0m\u001b[1;33m\u001b[0m\u001b[0m\n\u001b[0;32m      4\u001b[0m \u001b[0mprint\u001b[0m\u001b[1;33m(\u001b[0m\u001b[1;34m'B =\\n'\u001b[0m\u001b[1;33m,\u001b[0m \u001b[0mB\u001b[0m\u001b[1;33m,\u001b[0m\u001b[1;34m'\\n'\u001b[0m\u001b[1;33m)\u001b[0m\u001b[1;33m\u001b[0m\u001b[1;33m\u001b[0m\u001b[0m\n\u001b[1;32m----> 5\u001b[1;33m \u001b[0mC\u001b[0m \u001b[1;33m=\u001b[0m \u001b[0mA\u001b[0m\u001b[1;33m+\u001b[0m\u001b[0mB\u001b[0m\u001b[1;33m\u001b[0m\u001b[1;33m\u001b[0m\u001b[0m\n\u001b[0m",
      "\u001b[1;31mValueError\u001b[0m: operands could not be broadcast together with shapes (2,2) (3,2) "
     ]
    }
   ],
   "source": [
    "A = np.array([[1, 2], [3, 4]])\n",
    "print('A =\\n', A, '\\n')\n",
    "B = np.array([[6, -2], [1, -7], [5, -1]])\n",
    "print('B =\\n', B,'\\n')\n",
    "C = A+B"
   ]
  },
  {
   "cell_type": "markdown",
   "metadata": {},
   "source": [
    "### Code\n",
    "\n",
    "For practice, let's code up our own function to perform matrix addition and check it against the NumPy result for some examples.\n",
    "\n",
    "We'll also look a bit more at the use of some NumPy functions to check for the equivalence of arrays."
   ]
  },
  {
   "cell_type": "code",
   "execution_count": 6,
   "metadata": {},
   "outputs": [
    {
     "name": "stdout",
     "output_type": "stream",
     "text": [
      "mat_mat_addition(A,B) == A+B (using allclose): True\n",
      "mat_mat_addition(A,B) == A+B (allclose with tighter tols): True\n",
      "mat_mat_addition(A,B) == A+B (using array_equal):  True\n",
      "mat_mat_addition(A,B) == A+B+very small perturbation (using array_equal):  False\n",
      "mat_mat_addition(A,B) == A+B+very small perturbation (using allclose):  True\n"
     ]
    }
   ],
   "source": [
    "def mat_mat_addition(A,B):\n",
    "    \"\"\" Return the addition A+B\n",
    "    \"\"\"\n",
    "    mA, nA = np.shape(A)\n",
    "    mB, nB = np.shape(B)\n",
    "    # add a check that the two provided matrices are the same size\n",
    "    assert mA==mB and nA==nB \n",
    "    # initialise some space for the result\n",
    "    C = np.zeros((mA, mB))\n",
    "    # loop over the rows\n",
    "    for i in range(mA):\n",
    "        # loop over the columns\n",
    "        for j in range(nA):\n",
    "            C[i, j] = A[i, j] + B[i, j]\n",
    "    return C\n",
    "\n",
    "# check with a simple 2x2 case\n",
    "A = np.array([[1, 2], [3, 4]])\n",
    "B = np.array([[6, -2], [1, -7]])\n",
    "\n",
    "# we can use numpy.allclose to check if our function's result agrees with NumPy\n",
    "print('mat_mat_addition(A,B) == A+B (using allclose):', \n",
    "      np.allclose(mat_mat_addition(A,B), A+B))\n",
    "# numpy.allclose returns True provided that \n",
    "# absolute(`a` - `b`) <= (`atol` + `rtol` * absolute(`b`))\n",
    "# in an elementwise-sense, i.e. if it is true for all elements.\n",
    "\n",
    "# we can tighten up tolerances as follows (the default values are rtol=1e-05, atol=1e-08)\n",
    "print('mat_mat_addition(A,B) == A+B (allclose with tighter tols):', \n",
    "      np.allclose(mat_mat_addition(A,B), A+B, rtol=1e-14, atol=1e-14))\n",
    "\n",
    "# alternatively you could use array_equal - read the docs to see what the difference is\n",
    "print('mat_mat_addition(A,B) == A+B (using array_equal): ',\n",
    "      np.array_equal(mat_mat_addition(A,B), A+B))\n",
    "\n",
    "# when performing arithmetic operations round-off could mean that array_equal fails,\n",
    "# lets add a very small perturbation to one of the entries to demonstrate\n",
    "pert = np.array([[1.e-15, 0],[0,0]])\n",
    "print('mat_mat_addition(A,B) == A+B+very small perturbation (using array_equal): ',\n",
    "      np.array_equal(mat_mat_addition(A,B), A+B+pert))\n",
    "\n",
    "# but allclose lets us get away with this difference\n",
    "print('mat_mat_addition(A,B) == A+B+very small perturbation (using allclose): ',\n",
    "      np.allclose(mat_mat_addition(A,B), A+B+pert))"
   ]
  },
  {
   "cell_type": "markdown",
   "metadata": {},
   "source": [
    "So we do need to be a little bit careful on what equality means when using floating point arithmetic!\n",
    "(`numpy.allclose` is a useful function for us here.)\n",
    "\n",
    "You saw this in ACSE-1 and we will do a bit more on this in L4.\n",
    "\n",
    "\n",
    "We can get our code to do subtraction just by adding minus the second matrix:"
   ]
  },
  {
   "cell_type": "code",
   "execution_count": 7,
   "metadata": {},
   "outputs": [
    {
     "name": "stdout",
     "output_type": "stream",
     "text": [
      "mat_mat_addition(A,-B) == A-B: True\n"
     ]
    }
   ],
   "source": [
    "# we can check it can do subtraction as well\n",
    "A = np.array([[1, 2], [3, 4]])\n",
    "B = np.array([[6, -2], [1, -7]])\n",
    "\n",
    "print('mat_mat_addition(A,-B) == A-B:', np.allclose(mat_mat_addition(A,-B), A-B))"
   ]
  },
  {
   "cell_type": "code",
   "execution_count": 8,
   "metadata": {},
   "outputs": [
    {
     "ename": "AssertionError",
     "evalue": "",
     "output_type": "error",
     "traceback": [
      "\u001b[1;31m---------------------------------------------------------------------------\u001b[0m",
      "\u001b[1;31mAssertionError\u001b[0m                            Traceback (most recent call last)",
      "\u001b[1;32m<ipython-input-8-a2e83bbc2397>\u001b[0m in \u001b[0;36m<module>\u001b[1;34m\u001b[0m\n\u001b[0;32m      3\u001b[0m \u001b[0mB\u001b[0m \u001b[1;33m=\u001b[0m \u001b[0mnp\u001b[0m\u001b[1;33m.\u001b[0m\u001b[0marray\u001b[0m\u001b[1;33m(\u001b[0m\u001b[1;33m[\u001b[0m\u001b[1;33m[\u001b[0m\u001b[1;36m6\u001b[0m\u001b[1;33m,\u001b[0m \u001b[1;33m-\u001b[0m\u001b[1;36m2\u001b[0m\u001b[1;33m]\u001b[0m\u001b[1;33m,\u001b[0m \u001b[1;33m[\u001b[0m\u001b[1;36m1\u001b[0m\u001b[1;33m,\u001b[0m \u001b[1;33m-\u001b[0m\u001b[1;36m7\u001b[0m\u001b[1;33m]\u001b[0m\u001b[1;33m,\u001b[0m \u001b[1;33m[\u001b[0m\u001b[1;36m5\u001b[0m\u001b[1;33m,\u001b[0m \u001b[1;33m-\u001b[0m\u001b[1;36m1\u001b[0m\u001b[1;33m]\u001b[0m\u001b[1;33m]\u001b[0m\u001b[1;33m)\u001b[0m\u001b[1;33m\u001b[0m\u001b[1;33m\u001b[0m\u001b[0m\n\u001b[0;32m      4\u001b[0m \u001b[1;33m\u001b[0m\u001b[0m\n\u001b[1;32m----> 5\u001b[1;33m \u001b[0mprint\u001b[0m\u001b[1;33m(\u001b[0m\u001b[1;34m'mat_mat_addition(A,B) == A+B:'\u001b[0m\u001b[1;33m,\u001b[0m \u001b[0mnp\u001b[0m\u001b[1;33m.\u001b[0m\u001b[0mallclose\u001b[0m\u001b[1;33m(\u001b[0m\u001b[0mmat_mat_addition\u001b[0m\u001b[1;33m(\u001b[0m\u001b[0mA\u001b[0m\u001b[1;33m,\u001b[0m\u001b[0mB\u001b[0m\u001b[1;33m)\u001b[0m\u001b[1;33m,\u001b[0m \u001b[0mA\u001b[0m\u001b[1;33m+\u001b[0m\u001b[0mB\u001b[0m\u001b[1;33m)\u001b[0m\u001b[1;33m)\u001b[0m\u001b[1;33m\u001b[0m\u001b[1;33m\u001b[0m\u001b[0m\n\u001b[0m",
      "\u001b[1;32m<ipython-input-6-a33604b33699>\u001b[0m in \u001b[0;36mmat_mat_addition\u001b[1;34m(A, B)\u001b[0m\n\u001b[0;32m      5\u001b[0m     \u001b[0mmB\u001b[0m\u001b[1;33m,\u001b[0m \u001b[0mnB\u001b[0m \u001b[1;33m=\u001b[0m \u001b[0mnp\u001b[0m\u001b[1;33m.\u001b[0m\u001b[0mshape\u001b[0m\u001b[1;33m(\u001b[0m\u001b[0mB\u001b[0m\u001b[1;33m)\u001b[0m\u001b[1;33m\u001b[0m\u001b[1;33m\u001b[0m\u001b[0m\n\u001b[0;32m      6\u001b[0m     \u001b[1;31m# add a check that the two provided matrices are the same size\u001b[0m\u001b[1;33m\u001b[0m\u001b[1;33m\u001b[0m\u001b[1;33m\u001b[0m\u001b[0m\n\u001b[1;32m----> 7\u001b[1;33m     \u001b[1;32massert\u001b[0m \u001b[0mmA\u001b[0m\u001b[1;33m==\u001b[0m\u001b[0mmB\u001b[0m \u001b[1;32mand\u001b[0m \u001b[0mnA\u001b[0m\u001b[1;33m==\u001b[0m\u001b[0mnB\u001b[0m\u001b[1;33m\u001b[0m\u001b[1;33m\u001b[0m\u001b[0m\n\u001b[0m\u001b[0;32m      8\u001b[0m     \u001b[1;31m# initialise some space for the result\u001b[0m\u001b[1;33m\u001b[0m\u001b[1;33m\u001b[0m\u001b[1;33m\u001b[0m\u001b[0m\n\u001b[0;32m      9\u001b[0m     \u001b[0mC\u001b[0m \u001b[1;33m=\u001b[0m \u001b[0mnp\u001b[0m\u001b[1;33m.\u001b[0m\u001b[0mzeros\u001b[0m\u001b[1;33m(\u001b[0m\u001b[1;33m(\u001b[0m\u001b[0mmA\u001b[0m\u001b[1;33m,\u001b[0m \u001b[0mmB\u001b[0m\u001b[1;33m)\u001b[0m\u001b[1;33m)\u001b[0m\u001b[1;33m\u001b[0m\u001b[1;33m\u001b[0m\u001b[0m\n",
      "\u001b[1;31mAssertionError\u001b[0m: "
     ]
    }
   ],
   "source": [
    "# what does OUR function do when the matrices are of different size\n",
    "A = np.array([[1, 2], [3, 4]])\n",
    "B = np.array([[6, -2], [1, -7], [5, -1]])\n",
    "\n",
    "print('mat_mat_addition(A,B) == A+B:', np.allclose(mat_mat_addition(A,B), A+B))"
   ]
  },
  {
   "cell_type": "markdown",
   "metadata": {},
   "source": [
    "### Scalar multiplication\n",
    "\n",
    "We can multiply through by a scalar simply by multiplying each entry by that scalar:\n",
    "\n",
    "Given a matrix $A = [ a_{ij}]_{m\\times n}$ and a scalar $\\alpha$\n",
    "\n",
    "$$\\alpha A = [\\alpha a_{ij}]_{m\\times n}$$"
   ]
  },
  {
   "cell_type": "code",
   "execution_count": 9,
   "metadata": {},
   "outputs": [
    {
     "name": "stdout",
     "output_type": "stream",
     "text": [
      "alpha * A =\n",
      " [[ 4  8]\n",
      " [12 16]] \n",
      "\n"
     ]
    }
   ],
   "source": [
    "alpha = 4\n",
    "\n",
    "# The * operator is the correct thing to use here - cf. later when we introduce @!\n",
    "print('alpha * A =\\n', alpha*A, '\\n')"
   ]
  },
  {
   "cell_type": "markdown",
   "metadata": {},
   "source": [
    "### Be careful about assignments vs copies\n",
    "\n",
    "This was mentioned in ACSE-1.\n",
    "\n",
    "See the two examples below, and discussions at \n",
    "\n",
    "<https://www.jessicayung.com/numpy-views-vs-copies-avoiding-costly-mistakes/>\n",
    "\n",
    "<https://numpy.org/devdocs/user/quickstart.html#copies-and-views>"
   ]
  },
  {
   "cell_type": "code",
   "execution_count": 10,
   "metadata": {},
   "outputs": [
    {
     "name": "stdout",
     "output_type": "stream",
     "text": [
      "True\n",
      "True\n"
     ]
    }
   ],
   "source": [
    "A = np.array([[1, 2], [3, 4]])\n",
    "B = A\n",
    "\n",
    "# the following should of course be true\n",
    "print(np.array_equal(A,B))\n",
    "\n",
    "# is it still true if we update one of the entries of ONE of the matrices but not the other?\n",
    "B[0]=2\n",
    "print(np.array_equal(A,B))"
   ]
  },
  {
   "cell_type": "code",
   "execution_count": 11,
   "metadata": {},
   "outputs": [
    {
     "name": "stdout",
     "output_type": "stream",
     "text": [
      "True\n",
      "False\n"
     ]
    }
   ],
   "source": [
    "# we may or may not want the above behaviour\n",
    "\n",
    "# alternatively we can make a copy:\n",
    "A = np.array([[1, 2], [3, 4]])\n",
    "B = np.copy(A)\n",
    "print(np.array_equal(A,B))\n",
    "B[0]=2\n",
    "print(np.array_equal(A,B))"
   ]
  },
  {
   "cell_type": "markdown",
   "metadata": {},
   "source": [
    "### Matrix transpose and complex conjugate\n",
    "\n",
    "The transpose of a matrix $A$ is written as $A^T$ and defined as\n",
    "\n",
    "$$\\text{if} \\quad A = [a_{ij}]_{m\\times n}, \\qquad \\text{then}\\quad A^T = [a_{ji}]_{n\\times m} $$\n",
    "\n",
    "i.e. we just swap the rows and columns - for a non-square matrix note that this operation is perfectly allowed, the dimensions will then also swap:"
   ]
  },
  {
   "cell_type": "code",
   "execution_count": 12,
   "metadata": {},
   "outputs": [
    {
     "name": "stdout",
     "output_type": "stream",
     "text": [
      "[[1 2]\n",
      " [3 4]\n",
      " [5 6]]\n",
      "\n",
      " [[1 3 5]\n",
      " [2 4 6]]\n",
      "\n",
      " [[1 3 5]\n",
      " [2 4 6]]\n"
     ]
    }
   ],
   "source": [
    "A = np.array([[1, 2], [3, 4], [5,6]])\n",
    "print(A)\n",
    "# two NumPy ways to take the transpose:\n",
    "print('\\n',A.T)\n",
    "print('\\n',np.transpose(A))"
   ]
  },
  {
   "cell_type": "code",
   "execution_count": 13,
   "metadata": {},
   "outputs": [
    {
     "name": "stdout",
     "output_type": "stream",
     "text": [
      "\n",
      " [[1 3]\n",
      " [2 4]]\n",
      "\n",
      " [[ 1  3]\n",
      " [10  4]]\n"
     ]
    }
   ],
   "source": [
    "# again be careful about views vs copies:\n",
    "\n",
    "A = np.array([[1, 2], [3, 4]])\n",
    "B = A.T\n",
    "print('\\n',B)\n",
    "\n",
    "# updating the [0,1] entry of A\n",
    "A[0,1]=10\n",
    "\n",
    "# has the effect of changing the [1,0] entry of B!\n",
    "print('\\n',B)"
   ]
  },
  {
   "cell_type": "markdown",
   "metadata": {},
   "source": [
    "We won't generally deal with complex valued matrices, but in this case the [conjugate transpose (or Hermitian transpose)](https://en.wikipedia.org/wiki/Conjugate_transpose) is defined by additionally taking the complex conjugate of the entries:\n",
    "\n",
    "$$A^H = \\overline{A^T} = \\left(\\overline{A}\\right)^T = [\\overline{a}_{ji}]_{n\\times m} $$\n",
    "\n",
    "where $\\overline{(\\cdot)}$ indicates the complex conjugate:  \n",
    "\n",
    "$$\\overline{a+ bi} = a-bi,\\qquad \\text{where}\\qquad i=\\sqrt{-1}.$$"
   ]
  },
  {
   "cell_type": "code",
   "execution_count": 14,
   "metadata": {},
   "outputs": [
    {
     "name": "stdout",
     "output_type": "stream",
     "text": [
      "[[ 1.+1.j  3.+0.j]\n",
      " [ 4.-4.j -1.+2.j]]\n",
      "\n",
      " [[ 1.-1.j  3.-0.j]\n",
      " [ 4.+4.j -1.-2.j]]\n"
     ]
    }
   ],
   "source": [
    "# if we have a complex matrix the complex conjugate (i.e. no transpose) is sometimes useful:\n",
    "\n",
    "A = np.array( [[1+1j, 3], [4-4j, -1+2j]])\n",
    "print(A)\n",
    "print('\\n',np.conjugate(A))"
   ]
  },
  {
   "cell_type": "markdown",
   "metadata": {},
   "source": [
    "If you're wondering why `j` and not `i` is used for the square root of -1 see the discussion here:\n",
    "<https://stackoverflow.com/questions/24812444/why-are-complex-numbers-in-python-denoted-with-j-instead-of-i?>\n",
    "\n",
    "Which of the two you're used to will probably be due to what subject your first degree was in."
   ]
  },
  {
   "cell_type": "code",
   "execution_count": 15,
   "metadata": {},
   "outputs": [
    {
     "name": "stdout",
     "output_type": "stream",
     "text": [
      "[[ 1.+1.j  3.+0.j]\n",
      " [ 4.-4.j -1.+2.j]]\n",
      "\n",
      " [[ 1.-1.j  4.+4.j]\n",
      " [ 3.-0.j -1.-2.j]]\n"
     ]
    }
   ],
   "source": [
    "# and the conjugate transpose (sometimes the Hermitian transpose):\n",
    "\n",
    "A = np.array( [[1+1j, 3], [4-4j, -1+2j]])\n",
    "print(A)\n",
    "print('\\n',np.conjugate(A).T)\n",
    "# If A was a matrix object rather than just a numpy array we could also use A.H, but we won't use these"
   ]
  },
  {
   "cell_type": "markdown",
   "metadata": {},
   "source": [
    "To initialise an array of complex type we can specify the `dtype`:"
   ]
  },
  {
   "cell_type": "code",
   "execution_count": 16,
   "metadata": {},
   "outputs": [
    {
     "name": "stdout",
     "output_type": "stream",
     "text": [
      "[[0.+0.j 0.+0.j]\n",
      " [0.+0.j 0.+0.j]]\n",
      "\n",
      " [[0. 0.]\n",
      " [0. 0.]]\n"
     ]
    }
   ],
   "source": [
    "A = np.zeros((2,2), dtype=complex)\n",
    "print(A)\n",
    "\n",
    "# and if we only wanted the real part of this\n",
    "print('\\n',np.real(A))"
   ]
  },
  {
   "cell_type": "markdown",
   "metadata": {},
   "source": [
    "- If $A=A^T$ we say that $A$ is symmetric.\n",
    "\n",
    "\n",
    "- If $A=-A^T$ we say that $A$ is skew-symmetric (what does this imply the diagonal must be?)\n",
    "\n",
    "\n",
    "- If $A=A^H$ then we say that $A$ is [Hermitian](https://en.wikipedia.org/wiki/Hermitian_matrix) (so real symmetric matrices are a subset of Hermitian matrices)"
   ]
  },
  {
   "cell_type": "markdown",
   "metadata": {},
   "source": [
    "#### Properties of the transpose operator\n",
    "\n",
    "The following properties are easy to establish:\n",
    "\n",
    "For matrices $A$ and $B$ of appropriate sizes (i.e. [*conformable*](https://en.wikipedia.org/wiki/Conformable_matrix) for the given operation - addition or multiplication - see later) and a scalar $\\alpha$:\n",
    "\n",
    "\n",
    "1. $(A+B)^T = A^T + B^T$\n",
    "\n",
    "\n",
    "2. $(\\alpha A)^T = \\alpha (A^T)$\n",
    "\n",
    "\n",
    "3. $(AB)^T = B^T A^T$\n",
    "\n",
    "\n",
    "4. $(A^T)^T = A$\n",
    "\n",
    "\n",
    "As an exercise you can try and prove these from the mathematical definitions, and also demonstrate for some simple matrices using appropriate NumPy commands. The third is particularly interesting and perhaps non-obvious so worth trying to prove/verify - see the homework exercises.\n",
    "\n",
    "NB. We haven't actually defined matrix multiplication ($AB$) yet, but we will do so shortly.\n",
    "\n",
    "How does the multiplicative property expand to more matrices, i.e. what is $(ABC)^T$?"
   ]
  },
  {
   "cell_type": "markdown",
   "metadata": {},
   "source": [
    "### Indexing, slicing etc\n",
    "\n",
    "You covered some of this in ACSE-1.\n",
    "\n",
    "For more examples see\n",
    "[https://docs.scipy.org/doc/numpy/reference/arrays.indexing.html](https://docs.scipy.org/doc/numpy/reference/arrays.indexing.html)"
   ]
  },
  {
   "cell_type": "markdown",
   "metadata": {},
   "source": [
    "### Other useful NumPy attributes"
   ]
  },
  {
   "cell_type": "code",
   "execution_count": 17,
   "metadata": {},
   "outputs": [
    {
     "name": "stdout",
     "output_type": "stream",
     "text": [
      "A = \n",
      " [[10.  2.  1.]\n",
      " [ 6.  5.  4.]\n",
      " [ 1.  4.  7.]] \n",
      "\n",
      "array([[10.,  2.,  1.],\n",
      "       [ 6.,  5.,  4.],\n",
      "       [ 1.,  4.,  7.]])\n",
      "\n",
      "Size of the array storing A: np.size(A) =  9\n",
      "\n",
      "The number of dimensions of the matrix A: np.ndim(A) =  2\n",
      "\n",
      "The shape of the matrix A: np.shape(A) =  (3, 3)\n",
      "\n",
      "The number of rows: np.shape(A)[0] =  3\n"
     ]
    }
   ],
   "source": [
    "A = np.array([[10., 2., 1.], [6., 5., 4.], [1., 4., 7.]])\n",
    "\n",
    "print('A = \\n', A, '\\n')\n",
    "\n",
    "# pretty printing - useful for cutting and pasting directly into code.\n",
    "pprint(A)\n",
    "\n",
    "print('\\nSize of the array storing A: np.size(A) = ', np.size(A)) # also print(A.size) \n",
    "\n",
    "print('\\nThe number of dimensions of the matrix A: np.ndim(A) = ', np.ndim(A)) # also print(A.ndim)  \n",
    "# so note that there is a bit of a difference between NumPy and my use of \"dimension\"\n",
    "\n",
    "print('\\nThe shape of the matrix A: np.shape(A) = ', np.shape(A)) # also print(A.shape)\n",
    "\n",
    "print('\\nThe number of rows: np.shape(A)[0] = ', np.shape(A)[0]) # also print(A.shape[0]),   etc...."
   ]
  },
  {
   "cell_type": "markdown",
   "metadata": {},
   "source": [
    "# Matrix-vector multiplication\n",
    "\n",
    "## Mathematical definition\n",
    "\n",
    "This is a good point to review how we can pre-multiply a vector by a matrix, and code up this operation ourselves.\n",
    "\n",
    "[Note that matrix-vector multiplication is just a special case of the more general matrix-matrix multiplication that we will return to a little later].\n",
    "\n",
    "Given an $m\\times n$ matrix $A$ and a vector $\\boldsymbol{x}\\;$ the product is a new vector we will call $\\boldsymbol{b}\\;$:\n",
    "\n",
    "$$ A\\boldsymbol{x}=\\boldsymbol{b}$$\n",
    "\n",
    "The size of $A$ dictates the size of $\\boldsymbol{x}\\;$ where this product makes sense (is defined), and tells us the resulting size of $\\boldsymbol{b}\\;$: \n",
    "\n",
    "if $A$ is $m\\times n$, then \n",
    "$\\boldsymbol{x}\\;$ has to be $n\\times 1$  and $\\boldsymbol{b}\\;$ will then be  $m\\times 1$.\n",
    "\n",
    "\n",
    "$$b_i = \\sum_{j=1}^n a_{ij} x_j \\quad\\text{for}\\quad i=1,\\ldots, m $$\n"
   ]
  },
  {
   "cell_type": "markdown",
   "metadata": {},
   "source": [
    "## Code\n",
    "\n",
    "Let's implement our own matrix vector product function"
   ]
  },
  {
   "cell_type": "code",
   "execution_count": 18,
   "metadata": {},
   "outputs": [],
   "source": [
    "def mat_vec_product(A, x):\n",
    "    \"\"\" Return the matrix vector product Ax\n",
    "    \"\"\"\n",
    "    m, n = np.shape(A)\n",
    "    assert x.ndim == 1 # restrict to the case where x is 1D\n",
    "    assert n == len(x) # as 1D we can check the length of x is consistent with A\n",
    "    b = np.zeros(m) # and then initialise to zero the appropriate length array for b\n",
    "    for i in range(m):\n",
    "        for j in range(n):\n",
    "            b[i] += A[i, j] * x[j]\n",
    "    return b"
   ]
  },
  {
   "cell_type": "markdown",
   "metadata": {},
   "source": [
    "We'll test this shortly, but first well think about some properties and see how to do this in NumPy."
   ]
  },
  {
   "cell_type": "markdown",
   "metadata": {},
   "source": [
    "## Properties\n",
    "\n",
    "Note that the action of multiplying by a matrix is what is called a [linear operator](https://en.wikipedia.org/wiki/Linear_map). This means that matrix multiplication satisfies the properties (for a matrix $A$, vectors $\\boldsymbol{x}$ and $\\boldsymbol{y}$, and scalar $\\alpha$)\n",
    "\n",
    "\n",
    "1. $A (x + y) = Ax + Ay$\n",
    "\n",
    "\n",
    "2. $A (\\alpha x) = \\alpha A x$"
   ]
  },
  {
   "cell_type": "markdown",
   "metadata": {},
   "source": [
    "## Matrix multiplication using NumPy\n",
    "\n",
    "We can easily work out that for any $2 \\times 2$ matrix $A$ and\n",
    "\n",
    "$$\\boldsymbol{x} = \\begin{pmatrix}\n",
    "    1\\\\\n",
    "    1\n",
    "\\end{pmatrix}$$ \n",
    "\n",
    "$A\\boldsymbol{x}$ will just be the vector which is the summation of the columns of $A$. \n",
    "\n",
    "[We'll come back to this idea of interpreting matrix vector multiplication as a weighted sums of the columns of the matrix shortly.]\n",
    "\n",
    "Let's test this using NumPy."
   ]
  },
  {
   "cell_type": "code",
   "execution_count": 19,
   "metadata": {},
   "outputs": [
    {
     "name": "stdout",
     "output_type": "stream",
     "text": [
      "[[ 2  3]\n",
      " [ 1 -4]]\n",
      "\n",
      " [[ 2  3]\n",
      " [ 1 -4]]\n"
     ]
    }
   ],
   "source": [
    "A = np.array([[2, 3], [1, -4]])\n",
    "x = np.array([1, 1])\n",
    "\n",
    "print(A)\n",
    "print('\\n',A*x)"
   ]
  },
  {
   "cell_type": "markdown",
   "metadata": {},
   "source": [
    "**Not** what we were expecting.  \n",
    "\n",
    "The `*` operator is equivalent to `np.multiply` <https://docs.scipy.org/doc/numpy/reference/generated/numpy.multiply.html>, \n",
    "\n",
    "this is the same as the elementwise product in Matlab: `.*`. \n",
    "\n",
    "We want the `@` operator:"
   ]
  },
  {
   "cell_type": "code",
   "execution_count": 20,
   "metadata": {},
   "outputs": [
    {
     "name": "stdout",
     "output_type": "stream",
     "text": [
      "[[ 2  3]\n",
      " [ 1 -4]]\n",
      "\n",
      " [ 5 -3]\n"
     ]
    }
   ],
   "source": [
    "A = np.array([[2, 3], [1, -4]])\n",
    "x = np.array([1, 1])\n",
    "\n",
    "print(A)\n",
    "print('\\n',A@x)"
   ]
  },
  {
   "cell_type": "markdown",
   "metadata": {},
   "source": [
    "Note that the `@` operator was introduced relatively recently. If you look at older code you may see the use of \n",
    "`numpy.dot` <https://numpy.org/devdocs/reference/generated/numpy.dot.html> or `numpy.matmul` <https://numpy.org/devdocs/reference/generated/numpy.matmul.html#numpy.matmul>"
   ]
  },
  {
   "cell_type": "code",
   "execution_count": 21,
   "metadata": {},
   "outputs": [
    {
     "name": "stdout",
     "output_type": "stream",
     "text": [
      "[ 5 -3]\n",
      "\n",
      " [ 5 -3]\n"
     ]
    }
   ],
   "source": [
    "A = np.array([[2, 3], [1, -4]])\n",
    "x = np.array([1, 1])\n",
    "\n",
    "print(np.dot(A,x))   #  or   print('\\n',A.dot(x))\n",
    "print('\\n',np.matmul(A,x))   #  or print('\\n',A.matmul(x))"
   ]
  },
  {
   "cell_type": "markdown",
   "metadata": {},
   "source": [
    "<div class=\"optional\">\n",
    "\n",
    "### Aside: matrix objects [*]\n",
    "\n",
    "Note that NumPy does possess a matrix object as a sub-class of the NumPy array.  \n",
    "\n",
    "If needed we can cast the above two-dimensional arrays into matrix objects (with `np.mat(A)`), one consequence of this is that the `*` operator now will yield the expected matrix product. (Note that this may also be the case with certain libraries - we will see this in lecture 4 when we make use of `mpmath`, so be careful.)\n",
    "\n",
    "However, since the introduction of the `@` operator for NumPy arrays use of matrix data types is not recommended. We won't use them here.\n",
    "\n",
    "</div>"
   ]
  },
  {
   "cell_type": "markdown",
   "metadata": {},
   "source": [
    "## Testing our code\n",
    "\n",
    "OK, so now we know how to do matrix-vector multiplication properly with NumPy, let's use it to check our code."
   ]
  },
  {
   "cell_type": "code",
   "execution_count": 22,
   "metadata": {},
   "outputs": [
    {
     "name": "stdout",
     "output_type": "stream",
     "text": [
      "[ 5. -3.]\n",
      "mat_vec_product(A, x) == A@x:   True\n",
      "[ 5. -3.  2.]\n",
      "mat_vec_product(A, x) == A@x:   True\n"
     ]
    }
   ],
   "source": [
    "A = np.array([[2, 3], [1, -4]])\n",
    "x = np.array([1, 1])\n",
    "\n",
    "print(mat_vec_product(A,x))\n",
    "print('mat_vec_product(A, x) == A@x:  ', np.allclose(mat_vec_product(A, x), A@x))\n",
    "\n",
    "# Check a non-square matrix\n",
    "A = np.array([[2, 3], [1, -4], [1,1]])\n",
    "# based on the above weighted sum of columns, what should Ax be for the following x?\n",
    "x = np.array([1, 1])\n",
    "\n",
    "print(mat_vec_product(A,x))\n",
    "print('mat_vec_product(A, x) == A@x:  ', np.allclose(mat_vec_product(A, x), A@x))"
   ]
  },
  {
   "cell_type": "markdown",
   "metadata": {},
   "source": [
    "## Another useful interpretation\n",
    "\n",
    "If you think about it, the resultant vector $\\boldsymbol{b}$ in \n",
    "\n",
    "$$ \\boldsymbol{b} = A\\boldsymbol{x}$$\n",
    "\n",
    "\n",
    "is the weighted sum (i.e. a linear combination) of the columns of $A$, where the weighting of each column comes from the entries of $\\boldsymbol{x}$:\n",
    "\n",
    "\\begin{align}\n",
    "\\begin{pmatrix}\n",
    "    b_1\\\\\n",
    "    b_2\\\\\n",
    "    \\vdots\\\\\n",
    "    b_m\n",
    "\\end{pmatrix}\n",
    "&=\n",
    "\\begin{pmatrix}\n",
    "      &     &         &     \\\\      \n",
    "      &     &         &     \\\\      \n",
    "  \\boldsymbol{a}_{\\,:1} & \\boldsymbol{a}_{\\,:2} &  \\ldots & \\boldsymbol{a}_{\\,:n} \\\\\n",
    "      &     &         &     \\\\\n",
    "      &     &         &     \\\\\n",
    "\\end{pmatrix}\n",
    "\\begin{pmatrix}\n",
    "    x_1\\\\\n",
    "    x_2\\\\\n",
    "    \\vdots\\\\\n",
    "    x_n\n",
    "\\end{pmatrix}\\\\\n",
    "&=\n",
    "x_1 \n",
    "\\begin{pmatrix}\n",
    "       \\\\\n",
    "       \\\\\n",
    "   \\boldsymbol{a}_{\\,:1} \\\\\n",
    "       \\\\\n",
    "    ~   \n",
    "\\end{pmatrix}\n",
    "+\n",
    "x_2 \n",
    "\\begin{pmatrix}\n",
    "       \\\\\n",
    "       \\\\\n",
    "   \\boldsymbol{a}_{\\,:2} \\\\\n",
    "       \\\\\n",
    "    ~   \n",
    "\\end{pmatrix}\n",
    "+ \\cdots +\n",
    "x_n\n",
    "\\begin{pmatrix}\n",
    "       \\\\\n",
    "       \\\\\n",
    "   \\boldsymbol{a}_{\\,:n} \\\\\n",
    "       \\\\\n",
    "    ~   \n",
    "\\end{pmatrix}\n",
    "\\end{align}\n",
    "\n",
    "where we have used the notation $\\boldsymbol{a}_{\\,:j}$ to indicate the $j$-th column of matrix $A$.\n",
    "\n",
    "If you find it easier to think about things geometrically, then you will see later that this is a very useful way to think about what's going on when you multiply a matrix by a vector.\n",
    "\n",
    "<br>\n",
    "\n",
    "A homework exercise asks you to code up a version of matrix-vector multiplication based on this mathematical interpretation."
   ]
  },
  {
   "cell_type": "markdown",
   "metadata": {},
   "source": [
    "# Motivation - linear (or matrix) systems\n",
    "\n",
    "Almost every topic in this course, at some point (which may be hidden under the hood), requires the solution of a linear (or matrix) system of the form\n",
    "\n",
    "$$A\\boldsymbol{x}=\\boldsymbol{b},$$\n",
    "\n",
    "where for a given $m\\times n$ matrix $A$ and a given $m\\times 1$ right hand side vector $\\boldsymbol{b}\\;$ we want to find an $n\\times 1$ vector $\\boldsymbol{x}\\;$.\n",
    "\n",
    "[Remember that the product of an $m\\times n$ and an $n\\times p$ matrix (in that order) results in an $m\\times p$ matrix - we'll see this below.]  \n",
    "\n",
    "Often, but not always, we will be considering a square problem, i.e. where $m=n$. \n",
    "[ACSE-7 in particular is concerned with problems that lead to non-square systems].\n",
    "\n",
    "For many methods or algorithms the solution of linear systems such as this also turns out to be the most costly component of that method.  And also where sensible vs stupid algorithm choices can lead to terrible run times and even instability (e.g. not being able to obtain a solution at all).\n",
    "\n",
    "Hence, it is vitally important for us to understand the methods available to us to solve this problem accurately and efficiently.\n",
    "\n",
    "We also need to understand situations where the solution of this problem may be more difficult - that is more expensive and/or more difficult to achieve an accurate solution."
   ]
  },
  {
   "cell_type": "markdown",
   "metadata": {},
   "source": [
    "## A simple example\n",
    "\n",
    "Recall that we can re-write a system of simultaneous (linear) equations in matrix form.  \n",
    "\n",
    "For example, consider the following example:\n",
    "\n",
    "\\begin{eqnarray*}\n",
    "  2x + 3y &=& 7 \\\\[5pt]\n",
    "   x - 4y &=& 3,\n",
    "\\end{eqnarray*} \n",
    "\n",
    "this is completely equivalent to the following problem written in matrix form:\n",
    "\n",
    "$$\n",
    "\\begin{pmatrix}\n",
    "    2 & 3 \\\\\n",
    "    1 & -4  \n",
    "\\end{pmatrix}  \n",
    "\\begin{pmatrix}\n",
    "    x \\\\\n",
    "    y \n",
    "\\end{pmatrix}  =\n",
    "\\begin{pmatrix}\n",
    "    7 \\\\\n",
    "    3 \n",
    "\\end{pmatrix}.\n",
    "$$\n",
    "\n",
    "Indeed when you see or are given a linear system, i.e. an $A$ and a $\\boldsymbol{b}$, it's often helpful to think about the set of linear equations its representing.\n",
    "\n",
    "A collection of multiple linear equations for multiple unknowns is the general situation that will lead us to need to solve a matrix system; we may easily have a scenario where we have billions of unknowns."
   ]
  },
  {
   "cell_type": "markdown",
   "metadata": {},
   "source": [
    "## The general case\n",
    "\n",
    "More generally, consider the arbitrary system of $n$ linear equations for $n$ unknowns\n",
    "\n",
    "\\begin{eqnarray*}\n",
    "  a_{11}x_1 + a_{12}x_2 + \\dots + a_{1n}x_n &=& b_1 \\\\[5pt] \n",
    "  a_{21}x_1 + a_{22}x_2 + \\dots + a_{2n}x_n &=& b_2 \\\\[5pt]\n",
    "  \\vdots &=& \\vdots \\\\ \n",
    "  a_{n1}x_1 + a_{n2}x_2 + \\dots + a_{nn}x_n &=& b_n,\n",
    "\\end{eqnarray*}\n",
    "\n",
    "where $a_{ij}$ are the constant coefficients of the linear system, $x_j$ are the unknown variables, and $b_i$\n",
    "are the terms on the right hand side (RHS).  \n",
    "\n",
    "Here the index $i$ is referring to the equation number (equivalently the row in the matrix below), with the index $j$ referring to the component of the unknown vector $\\boldsymbol{x}$ (equivalently the column of the matrix).\n",
    "\n",
    "This system of equations can be represented as the matrix equation $A\\boldsymbol{x}=\\boldsymbol{b}\\;$: \n",
    "\n",
    "$$\n",
    "\\left(\n",
    "  \\begin{array}{cccc}\n",
    "    a_{11} & a_{12} & \\dots & a_{1n} \\\\\n",
    "    a_{21} & a_{22} & \\dots & a_{2n} \\\\\n",
    "    \\vdots & \\vdots & \\ddots & \\vdots \\\\\n",
    "    a_{n1} & a_{n2} & \\dots & a_{nn} \n",
    "  \\end{array}\n",
    "\\right)\\left(\n",
    "         \\begin{array}{c}\n",
    "           x_1 \\\\\n",
    "           x_2 \\\\\n",
    "           \\vdots \\\\\n",
    "           x_n \n",
    "         \\end{array}\n",
    "       \\right)  = \\left(\n",
    "                   \\begin{array}{c}\n",
    "                     b_1 \\\\\n",
    "                     b_2 \\\\\n",
    "                     \\vdots \\\\\n",
    "                     b_n \n",
    "                   \\end{array}\n",
    "                 \\right).\n",
    "$$\n",
    "\n",
    "We've written it here as a square matrix (of *dimension* $n\\times n$) - the same number of equations as unknowns, but this doesn't necessarily need to be the case - we may have $m$ equations and $n$ unknowns and then our matrix would be of *dimension* $m \\times n$."
   ]
  },
  {
   "cell_type": "markdown",
   "metadata": {},
   "source": [
    "## A geometric interpretation\n",
    "\n",
    "Let's go back to our simple example\n",
    "\n",
    "\\begin{eqnarray*}\n",
    "  2x + 3y &=& 7 \\\\[5pt]\n",
    "   x - 4y &=& 3\n",
    "\\end{eqnarray*} \n",
    "\n",
    "We can rearrange the first of these to\n",
    "\n",
    "$$y = -\\frac{2}{3} x + \\frac{7}{3}$$\n",
    "\n",
    "which we recognise as the equation of a straight line in 2D space: $y=mx +c$ where $m$ is the slope and $c$ is the intercept.\n",
    "\n",
    "<br>\n",
    "\n",
    "**Another interpretation:** Consider all of $(x,y)$ space where $x$ and $y$ are independent variables that are free to vary arbitrarily - they will map out, or cover/span, all of 2D space.  \n",
    "\n",
    "By stating that $ 2x + 3y = 7 $ we are now saying that $x$ and $y$ are not both independent - they cannot vary arbitrarily, one is effectively dependent on the other. \n",
    "\n",
    "For a linear system this one equation restricts, or constrains, us to a line in 2D (or a plane in 3D etc). \n",
    "\n",
    "Indeed we can think about the equation as a constraint, we might even simply call it a constraint rather than an equation.\n",
    "\n",
    "In ACSE-3 you will encounter nonlinear equations where the situation is a bit more complicated but the equations can still be considered as constraints.\n",
    "\n",
    "Above we wrote this as $y\\equiv y(x)$ ($y$ is a function of $x$) to emphasise a point, but of course we could have just as easily rearranged to $x\\equiv x(y)$. If instead of $2x + 3y = 7$ we had the equation  $2x = 7$ then of course we couldn't rearrange into the form $y\\equiv y(x)$, but trivially can into the form $x\\equiv x(y)$ (a constant in this case) - this just reflects the fact that this particular equation example represents a vertical line in 2D space ($m=\\infty$)!\n",
    "\n",
    "Of course our second equation can also be interpreted as a line in 2D space.\n",
    "\n",
    "Let's go back to our original example and plot the two lines."
   ]
  },
  {
   "cell_type": "code",
   "execution_count": 23,
   "metadata": {},
   "outputs": [
    {
     "data": {
      "text/plain": [
       "<matplotlib.legend.Legend at 0x1eaa15f6fc8>"
      ]
     },
     "execution_count": 23,
     "metadata": {},
     "output_type": "execute_result"
    },
    {
     "data": {
      "image/png": "[encoded data removed]",
      "text/plain": [
       "<Figure size 360x360 with 1 Axes>"
      ]
     },
     "metadata": {
      "needs_background": "light"
     },
     "output_type": "display_data"
    }
   ],
   "source": [
    "x = np.linspace(-1,5,100)\n",
    "y1 = -(2./3.)*x + (7./3.)\n",
    "y2 = (1./4.)*x - (3./4.)\n",
    "\n",
    "fig = plt.figure(figsize=(5, 5))\n",
    "\n",
    "ax1 = fig.add_subplot(111)\n",
    "\n",
    "ax1.set_xlabel(\"$x$\", fontsize=14)\n",
    "ax1.set_ylabel(\"$y$\", fontsize=14)\n",
    "ax1.set_title('Two lines', fontsize=14)\n",
    "ax1.grid(True)\n",
    "\n",
    "ax1.plot(x,y1,'b', label='$2x+3y=7$')\n",
    "ax1.plot(x,y2,'r', label='$x-4y=3$')\n",
    "\n",
    "ax1.legend(loc='best', fontsize=14)"
   ]
  },
  {
   "cell_type": "markdown",
   "metadata": {},
   "source": [
    "So in solving the system of simultaneous equations, or equivalently solving the corresponding matrix system, we are asking the question what $x$ and $y$ values satisfy BOTH equations (or constraints)?\n",
    "\n",
    "We have two unknowns ($x$ and $y$) and two equations (equivalently two constraints, or two pieces of information).\n",
    "\n",
    "From the image above we see that there is a solution (at the intersection) and it is clearly unique (there is only one intersection), for these particular equations. This is the only combination of $x$ and $y$ values that satisfy BOTH equations/constraints.\n",
    "\n",
    "\n",
    "In 2D for this example, one constraint restricts our 2D space of $x,y$ values to a 1D subset, the other to another 1D subset, combined they restrict the 2D space down to 0D, i.e. a single point - our unique solution.\n",
    "\n",
    "\n",
    "But of course in 2D there are two other possible scenarios - what are these?  Can you construct suitable pairs of equations that demonstrate these possibilities, and the corresponding plots to help explain what is going in visually?  .... see the exercises."
   ]
  },
  {
   "cell_type": "markdown",
   "metadata": {},
   "source": [
    "## Solving a general linear system\n",
    "\n",
    "In this simple $2\\times 2$ case we can find the solution via the above geometric method, or we can substitute one equation into the other to solve the system:\n",
    "\n",
    "\\begin{eqnarray*}\n",
    "  2x + 3y &=& 7 \\\\[5pt]\n",
    "   x - 4y &=& 3\n",
    "\\end{eqnarray*} \n",
    "\n",
    "Lots of ways we could do this, but as $x$ is already on its own in the second equation perhaps easiest (as it delays the need to deal with fractions) to rearrange and substitute $x=3+4y$ into the first:\n",
    "\n",
    "$$ 2x + 3y = 7 \\quad\\implies\\quad 2(3+4y)+3y=7 \\quad\\implies\\quad  (2\\times 4 + 3)y=7 - 2\\times 3  \\quad\\implies\\quad y = \\frac{1}{11} $$\n",
    "\n",
    "Then substitute this back into one of the equations to find $x$, again easiest option is the second:\n",
    "\n",
    "$$x=3+4y = 3+4\\times \\frac{1}{11} = \\frac{37}{11}$$\n",
    "\n",
    "But we can't really use either of these approaches (plotting or substitution) if our system is much larger in dimension - what if we had billions of unknowns (which on today's computers are problem sizes we would certainly be wanting to solve.)\n",
    "\n",
    "We can check our solution to the $2\\times 2$ problem by adding this point we just derived to our plot and comfirm if it agrees with the intersection."
   ]
  },
  {
   "cell_type": "code",
   "execution_count": 24,
   "metadata": {},
   "outputs": [
    {
     "data": {
      "text/plain": [
       "<matplotlib.legend.Legend at 0x1eaa16b2fc8>"
      ]
     },
     "execution_count": 24,
     "metadata": {},
     "output_type": "execute_result"
    },
    {
     "data": {
      "image/png": "[encoded data removed]",
      "text/plain": [
       "<Figure size 360x360 with 1 Axes>"
      ]
     },
     "metadata": {
      "needs_background": "light"
     },
     "output_type": "display_data"
    }
   ],
   "source": [
    "x = np.linspace(-1,5,100)\n",
    "y1 = -(2./3.)*x + (7./3.)\n",
    "y2 = (1./4.)*x - (3./4.)\n",
    "\n",
    "fig = plt.figure(figsize=(5, 5))\n",
    "\n",
    "ax1 = fig.add_subplot(111)\n",
    "\n",
    "ax1.set_xlabel(\"$x$\", fontsize=14)\n",
    "ax1.set_ylabel(\"$y$\", fontsize=14)\n",
    "ax1.set_title('Two lines', fontsize=14)\n",
    "ax1.grid(True)\n",
    "\n",
    "ax1.plot(x,y1,'b', label='$2x+3y=7$')\n",
    "ax1.plot(x,y2,'r', label='$x-4y=3$')\n",
    "ax1.plot(37./11,1./11, 'ko', label='Our solution')\n",
    "\n",
    "ax1.legend(loc='best', fontsize=14)"
   ]
  },
  {
   "cell_type": "markdown",
   "metadata": {},
   "source": [
    "Success!!"
   ]
  },
  {
   "cell_type": "markdown",
   "metadata": {},
   "source": [
    "# Matrix inverse\n",
    "\n",
    "For a square $n\\times n$ matrix $A$, its inverse is defined as the matrix $B$ with the same dimensions as $A$ that satisfies\n",
    "\n",
    "$$AB = BA = I$$\n",
    "\n",
    "where $I$ is the identity matrix of size $n\\times n$ (sometimes to explicitly indicate its dimension we would write $I_n$) - see a couple of cells below for the formal definition.\n",
    "\n",
    "That is if we pre- or post-multiply $A$ by this matrix we get the identity matrix. "
   ]
  },
  {
   "cell_type": "markdown",
   "metadata": {},
   "source": [
    "<div class=\"optional\">\n",
    "\n",
    "**Aside:**\n",
    "\n",
    "To understand this we need to recall what it means to multiple two matrices together. \n",
    "\n",
    "We'll go through this in detail in an optional section below rather than getting bogged down in the details here, for now we just state that mat-mat multiplication is just a straightforward extension of matrix-vector multiplication applied to each column of the matrix on the right of the pair:\n",
    "\n",
    "\n",
    "$$C=AB \\qquad \\iff \\qquad c_{ij} = \\sum_{k=1}^n a_{ik} b_{kj}$$\n",
    "\n",
    "</div>"
   ]
  },
  {
   "cell_type": "markdown",
   "metadata": {},
   "source": [
    "Such a matrix $B$, if its exists (more on this later), is called the inverse of $A$ and denoted $A^{-1}$. Note that  $(A^{-1})^{-1} = A$.\n",
    "\n",
    "The action of taking the inverse can be written $\\text{inv}(A)$, so for example $\\text{inv}(\\text{inv}(A)) = A$.\n",
    "\n",
    "Note that since we established above that $AB \\ne BA$ in general, then for non-square matrices it is certainly possible to find a matrix $B$ such that $AB=I$ but $BA\\ne I$. In this case we say that $B$ is a *right inverse*. Similar definition for *left inverse*. \n",
    "\n",
    "For square matrices a left inverse is also the right inverse and vice-versa."
   ]
  },
  {
   "cell_type": "markdown",
   "metadata": {},
   "source": [
    "## Properties of the matrix inverse\n",
    "\n",
    "If a matrix has an inverse, then that inverse is unique.\n",
    "\n",
    "How could you prove a result like this:\n",
    "\n",
    "consider a matrix $A$ and suppose $B$ and $C$ are both inverses, i.e.\n",
    "\n",
    "$$AB = BA = I\\quad\\text{and}\\quad AC = CA = I$$\n",
    "\n",
    "then it must follow that\n",
    "\n",
    "$$B = BI = B(AC) = (BA)C = IC = C$$\n",
    "\n",
    "Hence the inverse is unique."
   ]
  },
  {
   "cell_type": "markdown",
   "metadata": {},
   "source": [
    "The following properties of inverses hold\n",
    "\n",
    "For invertible matrices $A$ and $B$ (of the same square size) and scalar $\\alpha\\ne 0$\n",
    "\n",
    "\n",
    "1. $\\alpha A$ is invertible and $(\\alpha A)^{-1} = \\alpha^{-1} A^{-1}$\n",
    "\n",
    "\n",
    "2. $AB$ is invertible and $(AB)^{-1} = B^{-1}A^{-1}$\n",
    "\n",
    "\n",
    "3. $A^{-1}$ is invertible and $(A^{-1})^{-1}=A$\n",
    "\n",
    "\n",
    "4. $A^{T}$ is invertible and $(A^{T})^{-1}=(A^{-1})^T$\n",
    "\n",
    "\n",
    "As an exercise you can check these through some example using NumPy."
   ]
  },
  {
   "cell_type": "markdown",
   "metadata": {},
   "source": [
    "## Using the inverse matrix to solve a linear system\n",
    "\n",
    "**IF** we have the inverse matrix, then to solve the matrix equation \n",
    "\n",
    "$$ A\\boldsymbol{x}=\\boldsymbol{b} $$\n",
    "\n",
    "we can simply multiply both sides by the inverse of the matrix $A$:\n",
    "\n",
    "\\begin{align}\n",
    "A\\boldsymbol{x} & = \\boldsymbol{b}\\\\\n",
    "\\implies A^{-1}A\\boldsymbol{x} & = A^{-1}\\boldsymbol{b}\\\\\n",
    "\\implies I\\boldsymbol{x} & = A^{-1}\\boldsymbol{b}\\\\\n",
    "\\implies \\boldsymbol{x} & = A^{-1}\\boldsymbol{b}\n",
    "\\end{align}\n",
    "\n",
    "so we can find the solution $\\boldsymbol{x}$ by multiplying the inverse of $A$ with the RHS vector $\\boldsymbol{b}$."
   ]
  },
  {
   "cell_type": "markdown",
   "metadata": {},
   "source": [
    "### The inverse for our simple example\n",
    "\n",
    "Note that for our $2\\times 2$ case, when we went through the steps of substituting one equation into another to solve the system, this actually pretty much gave us enough information to write down the inverse matrix.\n",
    "\n",
    "Let's check that we do indeed have an inverse:"
   ]
  },
  {
   "cell_type": "code",
   "execution_count": 25,
   "metadata": {},
   "outputs": [
    {
     "name": "stdout",
     "output_type": "stream",
     "text": [
      "[[1. 0.]\n",
      " [0. 1.]]\n",
      "[[1. 0.]\n",
      " [0. 1.]]\n"
     ]
    }
   ],
   "source": [
    "# our matrix\n",
    "A = np.array([[2, 3], [1, -4]])\n",
    "\n",
    "# I claim this is the inverse to that matrix\n",
    "B = (-1./11)*np.array([[-4, -3], [-1, 2]])\n",
    "\n",
    "# let's check\n",
    "print(A@B)\n",
    "print(B@A)"
   ]
  },
  {
   "cell_type": "markdown",
   "metadata": {},
   "source": [
    "<div class=\"optional\">\n",
    "    \n",
    "### Row operations and a glimpse at Gaussian elimination [\\* - please read through this in your own time]\n",
    "\n",
    "What did we do when we used substitution to solve our problem\n",
    "\n",
    "$$\n",
    "\\begin{align*}\n",
    "  2x + 3y &= 7 \\\\[5pt]\n",
    "   x - 4y &= 3 \n",
    "\\end{align*}\n",
    "   \\quad \\iff \\quad\n",
    "  \\begin{pmatrix}\n",
    "    2 & 3 \\\\\n",
    "    1 & -4  \n",
    "  \\end{pmatrix}\n",
    "  \\begin{pmatrix}\n",
    "    x \\\\\n",
    "    y \n",
    "  \\end{pmatrix}=\n",
    "  \\begin{pmatrix}\n",
    "    7 \\\\\n",
    "    3 \n",
    "  \\end{pmatrix}   \n",
    "$$\n",
    "\n",
    "We rearranged the second equation to yield $x=3+4y$ and substituted it into the first to obtain an equation that contained $y$'s only. \n",
    "\n",
    "We can achieve exactly the same thing if we subtract twice the second equation from the first: the $x$'s cancel, we get $3-2\\times (-4)$ (i.e. 11) $y$'s on the LHS, and on the RHS we get $7-2\\times 3$, i.e. 1.  \n",
    "\n",
    "Hence, we have $11y=1$ and so $y=1/11$.\n",
    "\n",
    "We effectively performed what are called **row operations** on the matrix and the RHS vector. Recalling that each row of the matrix encodes an algebraic equation, we can multiply each row by a non-zero scalar, add multiples of one row to another, and swap rows, without changing the overall information that the rows (or the corresponding equations) are telling us (as long as we remember that we must apply the same operation to the RHS value, otherwise the equation would change!).\n",
    "\n",
    "<br>\n",
    "\n",
    "For the example above, multiplying a row by a scalar or swapping rows would not change the two lines in the plot and so not change the solution.  Adding a multiple of one row to another and replacing one row with this updated row **will** change one of the lines, **but** the intersection point won't change - convince yourself of this with some additional plotting.\n",
    "    \n",
    "<br>\n",
    "    \n",
    "    \n",
    "We can perform these operations in a way that is easy to keep track of by forming an augmented matrix (we add the RHS vector as an additional column). \n",
    "\n",
    "In this demonstration where we also want to form the inverse matrix let's additionally add columns corresponding to the inverse matrix. \n",
    "\n",
    "The notation above the arrows should hopefully be clear, it's encoding the operations we are performing on the rows, with '(1)' and '(2)' identifying the first and second row, respectively. '$(1)\\leftarrow (1)-2(2)$' means replace the first row with the first row minus twice the second row - the operation we performed above.\n",
    "\n",
    "When we perform these operations on the rows of the matrix $A$, we also apply them to the additional columns in our augmented matrix:\n",
    "\n",
    "\\begin{align*}\n",
    "[A \\, | \\, \\boldsymbol{b} \\, | \\, I] = \n",
    "&\\left[\n",
    "  \\begin{array}{cc|c|cc}\n",
    "    2 & 3 & 7 & 1 & 0 \\\\\n",
    "    1 & -4 & 3 & 0 & 1  \n",
    "  \\end{array}\n",
    "\\right]\n",
    "\\xrightarrow{(1)\\leftarrow (1)-2(2)}\n",
    "\\left[\n",
    "  \\begin{array}{cc|c|cc}\n",
    "    0 & 11 & 1 & 1 & -2 \\\\\n",
    "    1 & -4 & 3 & 0 & 1  \n",
    "  \\end{array}\n",
    "\\right]\n",
    "\\xrightarrow{(1)\\leftarrow (1)/11}\n",
    "\\left[\n",
    "  \\begin{array}{cc|c|cc}\n",
    "    0 & 1 & 1/11 & 1/11 & -2/11 \\\\\n",
    "    1 & -4 & 3 & 0 & 1  \n",
    "  \\end{array}\n",
    "\\right]\\\\\n",
    "&\\xrightarrow{(2)\\leftarrow (2)+4(1)}\n",
    "\\left[\n",
    "  \\begin{array}{cc|c|cc}\n",
    "    0 & 1 & 1/11 & 1/11 & -2/11 \\\\\n",
    "    1 & 0 & 3+4/11 & 4/11 & 1-8/11  \n",
    "  \\end{array}\n",
    "\\right]\n",
    "\\xrightarrow{(1)\\leftrightarrow (2)}\n",
    "\\left[\n",
    "  \\begin{array}{cc|c|cc}\n",
    "    1 & 0 & 3+4/11 & 4/11 & 1-8/11  \\\\\n",
    "    0 & 1 & 1/11 & 1/11 & -2/11 \n",
    "  \\end{array}\n",
    "\\right]\n",
    "\\end{align*}\n",
    "\n",
    "Now the fact that we have transformed $A$ into $I$ via these so-called *row operations* means that what was originally in the $\\boldsymbol{b}$ position is now the solution $\\boldsymbol{x}$, and what was originally $I$ is now $A^{-1}$:\n",
    "\n",
    "$$\\boldsymbol{x} =\n",
    "\\begin{pmatrix}\n",
    "3+4/11\\\\\n",
    "1/11\n",
    "\\end{pmatrix}=\n",
    "\\begin{pmatrix}\n",
    "37/11\\\\\n",
    "1/11\n",
    "\\end{pmatrix},\\qquad\n",
    "A^{-1} = \n",
    "\\begin{pmatrix}\n",
    "    4/11 & 1-8/11  \\\\\n",
    "    1/11 & -2/11 \n",
    "\\end{pmatrix}= \n",
    "\\begin{pmatrix}\n",
    "    4/11 & 3/11  \\\\\n",
    "    1/11 & -2/11 \n",
    "\\end{pmatrix}= \\frac{-1}{11}\n",
    "\\begin{pmatrix}\n",
    "    -4 & -3  \\\\\n",
    "    -1 & 2 \n",
    "\\end{pmatrix}\n",
    "$$\n",
    "\n",
    "A homework exercise asks you to repeat these steps to derive the inverse of the completely general $2\\times 2$ matrix\n",
    "\n",
    "$$A = \\begin{pmatrix}\n",
    "a & b\\\\\n",
    "c & d\n",
    "\\end{pmatrix}$$\n",
    "\n",
    "</div>"
   ]
  },
  {
   "cell_type": "markdown",
   "metadata": {},
   "source": [
    "### Solving our simple example using the inverse matrix\n",
    "\n",
    "So we have enough information now to solve our problem\n",
    "\n",
    "$$\n",
    "\\begin{align*}\n",
    "  2x + 3y &= 7 \\\\[5pt]\n",
    "   x - 4y &= 3 \n",
    "\\end{align*}\n",
    "   \\quad \\iff \\quad\n",
    "  \\begin{pmatrix}\n",
    "    2 & 3 \\\\\n",
    "    1 & -4  \n",
    "  \\end{pmatrix}\n",
    "  \\begin{pmatrix}\n",
    "    x \\\\\n",
    "    y \n",
    "  \\end{pmatrix}=\n",
    "  \\begin{pmatrix}\n",
    "    7 \\\\\n",
    "    3 \n",
    "  \\end{pmatrix}   \n",
    "$$\n",
    "\n",
    "\n",
    "Recalling the solution we calculated through substitution: $x=37/11$ and $y=1/11$, we can use to check our numerical solution.\n",
    "\n",
    "Let's calculate \n",
    "\n",
    "$$\\boldsymbol{x} = A^{-1}\\boldsymbol{b}$$"
   ]
  },
  {
   "cell_type": "code",
   "execution_count": 26,
   "metadata": {},
   "outputs": [
    {
     "name": "stdout",
     "output_type": "stream",
     "text": [
      "x =  [3.363636 0.090909]\n",
      "\n",
      "Our computed solution solves the linear system (Ax == b):  True\n",
      "\n",
      "and agrees with the exact solution we computed by hand:  True\n"
     ]
    }
   ],
   "source": [
    "# form the LHS matrix\n",
    "A = np.array([[2., 3.], [1., -4.]])\n",
    "\n",
    "# form the RHS vector\n",
    "b = np.array([7., 3.])\n",
    "\n",
    "# the inverse matrix from above:\n",
    "invA = (-1./11)*np.array([[-4, -3], [-1, 2]])\n",
    "\n",
    "# compute and print our solution\n",
    "x = invA@b\n",
    "print('x = ',x)\n",
    "\n",
    "# Check our two numerical solutions using the numpy allclose function\n",
    "print('\\nOur computed solution solves the linear system (Ax == b): ', \n",
    "      np.allclose(A@x, b))\n",
    "\n",
    "# and check further that this agrees with the solution we computed by hand\n",
    "print('\\nand agrees with the exact solution we computed by hand: ', \n",
    "      np.allclose(x, [37./11., 1./11.]))"
   ]
  },
  {
   "cell_type": "markdown",
   "metadata": {},
   "source": [
    "<div class=\"optional\">\n",
    "\n",
    "## Aside: constructing some useful simple matrices in NumPy [*]\n",
    "\n",
    "Now is perhaps a good opportunity to review some more useful NumPy commands to construct certain common matrices.\n",
    "\n",
    "[NB. Everything below can be extended to higher rank tensors]\n",
    "\n",
    "</div>"
   ]
  },
  {
   "cell_type": "markdown",
   "metadata": {},
   "source": [
    "<div class=\"optional\">\n",
    "    \n",
    "### The identity matrix\n",
    "\n",
    "The identity matrix $I$ (sometimes to indicate dimension we would write $I_n$ or even $I(n)$) is of size $n\\times n$ and is zero everywhere except for the main diagonal where all entries are 1 (sometimes you will see people use the word unity).\n",
    "\n",
    "</div>"
   ]
  },
  {
   "cell_type": "code",
   "execution_count": 27,
   "metadata": {
    "scrolled": true
   },
   "outputs": [
    {
     "name": "stdout",
     "output_type": "stream",
     "text": [
      "[[1. 0. 0.]\n",
      " [0. 1. 0.]\n",
      " [0. 0. 1.]]\n"
     ]
    }
   ],
   "source": [
    "# how to initialise the identity matrix, I or Id\n",
    "print(np.eye(3))"
   ]
  },
  {
   "cell_type": "markdown",
   "metadata": {},
   "source": [
    "<div class=\"optional\">\n",
    "\n",
    "### Diagonal matrices\n",
    "\n",
    "Diagonal matrices are very useful and occur a lot.\n",
    "\n",
    "The command `numpy.diag` can be used to both extract diagonals from matrices, and to place vectors in place on the diagonals of matrices.\n",
    "\n",
    "For example:\n",
    "\n",
    "</div>"
   ]
  },
  {
   "cell_type": "code",
   "execution_count": 28,
   "metadata": {},
   "outputs": [
    {
     "name": "stdout",
     "output_type": "stream",
     "text": [
      "[1. 1. 1.]\n",
      "\n",
      " [1. 1. 1.]\n",
      "\n",
      " [0. 0.]\n"
     ]
    }
   ],
   "source": [
    "# extract a diagonal of given a matrix (2D array)\n",
    "print(np.diag(np.eye(3)))\n",
    "# the default is to extract the leading diagonal (k=0)\n",
    "print('\\n',np.diag(np.eye(3),k=0))\n",
    "# can also extract off diagonals with positive/negative integer k's:\n",
    "print('\\n',np.diag(np.eye(3),k=1))"
   ]
  },
  {
   "cell_type": "code",
   "execution_count": 29,
   "metadata": {},
   "outputs": [
    {
     "name": "stdout",
     "output_type": "stream",
     "text": [
      "[[1 0 0]\n",
      " [0 2 0]\n",
      " [0 0 3]]\n",
      "\n",
      " [[0 0 0 0]\n",
      " [1 0 0 0]\n",
      " [0 2 0 0]\n",
      " [0 0 3 0]]\n"
     ]
    }
   ],
   "source": [
    "# given a 1D array diag constructs a 2D array:\n",
    "print(np.diag(np.array([1,2,3])))\n",
    "# again default is to place on the leading diagonal, but we can specify other diagonals:\n",
    "print('\\n',np.diag(np.array([1,2,3]), k=-1))"
   ]
  },
  {
   "cell_type": "markdown",
   "metadata": {},
   "source": [
    "<div class=\"optional\">\n",
    "\n",
    "### Matrices of zeros or ones, empty matrices\n",
    "\n",
    "The matrix $\\boldsymbol{0}$ made up of zero entries is termed the zero matrix or the null matrix.\n",
    "\n",
    "Mathematically, we will see it's use when we talk about eigenvalues next lecture, as well as null spaces.\n",
    "\n",
    "Computationally, we will often initialise an array or matrix to zero if we subsequently perform operations which add entries to it.\n",
    "\n",
    "</div>"
   ]
  },
  {
   "cell_type": "code",
   "execution_count": 30,
   "metadata": {},
   "outputs": [
    {
     "name": "stdout",
     "output_type": "stream",
     "text": [
      "[0. 0. 0.]\n",
      "\n",
      " [0. 0.]\n",
      "\n",
      " [[0 0]\n",
      " [0 0]]\n"
     ]
    }
   ],
   "source": [
    "# how to initialise a vector of zeros \n",
    "print(np.zeros(3))\n",
    "# vector of zeros of length the same as number of rows in A\n",
    "A = np.array([[2, 3], [1, -4]])\n",
    "print('\\n', np.zeros(np.shape(A)[0]))\n",
    "# matrix of zeros of length the same shape as A\n",
    "print('\\n', np.zeros_like(A))"
   ]
  },
  {
   "cell_type": "code",
   "execution_count": 31,
   "metadata": {},
   "outputs": [
    {
     "name": "stdout",
     "output_type": "stream",
     "text": [
      "[[0. 0. 0.]\n",
      " [0. 0. 0.]\n",
      " [0. 0. 0.]]\n"
     ]
    }
   ],
   "source": [
    "# how to initialise a matrix of zeros\n",
    "print(np.zeros((3,3)))\n",
    "\n",
    "# also\n",
    "\n",
    "#print('\\n', np.zeros(np.shape(A)))\n",
    "#print('\\n', np.zeros_like(A))"
   ]
  },
  {
   "cell_type": "code",
   "execution_count": 32,
   "metadata": {},
   "outputs": [
    {
     "name": "stdout",
     "output_type": "stream",
     "text": [
      "[[[0. 0. 0.]\n",
      "  [0. 0. 0.]\n",
      "  [0. 0. 0.]]\n",
      "\n",
      " [[0. 0. 0.]\n",
      "  [0. 0. 0.]\n",
      "  [0. 0. 0.]]\n",
      "\n",
      " [[0. 0. 0.]\n",
      "  [0. 0. 0.]\n",
      "  [0. 0. 0.]]]\n",
      "27\n",
      "(3, 3, 3)\n"
     ]
    }
   ],
   "source": [
    "# how to initialise a 3rd-order tensor of zeros\n",
    "print(np.zeros((3,3,3)))\n",
    "\n",
    "print(np.size(np.zeros((3,3,3))))\n",
    "\n",
    "print(np.shape(np.zeros((3,3,3))))"
   ]
  },
  {
   "cell_type": "markdown",
   "metadata": {},
   "source": [
    "<div class=\"optional\">\n",
    "    \n",
    "Initialising an array or matrix to have all entries one (unity) is useful if we subsequently apply multiplicative operations on its entries.\n",
    "\n",
    "</div>"
   ]
  },
  {
   "cell_type": "code",
   "execution_count": 33,
   "metadata": {},
   "outputs": [
    {
     "name": "stdout",
     "output_type": "stream",
     "text": [
      "[1. 1. 1.]\n",
      "\n",
      " [[1. 1. 1.]\n",
      " [1. 1. 1.]\n",
      " [1. 1. 1.]]\n",
      "\n",
      " [[1 1]\n",
      " [1 1]]\n"
     ]
    }
   ],
   "source": [
    "# how to initialise a vector of ones \n",
    "print(np.ones(3))\n",
    "print('\\n',np.ones((3,3)))\n",
    "# A matrix of ones, the same size as A\n",
    "A = np.array([[2, 3], [1, -4]])\n",
    "print('\\n', np.ones_like(A))"
   ]
  },
  {
   "cell_type": "code",
   "execution_count": 34,
   "metadata": {},
   "outputs": [
    {
     "name": "stdout",
     "output_type": "stream",
     "text": [
      "\n",
      " [1. 1. 1.]\n"
     ]
    }
   ],
   "source": [
    "# if you don't care about initialise to zero you can use\n",
    "print('\\n', np.empty(3))\n",
    "# but the entries will be random\n",
    "\n",
    "# (they might appear as zeros but you can't guarantee this)\n",
    "# as you're not setting values on initialisation this will be\n",
    "# slightly faster - but not enough to really warrant use in this course."
   ]
  },
  {
   "cell_type": "markdown",
   "metadata": {},
   "source": [
    "# The determinant \n",
    "\n",
    "So for linear systems (and next lecture we will see also for eigenvalues), we need a method to determine whether a given matrix is invertible or not - the determinant of the matrix tells us this.\n",
    "\n",
    "The [*determinant*](https://en.wikipedia.org/wiki/Determinant) is a quantity of a square matrix which can be computed directly from its entries.\n",
    "\n",
    "It can be written as either $\\det(A)$ or $|A|$.\n",
    "\n",
    "Geometrically it gives the scaling of the volume (area in 2D) of a shape under the linear transformation represented by the matrix - proved at the end, and more on linear transformations next lecture. \n",
    "\n",
    "If the mapped volume has zero volume, how does this fact alone tell you that the matrix can't have an inverse?\n",
    "\n",
    "[since zero volume in the mapping implies that (at least) two distinct points are mapped to the same point - we therefore do not have a well-defined inverse]."
   ]
  },
  {
   "cell_type": "markdown",
   "metadata": {},
   "source": [
    "Consider the matrix\n",
    "\n",
    "$$\n",
    "\\left(\n",
    "  \\begin{array}{rr}\n",
    "    2 & 3 \\\\\n",
    "    4 & 6  \\\\\n",
    "  \\end{array}\n",
    "\\right),\n",
    "$$\n",
    "\n",
    "for a $2 \\times 2$ matrix we can compute the determinant in our heads (or with a calculator!) - we multiply the two main diagonal entries and subtract the multiple of the off-diagonal entries:\n",
    "\n",
    "$$\\det(A) = (2\\times 6) - (3\\times 4) = 0$$\n",
    "\n",
    "Let's check this using a SciPy function for computing determinants:"
   ]
  },
  {
   "cell_type": "code",
   "execution_count": 35,
   "metadata": {},
   "outputs": [
    {
     "name": "stdout",
     "output_type": "stream",
     "text": [
      "-6.661338147750939e-16\n",
      "True\n"
     ]
    }
   ],
   "source": [
    "A = np.array( [[2, 3], [4, 6] ] )\n",
    "print(sl.det(A))\n",
    "print(np.allclose(0,sl.det(A)))"
   ]
  },
  {
   "cell_type": "code",
   "execution_count": 36,
   "metadata": {},
   "outputs": [
    {
     "name": "stdout",
     "output_type": "stream",
     "text": [
      "-11.0\n"
     ]
    }
   ],
   "source": [
    "# and for our linear system example above:\n",
    "A = np.array([[2, 3], [1, -4]])\n",
    "print(sl.det(A))"
   ]
  },
  {
   "cell_type": "markdown",
   "metadata": {},
   "source": [
    "The former determinant is zero (to round off) and this means that the corresponding matrix does not have an inverse, \n",
    "\n",
    "the latter is safely non-zero and hence is why we were able to find the inverse without problem.\n",
    "\n",
    "We'll review the general formula for the determinant later.\n",
    "\n",
    "A homework exercise includes writing our own function to compute the determinant of a general matrix."
   ]
  },
  {
   "cell_type": "markdown",
   "metadata": {},
   "source": [
    "<div class=\"optional\">\n",
    "\n",
    "# Matrix-vector multiplication (again; code speed) [\\*]\n",
    "\n",
    "Let's go back to our matrix vector multiplication code to test our calculation above, and we will also think about speed!\n",
    "\n",
    "</div>"
   ]
  },
  {
   "cell_type": "code",
   "execution_count": 37,
   "metadata": {},
   "outputs": [],
   "source": [
    "# copied from above\n",
    "\n",
    "def mat_vec_product(A, x):\n",
    "    \"\"\" Return the matrix vector product Ax\n",
    "    \"\"\"\n",
    "    m, n = np.shape(A)\n",
    "    assert x.ndim == 1 # restrict to the case where x is 1D\n",
    "    assert n == len(x) # as 1D we can check the length of x is consistent with A\n",
    "    b = np.zeros(m) # and then initialise the appropriate length array for b\n",
    "    for i in range(m):\n",
    "        for j in range(n):\n",
    "            b[i] += A[i, j] * x[j]\n",
    "    return b"
   ]
  },
  {
   "cell_type": "markdown",
   "metadata": {},
   "source": [
    "<div class=\"optional\">\n",
    "\n",
    "## Testing our code \n",
    "\n",
    "Let's test our code by comparing it against our case from above.\n",
    "\n",
    "</div>"
   ]
  },
  {
   "cell_type": "code",
   "execution_count": 38,
   "metadata": {},
   "outputs": [
    {
     "name": "stdout",
     "output_type": "stream",
     "text": [
      "Ax=b (NumPy):  True\n",
      "Ax=b (mat_vec_product):  True\n"
     ]
    }
   ],
   "source": [
    "# our LHS matrix\n",
    "A = np.array([[2., 3.], [1., -4.]])\n",
    "# our RHS vector\n",
    "b = np.array([7., 3.])\n",
    "# the solution we calculated\n",
    "x = np.array([37./11., 1./11.])\n",
    "\n",
    "# first let's check that Ax = b using NumPy's matrix-vector multiplication\n",
    "print('Ax=b (NumPy): ',np.allclose(A@x, b))\n",
    "\n",
    "# and with our function\n",
    "print('Ax=b (mat_vec_product): ',np.allclose(mat_vec_product(A,x), b))\n"
   ]
  },
  {
   "cell_type": "markdown",
   "metadata": {},
   "source": [
    "<div class=\"optional\">\n",
    "\n",
    "## Checking the speed of our code!\n",
    "\n",
    "Let's check how efficient out code is compared to NumPy - as mentioned above `@` and `np.dot` are two in-built methods to perform matrix multiplication, let's consider both to see if there's any difference between them.\n",
    "\n",
    "</div>"
   ]
  },
  {
   "cell_type": "code",
   "execution_count": 39,
   "metadata": {},
   "outputs": [
    {
     "name": "stdout",
     "output_type": "stream",
     "text": [
      "1.07 µs ± 13.6 ns per loop (mean ± std. dev. of 7 runs, 1000000 loops each)\n",
      "627 ns ± 3.71 ns per loop (mean ± std. dev. of 7 runs, 1000000 loops each)\n",
      "4.84 µs ± 96.6 ns per loop (mean ± std. dev. of 7 runs, 100000 loops each)\n",
      "1.042910600000006e-06 6.215071999999964e-07 4.704897000000017e-06 4.511313817310889\n"
     ]
    }
   ],
   "source": [
    "A = np.array([[2., 3.], [1., -4.]])\n",
    "x = np.array([37./11., 1./11.])\n",
    "\n",
    "time_at = %timeit -o b=A@x  \n",
    "time_dot = %timeit -o b=A.dot(x)\n",
    "time_ours = %timeit -o b=mat_vec_product(A, x)\n",
    "\n",
    "# if you wanted to control number of calls to reduce time use something like: %timeit -n 10 -r 3 -o b=A@x\n",
    "\n",
    "print(time_at.best, time_dot.best, time_ours.best, time_ours.best/time_at.best)"
   ]
  },
  {
   "cell_type": "markdown",
   "metadata": {},
   "source": [
    "<div class=\"optional\">\n",
    "\n",
    "So for our $2\\times 2$ example we're slower, but not disastrously.\n",
    "\n",
    "Let's try a larger example using some matrices made up of random entries.\n",
    "\n",
    "</div>"
   ]
  },
  {
   "cell_type": "code",
   "execution_count": 40,
   "metadata": {},
   "outputs": [
    {
     "name": "stdout",
     "output_type": "stream",
     "text": [
      "A @ x = mat_vec_product(A, x):   True\n",
      "754 µs ± 323 µs per loop (mean ± std. dev. of 3 runs, 10 loops each)\n",
      "368 µs ± 11.5 µs per loop (mean ± std. dev. of 3 runs, 10 loops each)\n",
      "1.08 s ± 14.1 ms per loop (mean ± std. dev. of 3 runs, 10 loops each)\n",
      "0.0003495200000003251 0.0003528700000003937 1.057822610000001 3026.5009441491675\n"
     ]
    }
   ],
   "source": [
    "# just some random numbers, doesn't need to be square for this demo\n",
    "m = 1234\n",
    "n = 1498\n",
    "# a random (dense) matrix and vector\n",
    "A = np.random.random((m,n))\n",
    "x = np.random.random((n))\n",
    "\n",
    "print('A @ x = mat_vec_product(A, x):  ', np.allclose(A@x , mat_vec_product(A, x)))\n",
    "\n",
    "time_at = %timeit -n 10 -r 3 -o b=A@x\n",
    "time_dot = %timeit -n 10 -r 3 -o b=A.dot(x)\n",
    "time_ours = %timeit -n 10 -r 3 -o b=mat_vec_product(A, x)\n",
    "\n",
    "print(time_at.best, time_dot.best, time_ours.best, time_ours.best/time_at.best)"
   ]
  },
  {
   "cell_type": "markdown",
   "metadata": {},
   "source": [
    "<div class=\"optional\">\n",
    "\n",
    "Oh dear. A lot slower!\n",
    "\n",
    "More on this in the exercises.\n",
    "\n",
    "</div>"
   ]
  },
  {
   "cell_type": "markdown",
   "metadata": {},
   "source": [
    "<div class=\"optional\">\n",
    "\n",
    "# Matrix-matrix product [*]\n",
    "\n",
    "To test whether or not we have a matrix that is an inverse we need to know how to perform matrix-matrix multiplication in order to check, and to make use of the inverse to solve the corresponding linear system.\n",
    "\n",
    "This is just a straightforward extension of matrix-vector multiplication applied to each column of the right-hand matrix.\n",
    "\n",
    "</div>"
   ]
  },
  {
   "cell_type": "markdown",
   "metadata": {},
   "source": [
    "<div class=\"optional\">\n",
    "\n",
    "The matrix-matrix product \n",
    "\n",
    "$$C=AB$$\n",
    "\n",
    "is defined by \n",
    "\n",
    "$$c_{ij} = \\sum_{k=1}^n a_{ik} b_{kj}$$\n",
    "\n",
    "If you're familiar with [Einstein summation convention](https://en.wikipedia.org/wiki/Einstein_notation) we can also write\n",
    "\n",
    "$$c_{ij} = a_{ik} b_{kj}$$\n",
    "\n",
    "we have contracted over the inner-most index - this is why the convention to say \"m by n\" makes sense.\n",
    "\n",
    "</div>"
   ]
  },
  {
   "cell_type": "markdown",
   "metadata": {},
   "source": [
    "<div class=\"optional\">\n",
    "\n",
    "## Conformable dimensions\n",
    "\n",
    "Note that matrix multiplication needs to be conducted between matrices which are [*conformable*](https://en.wikipedia.org/wiki/Conformable_matrix) for multiplication.\n",
    "\n",
    "For matrix-vector multiplication this meant we needed the same number of columns in the matrix as entires in the vector, and the result was a new vector with the same number of rows as the matrix, we could write this as:\n",
    "\n",
    "$$ (m \\times n) \\times (n \\times 1) = (m \\times 1) $$\n",
    "\n",
    "For the general matrix-matrix case this requirement can be illustrated as\n",
    "\n",
    "$$ (m \\times n) \\times (n \\times p) = (m \\times p) $$\n",
    "\n",
    "and so in the mathematics above, $1\\leq i \\leq m$ and $1\\leq j \\leq p$, while $1\\leq k \\leq n$.\n",
    "\n",
    "</div>"
   ]
  },
  {
   "cell_type": "markdown",
   "metadata": {},
   "source": [
    "<div class=\"optional\">\n",
    "\n",
    "## Properties\n",
    "\n",
    "Matrix-matrix multiplication satisfies the properties:\n",
    "\n",
    "\n",
    "1. $A(B + C) = AB + AC$ - this is termed the *distributive* property - matrix multiplication is distributive\n",
    "\n",
    "\n",
    "2. $AB \\neq BA$, in general - matrix multiplication is not commutative\n",
    "\n",
    "\n",
    "3. $A(BC) = (AB)C$,  assuming consistent matrix dimensions - matrix multiplication is associative\n",
    "\n",
    "\n",
    "4. $A (cB) = c AB$,  for scalars $\\alpha$ - you can pull scalar factors out\n",
    "\n",
    "</div>"
   ]
  },
  {
   "cell_type": "markdown",
   "metadata": {},
   "source": [
    "<div class=\"optional\">\n",
    "\n",
    "## Code\n",
    "\n",
    "We can code this up quite easily.\n",
    "\n",
    "</div>"
   ]
  },
  {
   "cell_type": "code",
   "execution_count": 41,
   "metadata": {},
   "outputs": [],
   "source": [
    "def mat_mat_product(A, B):\n",
    "    \"\"\" Return the matrix matrix product AB\n",
    "    \"\"\"\n",
    "    m, n1 = np.shape(A)\n",
    "    n2, p = np.shape(B)\n",
    "    assert n1==n2 \n",
    "    C = np.zeros((m, p))\n",
    "    for i in range(m):\n",
    "        for j in range(p):\n",
    "            for k in range(n1):\n",
    "                C[i, j] += A[i, k] * B[k, j]\n",
    "    return C"
   ]
  },
  {
   "cell_type": "markdown",
   "metadata": {},
   "source": [
    "<div class=\"optional\">\n",
    "\n",
    "### Testing our code\n",
    "\n",
    "</div>"
   ]
  },
  {
   "cell_type": "code",
   "execution_count": 42,
   "metadata": {},
   "outputs": [
    {
     "name": "stdout",
     "output_type": "stream",
     "text": [
      "our code agree with @: True\n",
      "A(B+C)==AB+AC:  True\n",
      "A(alpha B)==alpha AB:  True\n",
      "AB==BA:  False\n"
     ]
    }
   ],
   "source": [
    "# define some random matrices\n",
    "m = 10\n",
    "n = 10\n",
    "p = 10\n",
    "A = np.random.random((m, n))\n",
    "B = np.random.random((n, p))\n",
    "C = np.random.random((n, p))\n",
    "alpha = np.random.random((1,))\n",
    "print('our code agree with @:', np.allclose(mat_mat_product(A, B), A@B))\n",
    "print('A(B+C)==AB+AC: ',np.allclose(mat_mat_product(A, (B + C)), mat_mat_product(A, B) + mat_mat_product(A, C)))\n",
    "print('A(alpha B)==alpha AB: ', np.allclose(mat_mat_product(A, alpha * B), alpha*mat_mat_product(A, B)))\n",
    "print('AB==BA: ',np.allclose(mat_mat_product(A, B), mat_mat_product(B, A)))"
   ]
  },
  {
   "cell_type": "code",
   "execution_count": 43,
   "metadata": {},
   "outputs": [
    {
     "name": "stdout",
     "output_type": "stream",
     "text": [
      "our code agree with @: True\n",
      "A(B+C)==AB+AC:  True\n",
      "A(alpha B)==alpha AB:  True\n"
     ]
    },
    {
     "ename": "AssertionError",
     "evalue": "",
     "output_type": "error",
     "traceback": [
      "\u001b[1;31m---------------------------------------------------------------------------\u001b[0m",
      "\u001b[1;31mAssertionError\u001b[0m                            Traceback (most recent call last)",
      "\u001b[1;32m<ipython-input-43-76ca1b02a288>\u001b[0m in \u001b[0;36m<module>\u001b[1;34m\u001b[0m\n\u001b[0;32m     10\u001b[0m \u001b[0mprint\u001b[0m\u001b[1;33m(\u001b[0m\u001b[1;34m'A(B+C)==AB+AC: '\u001b[0m\u001b[1;33m,\u001b[0m\u001b[0mnp\u001b[0m\u001b[1;33m.\u001b[0m\u001b[0mallclose\u001b[0m\u001b[1;33m(\u001b[0m\u001b[0mmat_mat_product\u001b[0m\u001b[1;33m(\u001b[0m\u001b[0mA\u001b[0m\u001b[1;33m,\u001b[0m \u001b[1;33m(\u001b[0m\u001b[0mB\u001b[0m \u001b[1;33m+\u001b[0m \u001b[0mC\u001b[0m\u001b[1;33m)\u001b[0m\u001b[1;33m)\u001b[0m\u001b[1;33m,\u001b[0m \u001b[0mmat_mat_product\u001b[0m\u001b[1;33m(\u001b[0m\u001b[0mA\u001b[0m\u001b[1;33m,\u001b[0m \u001b[0mB\u001b[0m\u001b[1;33m)\u001b[0m \u001b[1;33m+\u001b[0m \u001b[0mmat_mat_product\u001b[0m\u001b[1;33m(\u001b[0m\u001b[0mA\u001b[0m\u001b[1;33m,\u001b[0m \u001b[0mC\u001b[0m\u001b[1;33m)\u001b[0m\u001b[1;33m)\u001b[0m\u001b[1;33m)\u001b[0m\u001b[1;33m\u001b[0m\u001b[1;33m\u001b[0m\u001b[0m\n\u001b[0;32m     11\u001b[0m \u001b[0mprint\u001b[0m\u001b[1;33m(\u001b[0m\u001b[1;34m'A(alpha B)==alpha AB: '\u001b[0m\u001b[1;33m,\u001b[0m \u001b[0mnp\u001b[0m\u001b[1;33m.\u001b[0m\u001b[0mallclose\u001b[0m\u001b[1;33m(\u001b[0m\u001b[0mmat_mat_product\u001b[0m\u001b[1;33m(\u001b[0m\u001b[0mA\u001b[0m\u001b[1;33m,\u001b[0m \u001b[0malpha\u001b[0m \u001b[1;33m*\u001b[0m \u001b[0mB\u001b[0m\u001b[1;33m)\u001b[0m\u001b[1;33m,\u001b[0m \u001b[0malpha\u001b[0m\u001b[1;33m*\u001b[0m\u001b[0mmat_mat_product\u001b[0m\u001b[1;33m(\u001b[0m\u001b[0mA\u001b[0m\u001b[1;33m,\u001b[0m \u001b[0mB\u001b[0m\u001b[1;33m)\u001b[0m\u001b[1;33m)\u001b[0m\u001b[1;33m)\u001b[0m\u001b[1;33m\u001b[0m\u001b[1;33m\u001b[0m\u001b[0m\n\u001b[1;32m---> 12\u001b[1;33m \u001b[0mprint\u001b[0m\u001b[1;33m(\u001b[0m\u001b[1;34m'AB==BA: '\u001b[0m\u001b[1;33m,\u001b[0m\u001b[0mnp\u001b[0m\u001b[1;33m.\u001b[0m\u001b[0mallclose\u001b[0m\u001b[1;33m(\u001b[0m\u001b[0mmat_mat_product\u001b[0m\u001b[1;33m(\u001b[0m\u001b[0mA\u001b[0m\u001b[1;33m,\u001b[0m \u001b[0mB\u001b[0m\u001b[1;33m)\u001b[0m\u001b[1;33m,\u001b[0m \u001b[0mmat_mat_product\u001b[0m\u001b[1;33m(\u001b[0m\u001b[0mB\u001b[0m\u001b[1;33m,\u001b[0m \u001b[0mA\u001b[0m\u001b[1;33m)\u001b[0m\u001b[1;33m)\u001b[0m\u001b[1;33m)\u001b[0m\u001b[1;33m\u001b[0m\u001b[1;33m\u001b[0m\u001b[0m\n\u001b[0m",
      "\u001b[1;32m<ipython-input-41-c15015a18a14>\u001b[0m in \u001b[0;36mmat_mat_product\u001b[1;34m(A, B)\u001b[0m\n\u001b[0;32m      4\u001b[0m     \u001b[0mm\u001b[0m\u001b[1;33m,\u001b[0m \u001b[0mn1\u001b[0m \u001b[1;33m=\u001b[0m \u001b[0mnp\u001b[0m\u001b[1;33m.\u001b[0m\u001b[0mshape\u001b[0m\u001b[1;33m(\u001b[0m\u001b[0mA\u001b[0m\u001b[1;33m)\u001b[0m\u001b[1;33m\u001b[0m\u001b[1;33m\u001b[0m\u001b[0m\n\u001b[0;32m      5\u001b[0m     \u001b[0mn2\u001b[0m\u001b[1;33m,\u001b[0m \u001b[0mp\u001b[0m \u001b[1;33m=\u001b[0m \u001b[0mnp\u001b[0m\u001b[1;33m.\u001b[0m\u001b[0mshape\u001b[0m\u001b[1;33m(\u001b[0m\u001b[0mB\u001b[0m\u001b[1;33m)\u001b[0m\u001b[1;33m\u001b[0m\u001b[1;33m\u001b[0m\u001b[0m\n\u001b[1;32m----> 6\u001b[1;33m     \u001b[1;32massert\u001b[0m \u001b[0mn1\u001b[0m\u001b[1;33m==\u001b[0m\u001b[0mn2\u001b[0m\u001b[1;33m\u001b[0m\u001b[1;33m\u001b[0m\u001b[0m\n\u001b[0m\u001b[0;32m      7\u001b[0m     \u001b[0mC\u001b[0m \u001b[1;33m=\u001b[0m \u001b[0mnp\u001b[0m\u001b[1;33m.\u001b[0m\u001b[0mzeros\u001b[0m\u001b[1;33m(\u001b[0m\u001b[1;33m(\u001b[0m\u001b[0mm\u001b[0m\u001b[1;33m,\u001b[0m \u001b[0mp\u001b[0m\u001b[1;33m)\u001b[0m\u001b[1;33m)\u001b[0m\u001b[1;33m\u001b[0m\u001b[1;33m\u001b[0m\u001b[0m\n\u001b[0;32m      8\u001b[0m     \u001b[1;32mfor\u001b[0m \u001b[0mi\u001b[0m \u001b[1;32min\u001b[0m \u001b[0mrange\u001b[0m\u001b[1;33m(\u001b[0m\u001b[0mm\u001b[0m\u001b[1;33m)\u001b[0m\u001b[1;33m:\u001b[0m\u001b[1;33m\u001b[0m\u001b[1;33m\u001b[0m\u001b[0m\n",
      "\u001b[1;31mAssertionError\u001b[0m: "
     ]
    }
   ],
   "source": [
    "# define some random matrices\n",
    "m = 10\n",
    "n = 9\n",
    "p = 8\n",
    "A = np.random.random((m, n))\n",
    "B = np.random.random((n, p))\n",
    "C = np.random.random((n, p))\n",
    "alpha = np.random.random((1,))\n",
    "print('our code agree with @:', np.allclose(mat_mat_product(A, B), A@B))\n",
    "print('A(B+C)==AB+AC: ',np.allclose(mat_mat_product(A, (B + C)), mat_mat_product(A, B) + mat_mat_product(A, C)))\n",
    "print('A(alpha B)==alpha AB: ', np.allclose(mat_mat_product(A, alpha * B), alpha*mat_mat_product(A, B)))\n",
    "print('AB==BA: ',np.allclose(mat_mat_product(A, B), mat_mat_product(B, A)))"
   ]
  },
  {
   "cell_type": "markdown",
   "metadata": {},
   "source": [
    "<div class=\"optional\">\n",
    "\n",
    "Of course $AB=BA$ certainly can't be true if $A$ and $B$ are not square matrices!\n",
    "\n",
    "When they are square only certain matrices have this property. Those that do are said to [commute](https://en.wikipedia.org/wiki/Commuting_matrices).\n",
    "\n",
    "</div>"
   ]
  },
  {
   "cell_type": "code",
   "execution_count": 44,
   "metadata": {},
   "outputs": [
    {
     "name": "stdout",
     "output_type": "stream",
     "text": [
      "[[1. 0.]\n",
      " [0. 1.]]\n",
      "[[1. 0.]\n",
      " [0. 1.]]\n"
     ]
    }
   ],
   "source": [
    "# For our linear system case from above, actually in solving the system we basically did enough work\n",
    "# to figure out what the inverse matrix is:\n",
    "A = np.array([[2, 3], [1, -4]])\n",
    "B = (-1./11)*np.array([[-4, -3], [-1, 2]])\n",
    "print(mat_mat_product(A,B))\n",
    "print(mat_mat_product(B,A))"
   ]
  },
  {
   "cell_type": "code",
   "execution_count": 45,
   "metadata": {},
   "outputs": [
    {
     "name": "stdout",
     "output_type": "stream",
     "text": [
      "[[0.347344 0.993922 1.216744]\n",
      " [0.212002 0.295339 0.463163]\n",
      " [0.346439 0.916189 1.150576]]\n",
      "[[0.38347  0.414155 0.437806]\n",
      " [0.765882 0.920817 0.740381]\n",
      " [0.628056 0.828291 0.488973]]\n",
      "A@B==B@A : False\n"
     ]
    }
   ],
   "source": [
    "# define some random matrices\n",
    "n = 3\n",
    "A = np.random.random((n, n))\n",
    "B = np.random.random((n, n))\n",
    "print(A@B)\n",
    "print(B@A)\n",
    "print(\"A@B==B@A :\",np.allclose(A@B,B@A))"
   ]
  },
  {
   "cell_type": "markdown",
   "metadata": {},
   "source": [
    "# Some linear algebra theory"
   ]
  },
  {
   "cell_type": "markdown",
   "metadata": {},
   "source": [
    "## The determinant (again)\n",
    "\n",
    "Let's return to the [*determinant*](https://en.wikipedia.org/wiki/Determinant). \n",
    "\n",
    "As said earlier, geometrically it gives the scaling of the volume of a shape under the linear transformation represented by the matrix,\n",
    "\n",
    "and it tells us whether or not an inverse matrix exits."
   ]
  },
  {
   "cell_type": "markdown",
   "metadata": {},
   "source": [
    "### Properties\n",
    "\n",
    "1. For square, equal size matrices $|AB| = |A|\\,|B|$\n",
    "\n",
    "\n",
    "2. $|A^T| = |A|$\n",
    "\n",
    "\n",
    "3. $|\\alpha A| = \\alpha^n |A|$, where $n$ is the dimension of the square matrix $A$\n",
    "\n",
    "\n",
    "4. If any row (or column) is made up of zero entries only, then the determinant of that matrix is zero\n",
    "\n",
    "\n",
    "5. [NB. Eigenvalues introduced next lecture] The determinant is equal to the product of the eigenvalues of the matrix (where we need to multiply multiple times if an eigenvalue has an algebraic multiplicity greater than one) - so a determinant of zero is equivalent to having at least one zero eigenvalue!\n",
    "\n",
    "\n",
    "6. For an upper or lower triangular matrix, the determinant is equal to the product of the main diagonal entries (as the eigenvalues in this case are the diagonal entries!)\n",
    "\n",
    "\n",
    "<br>\n",
    "\n",
    "Exercise: you can check that all of these seem to be true through considering some concrete examples."
   ]
  },
  {
   "cell_type": "markdown",
   "metadata": {},
   "source": [
    "<div class=\"optional\">\n",
    "\n",
    "### Full definition\n",
    "\n",
    "The general formula for computing the determinant of a square matrix can be built up incrementally (or recursively) based on matrix size as follows:\n",
    "\n",
    "\n",
    "1. For a $1 \\times 1$ matrix $A = a_{11}$ the determinant is defined simply as $|A| = a_{11}$\n",
    "\n",
    "<br>\n",
    "\n",
    "2. For a $2 \\times 2$ matrix \n",
    "\n",
    "$$A = \n",
    "\\begin{pmatrix}\n",
    "    a_{11} & a_{12}\\\\\n",
    "    a_{21} & a_{22}\n",
    "\\end{pmatrix}\n",
    "$$\n",
    "\n",
    "the determinant is defined as $|A| = a_{11}a_{22} - a_{12}a_{21}$\n",
    "\n",
    "where it helps for the following steps if you interpret these 4 scalars as the determinants of 4 $1\\times 1$ matrices.\n",
    "    \n",
    "</div>"
   ]
  },
  {
   "cell_type": "code",
   "execution_count": 46,
   "metadata": {},
   "outputs": [
    {
     "name": "stdout",
     "output_type": "stream",
     "text": [
      "det(A) =  -6.661338147750939e-16\n",
      "\n",
      "Marix A is singular:  True\n"
     ]
    }
   ],
   "source": [
    "# Let's check our maths!\n",
    "A = np.array([[2., 3.], [4., 6.]])\n",
    "print('det(A) = ', sl.det(A))\n",
    "print('\\nMarix A is singular: ', np.isclose(sl.det(A), 0.))"
   ]
  },
  {
   "cell_type": "markdown",
   "metadata": {},
   "source": [
    "<div class=\"optional\">\n",
    "\n",
    "3. For a $3 \\times 3$ matrix \n",
    "\n",
    "$$A = \n",
    "\\begin{pmatrix}\n",
    "    a_{11} & a_{12} & a_{13}\\\\\n",
    "    a_{21} & a_{22} & a_{23}\\\\\n",
    "    a_{31} & a_{32} & a_{33}\\\\\n",
    "\\end{pmatrix}\n",
    "$$\n",
    "\n",
    "the determinant can be computed as\n",
    "\n",
    "\n",
    "$$ |A| = \n",
    "a_{11}\n",
    "\\begin{vmatrix}\n",
    "    a_{22} & a_{23}\\\\\n",
    "    a_{32} & a_{33}\n",
    "\\end{vmatrix}\n",
    "- a_{12}\n",
    "\\begin{vmatrix}\n",
    "    a_{21} & a_{23}\\\\\n",
    "    a_{31} & a_{33}\n",
    "\\end{vmatrix}\n",
    "+ a_{13}\n",
    "\\begin{vmatrix}\n",
    "    a_{21} & a_{22}\\\\\n",
    "    a_{31} & a_{32}\n",
    "\\end{vmatrix}\n",
    "$$\n",
    "\n",
    "In this expression, the first term includes\n",
    "$$\n",
    "\\begin{vmatrix}\n",
    "    a_{22} & a_{23}\\\\\n",
    "    a_{32} & a_{33}\n",
    "\\end{vmatrix}\n",
    "$$ \n",
    "\n",
    "which is the determinant of the $2\\times 2$ matrix you get from $A$ if you omit the row and column in which the multiplier in front of this contribution (i.e. the first entry of the first row $a_{11}$) lies. \n",
    "\n",
    "The second term has a similar $2\\times 2$ determinant that comes from omitting the row and column in which the multiplier $a_{12}$ lies.  Note that we have a minus sign in front of this term.\n",
    "\n",
    "The third term is analogous, but now with a plus sign again. \n",
    "\n",
    "This is what is called the *(cofactor) expansion of the determinant from the first row*.  We get the same answer (and hence alternative computation methods that may involve less work if there are an excess of zeros on certain rows or columns!) but expanding using any row, or indeed any column.\n",
    "\n",
    "We just need to remember that the signs (pluses or minuses) in front of every term follow a chess-board pattern:\n",
    "\n",
    "$$\n",
    "\\begin{pmatrix}\n",
    "    + & - & + & \\cdots \\\\\n",
    "    - & + & - & \\cdots \\\\\n",
    "    + & - & + & \\cdots \\\\\n",
    "    \\vdots & \\vdots & \\vdots  & \\ddots\n",
    "\\end{pmatrix}\n",
    "$$\n",
    "\n",
    "We define the appropriately signed $2\\times 2$ determinant the [*cofactor*](https://en.wikipedia.org/wiki/Minor_(linear_algebra)) of the multiplier $a_{ij}$, and denote it by $C_{ij}$, e.g.\n",
    "\n",
    "$$C_{11} = \n",
    "\\begin{vmatrix}\n",
    "    a_{22} & a_{23}\\\\\n",
    "    a_{32} & a_{33}\n",
    "\\end{vmatrix}, \n",
    "\\quad\n",
    "C_{12} = -\n",
    "\\begin{vmatrix}\n",
    "    a_{21} & a_{23}\\\\\n",
    "    a_{31} & a_{33}\n",
    "\\end{vmatrix}\n",
    "$$\n",
    "\n",
    "[If you drop the sign and just keep the determinant, the quantity is called the [*minor*](https://en.wikipedia.org/wiki/Minor_(linear_algebra)#First_minors) sometimes denoted $M_{ij}$.]\n",
    "\n",
    "\n",
    "We can thus define the determinant in terms of an [expansion of cofactors](https://en.wikipedia.org/wiki/Minor_(linear_algebra)#Cofactor_expansion_of_the_determinant):\n",
    "\n",
    "$$|A| = a_{11} C_{11} + a_{12} C_{12} + a_{13} C_{13}$$ \n",
    "\n",
    "with alternative definitions of the determinant given by \n",
    "\n",
    "$$|A| = a_{31} C_{31} + a_{32} C_{32} + a_{33} C_{33}$$ \n",
    "\n",
    "or an example of expanding over a column\n",
    "\n",
    "$$|A| = a_{12} C_{12} + a_{22} C_{22} + a_{32} C_{32}$$ \n",
    "\n",
    "etc.\n",
    "\n",
    "</div>"
   ]
  },
  {
   "cell_type": "code",
   "execution_count": 47,
   "metadata": {},
   "outputs": [
    {
     "name": "stdout",
     "output_type": "stream",
     "text": [
      "A = \n",
      "[[0 1 0]\n",
      " [1 2 3]\n",
      " [4 5 6]]\n"
     ]
    }
   ],
   "source": [
    "# can you do this one in your head?\n",
    "A = np.array([[0, 1, 0], [1, 2, 3], [4, 5, 6]])\n",
    "print('A = ')\n",
    "print(A)"
   ]
  },
  {
   "cell_type": "code",
   "execution_count": 48,
   "metadata": {},
   "outputs": [
    {
     "name": "stdout",
     "output_type": "stream",
     "text": [
      "det(A) =  6.0\n"
     ]
    }
   ],
   "source": [
    "print('det(A) = ', sl.det(A))"
   ]
  },
  {
   "cell_type": "markdown",
   "metadata": {},
   "source": [
    "<div class=\"optional\">\n",
    "\n",
    "4. For an $n \\times n$ matrix \n",
    "\n",
    "**This gives us a general algorithm for computing the determinant of an arbitrary sized square matrix in terms of determinants of smaller matrices, each of which can themselves be computed in terms of determinants of even smaller matrices.** \n",
    "\n",
    "\n",
    "We can perform this expansion recursively, down to our above expression for the\n",
    "determinant of a $2\\times 2$ matrix, or indeed a $1\\times 1$ - note that the above general expression is consistent with our expression for the $2\\times 2$ case we wrote down explicitly above.\n",
    "\n",
    "\n",
    "The matrix of cofactors is the same size as $A$ and is called the *cofactor matrix*:\n",
    "\n",
    "$$C = \n",
    "\\begin{pmatrix}\n",
    "    C_{11} & C_{12} & \\cdots\\\\\n",
    "    C_{21} & C_{22} & \\cdots\\\\\n",
    "    \\vdots & \\vdots & \\ddots\\\\\n",
    "\\end{pmatrix}\n",
    "$$ \n",
    "\n",
    "and its transpose we call the adjugate or [*adjugate matrix*](https://en.wikipedia.org/wiki/Adjugate_matrix):\n",
    "\n",
    "$$\\text{adj}(A) = C^T$$\n",
    "\n",
    "\n",
    "<br>\n",
    "<br>\n",
    "    \n",
    "A **homework exercise** includes writing our own function to compute the determinant of a general matrix using the above recursive ideas.\n",
    "\n",
    "</div>"
   ]
  },
  {
   "cell_type": "markdown",
   "metadata": {},
   "source": [
    "## The inverse matrix\n",
    "\n",
    "The existence of an inverse to a matrix is equivalent to whether or not that matrix's determinant is zero or not.\n",
    "\n",
    "If the determinant is non-zero then it does have an inverse.\n",
    "\n",
    "As a $1\\times 1$ matrix is a scalar, defining its inverse is trivial."
   ]
  },
  {
   "cell_type": "markdown",
   "metadata": {},
   "source": [
    "### $2\\times 2$ case\n",
    "\n",
    "In the $2\\times 2$ case we can write down a simple formula for the inverse:\n",
    "\n",
    "For a matrix $A$ with entries\n",
    "\n",
    "$$A = \n",
    "\\begin{pmatrix}\n",
    "    a & b\\\\\n",
    "    c & d\n",
    "\\end{pmatrix}$$\n",
    "\n",
    "if $|A|\\ne 0$, i.e. $ad-bc\\ne 0$, then\n",
    "\n",
    "$$A^{-1} = \\frac{1}{|A|}\n",
    "\\begin{pmatrix}\n",
    "    d & -b\\\\\n",
    "    -c & a\n",
    "\\end{pmatrix}$$\n",
    "\n",
    "Deriving this expression is a homework exercise.\n",
    "\n",
    "Let's verify this with an example:"
   ]
  },
  {
   "cell_type": "code",
   "execution_count": 49,
   "metadata": {},
   "outputs": [
    {
     "name": "stdout",
     "output_type": "stream",
     "text": [
      "[[ 0.363636  0.272727]\n",
      " [ 0.090909 -0.181818]]\n",
      "[[1. 0.]\n",
      " [0. 1.]]\n",
      "[[1. 0.]\n",
      " [0. 1.]]\n"
     ]
    }
   ],
   "source": [
    "A = np.array([[2., 3.], [1., -4.]])\n",
    "a = A[0,0]\n",
    "b = A[0,1]\n",
    "c = A[1,0]\n",
    "d = A[1,1]\n",
    "B = (1./(a*d - b*c)) * np.array([[d, -b], [-c, a]])\n",
    "print(B)\n",
    "print(A@B)\n",
    "print(B@A)"
   ]
  },
  {
   "cell_type": "markdown",
   "metadata": {},
   "source": [
    "So for this example this formula does indeed give us a matrix $B$ such that \n",
    "$AB = BA = I$."
   ]
  },
  {
   "cell_type": "markdown",
   "metadata": {},
   "source": [
    "### $n\\times n$ case\n",
    "\n",
    "A general formula for the inverse of a square, invertible matrix is (<https://en.wikipedia.org/wiki/Invertible_matrix#Analytic_solution>):\n",
    "\n",
    "$$A^{-1} = \\frac{1}{|A|}\\text{adj}(A),$$\n",
    "\n",
    "\n",
    "where $\\text{adj}(A)$ is the adjugate matrix defined in the optional section above.\n",
    "\n",
    "Note that this is consistent with the $2 \\times 2$ case above.\n",
    "\n",
    "We will demonstrate/prove this in the section on \"Cramer's Rule\" below.  "
   ]
  },
  {
   "cell_type": "markdown",
   "metadata": {},
   "source": [
    "## Using SciPy to compute the inverse matrix\n",
    "\n",
    "A quick review of some useful SciPy/NumPy functions.\n",
    "\n",
    "Let's try a $3\\times 3$ example."
   ]
  },
  {
   "cell_type": "code",
   "execution_count": 50,
   "metadata": {},
   "outputs": [
    {
     "name": "stdout",
     "output_type": "stream",
     "text": [
      "[[ 0.142857 -0.075188  0.022556]\n",
      " [-0.285714  0.518797 -0.255639]\n",
      " [ 0.142857 -0.285714  0.285714]]\n",
      "\n",
      " [[ 0.142857 -0.075188  0.022556]\n",
      " [-0.285714  0.518797 -0.255639]\n",
      " [ 0.142857 -0.285714  0.285714]]\n",
      "133.00000000000003\n",
      "\n",
      " 133.0\n",
      "array([[ 1.0000e+00,  0.0000e+00,  0.0000e+00],\n",
      "       [-2.2204e-16,  1.0000e+00,  2.2204e-16],\n",
      "       [-8.3267e-17, -1.1102e-16,  1.0000e+00]])\n",
      "\n",
      "\n",
      "array([[ 1.0000e+00,  0.0000e+00,  0.0000e+00],\n",
      "       [-2.2204e-16,  1.0000e+00,  2.2204e-16],\n",
      "       [-8.3267e-17, -1.1102e-16,  1.0000e+00]])\n",
      "\n",
      " True\n",
      "array([[ 1.0000e+00,  0.0000e+00,  0.0000e+00],\n",
      "       [-2.2204e-16,  1.0000e+00,  2.2204e-16],\n",
      "       [-8.3267e-17, -1.1102e-16,  1.0000e+00]])\n",
      "\n",
      "\n",
      "array([[ 1.0000e+00,  0.0000e+00,  0.0000e+00],\n",
      "       [-2.2204e-16,  1.0000e+00,  2.2204e-16],\n",
      "       [-8.3267e-17, -1.1102e-16,  1.0000e+00]])\n",
      "\n",
      "\n",
      "array([[ 1.0000e+00,  0.0000e+00,  0.0000e+00],\n",
      "       [-2.2204e-16,  1.0000e+00,  2.2204e-16],\n",
      "       [-8.3267e-17, -1.1102e-16,  1.0000e+00]])\n",
      "\n",
      "\n",
      "[[ 1.4286 -0.1504  0.0226]\n",
      " [-1.7143  2.594  -1.0226]\n",
      " [ 0.1429 -1.1429  2.    ]]\n"
     ]
    }
   ],
   "source": [
    "A = np.array([[10., 2., 1.],\n",
    "                 [6., 5., 4.],\n",
    "                 [1., 4., 7.]])\n",
    "\n",
    "# the inverse of the matrix A - computed using a scipy algorithm\n",
    "print(sl.inv(A))\n",
    "\n",
    "# or via numpy\n",
    "print('\\n', np.linalg.inv(A))\n",
    "\n",
    "# see https://docs.scipy.org/doc/scipy/reference/tutorial/linalg.html \n",
    "# for comments on scipy.linalg vs numpy.linalg\n",
    "sl.inv?\n",
    "\n",
    "# the determinant of the matrix A\n",
    "print(sl.det(A))\n",
    "\n",
    "# OR\n",
    "print('\\n', np.linalg.det(A))\n",
    "\n",
    "# it sometimes makes our life a bit easier if we don't always print out all \n",
    "# significant figures. We can do this in notebooks with \n",
    "%precision 4\n",
    "\n",
    "# Multiply A with its inverse using numpy's dot. Note that due to\n",
    "# roundoff errors the off diagonal values are not exactly zero.\n",
    "pprint(np.dot(A,sl.inv(A)))\n",
    "\n",
    "# print a blank line just to make output easier to read\n",
    "print('\\n')\n",
    "\n",
    "# check the result with the @ operator as well\n",
    "pprint(A @ sl.inv(A))\n",
    "\n",
    "# use allclose to confirm this is indeed the identity (to round-off)\n",
    "print('\\n', np.allclose(A @ sl.inv(A), np.eye(np.shape(A)[0])))\n",
    "\n",
    "\n",
    "# three ways to achieve the same thing\n",
    "pprint(np.dot(A,sl.inv(A)))\n",
    "print('\\n')\n",
    "pprint(A.dot(sl.inv(A)))\n",
    "print('\\n')\n",
    "pprint(A @ sl.inv(A))\n",
    "print('\\n')\n",
    "\n",
    "# and how not to do it.\n",
    "print(A*sl.inv(A))\n",
    "# note that the * operator simply does operations \"element-wise\"\n",
    "# which is not the same thing as matrix-matrix multiplication\n",
    "# (so * in numpy is the same as \".*\" in matlab)"
   ]
  },
  {
   "cell_type": "markdown",
   "metadata": {},
   "source": [
    "We can ignore the very small numbers which are due to floating point round-off errors - `np.allclose` can be used to confirm that these are indeed the identity matrix."
   ]
  },
  {
   "cell_type": "markdown",
   "metadata": {},
   "source": [
    "## Singular matrices\n",
    "\n",
    "If $|A|=0$ then $A$ is termed a [*singular matrix*](http://mathworld.wolfram.com/SingularMatrix.html) and it does not have an inverse.\n"
   ]
  },
  {
   "cell_type": "code",
   "execution_count": 51,
   "metadata": {},
   "outputs": [
    {
     "name": "stdout",
     "output_type": "stream",
     "text": [
      "Marix A is singular:  True\n"
     ]
    }
   ],
   "source": [
    "# example from above\n",
    "A = np.array([[2., 3.], [4., 6.]])\n",
    "print('Marix A is singular: ', np.isclose(sl.det(A), 0.))"
   ]
  },
  {
   "cell_type": "markdown",
   "metadata": {},
   "source": [
    "What happens if we try to use SciPy to compute the inverse of a matrix with a zero (or very small) determinant?"
   ]
  },
  {
   "cell_type": "code",
   "execution_count": 52,
   "metadata": {
    "scrolled": true
   },
   "outputs": [
    {
     "ename": "LinAlgError",
     "evalue": "singular matrix",
     "output_type": "error",
     "traceback": [
      "\u001b[1;31m---------------------------------------------------------------------------\u001b[0m",
      "\u001b[1;31mLinAlgError\u001b[0m                               Traceback (most recent call last)",
      "\u001b[1;32m<ipython-input-52-8a87f247b3f1>\u001b[0m in \u001b[0;36m<module>\u001b[1;34m\u001b[0m\n\u001b[1;32m----> 1\u001b[1;33m \u001b[0msl\u001b[0m\u001b[1;33m.\u001b[0m\u001b[0minv\u001b[0m\u001b[1;33m(\u001b[0m\u001b[0mA\u001b[0m\u001b[1;33m)\u001b[0m\u001b[1;33m\u001b[0m\u001b[1;33m\u001b[0m\u001b[0m\n\u001b[0m",
      "\u001b[1;32m~\\anaconda3\\lib\\site-packages\\scipy\\linalg\\basic.py\u001b[0m in \u001b[0;36minv\u001b[1;34m(a, overwrite_a, check_finite)\u001b[0m\n\u001b[0;32m    977\u001b[0m         \u001b[0minv_a\u001b[0m\u001b[1;33m,\u001b[0m \u001b[0minfo\u001b[0m \u001b[1;33m=\u001b[0m \u001b[0mgetri\u001b[0m\u001b[1;33m(\u001b[0m\u001b[0mlu\u001b[0m\u001b[1;33m,\u001b[0m \u001b[0mpiv\u001b[0m\u001b[1;33m,\u001b[0m \u001b[0mlwork\u001b[0m\u001b[1;33m=\u001b[0m\u001b[0mlwork\u001b[0m\u001b[1;33m,\u001b[0m \u001b[0moverwrite_lu\u001b[0m\u001b[1;33m=\u001b[0m\u001b[1;36m1\u001b[0m\u001b[1;33m)\u001b[0m\u001b[1;33m\u001b[0m\u001b[1;33m\u001b[0m\u001b[0m\n\u001b[0;32m    978\u001b[0m     \u001b[1;32mif\u001b[0m \u001b[0minfo\u001b[0m \u001b[1;33m>\u001b[0m \u001b[1;36m0\u001b[0m\u001b[1;33m:\u001b[0m\u001b[1;33m\u001b[0m\u001b[1;33m\u001b[0m\u001b[0m\n\u001b[1;32m--> 979\u001b[1;33m         \u001b[1;32mraise\u001b[0m \u001b[0mLinAlgError\u001b[0m\u001b[1;33m(\u001b[0m\u001b[1;34m\"singular matrix\"\u001b[0m\u001b[1;33m)\u001b[0m\u001b[1;33m\u001b[0m\u001b[1;33m\u001b[0m\u001b[0m\n\u001b[0m\u001b[0;32m    980\u001b[0m     \u001b[1;32mif\u001b[0m \u001b[0minfo\u001b[0m \u001b[1;33m<\u001b[0m \u001b[1;36m0\u001b[0m\u001b[1;33m:\u001b[0m\u001b[1;33m\u001b[0m\u001b[1;33m\u001b[0m\u001b[0m\n\u001b[0;32m    981\u001b[0m         raise ValueError('illegal value in %d-th argument of internal '\n",
      "\u001b[1;31mLinAlgError\u001b[0m: singular matrix"
     ]
    }
   ],
   "source": [
    "sl.inv(A)"
   ]
  },
  {
   "cell_type": "code",
   "execution_count": 53,
   "metadata": {},
   "outputs": [
    {
     "ename": "LinAlgError",
     "evalue": "Singular matrix",
     "output_type": "error",
     "traceback": [
      "\u001b[1;31m---------------------------------------------------------------------------\u001b[0m",
      "\u001b[1;31mLinAlgError\u001b[0m                               Traceback (most recent call last)",
      "\u001b[1;32m<ipython-input-53-ae645f97e1f8>\u001b[0m in \u001b[0;36m<module>\u001b[1;34m\u001b[0m\n\u001b[1;32m----> 1\u001b[1;33m \u001b[0mnp\u001b[0m\u001b[1;33m.\u001b[0m\u001b[0mlinalg\u001b[0m\u001b[1;33m.\u001b[0m\u001b[0minv\u001b[0m\u001b[1;33m(\u001b[0m\u001b[0mA\u001b[0m\u001b[1;33m)\u001b[0m\u001b[1;33m\u001b[0m\u001b[1;33m\u001b[0m\u001b[0m\n\u001b[0m",
      "\u001b[1;32m<__array_function__ internals>\u001b[0m in \u001b[0;36minv\u001b[1;34m(*args, **kwargs)\u001b[0m\n",
      "\u001b[1;32m~\\anaconda3\\lib\\site-packages\\numpy\\linalg\\linalg.py\u001b[0m in \u001b[0;36minv\u001b[1;34m(a)\u001b[0m\n\u001b[0;32m    545\u001b[0m     \u001b[0msignature\u001b[0m \u001b[1;33m=\u001b[0m \u001b[1;34m'D->D'\u001b[0m \u001b[1;32mif\u001b[0m \u001b[0misComplexType\u001b[0m\u001b[1;33m(\u001b[0m\u001b[0mt\u001b[0m\u001b[1;33m)\u001b[0m \u001b[1;32melse\u001b[0m \u001b[1;34m'd->d'\u001b[0m\u001b[1;33m\u001b[0m\u001b[1;33m\u001b[0m\u001b[0m\n\u001b[0;32m    546\u001b[0m     \u001b[0mextobj\u001b[0m \u001b[1;33m=\u001b[0m \u001b[0mget_linalg_error_extobj\u001b[0m\u001b[1;33m(\u001b[0m\u001b[0m_raise_linalgerror_singular\u001b[0m\u001b[1;33m)\u001b[0m\u001b[1;33m\u001b[0m\u001b[1;33m\u001b[0m\u001b[0m\n\u001b[1;32m--> 547\u001b[1;33m     \u001b[0mainv\u001b[0m \u001b[1;33m=\u001b[0m \u001b[0m_umath_linalg\u001b[0m\u001b[1;33m.\u001b[0m\u001b[0minv\u001b[0m\u001b[1;33m(\u001b[0m\u001b[0ma\u001b[0m\u001b[1;33m,\u001b[0m \u001b[0msignature\u001b[0m\u001b[1;33m=\u001b[0m\u001b[0msignature\u001b[0m\u001b[1;33m,\u001b[0m \u001b[0mextobj\u001b[0m\u001b[1;33m=\u001b[0m\u001b[0mextobj\u001b[0m\u001b[1;33m)\u001b[0m\u001b[1;33m\u001b[0m\u001b[1;33m\u001b[0m\u001b[0m\n\u001b[0m\u001b[0;32m    548\u001b[0m     \u001b[1;32mreturn\u001b[0m \u001b[0mwrap\u001b[0m\u001b[1;33m(\u001b[0m\u001b[0mainv\u001b[0m\u001b[1;33m.\u001b[0m\u001b[0mastype\u001b[0m\u001b[1;33m(\u001b[0m\u001b[0mresult_t\u001b[0m\u001b[1;33m,\u001b[0m \u001b[0mcopy\u001b[0m\u001b[1;33m=\u001b[0m\u001b[1;32mFalse\u001b[0m\u001b[1;33m)\u001b[0m\u001b[1;33m)\u001b[0m\u001b[1;33m\u001b[0m\u001b[1;33m\u001b[0m\u001b[0m\n\u001b[0;32m    549\u001b[0m \u001b[1;33m\u001b[0m\u001b[0m\n",
      "\u001b[1;32m~\\anaconda3\\lib\\site-packages\\numpy\\linalg\\linalg.py\u001b[0m in \u001b[0;36m_raise_linalgerror_singular\u001b[1;34m(err, flag)\u001b[0m\n\u001b[0;32m     95\u001b[0m \u001b[1;33m\u001b[0m\u001b[0m\n\u001b[0;32m     96\u001b[0m \u001b[1;32mdef\u001b[0m \u001b[0m_raise_linalgerror_singular\u001b[0m\u001b[1;33m(\u001b[0m\u001b[0merr\u001b[0m\u001b[1;33m,\u001b[0m \u001b[0mflag\u001b[0m\u001b[1;33m)\u001b[0m\u001b[1;33m:\u001b[0m\u001b[1;33m\u001b[0m\u001b[1;33m\u001b[0m\u001b[0m\n\u001b[1;32m---> 97\u001b[1;33m     \u001b[1;32mraise\u001b[0m \u001b[0mLinAlgError\u001b[0m\u001b[1;33m(\u001b[0m\u001b[1;34m\"Singular matrix\"\u001b[0m\u001b[1;33m)\u001b[0m\u001b[1;33m\u001b[0m\u001b[1;33m\u001b[0m\u001b[0m\n\u001b[0m\u001b[0;32m     98\u001b[0m \u001b[1;33m\u001b[0m\u001b[0m\n\u001b[0;32m     99\u001b[0m \u001b[1;32mdef\u001b[0m \u001b[0m_raise_linalgerror_nonposdef\u001b[0m\u001b[1;33m(\u001b[0m\u001b[0merr\u001b[0m\u001b[1;33m,\u001b[0m \u001b[0mflag\u001b[0m\u001b[1;33m)\u001b[0m\u001b[1;33m:\u001b[0m\u001b[1;33m\u001b[0m\u001b[1;33m\u001b[0m\u001b[0m\n",
      "\u001b[1;31mLinAlgError\u001b[0m: Singular matrix"
     ]
    }
   ],
   "source": [
    "np.linalg.inv(A)"
   ]
  },
  {
   "cell_type": "markdown",
   "metadata": {},
   "source": [
    "Remember - read the error message!"
   ]
  },
  {
   "cell_type": "markdown",
   "metadata": {},
   "source": [
    "## Solvability of linear systems\n",
    "\n",
    "\n",
    "If $\\det(A)=0$ a linear system featuring the matrix $A$ with any RHS does **not** have a **unique** solution, it may have either infinite *or* no solutions.\n",
    "\n",
    "For example, consider\n",
    "\n",
    "$$\n",
    "\\left(\n",
    "  \\begin{array}{rr}\n",
    "    2 & 3 \\\\\n",
    "    4 & 6 \n",
    "  \\end{array}\n",
    "\\right)\\left(\n",
    "  \\begin{array}{c}\n",
    "    x \\\\\n",
    "    y\n",
    "  \\end{array}\n",
    "\\right) = \\left(\n",
    "  \\begin{array}{c}\n",
    "    4 \\\\\n",
    "    8\n",
    "  \\end{array}\n",
    "\\right),\n",
    "$$\n",
    "\n",
    "where the matrix on the LHS clearly has a zero determinant.\n",
    "\n",
    "Considering now the values in the RHS vector as well, the second equation is simply twice the first, and hence a solution to the first equation is also automatically a solution to the second equation. \n",
    "\n",
    "If we think geometrically, and interpret the two equations as constraints, they are **both** constraining our $x,y$ values to the same 1D subspace - any solution along this line in 2D satisfies **both** equations, and hence any of them is a solution to our linear system.\n",
    "\n",
    "We hence only have one *linearly-independent* equation here, and our problem is under-constrained: we effectively only have one equation for two unknowns and this problem has *infinitely many* possibly solutions (or said another way, we have *existence*, but *non-uniqueness*): e.g. $\\boldsymbol{x}=(2,0)^T$ is a solution, so is $\\boldsymbol{x}=(-1,2)^T$, etc.\n",
    "\n",
    "\n",
    "<br>\n",
    "\n",
    "If we instead replaced the RHS vector with $(4,7)^T$, then the two equations would now be contradictory: in this case we have *no solutions* (or *non-existence*)."
   ]
  },
  {
   "cell_type": "markdown",
   "metadata": {},
   "source": [
    "### Linear (in)dependence\n",
    "\n",
    "Note that a set of vectors where one can be written as a linear sum of the others are termed [*linearly-dependent*](https://en.wikipedia.org/wiki/Linear_independence). \n",
    "\n",
    "(As was the case for the rows and the columns in the example immediately above).\n",
    "\n",
    "\n",
    "When this is not the case the vectors are termed [*linearly-independent*](https://en.wikipedia.org/wiki/Linear_independence).\n",
    "\n",
    "A <a href=\"https://en.wikipedia.org/wiki/Basis_(linear_algebra)\">*basis*</a> for a vector (or linear) space is a set of *linearly-independent* vectors such that every vector (or location) in the vector space is a linear combination of this set.\n",
    "\n",
    "The number of vectors in this set is called the dimension of the vector space.\n",
    "\n",
    "For example, the unit vectors $\\,\\boldsymbol{i}$, $\\boldsymbol{j}$, $\\boldsymbol{k}\\,$ are linearly-independent and form a basis for the [three-dimensional space $\\mathbb{R}^3$](https://en.wikipedia.org/wiki/Three-dimensional_space). These unit vectors are defined as\n",
    "\n",
    "$$\\boldsymbol{i} = \\left(\n",
    "  \\begin{array}{c}\n",
    "    1 \\\\\n",
    "    0 \\\\\n",
    "    0     \n",
    "  \\end{array}\n",
    "\\right),\n",
    "\\;\\;\\;\\;\\;\\;\\;\\;\n",
    "\\boldsymbol{j} = \\left(\n",
    "  \\begin{array}{c}\n",
    "    0 \\\\\n",
    "    1 \\\\\n",
    "    0     \n",
    "  \\end{array}\n",
    "\\right),\n",
    "\\;\\;\\;\\;\\;\\;\\;\\;\n",
    "\\boldsymbol{k} = \\left(\n",
    "  \\begin{array}{c}\n",
    "    0 \\\\\n",
    "    0 \\\\\n",
    "    1     \n",
    "  \\end{array}\n",
    "\\right).\n",
    "$$\n",
    "\n",
    "By definition, these three vectors **forming a basis means that we can reach any point in $\\mathbb{R}^3$ through summing appropriate multiples of them**.\n",
    "\n",
    "These are the common basis vectors, but clearly they are not unique - with any linearly independent set of three vectors we can reach any point in 3D space through their weighted summation - start thinking about these basis vectors being columns of a matrix forming a linear system!"
   ]
  },
  {
   "cell_type": "markdown",
   "metadata": {},
   "source": [
    "### Equivalent properties\n",
    "\n",
    "The following properties of a square $n\\times n$ matrix are equivalent:\n",
    "\n",
    "\n",
    "* $\\det(A)\\ne 0$ - $A$ is non-singular.\n",
    "\n",
    "\n",
    "* The columns of $A$ are linearly independent.\n",
    "\n",
    "\n",
    "* The rows of $A$ are linearly independent.\n",
    "\n",
    "\n",
    "* The columns of $A$ *span* an $n$-dimensional space (this means that we can reach any point in $\\mathbb{R}^n$ through a linear combination of these vectors - note that this is simply what the operation $A\\boldsymbol{x}$ is doing of course if you write it out - the entries of $\\boldsymbol{x}$ are the weights in the linear combination - we wrote this out explicitly above.)  \n",
    "\n",
    "\n",
    "* [what this means is that for any given point in our space (described for example by a given $\\boldsymbol{b}$), we can reach that point through the appropriate summation of multiples of the columns of $A$, and its the $\\boldsymbol{x}$ solution vector that gives us these multiples.  Note that this isn't quite the same geometrical interpretation that we described above - see the next cell.]\n",
    "\n",
    "\n",
    "* $A$ is invertible, i.e. there exists a matrix $A^{-1}$ such that $A^{-1}A = A A^{-1}=I$.\n",
    "\n",
    "\n",
    "* The matrix system $A\\boldsymbol{x}=\\boldsymbol{b}$ has a unique solution for every vector $\\boldsymbol{b}$.\n",
    "\n",
    "\n",
    "<br>\n",
    "\n",
    "For even more equivalent properties see <https://en.wikipedia.org/wiki/Invertible_matrix#The_invertible_matrix_theorem>."
   ]
  },
  {
   "cell_type": "markdown",
   "metadata": {},
   "source": [
    "### Rank, range and null-Space\n",
    "\n",
    "Above we wrote that\n",
    "\n",
    "* The columns of $A$ *span* an $n$-dimensional space (this means that we can reach any point in $\\mathbb{R}^n$ through a linear combination of these vectors - note that this is simply what the operation $A\\boldsymbol{x}$ is doing of course if you write it out - the entries of $\\boldsymbol{x}$ are the weights in the linear combination!)  \n",
    "\n",
    "Let's explain a bit better what this means.\n",
    "\n",
    "The *rank* of an $m\\times n$ matrix $A$, written $\\text{rank}(A)$, is equal to the number of linearly independent columns that form it. It is also equal to the number of linearly independent rows that form it (as these two quantities are the same). The matrix $A$ is said to have *full rank* if $\\text{rank}(A)=\\min(m,n)$ and is said to be *rank deficient* if $\\text{rank}(A)<\\min(m,n)$.\n",
    "\n",
    "The *range* of an $m\\times n$ matrix $A$, written $\\text{range}(A)$, is the space spanned by the columns of $A$ (so it's sometimes also called the [*column space*](https://en.wikipedia.org/wiki/Row_and_column_spaces)), i.e. every point in the space can be reached through a linear combination of the columns of $A$, equivalently every point in the space can be written as $A\\boldsymbol{x}$ for some $\\boldsymbol{x}$. Said another way, the columns of $A$ provide a basis for $\\text{range}(A)$.\n",
    "\n",
    "This is telling us that if our matrix has full rank then we can reach any location through a weighted sum of the columns, i.e. no matter what the RHS vector is (the point we want to reach) the corresponding linear system always has a solution and hence the matrix has an inverse. \n",
    "\n",
    "If the matrix does not have full rank, then we will have (non-unique) solutions as long as the RHS vector (the location we want to get to geometrically) is in the range of $A$, as we are able to reach some points (i.e. some RHS vectors) with a weighted sum of our columns. \n",
    "\n",
    "If our given RHS vector is not in the range of $A$ then we simply cannot reach it through the weighted summation of columns (this is the non-existence case).\n",
    "\n",
    "Note that the difference between the last two points is completely down to the RHS vector."
   ]
  },
  {
   "cell_type": "markdown",
   "metadata": {},
   "source": [
    "The *null-space* of the matrix $A$, written $\\text{null}(A)$, is the set of vectors $\\boldsymbol{x}$ that satisfy $A\\boldsymbol{x} = 0$.\n",
    "\n",
    "Why is the null-space important, well for lots of reasons: \n",
    "\n",
    "\n",
    "1. in the next lecture it is how we will find so-called eigenvectors, \n",
    "    \n",
    "    \n",
    "2. when solving a linear system $A\\boldsymbol{x}=\\boldsymbol{b}$, we can add any vector (or linear combination of vectors) from the null-space to a solution and get another solution, this will demonstrate non-uniqueness of solutions for this problem if the null-space contains anything other than the zero vector. "
   ]
  },
  {
   "cell_type": "markdown",
   "metadata": {},
   "source": [
    "### Another geometrical interpretation\n",
    "\n",
    "Consider our $2\\times 2$ example.\n",
    "\n",
    "If we define two vectors given by the columns of the matrix, which we plot below in blue and red, \n",
    "\n",
    "along with the point $\\boldsymbol{b}$ we want to arrive at,\n",
    "\n",
    "(the black vectors indicating the unit vectors $\\boldsymbol{i}$ and $\\boldsymbol{j}$ - so we can if we want write $\\boldsymbol{b}$ = b_1 $\\boldsymbol{i}$ + b_2 $\\boldsymbol{j}\\,$)\n",
    "\n",
    "we can then visualise the problem of solving the linear system as wanting to reach the black point through the appropriate weighted sum of the blue and red vectors:"
   ]
  },
  {
   "cell_type": "code",
   "execution_count": 54,
   "metadata": {},
   "outputs": [
    {
     "data": {
      "text/plain": [
       "<matplotlib.legend.Legend at 0x1eaa188db48>"
      ]
     },
     "execution_count": 54,
     "metadata": {},
     "output_type": "execute_result"
    },
    {
     "data": {
      "image/png": "[encoded data removed]",
      "text/plain": [
       "<Figure size 432x432 with 1 Axes>"
      ]
     },
     "metadata": {
      "needs_background": "light"
     },
     "output_type": "display_data"
    }
   ],
   "source": [
    "fig = plt.figure(figsize=(6, 6))\n",
    "\n",
    "ax1 = fig.add_subplot(111)\n",
    "\n",
    "ax1.set_xlabel(\"$x$\", fontsize=14)\n",
    "ax1.set_ylabel(\"$y$\", fontsize=14)\n",
    "ax1.set_title('Position as a sum over matrix cols', fontsize=14)\n",
    "#ax1.grid(True)\n",
    "\n",
    "i = np.array([1,0])\n",
    "j = np.array([0,1])\n",
    "\n",
    "# plot the unit vectors\n",
    "ax1.quiver(i[0], i[1], angles='xy', scale_units='xy', scale=1, color='k')\n",
    "ax1.quiver(j[0], j[1], angles='xy', scale_units='xy', scale=1, color='k')\n",
    "\n",
    "ax1.set_xlim(-1,8)\n",
    "ax1.set_ylim(-5,5)\n",
    "\n",
    "A = np.array([[2, 3], [1, -4]])\n",
    "vec1 = A[:,0] # NB. This is the same as A*x\n",
    "vec2 = A[:,1] # NB. This is the same as A*y\n",
    "\n",
    "# plot them\n",
    "ax1.quiver(vec1[0], vec1[1], angles='xy', scale_units='xy', scale=1, color='b', width=0.02,  label='vec1')\n",
    "ax1.quiver(vec2[0], vec2[1], angles='xy', scale_units='xy', scale=1, color='r', width=0.02,  label='vec2')\n",
    "\n",
    "# add point b\n",
    "b = np.array([7., 3.])\n",
    "ax1.plot(b[0], b[1], 'ko',  label='${b}$')\n",
    "\n",
    "ax1.legend(loc='lower left', fontsize=14)"
   ]
  },
  {
   "cell_type": "markdown",
   "metadata": {},
   "source": [
    "As already stated, we know trivially how to write the position $\\boldsymbol{b}$ as a sum over the unit vectors $\\boldsymbol{i}$ and $\\boldsymbol{j}$:\n",
    "\n",
    "$$\\boldsymbol{b} = \n",
    "\\begin{pmatrix}\n",
    "b_1\\\\\n",
    "b_2\n",
    "\\end{pmatrix} =\n",
    "\\begin{pmatrix}\n",
    "b_1\\\\\n",
    "0\n",
    "\\end{pmatrix} +\n",
    "\\begin{pmatrix}\n",
    "0\\\\\n",
    "b_2\n",
    "\\end{pmatrix} =\n",
    "b_1\\begin{pmatrix}\n",
    "1\\\\\n",
    "0\n",
    "\\end{pmatrix} + b_2\n",
    "\\begin{pmatrix}\n",
    "0\\\\\n",
    "1\n",
    "\\end{pmatrix} =\n",
    "b_1 \\boldsymbol{i} + b_2\\boldsymbol{j}\n",
    "$$\n",
    "\n",
    "Finding the solution to our linear system is equivalent to asking how far along direction given by column one (blue vector), and then how far along the direction given by column two (the red vector), do I need to go to arrive at point $\\boldsymbol{b}$.\n",
    "\n",
    "This is exactly what the following interpretation of matrix-vector multiplication from earlier is telling us\n",
    "\n",
    "$$ A \\boldsymbol{x}=\\boldsymbol{b} \\quad \\iff \\quad\n",
    "\\begin{pmatrix}\n",
    "    b_1\\\\\n",
    "    b_2\\\\\n",
    "    \\vdots\\\\\n",
    "    b_m\n",
    "\\end{pmatrix}\n",
    "=\n",
    "\\begin{pmatrix}\n",
    "      &     &         &     \\\\\n",
    "      &     &         &     \\\\      \n",
    "  \\boldsymbol{a}_{\\,:1} & \\boldsymbol{a}_{\\,:2} &  \\ldots & \\boldsymbol{a}_{\\,:n} \\\\\n",
    "      &     &         &     \\\\\n",
    "      &     &         &     \n",
    "\\end{pmatrix}\n",
    "\\begin{pmatrix}\n",
    "    x_1\\\\\n",
    "    x_2\\\\\n",
    "    \\vdots\\\\\n",
    "    x_n\n",
    "\\end{pmatrix}\n",
    "=\n",
    "x_1 \n",
    "\\begin{pmatrix}\n",
    "       \\\\\n",
    "       \\\\\n",
    "   \\boldsymbol{a}_{\\,:1} \\\\\n",
    "       \\\\\n",
    "    ~   \n",
    "\\end{pmatrix}\n",
    "+\n",
    "x_2 \n",
    "\\begin{pmatrix}\n",
    "       \\\\\n",
    "       \\\\\n",
    "   \\boldsymbol{a}_{\\,:2} \\\\\n",
    "       \\\\\n",
    "    ~   \n",
    "\\end{pmatrix}\n",
    "+ \\cdots +\n",
    "x_n\n",
    "\\begin{pmatrix}\n",
    "       \\\\\n",
    "       \\\\\n",
    "   \\boldsymbol{a}_{\\,:n} \\\\\n",
    "       \\\\\n",
    "    ~   \n",
    "\\end{pmatrix}\n",
    "$$\n",
    "\n",
    "\n",
    "or in our case\n",
    "\n",
    "$$ \n",
    "\\begin{pmatrix}\n",
    "    7\\\\\n",
    "    3\n",
    "\\end{pmatrix}\n",
    "=\n",
    "\\begin{pmatrix}\n",
    "      2 & 3   \\\\\n",
    "     1  & -4    \n",
    "\\end{pmatrix}\n",
    "\\begin{pmatrix}\n",
    "    x_1\\\\\n",
    "    x_2\n",
    "\\end{pmatrix}\n",
    "=\n",
    "x_1 \n",
    "\\begin{pmatrix}\n",
    "       2 \\\\\n",
    "       1\n",
    "\\end{pmatrix}\n",
    "+\n",
    "x_2 \n",
    "\\begin{pmatrix}\n",
    "     3 \\\\\n",
    "     -4\n",
    "\\end{pmatrix}\n",
    "$$"
   ]
  },
  {
   "cell_type": "markdown",
   "metadata": {},
   "source": [
    "We can use the solution $\\boldsymbol{x}$ we have already found (`x = np.array([37./11, 1./11])`) to emphasise this visually/geometrically: "
   ]
  },
  {
   "cell_type": "code",
   "execution_count": 55,
   "metadata": {},
   "outputs": [
    {
     "data": {
      "text/plain": [
       "<matplotlib.quiver.Quiver at 0x1eaa189c5c8>"
      ]
     },
     "execution_count": 55,
     "metadata": {},
     "output_type": "execute_result"
    },
    {
     "data": {
      "image/png": "[encoded data removed]",
      "text/plain": [
       "<Figure size 576x576 with 1 Axes>"
      ]
     },
     "metadata": {
      "needs_background": "light"
     },
     "output_type": "display_data"
    }
   ],
   "source": [
    "fig = plt.figure(figsize=(8, 8))\n",
    "\n",
    "ax1 = fig.add_subplot(111)\n",
    "\n",
    "ax1.set_xlabel(\"$x$\", fontsize=14)\n",
    "ax1.set_ylabel(\"$y$\", fontsize=14)\n",
    "ax1.set_title('Position as a sum over matrix cols', fontsize=14)\n",
    "#ax1.grid(True)\n",
    "\n",
    "i = np.array([1,0])\n",
    "j = np.array([0,1])\n",
    "\n",
    "# plot the unit vectors\n",
    "ax1.quiver(i[0], i[1], angles='xy', scale_units='xy', scale=1, color='k')\n",
    "ax1.quiver(j[0], j[1], angles='xy', scale_units='xy', scale=1, color='k')\n",
    "\n",
    "\n",
    "ax1.set_xlim(-1,8)\n",
    "ax1.set_ylim(-5,5)\n",
    "\n",
    "A = np.array([[2, 3], [1, -4]])\n",
    "vec1 = A[:,0] # NB. This is the same as A*x\n",
    "vec2 = A[:,1] # NB. This is the same as A*y\n",
    "\n",
    "# plot them\n",
    "ax1.quiver(vec1[0], vec1[1], angles='xy', scale_units='xy', scale=1, color='b', width=0.02,  label='vec1')\n",
    "ax1.quiver(vec2[0], vec2[1], angles='xy', scale_units='xy', scale=1, color='r', width=0.02,  label='vec2')\n",
    "\n",
    "# add point b\n",
    "b = np.array([7., 3.])\n",
    "ax1.plot(b[0], b[1], 'ko',  label='${b}$')\n",
    "\n",
    "ax1.legend(loc='lower left', fontsize=14)\n",
    "\n",
    "# Now move x_1 in the direction given by column one, followed by x_2 in the direction given by column 2\n",
    "# and add to the plot with thinner lines\n",
    "x = np.array([37./11, 1./11])\n",
    "ax1.quiver(x[0]*vec1[0], x[0]*vec1[1], angles='xy', scale_units='xy', scale=1, color='darkblue', width=0.005,  label='vec1')\n",
    "ax1.quiver(x[0]*vec1[0], x[0]*vec1[1],x[1]*vec2[0], x[1]*vec2[1], angles='xy', \n",
    "           scale_units='xy', scale=1, color='darkred', width=0.005,  label='vec2')"
   ]
  },
  {
   "cell_type": "markdown",
   "metadata": {},
   "source": [
    "So we need to take 37/11 multiplied by the blue arrow and add 1/11 multiplied by the red arrow to reach the black dot.\n",
    "\n",
    "[Note we don't say something like \"move 37/11 in the direction of the blue arrow, as we might with i,j,k, since these vectors are not normalised\"].\n",
    "\n",
    "Note that the columns are not orthogonal in this case, which we can demonstrate by:"
   ]
  },
  {
   "cell_type": "code",
   "execution_count": 56,
   "metadata": {},
   "outputs": [
    {
     "name": "stdout",
     "output_type": "stream",
     "text": [
      "2\n"
     ]
    }
   ],
   "source": [
    "print(vec1.dot(vec2))"
   ]
  },
  {
   "cell_type": "markdown",
   "metadata": {},
   "source": [
    "if they were orthogonal the answer should have been zero,\n",
    "\n",
    "but that's fine as we can still reach any position in 2D space from their weighted sum as long as they are linearly independent."
   ]
  },
  {
   "cell_type": "markdown",
   "metadata": {},
   "source": [
    "\n",
    "\n",
    "### Solving our simple example (again) \n",
    "\n",
    "Let's finish up by solving our simple $2\\times 2$ example again.\n",
    "\n",
    "In the following, as well as multiplying through by the inverse matrix obtained with `sl.inv`, we also demonstrate how to use a numerical linear algebra **solver** via `sl.solve` - this **solves the problem without actually forming the inverse**. \n",
    "\n",
    "\n",
    "More info on this, including why we might not want to form the inverse, and what algorithm this is actually implementing in ACSE-3. \n",
    "\n"
   ]
  },
  {
   "cell_type": "code",
   "execution_count": 57,
   "metadata": {},
   "outputs": [
    {
     "name": "stdout",
     "output_type": "stream",
     "text": [
      "det(A) =  -11.0\n",
      "[3.3636 0.0909]\n",
      "[3.3636 0.0909]\n",
      "\n",
      "Our two numerical solutions agree:  True\n",
      "\n",
      "and sl.solve(A,b) agrees with the exact solution we computed by hand:  True\n"
     ]
    }
   ],
   "source": [
    "# form the LHS matrix\n",
    "A = np.array([[2., 3.], [1., -4.]])\n",
    "\n",
    "# check first whether the determinant of A is non-zero \n",
    "print('det(A) = ', sl.det(A))\n",
    "\n",
    "# form the RHS vector\n",
    "b = np.array([7., 3.])\n",
    "\n",
    "# compute A inverse and multiply by b (could also use np.linalg.inv(A) rather than sl.inv(A))\n",
    "print(sl.inv(A) @ b)\n",
    "\n",
    "# alternatively we can \"solve\" the linear system using SciPy \n",
    "# - actually this does the same thing as the line above but using \n",
    "# an \"LU decomposition\" of A.  (See ACSE-3 for what this means!)\n",
    "print(sl.solve(A,b))\n",
    "\n",
    "# Check our two numerical solutions using the numpy allclose function\n",
    "print('\\nOur two numerical solutions agree: ', np.allclose(sl.solve(A,b), sl.inv(A) @ b))\n",
    "# and check further that this agrees with the solution we computed by hand\n",
    "print('\\nand sl.solve(A,b) agrees with the exact solution we computed by hand: ', \n",
    "      np.allclose(sl.solve(A,b), [37./11., 1./11.]))"
   ]
  },
  {
   "cell_type": "code",
   "execution_count": 58,
   "metadata": {},
   "outputs": [
    {
     "name": "stdout",
     "output_type": "stream",
     "text": [
      "[3.3636363636363633 0.0909090909090909]\n",
      "[3.3636363636363638 0.0909090909090909]\n",
      "sl.solve(A,b) == sl.inv(A)@b: True\n",
      "sl.solve(A,b) == sl.inv(A)@b: False\n"
     ]
    }
   ],
   "source": [
    "# but let's just check the answers with lots of significant figures\n",
    "%precision 16\n",
    "A = np.array([[2., 3.], [1., -4.]])\n",
    "b = np.array([7., 3.])\n",
    "print(sl.inv(A)@b)\n",
    "print(sl.solve(A,b))\n",
    "\n",
    "# use a very tight tolerance to check equivalence\n",
    "print('sl.solve(A,b) == sl.inv(A)@b:', np.allclose(sl.solve(A,b), sl.inv(A)@b, \n",
    "                                                   rtol=0.0, atol=1e-15))\n",
    "# an even tighter tolerance\n",
    "print('sl.solve(A,b) == sl.inv(A)@b:', np.allclose(sl.solve(A,b), sl.inv(A)@b, \n",
    "                                                   rtol=0.0, atol=1e-16))"
   ]
  },
  {
   "cell_type": "markdown",
   "metadata": {},
   "source": [
    "So if we really look closely these two approaches do not yield identical results."
   ]
  },
  {
   "cell_type": "markdown",
   "metadata": {},
   "source": [
    "<div class=\"advanced\">\n",
    "\n",
    "# Cramer's rule [**]\n",
    "\n",
    "As stated above, a general formula for the inverse of a square, invertible matrix is \n",
    "\n",
    "$$A^{-1} = \\frac{1}{|A|}\\text{adj}(A)$$\n",
    "\n",
    "where the adjugate or [*adjugate matrix*](https://en.wikipedia.org/wiki/Adjugate_matrix) is\n",
    "\n",
    "$$\\text{adj}(A) = C^T$$\n",
    "\n",
    "where $C$ is the *cofactor matrix*:\n",
    "\n",
    "$$C = \n",
    "\\begin{pmatrix}\n",
    "    C_{11} & C_{12} & \\cdots\\\\\n",
    "    C_{21} & C_{22} & \\cdots\\\\\n",
    "    \\vdots & \\vdots & \\ddots\\\\\n",
    "\\end{pmatrix}\n",
    "$$ \n",
    "\n",
    "where $$C_{11} = \n",
    "\\begin{vmatrix}\n",
    "    a_{22} & a_{23}\\\\\n",
    "    a_{32} & a_{33}\n",
    "\\end{vmatrix}, \n",
    "\\quad\n",
    "C_{12} = -\n",
    "\\begin{vmatrix}\n",
    "    a_{21} & a_{23}\\\\\n",
    "    a_{31} & a_{33}\n",
    "\\end{vmatrix}\n",
    "$$\n",
    "\n",
    "etc.\n",
    "\n",
    "<\\div>"
   ]
  },
  {
   "cell_type": "markdown",
   "metadata": {},
   "source": [
    "<div class=\"advanced\">\n",
    "\n",
    "By establishing this result rigorously we can also derive a solution method for a corresponding linear system - called Cramer's Rule. Let's do this.\n",
    "\n",
    "For a given $n\\times n$ matrix $A$, consider the product with the cofactor matrix $C$ defined above:\n",
    "\n",
    "$$AC^T = \n",
    "\\begin{pmatrix}\n",
    "    a_{11} & a_{12} & \\cdots\\\\\n",
    "    a_{21} & a_{22} & \\cdots\\\\\n",
    "    \\vdots & \\vdots & \\ddots\\\\\n",
    "\\end{pmatrix}\n",
    "\\begin{pmatrix}\n",
    "    C_{11} & C_{12} & \\cdots\\\\\n",
    "    C_{21} & C_{22} & \\cdots\\\\\n",
    "    \\vdots & \\vdots & \\ddots\\\\\n",
    "\\end{pmatrix}^T= \n",
    "\\begin{pmatrix}\n",
    "    a_{11} & a_{12} & \\cdots\\\\\n",
    "    a_{21} & a_{22} & \\cdots\\\\\n",
    "    \\vdots & \\vdots & \\ddots\\\\\n",
    "\\end{pmatrix}\n",
    "\\begin{pmatrix}\n",
    "    C_{11} & C_{21} & \\cdots\\\\\n",
    "    C_{12} & C_{22} & \\cdots\\\\\n",
    "    \\vdots & \\vdots & \\ddots\\\\\n",
    "\\end{pmatrix}\n",
    "$$\n",
    "\n",
    "The result will be an $n\\times n$ matrix $[(AC^T)_{ij}]_{n\\times n}$.  Let's consider some of its entries:\n",
    "\n",
    "$$(AC^T)_{11} = a_{11} C_{11} + a_{12}C_{12} + \\ldots$$\n",
    "\n",
    "which we recognise as the formula for the determinant using the expansion over the first row.\n",
    "\n",
    "Similarly $(AC^T)_{22}$ is the determinant using the expansion over the second row, and so on - all the diagonal entries\n",
    "of this product turn out to be the determinant $|A|$.\n",
    "\n",
    "What about the off-diagonals? Let's consider one representative entry:\n",
    "\n",
    "$$(AC^T)_{12} = a_{11} C_{21} + a_{12}C_{22} + \\ldots$$\n",
    "\n",
    "where\n",
    "\n",
    "$$C_{21} = -\n",
    "\\begin{vmatrix}\n",
    "    a_{12} & a_{13} & a_{14} & \\cdots\\\\\n",
    "    a_{32} & a_{33} & a_{34} & \\cdots\\\\\n",
    "    a_{42} & a_{43} & a_{44} & \\cdots \\\\\n",
    "    \\vdots & \\vdots & \\vdots &\n",
    "\\end{vmatrix}\n",
    "$$\n",
    "\n",
    "$$C_{22} = +\n",
    "\\begin{vmatrix}\n",
    "    a_{11} & a_{13} & a_{14} & \\cdots\\\\\n",
    "    a_{31} & a_{33} & a_{34} & \\cdots\\\\\n",
    "    a_{41} & a_{34} & a_{44} & \\cdots \\\\\n",
    "    \\vdots & \\vdots & \\vdots &\n",
    "\\end{vmatrix}\n",
    "$$\n",
    "\n",
    "etc. \n",
    "\n",
    "So we have that\n",
    "\n",
    "$$ \n",
    "(AC^T)_{12} = \n",
    "-a_{11} \n",
    "\\begin{vmatrix}\n",
    "    a_{12} & a_{13} & a_{14} & \\cdots\\\\\n",
    "    a_{32} & a_{33} & a_{34} & \\cdots\\\\\n",
    "    a_{42} & a_{43} & a_{44} & \\cdots \\\\\n",
    "    \\vdots & \\vdots & \\vdots &\n",
    "\\end{vmatrix} + \n",
    "a_{12}\n",
    "\\begin{vmatrix}\n",
    "    a_{11} & a_{13} & a_{14} & \\cdots\\\\\n",
    "    a_{31} & a_{33} & a_{34} & \\cdots\\\\\n",
    "    a_{41} & a_{34} & a_{44} & \\cdots \\\\\n",
    "    \\vdots & \\vdots & \\vdots &\n",
    "\\end{vmatrix}\n",
    "+ \\ldots\n",
    "$$\n",
    "\n",
    "But notice that this is the determinant of the following matrix:\n",
    "\n",
    "$$(AC^T)_{12}=\n",
    "-\\begin{vmatrix}\n",
    "    a_{11} & a_{12} & a_{13} & \\cdots\\\\\n",
    "    a_{11} & a_{12} & a_{13} & \\cdots\\\\\n",
    "    a_{31} & a_{32} & a_{33} & \\cdots \\\\\n",
    "    a_{41} & a_{42} & a_{43} & \\cdots \\\\\n",
    "\\vdots & \\vdots & \\vdots &\n",
    "\\end{vmatrix}\n",
    "$$\n",
    "\n",
    "i.e. a matrix with a repeated row.  \n",
    "\n",
    "What do we know about matrices with repeated, i.e. non linearly independent rows - they have zero determinants. Hence this off-diagonal entry is zero. This argument can be repeated to show that every off-diagonals entry must be zero.\n",
    "\n",
    "</div>"
   ]
  },
  {
   "cell_type": "markdown",
   "metadata": {},
   "source": [
    "<div class=\"advanced\">\n",
    "\n",
    "If you don't quite follow this, let's look at the $2\\times 2$ example. In this case \n",
    "\n",
    "$$AC^T = \n",
    "\\begin{pmatrix}\n",
    "    a & b \\\\\n",
    "    c & d \n",
    "\\end{pmatrix}\n",
    "\\begin{pmatrix}\n",
    "    d & -c \\\\\n",
    "    -b & a\n",
    "\\end{pmatrix}^T= \n",
    "\\begin{pmatrix}\n",
    "    a & b  \\\\\n",
    "    c & d \n",
    "\\end{pmatrix}\n",
    "\\begin{pmatrix}\n",
    "    d & -b\\\\\n",
    "    -c & a\n",
    "\\end{pmatrix}\n",
    "$$\n",
    "\n",
    "So \n",
    "\n",
    "$$(AC^T)_{11} = ad - bc =|A|$$\n",
    "\n",
    "and \n",
    "\n",
    "$$(AC^T)_{12} = a_{11} C_{21} + a_{12}C_{22} = a(-b) + b(a) =  \n",
    "\\begin{vmatrix}\n",
    "a & b \\\\\n",
    "a & b\n",
    "\\end{vmatrix}\n",
    "=0$$\n",
    "\n",
    "as for the general case this is zero - the determinant of the matrix where we have replaced the second row with the first. \n",
    "\n",
    "</div>"
   ]
  },
  {
   "cell_type": "markdown",
   "metadata": {},
   "source": [
    "<div class=\"advanced\">\n",
    "\n",
    "Hence we have that \n",
    "\n",
    "$$ AC^T = |A| \\; I \\; \\implies \\; A \\left( \\frac{1}{|A|} C^T \\right) = I $$\n",
    "\n",
    "and so having divided through by an assumed non-zero scalar determinant we have constructed a \"right inverse\" to our matrix $A$.  \n",
    "\n",
    "\n",
    "A similar argument would show that we also have a left inverse, as $C^T A = |A|I$ - this time entries of $C^TA$ can be interpreted as the sum of cofactors multiplied by entries from a column of $A$. For the diagonals this is the determinant of $A$ (computed via a column expansion), and for off-diagonals the determinant of matrix with repeated columns, i.e. zero.\n",
    "\n",
    "Together this proves that we indeed have the inverse matrix:\n",
    "\n",
    "$$A^{-1}=\\frac{1}{|A|} C^T = \\frac{1}{|A|} \\text{adj}(A)$$\n",
    "\n",
    "</div>"
   ]
  },
  {
   "cell_type": "markdown",
   "metadata": {},
   "source": [
    "<div class=\"advanced\">\n",
    "\n",
    "Establishing that the above formula for the inverse is true points us to a method for computing the solution of the linear system, i.e.\n",
    "\n",
    "$$ A\\boldsymbol{x}=\\boldsymbol{b} \\implies \\boldsymbol{x} = A^{-1}\\boldsymbol{b} = \\frac{1}{|A|} C^T \\boldsymbol{b}, $$\n",
    "\n",
    "directly.\n",
    "\n",
    "Consider the first entry of our unknown, $x_1$. The above formula tells us that this is equal to one over the determinant of $A$, times the first row of $C^T$ multiplied by the column vector $\\boldsymbol{b}$:\n",
    "\n",
    "$$x_1 = \\frac{1}{|A|} \\left(C_{11}b_1 + C_{21}b_2 + \\ldots\\right)$$\n",
    "\n",
    "but, as above, the expansion of cofactors that appears here can be recognised as the determinant of a particular matrix, and thus an expression for the first entry of the solution vector is:\n",
    "\n",
    "$$x_1 = \\frac{1}{|A|} \n",
    "\\begin{vmatrix}\n",
    "b_1 & a_{12} & a_{13} & \\cdots \\\\\n",
    "b_2 & a_{22} & a_{23} & \\cdots \\\\\n",
    "b_3 & a_{32} & a_{33} & \\cdots \\\\\n",
    "\\vdots & \\vdots & \\vdots &\n",
    "\\end{vmatrix}\n",
    "$$\n",
    "\n",
    "Call the matrix that appears here $B_1$ (which is defined as $A$ but with the first column replaced by $\\boldsymbol{b}$).\n",
    "\n",
    "Define $B_j$ similarly as the matrix $A$ with the $j$-th column replaced by $\\boldsymbol{b}$:\n",
    "\n",
    "$$B_j = \n",
    "\\begin{pmatrix}\n",
    "      &     &         &   &&&&   \\\\\n",
    "  \\boldsymbol{a}_1 & \\boldsymbol{a}_2 &  \\ldots & \\boldsymbol{a}_{j-1} & \\boldsymbol{b} & \\boldsymbol{a}_{j+1}  & \\ldots & \\boldsymbol{a}_n \\\\\n",
    "      &     &         &   &&&&  \\\\\n",
    "      &     &         &   &&&&  \n",
    "\\end{pmatrix}\n",
    "$$\n",
    "\n",
    "Then as an extension of above we have\n",
    "\n",
    "$$x_j = \\frac{|B_j|}{|A|}, \\quad  1\\leq j \\leq n$$\n",
    "\n",
    "This solution method is called [Cramer's rule](https://en.wikipedia.org/wiki/Cramer%27s_rule), and a homework exercise asks you to implement this method in a function.\n",
    "\n",
    "</div>"
   ]
  },
  {
   "cell_type": "markdown",
   "metadata": {},
   "source": [
    "<div class=\"optional\">\n",
    "    \n",
    "# Geometric interpretation of linear transformations [* - assuming we have run out of time, please read through this section as we will pick up the next lecture from these ideas]\n",
    "\n",
    "If we consider a vector describing a position relative to the origin then we can interpret pre-multiplication of this vector by a matrix as a linear transformation applied to this position. \n",
    "\n",
    "Alternatively, in Euclidean 2D space consider two vectors describing a basis for that space (e.g. $\\boldsymbol{i}$ and $\\boldsymbol{j}$), then we can interpret pre-multiplication of these vectors by a matrix as a linear coordinate transformation. (And this is also true for any (finite) number of dimensions).\n",
    "\n",
    "Other words for transformation here include 'function' or 'map' - the action of applying it maps objects between spaces.\n",
    "\n",
    "Linear means that it does so in a manner that preserves the operations of addition and scalar multiplication: if $f(\\cdot)$ represents our transformation/mapping/function then mathematically this means that \n",
    "\n",
    "$$ f(\\boldsymbol{x}+\\boldsymbol{y}) =  f(\\boldsymbol{x}) + f(\\boldsymbol{y}) \n",
    "\\quad \\text{and}\\qquad \n",
    " f(\\alpha \\boldsymbol{x}) = \\alpha f(\\boldsymbol{x})\n",
    "$$\n",
    " \n",
    "for all objects $\\boldsymbol{x}$ in the space we're considering (e.g. Euclidean space), and all scalars $\\alpha$.\n",
    " \n",
    "In the finite dimensional case (e.g. Euclidean space, not function spaces), such a linear transformation is equivalent to multiplication by a matrix. If we map between spaces that are the same dimension then this matrix is square, non-square matrices given us mappings between spaces of different dimension (think different number of model inputs than model outputs - this case comes up in ACSE-7: Inversion and Optimisation).\n",
    "\n",
    "</div>"
   ]
  },
  {
   "cell_type": "markdown",
   "metadata": {},
   "source": [
    "A few common examples in 2D are given in the cells/images below.\n",
    "\n",
    "For some additional examples see <https://en.wikipedia.org/wiki/Linear_map#Examples_of_linear_transformation_matrices>\n",
    "and <https://en.wikipedia.org/wiki/Transformation_matrix>.\n",
    "\n",
    "[Note that the examples below are all in 2D for ease of plotting/visualisation/thinking! These can all be extended to higher dimensions: parallelograms become [parallelepipeds](https://en.wikipedia.org/wiki/Parallelepiped) in 3D, ellipses become [ellipsoids](https://en.wikipedia.org/wiki/Ellipsoid) etc].\n",
    "\n",
    "For each of these tranformation we will check the statement we made above about the determinant:\n",
    "\"Geometrically it gives the scaling of the volume (area in 2D) of a shape under the linear transformation represented by the matrix.\"\n"
   ]
  },
  {
   "cell_type": "markdown",
   "metadata": {},
   "source": [
    "Firstly let's consider a point in a two dimensional space\n",
    "\n",
    "$$\\boldsymbol{p} = \n",
    "\\begin{pmatrix}\n",
    "p_1\\\\\n",
    "p_2\n",
    "\\end{pmatrix}\n",
    "$$ \n",
    "\n",
    "you can also think of this as a vector from the origin (you might write this as $\\;\\overrightarrow{op}\\;$ to avoid any ambiguities, with $o$ indicating the origin).\n",
    "\n",
    "Firstly consider what multiplication by a matrix $A$ does to this point's location, or equivalently the vector - i.e. let's compute a new point $\\boldsymbol{p}'=A\\boldsymbol{p}$ for a random matrix $A$ and plot it:"
   ]
  },
  {
   "cell_type": "code",
   "execution_count": 59,
   "metadata": {},
   "outputs": [
    {
     "data": {
      "text/plain": [
       "(-0.166, 3.4859999999999998, -0.11499999999999999, 2.415)"
      ]
     },
     "execution_count": 59,
     "metadata": {},
     "output_type": "execute_result"
    },
    {
     "data": {
      "image/png": "[encoded data removed]",
      "text/plain": [
       "<Figure size 432x432 with 1 Axes>"
      ]
     },
     "metadata": {
      "needs_background": "light"
     },
     "output_type": "display_data"
    }
   ],
   "source": [
    "fig = plt.figure(figsize=(6, 6))\n",
    "\n",
    "ax1 = fig.add_subplot(111)\n",
    "\n",
    "ax1.set_xlabel(\"$x, x'$\", fontsize=14)\n",
    "ax1.set_ylabel(\"$y, y'$\", fontsize=14)\n",
    "ax1.set_title('Transforming point', fontsize=14)\n",
    "#ax1.grid(True)\n",
    "\n",
    "# unit vectors\n",
    "i = np.array([1,0])\n",
    "j = np.array([0,1])\n",
    "\n",
    "# plot the vectors\n",
    "ax1.quiver(i[0], i[1], angles='xy', scale_units='xy', scale=1, color='k', zorder=10)\n",
    "ax1.quiver(j[0], j[1], angles='xy', scale_units='xy', scale=1, color='k', zorder=10)\n",
    "# add some text\n",
    "ax1.text(i[0]+0.1, i[1], '$i$', fontsize=12)\n",
    "ax1.text(j[0], j[1]+0.1, '$j$', fontsize=12)\n",
    "\n",
    "# a point p\n",
    "p = np.array([1.4, 2.3])\n",
    "\n",
    "# plot it\n",
    "ax1.plot(p[0],p[1],'bo')\n",
    "\n",
    "# add some text\n",
    "ax1.text(p[0],p[1]+0.1, '$p$', fontsize=12)\n",
    "\n",
    "# consider a random matrix\n",
    "A = np.array([[0.4,1.2],[-0.1,0.4]])\n",
    "\n",
    "# tranform the point\n",
    "p_ = A@p\n",
    "\n",
    "# plot the transformed point\n",
    "ax1.plot(p_[0],p_[1],'ro')\n",
    "\n",
    "# add some text\n",
    "ax1.text(p_[0],p_[1]+0.1, \"$p'$\", fontsize=12)\n",
    "\n",
    "# make the axis lengths equal - so i and j are same size\n",
    "ax1.axis('equal')"
   ]
  },
  {
   "cell_type": "markdown",
   "metadata": {},
   "source": [
    "We can interpret what's happened here in terms of a coordinate transformation.\n",
    "\n",
    "Given the unit vectors which are the typical basis used for $\\mathbb{R}^2$\n",
    "\n",
    "\n",
    "$$\\boldsymbol{i} = \\left(\n",
    "  \\begin{array}{c}\n",
    "    1 \\\\\n",
    "    0     \n",
    "  \\end{array}\n",
    "\\right),\n",
    "\\;\\;\\;\\;\\;\\;\\;\\;\n",
    "\\boldsymbol{j} = \\left(\n",
    "  \\begin{array}{c}\n",
    "    0 \\\\\n",
    "    1\n",
    "  \\end{array}\n",
    "\\right),\n",
    "$$\n",
    "\n",
    "then of course we can write\n",
    "\n",
    "$$\\boldsymbol{p} = \n",
    "\\begin{pmatrix}\n",
    "p_1\\\\\n",
    "p_2\n",
    "\\end{pmatrix} = p_1 \\boldsymbol{i} + p_2 \\boldsymbol{j} \n",
    "$$\n",
    "\n",
    "the transformed point is then\n",
    "\n",
    "$$\\boldsymbol{p}' = A\\boldsymbol{p} = A(p_1 \\boldsymbol{i} + p_2 \\boldsymbol{j})\n",
    "= p_1 (A\\boldsymbol{i}) + p_2 (A\\boldsymbol{j})\n",
    "$$\n",
    "\n",
    "(by linearity of matrix multiplication).\n",
    "\n",
    "This emphasises that we can interpret multiplication by a matrix as a change of coordinates - our coordinate basis has been transformed from $(\\boldsymbol{i},\\boldsymbol{j})$ to $(A\\boldsymbol{i},A\\boldsymbol{j})$.\n",
    "\n",
    "Now in this case, due to the particularly simple/special form of the starting basis: $\\boldsymbol{i}$ and $\\boldsymbol{j}$, this new basis is made up of the columns of $A$!\n",
    "\n",
    "The transformation of a summation will then just be\n",
    "\n",
    "$$(\\boldsymbol{p}+\\boldsymbol{q})' = A(\\boldsymbol{p}+\\boldsymbol{q}) = A((p_1+q_1) \\boldsymbol{i} + (p_2+q_2) \\boldsymbol{j})\n",
    "= (p_1+q_1) (A\\boldsymbol{i}) + (p_2+q_2) (A\\boldsymbol{j})\n",
    "$$\n",
    "\n",
    "[A homework exercise asks you to plot a demonstration of this]\n",
    "\n",
    "and similar for a scalar multiple.\n"
   ]
  },
  {
   "cell_type": "markdown",
   "metadata": {},
   "source": [
    "## Some examples\n",
    "\n",
    "Let's plot a few simple examples of transformations/matrices"
   ]
  },
  {
   "cell_type": "code",
   "execution_count": 60,
   "metadata": {},
   "outputs": [
    {
     "data": {
      "text/plain": [
       "(-0.1, 2.1, -0.05, 1.05)"
      ]
     },
     "execution_count": 60,
     "metadata": {},
     "output_type": "execute_result"
    },
    {
     "data": {
      "image/png": "[encoded data removed]",
      "text/plain": [
       "<Figure size 432x432 with 1 Axes>"
      ]
     },
     "metadata": {
      "needs_background": "light"
     },
     "output_type": "display_data"
    }
   ],
   "source": [
    "from matplotlib.patches import Polygon\n",
    "\n",
    "fig = plt.figure(figsize=(6, 6))\n",
    "\n",
    "ax1 = fig.add_subplot(111)\n",
    "\n",
    "ax1.set_xlabel(\"$x, x'$\", fontsize=14)\n",
    "ax1.set_ylabel(\"$y, y'$\", fontsize=14)\n",
    "ax1.set_title('Linear transformation (shear)', fontsize=14)\n",
    "ax1.grid(True)\n",
    "\n",
    "i = np.array([1,0])\n",
    "j = np.array([0,1])\n",
    "\n",
    "# plot the vectors~\n",
    "ax1.quiver(i[0], i[1], angles='xy', scale_units='xy', scale=1, color='b', zorder=10)\n",
    "ax1.quiver(j[0], j[1], angles='xy', scale_units='xy', scale=1, color='b', zorder=10)\n",
    "# add a unit square image\n",
    "ij = np.column_stack([np.zeros(2,),i,i+j,j]) # don't need to add zero at end as we will assume closed polygons\n",
    "ax1.add_patch(Polygon( ij.T , facecolor='lightblue', alpha=0.7))\n",
    "\n",
    "A = np.array([[1,1],[0,1]])\n",
    "i_ = A@i\n",
    "j_ = A@j\n",
    "\n",
    "# and the vectors\n",
    "ax1.quiver(i_[0], i_[1], angles='xy', scale_units='xy', scale=1, color='r', zorder=10)\n",
    "ax1.quiver(j_[0], j_[1], angles='xy', scale_units='xy', scale=1, color='r', zorder=10)\n",
    "# plot how the square transforms\n",
    "ij_ = np.column_stack([np.zeros(2,),i_,i_+j_,j_]) # don't need to add zero at end as we will assume closed polygons\n",
    "ax1.add_patch(Polygon( ij_.T , facecolor='mistyrose', alpha=0.7))\n",
    "\n",
    "\n",
    "ax1.axis('equal')"
   ]
  },
  {
   "cell_type": "markdown",
   "metadata": {},
   "source": [
    "Additionally in this figure we have plotted in light blue the unit square of area 1 which is spanned by the two original unit vectors. Under the coordinate transform, as well as the unit vectors transforming into the red vectors, the light blue square transforms into the light red parallelogram.\n",
    "\n",
    "The area of a parallelogram is `base` $\\times$ `height`, but for this example this is just $1\\times 1$, i.e. the area has not changed under the transformation.\n",
    "\n",
    "Note also that the determinant of the matrix is given by\n",
    "\n",
    "$$\n",
    "\\begin{vmatrix}\n",
    "1 & 1\\\\\n",
    "0 & 1\n",
    "\\end{vmatrix} = 1\n",
    "$$\n",
    "\n",
    "and hence we have verified for this particular case the statement we made about the determinant: \"Geometrically it gives the scaling of the volume (area in 2D) of a shape under the linear transformation represented by the matrix.\"\n",
    "\n",
    "This is an example of shear <https://en.wikipedia.org/wiki/Shear_mapping>.\n",
    "\n",
    "Let's try another common example:"
   ]
  },
  {
   "cell_type": "code",
   "execution_count": 61,
   "metadata": {},
   "outputs": [
    {
     "data": {
      "text/plain": [
       "(-0.23233058655027686,\n",
       " 1.0586824088833464,\n",
       " -0.057922796533956926,\n",
       " 1.2163787272130953)"
      ]
     },
     "execution_count": 61,
     "metadata": {},
     "output_type": "execute_result"
    },
    {
     "data": {
      "image/png": "[encoded data removed]",
      "text/plain": [
       "<Figure size 432x432 with 1 Axes>"
      ]
     },
     "metadata": {
      "needs_background": "light"
     },
     "output_type": "display_data"
    }
   ],
   "source": [
    "fig = plt.figure(figsize=(6, 6))\n",
    "\n",
    "ax1 = fig.add_subplot(111)\n",
    "\n",
    "ax1.set_xlabel(\"$x, x'$\", fontsize=14)\n",
    "ax1.set_ylabel(\"$y, y'$\", fontsize=14)\n",
    "ax1.set_title('Linear transformation (rotation)', fontsize=14)\n",
    "ax1.grid(True)\n",
    "\n",
    "i = np.array([1,0])\n",
    "j = np.array([0,1])\n",
    "\n",
    "# plot the vectors\n",
    "ax1.quiver(i[0], i[1], angles='xy', scale_units='xy', scale=1, color='b', zorder=10)\n",
    "ax1.quiver(j[0], j[1], angles='xy', scale_units='xy', scale=1, color='b', zorder=10)\n",
    "# add a unit square image\n",
    "ij = np.column_stack([np.zeros(2,),i,i+j,j]) # don't need to add zero at end as we will assume closed polygons\n",
    "ax1.add_patch(Polygon( ij.T , facecolor='lightblue', alpha=0.7))\n",
    "\n",
    "theta = 10 *np.pi/180 # convert 10 degrees into radians\n",
    "A = np.array([[np.cos(theta),-np.sin(theta)],[np.sin(theta),np.cos(theta)]])\n",
    "i_ = A@i\n",
    "j_ = A@j\n",
    "\n",
    "\n",
    "# and the vectors\n",
    "ax1.quiver(i_[0], i_[1], angles='xy', scale_units='xy', scale=1, color='r', zorder=10)\n",
    "ax1.quiver(j_[0], j_[1], angles='xy', scale_units='xy', scale=1, color='r', zorder=10)\n",
    "# plot how the square transforms\n",
    "ij_ = np.column_stack([np.zeros(2,),i_,i_+j_,j_]) # don't need to add zero at end as we will assume closed polygons\n",
    "ax1.add_patch(Polygon( ij_.T , facecolor='mistyrose', alpha=0.7))\n",
    "\n",
    "ax1.axis('equal')"
   ]
  },
  {
   "cell_type": "markdown",
   "metadata": {},
   "source": [
    "In this case the matrix\n",
    "\n",
    "$$A = \n",
    "\\begin{pmatrix}\n",
    "\\cos(\\theta) & -\\sin(\\theta)\\\\\n",
    "\\sin(\\theta) & \\cos(\\theta)\n",
    "\\end{pmatrix}\n",
    "$$\n",
    "\n",
    "corresponds to a rotation in the anti-clockwise direction by the angle $\\theta$.  This is called a *rotation matrix*.\n",
    "\n",
    "\n",
    "1. Based upon the matrix (rather than the above image which tells you what the answer should be) what is the area of the red area compared to the blue?\n",
    "\n",
    "\n",
    "2. Are the transformed basis vectors orthonormal (unit length (normalised) and orthogonal to each other)? \n",
    "\n",
    "\n",
    "3. Consider a point $\\boldsymbol{p}$ and corresponding vector from the origin  $\\overrightarrow{op}$. Show that  $|\\overrightarrow{op}|$ = $|\\overrightarrow{op'}|$ where the latter is the length of the vector from the origin to the transformed point."
   ]
  },
  {
   "cell_type": "markdown",
   "metadata": {},
   "source": [
    "<div class=\"optional\">\n",
    "\n",
    "## A general transformation and the determinant again [\\*]\n",
    "\n",
    "Let's revert back to a general matrix \n",
    "\n",
    "$$\\begin{pmatrix}\n",
    "a & b \\\\\n",
    "c & d\n",
    "\\end{pmatrix}$$ \n",
    "\n",
    "and plot how the point\n",
    "\n",
    "$$\\boldsymbol{p} = \n",
    "\\begin{pmatrix}\n",
    "p_1\\\\\n",
    "p_2\n",
    "\\end{pmatrix} = p_1 \\boldsymbol{i} + p_2 \\boldsymbol{j} \n",
    "$$\n",
    "\n",
    "transforms:\n",
    "    \n",
    "</div>"
   ]
  },
  {
   "cell_type": "code",
   "execution_count": 62,
   "metadata": {},
   "outputs": [
    {
     "data": {
      "text/plain": [
       "(-0.2000000000000000, 2.5000000000000000)"
      ]
     },
     "execution_count": 62,
     "metadata": {},
     "output_type": "execute_result"
    },
    {
     "data": {
      "image/png": "[encoded data removed]",
      "text/plain": [
       "<Figure size 576x576 with 1 Axes>"
      ]
     },
     "metadata": {
      "needs_background": "light"
     },
     "output_type": "display_data"
    }
   ],
   "source": [
    "fig = plt.figure(figsize=(8, 8))\n",
    "\n",
    "ax1 = fig.add_subplot(111)\n",
    "\n",
    "ax1.set_xlabel(\"$x, x'$\", fontsize=14)\n",
    "ax1.set_ylabel(\"$y, y'$\", fontsize=14)\n",
    "ax1.set_title('Linear transformation (general)', fontsize=14)\n",
    "ax1.grid(True)\n",
    "\n",
    "# plot some larger axes for this image\n",
    "ax1.quiver(2,0, angles='xy', scale_units='xy', scale=1, color='k', zorder=10)\n",
    "ax1.quiver(0,2, angles='xy', scale_units='xy', scale=1, color='k', zorder=10)\n",
    "\n",
    "# basis functions\n",
    "i = np.array([1,0])\n",
    "j = np.array([0,1])\n",
    "\n",
    "# transform them\n",
    "A = np.array([[0.9,0.2],[0.6,1.1]])\n",
    "i_ = A@i\n",
    "j_ = A@j\n",
    "\n",
    "# plot how the square transforms\n",
    "ij_ = np.column_stack([np.zeros(2,),i_,i_+j_,j_]) # don't need to add zero at end as we will assume closed polygons\n",
    "ax1.add_patch(Polygon( ij_.T , facecolor='mistyrose', alpha=0.7))\n",
    "\n",
    "# some borders\n",
    "ax1.plot([0,i_[0]], [0,i_[1]], color='r', zorder=10)\n",
    "ax1.plot([0,j_[0]], [0,j_[1]], color='r', zorder=10)\n",
    "ax1.plot([i_[0],i_[0]+j_[0]], [i_[1],i_[1]+j_[1]], color='r', zorder=10)\n",
    "ax1.plot([j_[0],i_[0]+j_[0]], [j_[1],i_[1]+j_[1]], color='r', zorder=10)\n",
    "\n",
    "# add a point\n",
    "p = i+j\n",
    "\n",
    "# transform it\n",
    "p_ = A@p\n",
    "\n",
    "# plot the transformed point\n",
    "ax1.plot(p_[0],p_[1],'ro')\n",
    "\n",
    "# add some text\n",
    "ax1.text(p_[0],p_[1]+0.1, \"$p'=(a+b,c+d)^T$\", fontsize=12)\n",
    "ax1.text(i_[0]-0.3,i_[1]+0.01, \"$(a,c)^T$\", fontsize=12)\n",
    "ax1.text(j_[0]+0.025,j_[1]-0.1, \"$(b,d)^T$\", fontsize=12)\n",
    "\n",
    "ax1.set_xlim(-0.2,2.5)\n",
    "ax1.set_ylim(-0.2,2.5)\n"
   ]
  },
  {
   "cell_type": "markdown",
   "metadata": {},
   "source": [
    "<div class=\"optional\">\n",
    "    \n",
    "In this case under multiplication by $A$ the basis vectors transform as: \n",
    "\n",
    "$$\\boldsymbol{i} = \n",
    "\\begin{pmatrix}\n",
    "    1\\\\\n",
    "    0\n",
    "\\end{pmatrix}\n",
    "\\longrightarrow\n",
    "\\begin{pmatrix}\n",
    "    a\\\\\n",
    "    c\n",
    "\\end{pmatrix}=\n",
    "\\begin{pmatrix}\n",
    "    0.9\\\\\n",
    "    0.6\n",
    "\\end{pmatrix},\n",
    "\\quad\n",
    "\\boldsymbol{j} = \n",
    "\\begin{pmatrix}\n",
    "    0\\\\\n",
    "    1\n",
    "\\end{pmatrix}\n",
    "\\longrightarrow\n",
    "\\begin{pmatrix}\n",
    "    b\\\\\n",
    "    d\n",
    "\\end{pmatrix}=\n",
    "\\begin{pmatrix}\n",
    "    0.2\\\\\n",
    "    1.1\n",
    "\\end{pmatrix}\n",
    "$$\n",
    "\n",
    "What's the area of the resulting parallelogram ... it's the determinant. \n",
    "\n",
    "Let's confirm this after we first update the plot a little:\n",
    "    \n",
    "</div>"
   ]
  },
  {
   "cell_type": "code",
   "execution_count": 63,
   "metadata": {},
   "outputs": [
    {
     "data": {
      "text/plain": [
       "[<matplotlib.lines.Line2D at 0x1eaa2cb28c8>]"
      ]
     },
     "execution_count": 63,
     "metadata": {},
     "output_type": "execute_result"
    },
    {
     "data": {
      "image/png": "[encoded data removed]",
      "text/plain": [
       "<Figure size 576x576 with 1 Axes>"
      ]
     },
     "metadata": {
      "needs_background": "light"
     },
     "output_type": "display_data"
    }
   ],
   "source": [
    "fig = plt.figure(figsize=(8, 8))\n",
    "\n",
    "ax1 = fig.add_subplot(111)\n",
    "\n",
    "ax1.set_xlabel(\"$x, x'$\", fontsize=14)\n",
    "ax1.set_ylabel(\"$y, y'$\", fontsize=14)\n",
    "ax1.set_title('Linear transformation (general)', fontsize=14)\n",
    "ax1.grid(True)\n",
    "\n",
    "# plot some larger axes for this image\n",
    "ax1.quiver(2,0, angles='xy', scale_units='xy', scale=1, color='k', zorder=10)\n",
    "ax1.quiver(0,2, angles='xy', scale_units='xy', scale=1, color='k', zorder=10)\n",
    "\n",
    "# basis functions\n",
    "i = np.array([1,0])\n",
    "j = np.array([0,1])\n",
    "\n",
    "# transform them\n",
    "A = np.array([[0.9,0.2],[0.6,1.1]])\n",
    "i_ = A@i\n",
    "j_ = A@j\n",
    "\n",
    "# plot how the square transforms\n",
    "ij_ = np.column_stack([np.zeros(2,),i_,i_+j_,j_]) # don't need to add zero at end as we will assume closed polygons\n",
    "ax1.add_patch(Polygon( ij_.T , facecolor='mistyrose', alpha=0.7))\n",
    "\n",
    "# some borders\n",
    "ax1.plot([0,i_[0]], [0,i_[1]], color='r', zorder=10)\n",
    "ax1.plot([0,j_[0]], [0,j_[1]], color='r', zorder=10)\n",
    "ax1.plot([i_[0],i_[0]+j_[0]], [i_[1],i_[1]+j_[1]], color='r', zorder=10)\n",
    "ax1.plot([j_[0],i_[0]+j_[0]], [j_[1],i_[1]+j_[1]], color='r', zorder=10)\n",
    "\n",
    "# add a point\n",
    "p = i+j\n",
    "\n",
    "# transform it\n",
    "p_ = A@p\n",
    "\n",
    "# plot the transformed point\n",
    "ax1.plot(p_[0],p_[1],'ro')\n",
    "\n",
    "# add some text\n",
    "ax1.text(p_[0],p_[1]+0.1, \"$p'=(a+b,c+d)^T$\", fontsize=12)\n",
    "ax1.text(i_[0]-0.3,i_[1]+0.01, \"$(a,c)^T$\", fontsize=12)\n",
    "ax1.text(j_[0]+0.025,j_[1]-0.1, \"$(b,d)^T$\", fontsize=12)\n",
    "\n",
    "ax1.set_xlim(-0.2,2.5)\n",
    "ax1.set_ylim(-0.2,2.5)\n",
    "\n",
    "# add some lines\n",
    "ax1.plot([0,p_[0]],[p_[1],p_[1]],'b',lw=1)\n",
    "ax1.plot([p_[0],p_[0]],[0,p_[1]],'b',lw=1)\n",
    "ax1.plot([i_[0],p_[0]],[i_[1],0],'b',lw=1)\n",
    "ax1.plot([j_[0],0],[j_[1],p_[1]],'b',lw=1)"
   ]
  },
  {
   "cell_type": "markdown",
   "metadata": {},
   "source": [
    "<div class=\"optional\">\n",
    "\n",
    "Using the following notation for the matrix entries\n",
    "\n",
    "$$A =\n",
    "\\begin{pmatrix}\n",
    "a & b\\\\\n",
    "c & d\n",
    "\\end{pmatrix}\n",
    "$$\n",
    "\n",
    "the area of red parallelogram in the image above can be computed as the area of the large blue square (which is $(a+b)\\times (c+d)$) minus the areas of the four outer triangles, each of which can be computed as half their base multiplied by their height (the latter of which is easy to read off for each triangle as the distance from one of the horizontal or vertical lines). In the formula below I've started at the \"Western\" triangle (which has area: $(c+d)b/2$) and proceeded clockwise.\n",
    "\n",
    "\\begin{align*}\n",
    "\\text{Volume} &\n",
    "= (a+b)(c+d) - \n",
    "\\frac{1}{2}\\left(\n",
    "(c+d)b + (a+b)c + (c+d)b + (a+b)c \n",
    "\\right)\\\\\n",
    "& = ac+ad+bc+bd- \n",
    "\\frac{1}{2}\\left(\n",
    "bc+bd+ac+bc+bc+bd+ac+bc\n",
    "\\right)\\\\\n",
    "& = ac+ad+bc+bd- \n",
    "\\frac{1}{2}\\left(\n",
    "4bc+2bd+2ac\n",
    "\\right)\\\\\n",
    "& = ac+ad+bc+bd- \n",
    "2bc-bd-ac\\\\\n",
    "&=ad-bc = |A|\n",
    "\\end{align*}\n",
    "\n",
    "This is not the only way to do this. Firstly we could have spotted that the area of the two top-left triangles is the same as the two bottom right by symmetry to simplify our calculation a bit. We could also have split each these up into one rectangle and two right-angled triangles.\n",
    "\n",
    "A homework exercise asks you to demonstrate the same thing using a [cross product](https://en.wikipedia.org/wiki/Cross_product).\n",
    "    \n",
    "</div>"
   ]
  },
  {
   "cell_type": "markdown",
   "metadata": {},
   "source": [
    "<div class=\"optional\">\n",
    "\n",
    "# An animation [*]\n",
    "\n",
    "With this knowledge we can create some interesting images/animations - a simple example now, a more exciting example displayed at the start is a homework exercise.\n",
    "\n",
    "For some pointers on generating animations see the discussions here:\n",
    "\n",
    "<https://jakevdp.github.io/blog/2012/08/18/matplotlib-animation-tutorial/>\n",
    "\n",
    "<https://matplotlib.org/api/_as_gen/matplotlib.animation.FuncAnimation.html>\n",
    "\n",
    "<https://matplotlib.org/3.1.1/gallery/animation/animated_histogram.html>\n",
    "\n",
    "<https://stackoverflow.com/questions/16037494/x-is-this-trailing-comma-the-comma-operator>\n",
    "\n",
    "</div>"
   ]
  },
  {
   "cell_type": "code",
   "execution_count": 64,
   "metadata": {
    "scrolled": false
   },
   "outputs": [
    {
     "data": {
      "text/html": [
       "<video width=\"576\" height=\"576\" controls autoplay loop>\n",
       "  <source type=\"video/mp4\" src=\"data:video/mp4;base64,AAAAIGZ0eXBNNFYgAAACAE00ViBpc29taXNvMmF2YzEAAAAIZnJlZQAAzultZGF0AAACoQYF//+d\n",
       "3EXpvebZSLeWLNgg2SPu73gyNjQgLSBjb3JlIDE2MSAtIEguMjY0L01QRUctNCBBVkMgY29kZWMg\n",
       "LSBDb3B5bGVmdCAyMDAzLTIwMjAgLSBodHRwOi8vd3d3LnZpZGVvbGFuLm9yZy94MjY0Lmh0bWwg\n",
       "LSBvcHRpb25zOiBjYWJhYz0xIHJlZj0zIGRlYmxvY2s9MTowOjAgYW5hbHlzZT0weDM6MHgxMTMg\n",
       "bWU9aGV4IHN1Ym1lPTcgcHN5PTEgcHN5X3JkPTEuMDA6MC4wMCBtaXhlZF9yZWY9MSBtZV9yYW5n\n",
       "ZT0xNiBjaHJvbWFfbWU9MSB0cmVsbGlzPTEgOHg4ZGN0PTEgY3FtPTAgZGVhZHpvbmU9MjEsMTEg\n",
       "ZmFzdF9wc2tpcD0xIGNocm9tYV9xcF9vZmZzZXQ9LTIgdGhyZWFkcz0xMiBsb29rYWhlYWRfdGhy\n",
       "ZWFkcz0yIHNsaWNlZF90aHJlYWRzPTAgbnI9MCBkZWNpbWF0ZT0xIGludGVybGFjZWQ9MCBibHVy\n",
       "YXlfY29tcGF0PTAgY29uc3RyYWluZWRfaW50cmE9MCBiZnJhbWVzPTMgYl9weXJhbWlkPTIgYl9h\n",
       "ZGFwdD0xIGJfYmlhcz0wIGRpcmVjdD0xIHdlaWdodGI9MSBvcGVuX2dvcD0wIHdlaWdodHA9MiBr\n",
       "ZXlpbnQ9MjUwIGtleWludF9taW49MTAgc2NlbmVjdXQ9NDAgaW50cmFfcmVmcmVzaD0wIHJjX2xv\n",
       "b2thaGVhZD00MCByYz1jcmYgbWJ0cmVlPTEgY3JmPTIzLjAgcWNvbXA9MC42MCBxcG1pbj0wIHFw\n",
       "bWF4PTY5IHFwc3RlcD00IGlwX3JhdGlvPTEuNDAgYXE9MToxLjAwAIAAABaTZYiEAD///vdonwKb\n",
       "WkN6gOSVxSXbT4H/q2dwfI/pAwAAAwAAAwAAgOA79ZKUW+1spAAADxgBX8zP4jH5GYBs+fAFeKFr\n",
       "BFoO9mW/+CgsXekL7CUBrfjCLnb6WousHHHx89hynPS+HeNZVmeFgRXhVoflLxmXeaeEGcmFU3MI\n",
       "4GnZrYECLC7qc/ftJ4O6JsMsyMz2gwKQ4impTXHTNnsWIoaTGew/2vgi4gjJbbm6XkDNtMd1C0Sc\n",
       "/pWAT54lc2LC6YreEDJ/QmG5SimeMwBjZ2NWsCQj0YsMjjD5Xu+HSsQDpp/KMppoY0tB2H+0LNfw\n",
       "BH5FdBFwkFqb8fL4gjQ20qD+4HvJQdVzSBce3veNo86jR6nhhQRJG8tbLrZj+AVtjcJAhSrfK/G8\n",
       "eMbSTB+PZ3kX1hFmnH5imdRqQNcbI1+SwKzHl08ZcxwF5gxvGNz1qFQBTj2PFXBlXDBRSfAWzhpc\n",
       "zWUBgoTb3GdxEQ/WIz0gyB+ps5magpnyK9/3o/8IEBIRpu2sJvhFCNSeH9cwwF7jHPUbkt2bMkcF\n",
       "Wc/454zzk0evLtLl67yz3qN0XUVRKALHoE5KoquEu1V/zGElbAOx0qMM9Gcv4isPZ0Z23WQcDGq2\n",
       "ITEeuGhByFWb/kvw4AU3meqDogafj+OeJmCvOSrbQ8oD8qJYV/PVbndLDXz707dGuJ+tIR4NZQ7f\n",
       "S079J6+q5K2+tun+3aWpGgk1fb7cBmMggD5dhuCXgLOQVYqVRU+kFkipel0MCkuIzDgzcMdVVrN1\n",
       "GevERB0r+uHCFvJuI2RNoaL4lu6K/qexG2ntmiBTMLfGye5IIr+5DQImRiEfdcW5hZvB3vlnYDVC\n",
       "cDhAjysjWLz5shIqUrYQCxMtleSlZNf0wO2+tetmETHdZmhxwE08YFzXDAR/psDlDL8d9a6L1Lx0\n",
       "nvzffPpkz1KSL5SPqkx5U8X5BmaZcDvpTj2mL7ezgH97nKS+gtWlXHpbkzfxxyWF2XidFK0jMZEa\n",
       "t6ScsCxtld3xahwe7gstSHu4tWOL1lrzOwCsXVETdJ2Kq1cu7gBvXUBHWZgPr3UGqGHwG9u8Cv+k\n",
       "OP3daEE3teoZNxOQyW/WeLT3yuW5ymOfmym9VWOWyHuNc+/PF3oSTCiC0l9Vd8zQ7OoKcaGNia1n\n",
       "tDulLTTkFqT37zcqgRVuQUgUF/jwkojm2qAb3swFHLzARAiiet9O1v2rU4pZ1lYmqzEQ7MVWMpPe\n",
       "qmz/s53Xdvb+5aNWTHR7dPCvcRjKxLSEzalF9breuPGGZzz9WqOQISBUng0XldbzUygjfsFxEBUL\n",
       "7+J3GeclcsmpD/jiEsoncojxRaUxnF/7AZw2icQsy8iap8vcROiRieGexFr8Ky+kY8IbI47U3E68\n",
       "+qyWV5B1ZWLbHPZ8IeVpcFS1hLli6Aap17b9YtYdlPauHSOVESYjXJm0hZx0sb9T6mqo7jA4qLId\n",
       "9paYUGgDcsmDj11uRh32kzyAahR/JNLU22sdtWxtZk2uHhD4OSrPspji9bCZnv7qKGb8dsKpe713\n",
       "3P4ey6nkCQsfmZM4XxuZkffFfgZe0YvnCQfPKbps9L4D3uLUkDGAWV7WQnMhb7On5hZ2u1II0jHV\n",
       "19HqROcg9xxn4olSBin/RDOsShgMAEvmdCT9+CclVjJVMGc25lOfd/TSZl1xuXTCBNWSYadIOdkj\n",
       "ZuAfqaqqZGJidYoWHnBB8CTkYVklKEqv8dfmH+DOwBiGWcnBV9d8KP8w1ldm8kJePumDcWExT2NB\n",
       "etj3VkzQoMS0wpdJIbpoMAv+IRZ4JboL0dxTLI5HtRX0NPyNJBL3TlEJfx4hhuV6RwTxe6aeDgIT\n",
       "VbbEgZqyIAAABTaAFwAACStAC5ZgknK+ZeMWD/7HZfign9PcAZWh70gJcml/cF7/LfeMWT58w+LW\n",
       "rYcQ1sn9TPFmJRwKXinq40DmaovhLxfc+5LheC7jQgrStv9XI6YwMsgq4MAz6FTmzKHwKpe2T3Zu\n",
       "9hXBNBgvXv7xoAdc+6wNEMYpzAP/PIPeNbh3az/EtLwd01sAS33UjjEZey5jVmoXAea6kLFYs34+\n",
       "9PxhN+T/9UO3sqL5Ry9UERmIeUdiCvPUhUWhj0yMfiFWPHa8U1lW+HffyHZgXfhHo5Jkf9VTplo0\n",
       "QCFDt/6wCDYwfW0yu7p/u7P1eSSZFX+CBBLf/ffyX12fu3CW3EI7R+Bpb7TKRS+DY3fwZQtSdQrn\n",
       "QUZEd91WHkt9gccPAN7K18S5qEOoZUH0mPiLNyh8k+khNZdImbMH/cQ0rsaWSGDMDUUv+Bq4lUf2\n",
       "77pdxWW7rzM/Yy8WPwQ3jN0Hp29ka9QJdmghD6PdTcCnQavEamM3N/GoY7yrz5//78YD2U7yymD1\n",
       "TMHM134A8UgeOu2Rj5UJ5MEXONngYw0aav7I0UuuH2ZYmMGKkLXSfJF9N/5KJLlvtoAAIChBlKs5\n",
       "AbEeux9xir2KbhqWY41/0RaZHWINLwl6oCr72eZoxD73J08NJ06yJiQn6GYP5/lxiWDJaH4YnQPT\n",
       "HlkHX6+SWrZuhUGyQKN1KHJDNu9ZDgSJ/d9Yv/s0hBwnJ8AAHUUeyogMGFNeEHRRvx35ijxwTeDI\n",
       "8JAfrOzLINcPqk3TQzJF9czUDrb0bpXiET/xzcLCMsiHMMBPwbJulmpaPDp0CZjNXVCVr227C+bx\n",
       "/f1lY5XE+2jH+uyTEi7tcIGSZ8gGbGUBGTORaQt8a8hBajeLm1Ls0NsU/NWsI+Z5WLoPta+BAB6H\n",
       "ObZxN4KvGZygycSlnz9Zj4WC81O5I0ESo/WsXwNCKn9g3sT1i2j7cDilr2RC7OocS6bj81027EaS\n",
       "KwLE6KljjKkKZ7A5e3mivsFhwQuaGjrryNO0IvKo/k4gLR/2cx+yXiu7FGdJiFa2h6R36iLPqQVq\n",
       "mX2opk9qPqD0XgchntJ4N1tUOC7q8TkK6poWQB0WCKPboO1QYYrYrznrHPz3zr928sgQLEJbwRes\n",
       "JcBTszyJJb5ykQjn18U/rYS2F9DyLm1QNqAg9NYpjdbvIt+ROn6/f299cq8C2TLTLgBVZn5lI5o8\n",
       "A4eDFg6SofdVmESbGSfl57d5zyMTgRk6tmH0q0hLb0vNml5LcNhynyHN2PjuGLRjZmpE2OUIEvQ6\n",
       "DAm0JhjDbWGg4qngg3/+G4c8lgju3/biASRCnv2hy536wC18nFt0h3YxjgHGPnHoYutkmwRiZxfJ\n",
       "/mFJ/vNRioNDPH+CDfEJFwkVWTeYjLIp9p6YipkM/S/2pGt+H2YXeUbHwXvrE4mDd6/0VonIHdWF\n",
       "KOerjsIMiswxf8l1txBNTjyRlyqdY1jz51bZeZYt8+YxsuNkXMA6K8thJVJsIVCFNE0kmFCP6rWe\n",
       "pmbH9jyn62glQtuCQZqQLekKmj3XGxEdiAjGNXcWZzuDE4OYACsDog8NBsG0dNMj9QQJ+uoroLHX\n",
       "pNdMUO2zWUhLjWbKDcey2gAF4PLFJYuNHE4wHwGMWEh4cZJ6JxgQime/U3HDKV2h0+zi/7SNW30M\n",
       "m1HMt3wPirUu37lVZs+R4ruOijnTxX9eRFC6AjifFFFu4PWpwyMj9Mxv84GFPGzQl3SNl0B4Ihdq\n",
       "z73e+J/GGh3nMFsIcg3K0ui4stXQaTfFx1vKwH965UmVcnC/8VUmTVW1D3MsELhkt37ckGx58W2H\n",
       "OR+JYhxoMf+YJJjJjFPEAPOLGSHs1zmLQkLCMQB2jZwlWG5Om16/gmi8Nf2EfqtzoRo1vAbXnPiE\n",
       "o4NiZP+2+lh+0SRIus6NbCZbeSy/9PRxaP24W5POFzegrmIf536EB3zx1oG6N1GatnXdLA78ejsS\n",
       "On3UPsZcnM6xZoj0aARlrMioI29Sw0biRB3LD6AC5PEtQpXJCBt3ouchW5O8/AxKYo7Oscdb3AJ5\n",
       "fDX+ACFf+Sv6h1b7N3/PInlx9TJ7bVraWLAapte8J/ZtzFaYjQdlXnRgrn2vM7aCJrkecOQvgu4H\n",
       "kqnyhWTPpZV1Q654dqAHMVkFR92OEoswGYnOwYgiaV5K0BO3wOPcrH9+QKm5zOBmenUNbWds9J6g\n",
       "JXcwQm65xbVc6NRB23/cLyd+XJHbIaI5TqdaLRongcQC6f485s19nBOGG50iIfnrYXyZdhxC8X/w\n",
       "Xb4ZtNf/1iYKQJWYrGHVF1x4HhRx7sPXLJul5IIpba51352sqTTz0f0R7TBi2mkm3DuhaYSP2rXs\n",
       "Re++4x23zhiRmA9TtV2HXqEtk53S0FMfq0Z9NTv42QR50nmCLgbyiVWR//ypqT6o/kW8ELliqjk4\n",
       "yzYJgwQ7kGyoSo6JgBX3JsQOstoUg/6a81EBOkQiRM3ILbtjJy8A/Zr+L6CP3tZOB1mCs04vGCD+\n",
       "YaBjNL+ItGh6jtU/yJQmOB6T2a0Xz6Wp8acCfPKf0RxzisaDKmqUtXK4puMX120uv/9PQePkq5k3\n",
       "4vKssDAGuFW0Zk01AT+IYdxQwYDFSqRM7jn2wLfghF7OaINwhDWw1bq9wo+3qQ2r98cKfC4AUocS\n",
       "lFE4WwaEIm8Qd6XWo1FMWPbhxDpAEOyZh6tgUPGyRlx+j0lbJDC3jzlMSxfXYMQ+FJ9Ph8r3wNkU\n",
       "kt61GlwsdoBuDnalA6OGJP+7oGQkJdMR1boWzmeqo9u7XEHaagbN8tp0nFkTfc/rz40O/ugSGHHb\n",
       "R8AiAB0Khafpf+7u0tPKhHSSXIEt4bco3lZdmcpK3uGMtIDYmWCb+NvGxnl12EFgoWoR/hGFNgkz\n",
       "kOAPJ3Nz/+iN09yP3/tr1Lp9OrNaEdtfnjiHlFhqMRjW6sR/INuPAPYzitsX29zJ4/pO3qn+wzCo\n",
       "A1ui9t3cfOX/eu2ZVBO9SFsaEOEnhXFWIdeS0Z+sv7RbkhJoJ5rGZMPGnyD/WESdFG2/vlk73QUM\n",
       "JCXUrlCp9VoYww+6e1kN/3Fd91hij9xZkGvYMxrqVU29zE5nvCwKV5y2pwnneDeL0pBNZUWesu2W\n",
       "65+xTYnvvOf9qw+Ghq/dKj0M5WAYNj8IALuHN1iCjbIi/SQquhbtNdubvcl6EPgQ04sTyZ55mt/D\n",
       "nsi5QUDSAOg4xY2PmAU5SZ/OkfXHgxQD2Ps6kvVEDfcHCJf8p7i6CHQimXZPyarOGJEcXuqeSw14\n",
       "8+fjm463G9fFwpV46CfZNoHt7i9h3QLBMlkc4Rkt14BP6zqy2jnI07kCeHFrhwzk+Vr7GJfDmpAZ\n",
       "ziyzfFNye6GIArgRmwG1byEhNhKXo7enkYjaSx8GsnsNprTklZnbmwZECx/548J0fA9dvmUUFBb+\n",
       "+Xw4fvGVOjE4otCpUxVxaGA1/+FdFd7vrnYiJPChiEVj2dcHxPqXK6Lx7ZjbYAxOY2sPdPktrA1X\n",
       "SM2LTE+SG9p+sDNjbTLnG2oT13sOtE2ZDGXzEFQS+YmkQft9I/zyPGA2TUsJRHXsEXfO196/no+Z\n",
       "W3ehgfU8KOBf69mGGhripE00+IZ3zOzpVFZf4qX7o4PIub3sokuPKb7MN8G9Efl7C0aWo0EMpagP\n",
       "6CR5JhSWE34mBM9ZLWWYYIwYln2rIKfaCQnYS6j3UOxyU+Jo/mjPc7SWymLu4o3VaN+uetvcBwyq\n",
       "MaACNMtJYj/SMxEfcTF94oe0CeK1FpyUTJPp9RIg6F1hMVzuPrXbtBX0qjAf+S5yZPbRFpOn+Swm\n",
       "S+fsAC+axIvDrJwYfwnz+ruD1ZM4I+Sxlhd93xEBZIWgi2HGa5duaulErYdv1RnVkMY3ect4qGhS\n",
       "/ZBWkIUsCrszUJ1lT48Zuj/BHAq+Zs08aYknncIb0AL4tJA29ioMuDWjY/I3XXWCCr8q38rH6Gqx\n",
       "OeLB3ign2cL8XS1lNxHzaIWvsU+wk25zZmpzFGVliXa0L/5MoYndAtmMvQxuBnJvzWwwe+nj3Gho\n",
       "4lNge/miu19E+PYktTST9ew4OmwIRQJdECltpum9+Wzj6+lq5mA4o5D7t+bh1PlVZGy8nDUdFEWj\n",
       "C0dRrMpP05re/kYp1nL0J7EAAJ8DMuCggdAQ6pWRVA6oGvJB0iMdX8GKnNfwUuTChmQgQteN+iei\n",
       "tV4VkFgLAbEOBB4+2T9NvBeFT6lKnvJEWq0iyNsZf2w3OuXyUAQ/xAJdUEdaCcVPYgpjKBa1Ye4a\n",
       "bWKl728Cc0ktix6YOkg0Plx59ewKbjBsR+KH1gBIyRxtqf4VBwxxGOW5M5oWMGOaHDvvXQ8J/T0l\n",
       "0KuQKBNg65h1zjc2SDCE4/jqRck69JyU5+WaOACOpYuUeiYOqTcXdyXID+tPdjCVJh1Bfb/0nyAB\n",
       "XhMcGDRdZdTsjC72xG3/Wd5+ntV2LHM2n2MwAlxDI5EpmlNUs1CMtCu20Ep2CSLL/ZKQXfhSzzTF\n",
       "TUvUJOME4S1ztIkKVHVCXajABLHIifIUS3La1TUEzyUH+NO8suGKNUQJ7rKSm+FTgAD270TJ+lvC\n",
       "mpECt/VCcvd9qaHXW3Zn41Amddi9WTi9CVew9gW9HHWX8neucEuT0Se//rKt5dCXvsUo+aGzNTLs\n",
       "1bKBcp/Q2rX2ybrUFGiNXdhYa0cRe0qOPecQi1YlVx/SgH4MoXZOXxob/qfS/pTqnQi4rvl8H4Pw\n",
       "Jcf39BA6gn6J6RdOgS+R5DPlQ7fVSyXMgHIinUoDAryLBMJ1VXt+ohKkIN/3IocQAoqCiEB2pQYJ\n",
       "ZZQlFlXaFCptWlnNuWZfSYByGU3ckxUZuMtHadE+95Mx0dJ6IOki6psztlS7594gUMTnIc5EAX1l\n",
       "84jwoiIrBljdrfxCk+IgBx6RRE3XQMhqIZ5EPt9eBOsL4NoDYu5+sX/shhWQnHp2GL2gcVKQOK8v\n",
       "UYHs2MNxbbKgGrSZ6tiTBEozTvH3kd3s+fVs7KQcU/Qe5jJ6IAeOES3QY/i096EOwVbtv/7+S6Vy\n",
       "voD2vTFnU6yIqjOOxOrX8lLlQE+X40GRRoatp1Ca/ulwPjz9yV33zwJ9HhKuxlhniqb2FA8VJIPa\n",
       "42kO9TOGC8zSE8TpNbH/KFDC65GM5wGbhS9Qn+zo0JJ59hv7aoC/9GkWYoiCzpMwHK0oVmTBfpRZ\n",
       "XYLByTNuYNyZV6yAcnT+tH//5W01tbkb5WMVqww9qH8poZrJa/cMyOe1HwLje3PSYsdI5Hdo7nNl\n",
       "IdETt8DXEpk9t8VNmvT+TwqHEbldJ5ljRxFVV9Hrz6g3pU545u+A0mUVJ1sUF1BkfO957yTkQNH0\n",
       "Gwr2X7ML3prx20LVHJxHJw8E8wfg1k/8cmIdhmKROPVTmdAxFLeVRQK+G+N43zCRBdOp4aBKKVWy\n",
       "rvDL3jthIzAn8F+INNMQ6mGf3JhzrHvtwrfpVdjxzDc9V8DWVGvxiuYlVsJp/ukBpCB5qaJv0Fty\n",
       "jtRl8IBZBegfuJx/sUrZVvS1jE7NkDlygx8aEmidqkBaDJjRnKaU03F2mrLaY2FCwEw13c7Lcw0D\n",
       "b0NS7sH8rZI3gWgjNZNK9FCFHhGdhrYxq+RmHImhF2amQmQDSfUnHBP/BnhJf5WDD7ED9FfxV8Ii\n",
       "jHVbGhR2rgKpt0xvH+DC5TcVqNu9ugFjA7DXhVY0C6pqJWcJ2k9U+O7yi3B4eryBTcxy9HHpTnUD\n",
       "dDxwZq/7i731FlkMj+Frw8Vj2GrA9P2KC37cQRHZeh2wyviPJo6DKSTAuWGABO8DI/ZLEfIFMR8k\n",
       "r7yO4ANkoReDfuPAawvAsNPRRf8WP5kLCv8AYHyNXP6iXjM71cguCaZIYMtUrxAGoYM/igqCLXcc\n",
       "5doMgAAAAwCWgQAACfxBmiFsQ//+qZYAAAMAG+90qQXSo3PV83IVSCjkBq62W1dGYc08kzybFqQz\n",
       "CDBkW/XulBtQskyFBqYFgdvzXbKhApBLcrZFBMKSU4dJN0VH9YL9WzEL8sl4uIZAWiOlA2SU7Reb\n",
       "X2SK57FU8/YZHc3eMkBQiWW98AK2QHcL0Y4c2UpvU2qcEkIL5gSRhDKaja/Wr21gjqQ5+LFLyKvn\n",
       "wctYKrBggfa/vHqRTx54L0SxZ0o+hOa9Bgqvf7LEhgtL8CWLBxvGCYtZgLibkgb+/2PceNLD+bmR\n",
       "zcllj9zMIn/AeOdKAcD54UoN9lk4393Ncn6Wb+QqVebKybciE5eDY3JxPzWaTw3ldoiyntFfGGW8\n",
       "++HZzJkseyFsGX4qXmh3eccFWYVPjJHf/23bF47FPgvoFfikNpaNLjxoJdBfjpLqUfzwESF62AEP\n",
       "0ccPB0cwqLcWdJ0vPu3lwxi+91IbvcXgXhkvPvg2UiZbAzgKGKBMoQ+Bh/fySDMToGGVBj7q/Cr/\n",
       "L+elMuSILXpC16E4RzoB/AgnzOTf1G2egBNHiVV4KVo7FYCGaqfps3Va3w3ra5nNNan9/R2ZTEuF\n",
       "75dSQH7kUeeK0irQeutU6S5SW7ZLQ5fFWOztEbHQAU09nEBSdOF6xcNNAOA5+J4Sbc8TM417+rOr\n",
       "6AGG2dCb4abBdT7x/+6pwI9fZwUwOA5T0WG6OrmTL+2UnQ3bjiQRzaeKqaUgOhhMNaAt2aotfuc3\n",
       "yc9R7ng+LKs39RYpqI9Ut5ubQLbm5jnRXvhoH3v9ffR3Dtg3R3V1QJ1dMEIXDghakE3kBdKhSUFU\n",
       "/fVu3cpUGTvRuL3gG/dwcUJfFUmHjR7XbQzo470WIpWpR0XMBspHiSgy4MMFt9/zIYnzQPDHD63d\n",
       "V1sFjmazN71wrkf84WaSCNjfDLDd4KUqq7b2DSkfHcgQQkVLSfsW2xqWeZuIE0Tfn3yjVQHK0+Fy\n",
       "27BeVHFbZ2AbrdbSAqsebdBWW4YEFriiY2f9A8B4y30OsZAF9D5JiWLxCewED5s6nX0M/vZKFMiG\n",
       "7JjbRACFfF+6ibOT7g5k/yIldsL+YJGColucsJxBm5ZL6BPBgxQi6XmaZGkU0jdbLbKM8pGi4KVm\n",
       "Xqc7ak8g6ycuhUnjhoVI9+7twSc4fOejSR9/hXcnE3hLs/0yc7zO5QJllkAWSn8UEDVpjo+yk1Fu\n",
       "8+P/e9h7MVLvWpBWHsxeOOhImAIZ0X8fgrWYnQEgChScDxUqNNFIAjKD8Wel4XGBquRwbU6gfnsE\n",
       "Eue7RZOiZLEYYvB6LGquz8zcADubOMD2Y2L55YHP8g3X0T5Wk6BClZqbbn7SbpfUxOGyGxYbFaSI\n",
       "7lcP3WeF3cv6Tq8uAuEJze4V5CZu45nn66U56ypM1szs2KEenSJML5peX9VDu64juRCF+UY9hK5B\n",
       "VpV+vmmhqj3sti29UjRYOzONqsQHpBwiM0Ky9vqyY3KLmguN+zHTxRHdUSYMAwQ0FhtcSLp/Vcrs\n",
       "JckdSD8J36AzB2bw5BEfP9XPUSq/dcJKl68YUMwCatnvZcBFabZ3OC7JF8B+HykvvZjQ+qdk46Ac\n",
       "vRiksFxaLF8C7yigsVeqUeYPbTWPg92Sn8U2UX63oL9DbqiFRXUceZToNoOK7uVRFAFr9US4dCYs\n",
       "ZIbjxpk4zTSacTZ7981VpByVrXJVjX8RrD25kWbFbBR+cjKNLshSff+aKNyDB8NV0lCYIFaBODYL\n",
       "UqZ27+5HjNXXyPFmUfJPUt89N1uPrb2VXoQUAJpcmDpZAIV+3u+NLB6ceHNsH+0TsL8DbaV3smnm\n",
       "jowDc/Ua1rjRYfvO5Bd/Wjq2K9v+aGTjR5nEzFlN0z+SYQQSQ2edBXaBb4/Qxi86UftFSBa9wZGK\n",
       "ENAPgOVx7mi6H5idL6hwO7bBH8RV42m5Ottg5rI287Dl3dGbTgmSmKJhVsLwF3FEOgApWbvn0g/9\n",
       "tteKfb0cz39zWQbfe/h2fD8XJtMVXe0XG10mUU0kCP31t1Oxe2NJo4pU0kxctwpjUIH1qbfAXudt\n",
       "1afkNGS/MY+Ztz7q/8kJRu0gEfyagCUQbzHSkk15IY8lQOOkqgyNPGYcoyz+HXUTqGSmpLcDXgd/\n",
       "x5LrKfP2SrPjyMrQmOUBuD6PERjknH8Sc+o+Z7B1u74utbrGbQKUqIcLLG1HRnz7Bppm0p+CIW9w\n",
       "snYT3HmILwSCRmfs8iA0KrOOZDYYtmXHDOgB8W58te4bZEIZa6ZhGCwkC/8e+z9Q5wcVuzqXQDgY\n",
       "aXaYrdWYRXjAGd0l4vCUXGnXetaZpwchN0wyuuB1TuCiMEFA6Xw05nijFuVg1WbmcdMYhUZuVDxE\n",
       "2WmWADPj1XTeADh+1kCKRDHzLsw+MGOuMi3lzG/ElTUfYditTmicSV97KqQfa6fMqcsw46O90gDE\n",
       "nCYkD1q2Ab8OQ/V7jfIcdVL2VlPwvS4u9BaldKldMBgv0CyVy1wwN1Zs3DjDLO9EhzofhYLC0ERj\n",
       "XnbwXhovCaqbzJ1KFoQVFOwr3MDD3UuF5pqTqIkX0vcw/pnFIiMiz8gE/VwEpPkjHGbnU9dpRZ+d\n",
       "jSueqGJFsGXphoyVjXi9kOnufktVdc1RJj0Py9QsYniUH5DVIjOqw0CIZDJwbwlNx2VigSDp7rXH\n",
       "R/NysZte7szIKwe0GBlQExykxiCoaoQ2Y3tHazvHVlRlcFYxYYkKEfM3DKlbyHauAQXe8DvkNbbs\n",
       "7QpRMpwphchGGnBj7Of2Zu2acNUMd7hqAD2hz42KvOdXyehBSNxpbh1Y7tZv/7iAC5i9+o1mowHh\n",
       "8wkkEpRq/vm5BdX/+CQt/gefcC5uBw1OVA6NKMRO9gIBHur6ijfSQCaXbCrKZc+FQvQnhQTsjyo5\n",
       "8hrFqnuIaHICuMePxbxe7isA06qKB7pwGlz+nCrTQ/O638BFbf4RoBTviRLyFXrBvJ0IZFwRyARX\n",
       "HsznQBW19qPMX/oVVo9sKUH99HA1p1Qx//sg3VWlSRNosouo6nS6lRMkTBb2bewnmfFQurZq1C/Y\n",
       "ryNS0LjuIgHk7G/LzxT76hY9mpes96zA8hs/bmeb8MJQdscKk+EQpKm9yVv87bEkfvOivUw1+CA6\n",
       "r8JYtz8gIOPCEVd5OzOauVcvzH2kxn6WX8RE2yl/lYAkYymvGYyLsXjQEsGvXazJ8tIwx3xgf7DJ\n",
       "abWOK5FYIp4JEZlyG9ziBiKozYU2Fd8tHK4QZFbAfrlgcDxSNH3VC4pjjHyNa32AIHgSOLiooQ+Y\n",
       "SR/5lyWDcRQSs9LfmS7s4uYwsxBEyPWTzgmMV2HgHUdmop5sKYquvC1lCkHAw+Zb3CIe3jwLGPS/\n",
       "3K1eMV8FDpu7qEEm3PA1SeE7xNB2s1lbqofmvgnpocrvnCZm+EP/bmFwuQj4oLt1YDZKLIcoZRP+\n",
       "kzBPBqQAAApZQZpCPCGTKYQ///6plgAAAwAd/3SoueDTaEyxegoXkSu+LPEf5DuoOUH5zt+a3aYx\n",
       "c1s6qX83Uaevecge4xMjULAlyEE8C+ILh/2QJanwWNSC1GHvtPWw0m2yuVJB+DMRIcq2hUFijyou\n",
       "bwWrQucDOBiaPgouleeg9ssPHEkFlOdIyTpt4D3/PjjDBmBRdp6S60AY6bCSuVzbW2DTqNgoccq1\n",
       "oViTK23Kly5uzN8EZV1RuzIyCEXsJ4i2YSz4vpC1NBZCHt41drnmvHi42grBhTjpxNRKbFVavt2v\n",
       "WunbLmsa5UbAKFRfVGPjv11homErQOOeqnKzhZ7yUV5pyDtdQnoLUo/9bOMpGVI/AXOrPcFD+nbX\n",
       "YPCCRVJAuUT9Xo2nb9KRsMV1A3qsjAurD3YjxgJUoQ+j/oyaakvTxGA3QWzAh10rCZBxKaXzuzI0\n",
       "XL3ycKgqkzeL8fba5WRGSUx9NzVm7AD5CfylzATqiWODC9+9WGhFh3CroRlEiMdNeNLLTm1oIfUn\n",
       "bp9BEepCGtp7vK74ivOlh6VQmP+Qd1HFgDnULZamqFMM7fHVLjQICK16CZoGUthT9K9udSdz4gyj\n",
       "iRZEau2qmDgieZKtr5OfFk05B3y90OjvGh9LToKzNq/olQsOYx2J9Ba0C8AY6LzgS/J3B4W1ELKq\n",
       "0HJd+Qn4T64Ym+3urr08Y0YDU0fDeNz5kifBRw3eKV0X12xRBfzKrw4hml+1KiDsQwtGSAQxzcla\n",
       "rv1tA5aTFV1MmGlEpj9ChOaAmvDfPCkYdnAYWXRcsXL4q7PzD1dQlcTTrbmo/b0BZVPNiOdb5MZE\n",
       "j6YiAgmsMDGNgvLOw3t5b+3w6oepSqqECy12ylv0kCNe2m2GwleJCBzF4s8d1dE4SpDqpQfYsJIK\n",
       "Smdyoud+RqUf1Y9CEOv9f2te8fezr4EVLTXMH5L6tLJU1Nkq+IsQTp6RIK1QTxhFxUS9wcgumkco\n",
       "giTKngtyIveGKLFQMw/3BGSQKvaY7pIgy0cWEyswKukdoRomDp0TSJ4RwPa/r9jDRIjNe45yqE8I\n",
       "W0YNAtj2q0VXfo4PGbVJsmUSDYdNWBFtEQVEuSYc6qaD+1F5Q2omV4bZ0+zJAUBuKMvehrEcYCnK\n",
       "mgJHVoDo/9Iy/5uZa/PUI6Eb+6p4OQP5h+9e9CXDTsLhuKJK4EX9vCOLYy/YwxX5TMlwc/LRqwI/\n",
       "9K24fJkY5Y75+MEAHee3H2zMtVzsZGJQTIFD4+CR1bE1n+gaihATDjrv1QjBgUsLCthbUABzsQRg\n",
       "NfQ08rC2yTPPzbHPJDXXhC1SKsWfdDX9kmYW3ovhVbU1Ncxmydy7jZysnztMJ7oBo9HP5EmeWsTO\n",
       "cxf9khoW1H6r0ip3ypD3ec8hBcmhaumea/7p3sOV5uAZ1rhofbaG6PcJfyuyCK4dHgoK2RuDl13i\n",
       "wPWveG/d92UN7CDhqae4PP4MjGMvfSBjiQWDifcm2iIjCInYYdTUtKc55YXDnPTbQxiCgElOK7iB\n",
       "TFnwbYqIU7USqrr5vdkKwPCNsITZ1AnLY2zFDjprbsBF5K8f3tRcdjNDAgWf9lfD+4AARa0Zelqv\n",
       "W+P5/QtNtuP9F6oigVvmlm0yXtp1TMguPWKIpLS2TSmJn2Tbj+W4V6SMEPPJhMUJgTT8Kk7UVQea\n",
       "dIb3bHPtvIzVXUHOeRasDCZDGFIvbnedh3sDYUuBpeXp8pJTX+hsijItlyx2hrqGbm2iVuQF2YTD\n",
       "7V1s4RqRMe9d+1gXR8UfZnx1UrAF5MhGFltklcqOaxqPCcokgjUA3vq8YnpVpA54SkOLc+hSJ9mA\n",
       "/BZA0Qyi6Eez/uyFyNi1MUTnIakzZZcDOEDdoCWacsMpMQVl/fy4smHjTCCtqmt/jW/QpY8DrhtI\n",
       "RxnxYwEQN5qlFvEuFiFXaGjY5vG+bpVCsz7D8/hKd/JfdzV8wXizhrGtgjHmkt53rdy+1A6cpJUv\n",
       "KKcmAAA2UFmvTJzsIKJbEhxGB9Rwcd8LdfnOUfC8EahLH1n0sn7AtVbZb5yFqwazBB411ks3JhpU\n",
       "dEDqptvXh3QEEV2HUtpkXGdJERG6F6enXsOVki9Ah0oDS/2Mja0z7hW4ztSpXXNAXZvR7XdTzw8c\n",
       "VTAKbM5io9wlUTXv/PzJ3JEkM0840kfpm2gbEzZ4hW0uJEBJaqnToKDUtLD7AdFfc3cFD8hKnV6k\n",
       "GDQAX1XK1yLRfeKLVZv1OKjaxAS6ctvEKq/5Qq4c4KA+lFB4hQijIImrPDnISAlNMGDktPDSTEmY\n",
       "HIyVJaVvCh/tZySjBx2rN8+xYuq2qPanhgv0+UEZ0QamnDypb34AdkNWIPKoquFr7uMr6HwK8aIu\n",
       "/o1NXJWq+ejXZPy6+F/PaIxUsd7Deu6e/UVAkKG3W3bvH0QjI8ZA4yA0Cpd0+3/GCqoaFEzGN0SL\n",
       "YpY3vHsNdy4yyrMMNpUkvh1A3LgZ/A8xomuZWbCvql2o0FD0tZEkkdICJSOHcB5/sCP83jgw7ZVK\n",
       "pMn3SgJaThej75qwxrjsU5ecWAJovMUFtXrbskCgEZfSLiLC+IH257NlkRoceiof+A9PHwskPYSX\n",
       "29sB3TdfLSq95B1NLIpddB/k/Eg+c5ctpib7P5pilx2qn+9X1AjEF+7A1l5E7giF2JOPJ7OsU/QE\n",
       "57Wz95g5H7Ex1ZRnXjH0+M/T6+Q8Cs4LJwloT3bcvTr2r9CtjcCQ805i4nNqV6EEYM2teIJGoxMF\n",
       "JduHXdFlgJVPP2TcFLIWG5MPaS6wTzSkP2q8yXjeKVIkn58JS2JAf89BweG/9BBTR+4GI/iRKhb4\n",
       "7rOUvGnhWJNZKC7vhJh0ju23JxpGKfJCWAyecPqbRPKC/yOH2MAxffKXy4cz5vlPy1nawY9YrECd\n",
       "/4o5E4TEOubo4YQbXA7SfTnfuO1zLc5AtuKlgCV1eqR3fgzDYk/FR8Xpkwf54dpjyzyawv74w2HX\n",
       "QAV3gbHXuN4GCDmj/VXXqa5zGpr/7IzlW+RoX23VQphm3GYqOds9uiaLqb0WGgZLEUMNdTN+RNfj\n",
       "JpVAyI9NWNwiSK37tDJo2tNi5WdRYi19ZTkQFpxQsEJtgSSNmX3816AJ0EabuErvPeSA5EYan000\n",
       "BjuV6wnyUowDguM+j8XVT+q1zjAoRN7ppYNInZ3O/90w/iYMF2+BXGtv4bMEKMcBFc2hKm4JLmO0\n",
       "f02Z9yCNwHuzYrP/JUtWbjwvgyjQ/SO7Fy9aD2oHHeOtBCVMwT6NYAAPVTJymAjNTnW4KDzrNhaR\n",
       "5foI+35jHsjhVbwJyFLJqQe6mgzBZi03tHelOGJzcS7A8AB/nah6Q/kuK0clnkOH4xy2cmqzcrNR\n",
       "ElBF7uY5VeTstQaUOiMuivQpZ7pen5s67PWUyvtUvopyeEZLV1BNEfxxRio2EBXbFlGFirQUfnAz\n",
       "ImUdFhLgI1mTVjPorNKCyth88GCCzaxbHeX0qD6dfUK5HiTvPJ2xAPEeDFpl2gFuyUGv9WxmyQPq\n",
       "uaPPekdJwNLOJAeFwWSa7k3a5Bt1AnlrlkCHBvI4EsUezwd1AAAJDUGaY0nhDyZTAh///qmWAAAD\n",
       "AA5Pw1wnV1Dk1gBNQDDlbQzrDTbdHVC97r4mF4xM4+q4tK3hhN26kKOBKQROkYIztu7JROpZV60R\n",
       "3ZtTaHmnuvtJfFAJYDwyHyInka4dpXCoaIp4YnCJn7em3IMhl8XPVf8RTazN6hWCcTyQgZG2oVs/\n",
       "zE6DenSdfkLyKUmDRs8EuxkjN3US4xf8gZwrt+pLbt8dDl1+EwVcz5kmx3o8GfrDB06qh7PzYUzb\n",
       "oAuRimtMtgNnUyzFlVXyxbbdgWa++ogUK3z7gkCz0kvLd1MmLqebtgTBCNo5LVTKPEdksZOKNVrM\n",
       "r4I0CphIm8D+h7HEEYv8s12HOMk0w/R2M3x1A7dMPDr0nJSzeeIZDmsbfRfVD7mHDkYB/cizg9YD\n",
       "sIA8dos0lzTwETJCyyX8pOoWwHdPnK9YI6UqK/WETY98egJf2sjyKkFH1/TA15oc8svs6XDIr/jF\n",
       "gEvs+AmzpTnn78TfXDQBUA2/l6+Vym02Exo7d6RDhZdDs3YoFBV4fFvRANPyQ2xrsMsvRudc16uO\n",
       "NKwWjVgPXBOb80x3s4xxz4+5FH7ClekQyuhz6duQxXnVAoR1Gn6JUbNZHmn8blq/bCfd+nHML7LS\n",
       "RqQC/9g7Vyq8aVjdKVi7QAHvumnWVQoeiLPXATIxA0qn8VZ0r59ANUxTXJiTwnGsSzrrX8dbfr1Q\n",
       "9xXLcz2fel3UQKVVBR255UwZKYMXrR5A9PyhM9eBFG7GLJZffp1oUHSp7tQN/fToJxU4Wvs+x630\n",
       "a70YHzCQfiw2IZecLpSzbFsRZjFWNfoJO3IUh5Gt+2aO+wU7mGUv+FiE8lOVLByLr5g2f4AfRg/Q\n",
       "v7Es7Mz0LGgxyD8x4plRlV8DnvPJ4Omui5A3XrF2TndqJuxI4p+iZb1WTozH038cvj4/9cmzEhHs\n",
       "TJXxnBIkCvMlxQG3wYUloBX16ho/ZUSnSTk3T5e4M/+x3QZh+ClCXYMVaAwlxJ4GMDc0nfUxXMbp\n",
       "uaYChvo91dtAS3OI+AO7s6Xg0/pRcyeWIvom4dlWS2Xhq++JaRO3X7r0GxU8HGBugNnG7ymJgZWd\n",
       "ia0ep+SYhZ+kKrTAqPJVjIpZHdY60FBOUaXlLNK5h++vHSwSdTLMM8y1EzgmvF3NksH0LTkK0T0J\n",
       "9sgeZtPlJQ52MPeD44V1fIzMPfhw714LjRObwDf3F1muEYL1G8hJqyCBtUFnUrk4PrOdiWeV5Jo8\n",
       "na5qHpRVhZw1VX8KPUVMV5T2fPDTqo0LsYliAbC5rLwLleeNRQER/HxUSyd9Is/GRjOHsC2QIevF\n",
       "i23UlnBgqVDpK1VV4fFvIts1SPBHuj9DdMqDxdJZoT6ZUKlkV8UMiOTg7GigVCX6YcvPTDNmz6sP\n",
       "CFoREbfU0qrTpKstU6phPjAzaysbD638GQgTsPnqUsHzhaQ0KXpXXQPxpI7iyHCTWvK2ksIMzPjp\n",
       "qrWQRYsfzKlMDr19oc65ktYhQk9iULmBFSorwfoK0dOJLKCvslEpp5c1rWm2hmjrOPj/NPuPYLF2\n",
       "5QG8kul2XgiByJYQHrmHkQLDd5Fa2pXqckYzMiHWfdinpbZGD1HJFB60KbWpgi75oUJUFKbk1eO0\n",
       "FFpGI0q/4eKFak3Pgc0SOxvWgLwbw4TknXCf5ewqKaRyO1G3uwShNICrHsSq1rKqTj+Pu0OTvQXS\n",
       "eMiQ6zgXKrBtfmgmJWiTqd9NuCI4jQaX//0Eap9eHGk/hviNDKQ/csvFgR2D0ZHKcyT2kJmDKX5l\n",
       "LeFwwAo6/SlKp6pbiZCyrz4r3bMO92btyEOS7ns5Vpjfncr73WvRiDzvVKGzzLJUG5OFQoN2oYPB\n",
       "EpcPEFrogvY/PwKIGNXD0jK0ICrZtLqcjiCwUlcrF6xXuL4iZ9yH/y2qbvSmTg7K25vx7PAexaZv\n",
       "XV9a8yCectykrD1q87Yf0cI8mp57e+X9od1teXP/ZHsUx1e18MLj8OHsHP0aaMgpDbAI9U0F3Y1c\n",
       "FbKaESQGDzbcukGvxgyKZc+kHb3JBFkE1qw/90lzYRTQgcnb0RFr+z9IOUdtm75J7prfE8UkwJ6d\n",
       "JIHs17mwRXL4K6nGbEA920LXV4Jg3susoP0c8hedAG2BT2qerO91jqS5ph9RjqAFEGP0gUVBlEAN\n",
       "VswSlII/0mjOLpU5l4vgRKPcRBhPOycmL9nDQpzs9s3EDPoPjrVfcPioqlJX/CynGFvECWMAQsps\n",
       "sfbJjyPl5/ZT0gHn1XrqE+wtRMAC0TAp//F5W6RLTUlI4Ac09Xs1/cTC6+LDTrRDC5gd9ZGvFvYS\n",
       "bbS8uky8Lj8v1zTvDI9rSd9g1Ylxf8N9xPThoyyo/ZOUBx85mqv6+lc/Gqa4cUiroNZr+m3c9aHJ\n",
       "uuxqJytS+XCvJiW4QdUXGFJ23cEqxYlfnfQiaOemUgoCvvDYGw8RgAqpPojsWgxxax+OmsFIhum/\n",
       "L/S6LJi9UAa5kR45aDfAunxVIquQgGvyETzTs1maIYI/AEBaD2IkcWAFGROQEHesBAAygWP4AvcX\n",
       "c/JUGvURxA0hT4L+hmiWPOSG0upQbh01pqz6UaPpj7uIu2Ms0Iq9tj2iS5fG4il9ke95YuSNsmNZ\n",
       "OcvnZL+87f4FonDjKsiBzgt1uyYfmFHfq4JYw465v05S8/2fGdxOOESe1uZO3QJ1dQl9+w+64H4Y\n",
       "Z7ysiQ328HgmTfRDVe8UqiJ2ndvyL6MUc3B8fMzeSWNUTXGTsuONkF+9O3czn485oWZ74xPCd5Ms\n",
       "Mz3ztojBA/TIp8VFaBc3mu3jkdPDF3QapRfb+Syam6ttqS/zdvZfduqyOpHHx7/hKD3jDlw83t1h\n",
       "dP+TOmsgPXMyZPS/gIOrAAOapZ7PzEiDf+DkKsWeDq2S6dVx+WfWsokvcwfoklNszJdnKIr1gNdY\n",
       "v1i86z4qSdRwIZDoQrCMIZpl6S2qRahk0fzfoa2AeCd7qcx+fdSbcherMyryJJd4Lj6qeDn++ALv\n",
       "DttwEvwJ9KfeXdzDpUTsJArxOuWqePHqdX6peN105bC3ADnv+6FM/FFEDrkmy3C0E33R4dZ9K4YK\n",
       "2pLgdclQfuNX/fPM9yp/CWOOaEAAAAhqQZqESeEPJlMCH//+qZYAAAMABgRCFI1AgA/pAB7gH3K7\n",
       "a43Ss/7wMLKrEUT8j6qgWc3VlFCS/5Tv/lix06ABteAaYbZYaHtFU+t7hFLAXar0kwc9t9K5t5DZ\n",
       "NKVGV2NPkHAgxvQKXUYZ5JyH9SmyyxpVWC6ZxbCjbyqrtUL6iBjp08Wo78ckW5biSE/37FrBltmL\n",
       "h/TPCy3SFjMeQbaa3SIOs8ngAiMjZE0SPi9HGnjkuHfEZrC6AHYKNnlGaUtOENbj4q4v9CgFzrAh\n",
       "PvFpOISxktxZ6Q0Ns9Hw0JTuoTMvC3sYlu9KuTrEPBxEieafP5g2FtYux7VhmMNVi0ex0YE3AAUH\n",
       "TnnYEsHfPTvMlnglyhbk2zsL52WvO5UL7793g485X0OVCon6BprKHQZbUNpJjFnUv21mxFg9N6zP\n",
       "AhZjdhTuiu+EYEIM/OU36HYfOtcdGOMy+cVkH/TjLSCyqG+kbpIzy1oDntUviFLBd0YKK0TWbvAk\n",
       "ya8m8lR17N7DPyhkv5z8ivFCc9uC/1cnnuIfregf9KKILJGjxM/Vh3cXFyIQrxAw4tWNoKuCoICb\n",
       "78ggmGY3YBKRJ82NnmnG38wTPWbsbSrrufcPEx4UlvXnHHJF3QFtSN9aw8yHCQw+dbSwGFXChCS9\n",
       "Li69AGuajuYXW+B9irDml+3Np8peIsfnFNxtMm2hXqGToSwcYi3HA7Xyfgtk0mZX2F6gUyMHe4iO\n",
       "FxQilPdo22PNqCjJDCBiHjU77OBLrKN4vnR952ElC3F5TCc8E+jkOFVDp8jVg07q8/kd8v+B1IJv\n",
       "ePwLHYZsupKE8GI68G+fKAZrPdPlwg7j8Gna127eM9++Y6SoqMdLwjB7VtRl0+Em0yv1qt29wAN7\n",
       "L2B0ZyaMtnPAR623M31LabazLLRrNBUgwq6IhsTsoR3gpWoxMvtkiBjpVUHv9+STM9P13AH2KsrB\n",
       "qrK4ff9PWYzh3TNUUm+uQSw70oUrrfhqEYFcHPlwYxTAtLNdymg4vgLiBx5pOE6j1BYmvSvv39rI\n",
       "5oMcVxsv6w/DlI0/BPlPKbmWzpZ1WrDltpKqot/bngDiTBYpqKv9atMlX5qf1VYq32tnTvxHf7lh\n",
       "99MKzGjckrXsRjQ0lDxifbePX/OkzvVDcECu7hvExaJ2w5VUewPhetOkb6zD8hNd+3Bwe+lzQ+N2\n",
       "et98HxVjgWduN6s9H7/GhaqW3wbCYQ26PmUU2rJdaMC76RF6yLnLxLSrc45k257xbK1IEf6ixxAJ\n",
       "3ZC9/ZQHCt4wrVqT6f4GJu/oY1p1ay/UmZIFUOn/FAf2eJ6heLERfY4gKwce1HayG58ysOGHUHq4\n",
       "xu0aJzDwhQ6Va3hHCbnFqOBnnxDIq2wBiT+uk/yGZCtnhtreSLtqPrp2an9VI+kqHvs5ndkL5he5\n",
       "oHjrzm2fgnB2mU6K4Ndb7IRvi064PIxToM5KdOls/kjdKz3rhOjvWkLjeqN4yy7q28dD6aSl+LQK\n",
       "/6i8Hfs9EcQ1KHyFA6tXsgIPurjRnVACgalGcFD2MfdNcCyAwHvhnA5dBVEyJMlUtm03N1f2NsfJ\n",
       "crRc4UBS0GCOSU+QGIBjI+cnjzMP4lc4fBuXw0HmeQDfpmcMnGLAHyGDVht8EIl6HjfvFxQV6CSo\n",
       "ULk/86qCzBfDjWhJ5n01KZB+6zrQ31sR77rs5iqMS+rPBlqmtAFq+hgCwoueiPzk77aBRfLQ1kgc\n",
       "hdPSGxpjlXEkjyLR+SfdwrLT/dIr30JYnc4jkiie6//xMGZzNCqrA40hgbXbZxmuhgm4zXSnOpP0\n",
       "vG6LScvIH8kv2Mfup1GjalUG5dHRnjuQaB2l/ay7RcnsAdLjt5k39Lyz03ArB8E/JiDuph+jVCZK\n",
       "LkkM9xvL527K+b9BklqK6534/Rhw2rwNgNUMY3NRCkVn+FsemTgBgFzBdnJrEP9Q8em+Y9a04GAq\n",
       "U+FEHJP1lo7dBtnFTva5I7MazB077+lAQFiWcm+hO0DeK3CLE3YkXQl//PhQn5MUg7CHp9azNljW\n",
       "HzD7vOnDfV7PUVlZC+C3y5zIwL08wcj6Vr2dINLLHgmdGlO8ygPfBwzZUPqwfxSUfQOBzlSANneN\n",
       "iLS70D+I3pvbw9EIPvz0U2JwCY1aAUOaQQKz3XfRI8tzOQIHDH933m/R5lg2a+KiDVOyfkSEPNXw\n",
       "RZU09i8saMwEme/cwhl3ZEP9BKcvbs0CfBNSMJanYFrjdK/RChzk7arvlSvJEUMMHtHaKFIUQzvb\n",
       "Jz6K88RzrqDnKa7uYMpm5cx2cvld7EJyAAIZZx1Tjvb/CZ8NkCBuLhSQWXg5D0YvbAfOirnMDCxN\n",
       "bs8ns4snmTfx6ZH4XUxcuzQHc+J4+hRkkImJoCLvNrD8QwJcsM7EyE532rBlOe/xYyJpNl2oMs5R\n",
       "CeP4PrKTyRaWiA2/u6C4skvZCqS3b8gSBe4wVsuBk32P3QLFb45wsaaxhoR0KGO4LBP2wQgfnvVy\n",
       "S0WJJrgJbTMzqfsKYf6/9rExMwoj4EzZISLHrIYhfacl2dqSxFcHYU238QsAmYxuys4fs1Aa+iZw\n",
       "raFqEpN0/YH8gqyL2TLrHghYE/4hBuSwGGFPgFozCFNdL+H8GzGSIt7N2NGgAxOYwF72y1qNEEX+\n",
       "BCLGjCJHszlRx1IZmFnjxSsPEeV9Rcf3BN214NY/Q4wvGNdMV76jjrIMyK4tvyyu+CJm7QQrrlLu\n",
       "mdF5L/+uGWWtjM4bck+s2T3BWou1BI4GjK1fe0VNeA24tTnMx6N2OBzyYd8kd9lpiaA2Pd6tzg6Y\n",
       "R16pvy+fkJQMOcVLEG8WosdUWTHTbznOYE9XTTqiypLDFzybg/M5e3EzhlI8afzNQvancetvNJ80\n",
       "WjpDRuZct3nAJsXhAAAH6EGapUnhDyZTAgh//qpVAAADAAN98dCNKYfBkvABO0w7vywZJ2SloEdz\n",
       "K/IbhL/Z4fnI8s3fduE/WZ3UmRuPJZmD/GbCZNg9C9sy+FsAdZgtrjgCsEQons5jvf58DrxlJtJe\n",
       "EakAoICs0JPljQjvPFd8etQcFRtO46rBFMqn2nLekf+N3dVyiaTiMYBey2UcU4H284hdwrqjfV0o\n",
       "xymht0ClklPYVH1BVLnIXLWHlBRADpFgMCkeWQ3u9SV6h/hjq1ZqxR7PZRVoht32Z9pAMtUDJLlR\n",
       "R+1DKStuav/WC+idusCU+n/0v4Pyb7cAk32NX2/VchZqsqtDyFHPDyyNXN786o6NNtm0JwgVr+2j\n",
       "DBr0eTMPrG89DmZgd3A2MvJS/Ba5GrwInmo5dNMbOceDDIdeZjXi6SqsaKFsC1POgptg6NsnHvXW\n",
       "750xayHXBVKbgdK6v2odxAiDI1ql5+dnPxFaYb9MRPNdMij/M/P0glC3yEOipcJZGeYgyuFIARzb\n",
       "4dj3JOuO5IY97PWiBtJckL6Pn9RloOKR8x1KTZxzy8j3Tr/+zvCOSFxoHLn93b0lMoUMkEKcKxQ2\n",
       "RgDlXVri5NlEqcV7rLdGf2epak6TjgoJ4xG2fdHguG0BMh50QkqsC1I/R7bxvK9YDFHnK76+EDtK\n",
       "j1mSrTqag+wxwJaCMBgpKZiU1ht6Ht5WdjeHoqF9d14m1bvkDBxHAJ6EAKYGM18SVcuT+inbbrr9\n",
       "ejkLU+yAOGG3HHE4PXTyysXxhFjAm9BuUORpwEzPF6sEW72Wdp+NOZqCWcB5sZBGzQZYBn2iAf8i\n",
       "cTmdOHdoG+leUK5gtE+4Je/E6Ku+QJ9jY0c86iySkkl4v3wJTdCDYK2sb8jEgHMvXjcjsG/RzBh5\n",
       "n4xINV+1EHF5qiQ5KyqiU2Jssluu5MRb1+l1QGqcig3ozhVDdaPuG4/YFWMXBeKpjw0z3L0SSu3T\n",
       "muWl0g4PcWCN79p1YflV0+L4TR0kffKTyK7AOHadIbiUbunFql5yq4AMZb8ibE+VQZ3S0wPaID1I\n",
       "Yc7sa1tax3QaGo1d/ouva1KpohT83F/q7VDOOObguRk+JZgDgFWJFnmUm7aW4z/du8JxoQOEbQ90\n",
       "00uKJ+bhAsX84wqtfHQf30LMIQrpuc2DFd5lU3SKmd8F4ZCLb/O8148l5Vdo2jGKbid/c1G18xCY\n",
       "XvGi6XDkhJo4KteUoKLpQa1zBmnZ1RyIJI6qSPd7T/HVSRDDICWPWdfJjxPANB2bEi6FqhPuvK52\n",
       "Q5BaI/3Mf8NSPVHx/VEjj0BL4uMOOO/Hw68isLsSYHhR+Y1Skyb5CbFS2wz8pg9MRJtGthb6Pqvu\n",
       "4OiOWfD8A8fNjzmggRWZVljT2TLiDWKmR0hvYpMmG25sK9IHmoGb9dhTWoTLSxQ+UlAohKaE3jfM\n",
       "TqS6jtvPKfP5gnDuRU2SDwaZLFbGhLDTK1s7h1ChVWH4kBXg36Us+PVpJQCdl4+NJIDklae3Axkt\n",
       "O9BZSLse5GKJhn5wbeLFLQPnu2eZ4N6Z/ljas5Y9JfThEl5Bl5aZXYn6e6apsAnkjocvufyobIxO\n",
       "AQbf+lzBWUnyIAE+HQ2Z6LyyHOqsst4wrhvcutsncC5AIi8a+zrajwy9irWpiJkSmByAsRV+6JGj\n",
       "v6BWEUH4DPkOwdhePiFRBkStBIDUf4DQcBQmdR1PKvFZqUxaK6OIClYrnpxNbjYrMR3rY/7YWEsE\n",
       "+Vcn/hblqDVIdonUH4GTch8PrKuRqcPS1YWqpwa9F0BMaRZvcGjkU28eo9SLTMyZ/9xE7allbIuv\n",
       "BOnd4aELRmRsAzctxO7YJBPnOlba4ltccLOcgu7fnuIEdbrh3uk8wMmzQBh/iFq3aNTqJ94AVLLU\n",
       "g3/Jmz3F4ZdiTUAj+8lwnhzb2xA2Kf9a1P+nmfGM0SZLuTAUD3sEWf3Nk5D+uUz819+olLUtFdDf\n",
       "+yLsThs/MZW+kL16EbcjFbGwgCkJ5v4DNnR7zcb/ef90hLGfE8Bnif1x+kAFO99tw0B4J4zkZRm+\n",
       "LnjCo6peoEhaCNNAePbG2uQIBhAn7VXd8gjYADrV16HRUWEN9/ySfXagqIVdKEOCYa2azOLBNdIB\n",
       "4spXsWMf5EXxgL9z23bR9i4WkeD+MIIV6V4GwSRte/9HKCQlC2G+8/8Uw6G6oL9yjC94ANbommBQ\n",
       "crMFB3KLK2Q4J45aQjrnxr4Nv/4KCcWZfFidaOcTK/uTOlM5Mn/VAVsVNYHlAIaYgaACv2XWt9/m\n",
       "vnXs7ofz4WVCoGyM1Qirx3RpEsTkjT96O20mX6m2OO8niojG4wdoWnI4tLBezf7LTY+vWn0Lg11e\n",
       "fEAwafM0rVr1TSQJQsTrtdca0aXx6Nt83hsL2RztnuNGpOLnW0qYlhcT7wDAnuNVZHo4Ch/zqr1L\n",
       "JxG2mXN2rLahjK2w3qiK2Ho8iD0hzzj4ntdBQXf5QBQu2bjXkzBRsLUgBQVB4VdKw3VoxG/81S30\n",
       "wn+ofCE8HrnkYj89jcgRrd+KOZj4he/2KwYnSNrbjWRboQBo7LoSGaDJ7HekpfwC1eiDQP9ibicz\n",
       "Kc5flk649tbWs9cZotrw/BuWy7UlPEG1HtDoDfnYAcZ5k8J2BMC1QsFyfLkpRKQ62FAk0b03aJUY\n",
       "Bac5sx1Y5FAx6LbjZpdTHFeIsdaBGhdmzTszQGMfS0pJRPZUTHEIhf/upPlBAAAIlEGaxknhDyZT\n",
       "Agh//qpVAAADAAGLHuu2ABb15wfqiFUbdpkl+strJXDJ7iXzOpZN2eAvLW7w4G9Gf+uxf5THf4Xk\n",
       "N6jZvzsFB52Zzzv27Yu8dGQTRxJJQw3hGJPLvBhQfHoQrgJYuW431F5yjetTOqtRHHp8ZEnSug2X\n",
       "D3UhbpRLHn2tZit4Z9UC0WzT9bFNa9Y/hvpNEEB3No2U1Mj6IwyUv8IvzGO/8ene8oLfz/4qOwin\n",
       "7G5PJYCgdLnSDt2F4pxq6Ph4N+C33uPMgk3LQr1kyIHpG3i8LbOzhNi7sooZN3h4dWOK7BJ+AFwf\n",
       "lZjB7ja+SmmLx+jAG0a1qBkog156OiaRIgLMBoT6PcB11ILYSzzq9hxJqYHo4yaTRpfZ6S1/FZgq\n",
       "lwDApMiTndRF09K+J4J1Nte8cOPu9S01OaR0kLnou+KRLPjuZAKpjkr/rL+TvDSWp4mb5rTtUoZN\n",
       "7dc/E6Q7i86eCbrwspcUXjDs0reCyB0xbILN9MfdySdv18dvUDLxedOSuAVfDwA7uBgTPT4taaaO\n",
       "R9CIf5C/pAWJ+zFLzUUlq+z6V4i/RcOM3FDozr3+cX5vppwnnLsVAAd3HmbCyPt5EHdtbf+ZLPCl\n",
       "S/34MrMCJPSxjVRZagFQrk/S/KBoGcCoP3SmKC/uPzCEwpGBGTk6iBhzKPLCuVuefMzgVkDE1jim\n",
       "HneL4WzQS4bqGk2/ZFstmyIm8/We3nuFbPk1tsGygc+8CMhqjcbFg8JZWRLlBvc3XdeEdqHAUazd\n",
       "JtN8H+hQgK+m/DrfMtM9rUFEgvZ/YZfZkuQ5yF0rWrSB9XmcV3w4bPNngtay8pozY5F9XEo2Xsuc\n",
       "t5oNvsDKNE7uQzRQIsOSQmNfy+ok9actIABacokx8wr2ldVOp5lxlavUc3l12pyAuU71L8rhuOom\n",
       "UfgU7Un7V2+BOyaxk8xgPFnMbzPNf5bIQbziAunRx++y5VI9xzdBeCrxu1ngd8BQ/nKvgvt0P+lR\n",
       "3idOKk7pnmFtU9MsVPsxhqaPbysIGSa4J76qfoHIP2pZ3hQKB9zB0P2Ta4InCFGjZ3LCEkaclBct\n",
       "OGm7h/sYREXFt/dTPKUPo62eDW5HHub9XH9dF2A2pAl7Wq6tAQLTnwEFHwmfyEdDk1HuO/h3nJ/N\n",
       "zbD7P6031ZmrCU30hZqkcxiif/2blehzNAlxiZtDWH/o33asRDMgACmaL52uWvvtfktSQVJhRIVk\n",
       "6RoPLwinihYpubbVWUgbfkOkC9Z5GtPT8KOvxaM03gVqTSuYlzKVTRL4f6DB7K70rj7Fyw7Y6zoi\n",
       "2fexdwOu9IqemqO2wWIHC5wtn8TVqBxVXtaiqQP1M6FIugcgxiTJ7Xlr/wAdc+XLK1+0P+rgOoTN\n",
       "cp3S9c0HkaEIE4KZKwrbZX4x677kjL+85CDREGBMOTq4gPIHKq5fuupT7KAWS2Duj5/f5HQ7EIj6\n",
       "3F3RrlDWfW23FLFb9oOMFpezey1/1B6C+4JenDKm+ohoXG1J3A+mzdW2onJB9sOmjuUjNHcrOv0b\n",
       "w/V3guYu7DLY9g3NALpDV4Dx2uL9HPTErSbLi7CRhsvMSTVQLCaMwUeFAUBqKeUBS2Bc/a6B7Iz5\n",
       "lLuW2HgaCxqIlBwYA1Gwz4H0Acf3DQO+Jv9wZ2zypN/LXeSmWU+VuS5W6BI2CxW8sOIPhbN/JMRs\n",
       "728o3NzElSl2oBrEUq5yvEedcRm9oELA942VbtEN5NkWWo2Ku34rg9/l07TDGMd4PSe9VYwJF4ZV\n",
       "vYOhq2ApdM6odbQ8gIMXSGGy8DfL4aVgfDKZ7yTjvr6+9+7Nh6JjnKsG1wHVet2aiZ8XalnR241h\n",
       "zGRdW1wAIdiphTkDTQyJrMvu9lRiQPZ8Bc1tzz/ypNb5UAEc4OuvP1QUSzq+Rp3REE9MHZBQzCrw\n",
       "GJoqOj4HkFiZ6GxA2Sh9g2hDYGrQbhU3E7T+u01otICTjGpwkSYKsRD0fy6dGA8wqvNMF5B5pjCG\n",
       "cMtc+tEq7wlowUdy0pZzzvMpIEDZ6PE8r8OYroVwZ1K/l3mlAewlp3UGESBXo+KmM1HosmV645Az\n",
       "/GGCNu/WGWdOdOVGhvVBNJwK+hhd4X+s20ue8JnNFpgHFzUCVRsnFl54GUIrLAbAREWRxvQKswQl\n",
       "mX2z1So/Xc/i1f9+I9iHIJFRkFXpYiYeAoOouHE5wesEgbmWzhBx9BWvJtRE9ZgZEHoTtYETk+IK\n",
       "xv5+97bL2cpr7MYivTWpTz97fRcYVB8qBPVZGC0D2feEYJBskeXPmYiRTpRckBq5v8S9fiodWxQ7\n",
       "MJkFJ1ABfk/uNIEDuIBneBGxVcsOcYU2FrrqiAXxl1lWRb5kdH3lOCnNAs5PsTULsJEycQjElkaZ\n",
       "d4oNvKp5gOVvPgo+K66B1XLQIFYfJQOZhJeVUFLdldGXaDYcKQCyl7REHRyma5g3d+qPzrV7PF1j\n",
       "xl3iy4XC4J5qGdcKAblUU32QEJqNe6OB9f6F0FKtgOFfWWUbXCFAYx+dw47OkHR2XdGjICoF3Al3\n",
       "3UofsH4KtmmL1piYxhGiA1AvFReV+ExataPY2jmIb+vTpN9WCNd6JB3vvcoM/Ct+qnVxn+VSIMKt\n",
       "h1ZudYjxQj62Nn6w+WfDW9pmKFXm0JxMGLVTzTbNFrazqq9ZnG3bjNcOtb1ttOnoRKiLOybcTOy1\n",
       "6wNB0SKxyp8Ii1a0B85OJIIvdXbMi+O8xGK+dRQoaWkqXenEPzje+Il9w0rxcZvCRziVvhiL1MVj\n",
       "8FYozwIoCXBN4y+rcCREt2KNvd8VgbMiyHkofF01Oqhm/+V1X3e1619JU4hxRk/jDbJdr+mBOAEy\n",
       "POGvMyHys/HRv5jvHFBQq5fgjahZ61g5G3IITy0QaG52uVVFhDeObNj0ens1pjBInZ/wk1RPAMb/\n",
       "fyzf30ukxX5spurcI9UQCHZCSVVQBQAACzdBmuhJ4Q8mUwURPBD//qpVAAADAAGK66x/cAEQfPZd\n",
       "VbdAVB/VKBlIMx7DGSj02n3zuALWRsr/PoJ5aUs+zBREYlxIPqOyEeW03hElbBnrC1okogoNvgBg\n",
       "rFSrq6rxBm8uNgW2toaSMGsfrGip+nnt+r8Bzj+EDyxhyAkqt9VYMUmnSluH4qj+x5VUZAW4xv77\n",
       "VQZBSoFR/qdxi0LqUk3cmQxADjDLKRUmvOZZZmXqQt4Ljou4surByxJ/279/qd+fUKSh3gvYaDDV\n",
       "cibPYBDl8D/yqupSJktMxZiS+4Py5kR6GRMrE9PIKEhZV56oCoNkPhsuXVpL/h9qc78nJiQ3bJbc\n",
       "39yNhlSG7FodCP0wunbtRh9Op9GJCOydWDCPWj4sYZeFCmhptnXwZIyTOptWt8KNxdjW+zPFB5Ml\n",
       "SqyHgETwT7+c8oru9iHtRCcnLHhQvoGO1aU+AHzVjZqlr53EHndVRzHHCxqwk2mQcBFQyxfDoW9M\n",
       "N6utWalZcegyeHmxfhEpCH2zFLVh4G4BmjjxXd3J/m7lGtS88hrURdfb0z7k4aoaIrosfiJCPKn/\n",
       "oJH7PnWNoEjGSxac3VUslAnunsmwFgUOFQWKaDqqvyNijaNrDuoziLoEgsR4yXeGXFh4gA0HaOa4\n",
       "ejlnHow5e2Kf1S1MGAe+DUG6tois8HTkxUZiHysugryUInsChRM+6OZQ2j0EIH0k947TzYoeA9wn\n",
       "VJIjt0KdxZ6X8KVRunuXStbD7Zpnxy+f2m5hCyJHgcfqQAA6aYMCZiGqnSkhIxHxxzFAx0eswN+Z\n",
       "yiu7i3M3qyLnfVXOd84Y+Dal3zbqa9YTf1uYV8CCbKDgFgb+VaKCq2vkMZTQON/cMJ11XgMOFArR\n",
       "w7kLCo6P+OBYiIPILeYEaauDqE9RD0MtvWcUGV7lLMoec93ykGfhhWovDaAKXYx43WQFkaZw3MtI\n",
       "e/i75k+HOgv1G28TsPMhNc0hrPG+xmHUyPVnx/OYGDBxot9DCALBQuRWECZ0m9pPaT4Ll+WQWbbs\n",
       "ubUcJgwQLVn5fK85lvD8qXffeKtPXGBEnY5wQJmvIdzti2mfIXfycileo2jC8AHh2TOWgGS38UUI\n",
       "U1Bg2jP/SyHVpTZSD5lmaX47xY8V8obkhCjkstT10lGozFwQiFpaoMrvrG2XHurO66fPHh9oIxtr\n",
       "SjaS7BUA4gsLxbxKZ4i7GgV2/pX/nY/kQWhhdB69dB1wwTyqx/gM3GF9gtni+FiLrT0/M0LoGyUe\n",
       "MM0F+zrh//dMBOWsPMcMKa+PN/qFGiGWUVXJSHGgaJsaCEeSDvTKXnp6N7cgiQu3isA1U4HaBT8a\n",
       "LCz2n3ri/9ovWqgIWTDdvxWBfv2/yyKN8JHNZ7p59LeWnPRcaM5wc2TEWpuVhuXVhOVQz/EdcdRu\n",
       "rb7/3UVv2KPBLYWyG/nmeHTcf+NlDRZJdRRrT3RV+g4EE+g3YdCevff7/ErjxWxS8wG9hjd4oFs3\n",
       "N5b0Eq8JLEvajVjPPuUo9BW1XQXDv/CFjN7gBy7oCaDE0BssKPOf40gLOZl1DZh7m97wugyMHavT\n",
       "5AlrmflcH0uLf640OD3tlgtXHyqNmagcVVoidYcCmfeTiLGQSZSVzZZbpQMVd9cCWVPpCTm7IKC2\n",
       "FT+Ea+Uls1JO9dKC6LEwcSN5WSPtdG34lJv/JBhbeO5J1/5lW0SmDqSukkywfVJbjQqSbQX/TAuX\n",
       "pYAlV25aUFAFGo7+8vPeR+71nl5PqJb7HRjr1HPGQr8MTCqxqarNaaLMNSCEEWxvBXYFnBQwqFxj\n",
       "oM6ivqJ5zqFaQi5y+Yb546A6/Pgl57jUeoT9tOs9O6qfrAav3zz6q6OqmvYsGNodDWk3EskwRNKy\n",
       "O+d+wPh75aYtcDOMCojy5BIuj3AXbfVfciJYERbLAB8REXJcdB/aSNxaFE3wCs7pIFJa8d8Piw23\n",
       "aMKL18mbjVlOfR+v4OhPBDBZfac4IDra8/wK7QBGIgEQxBOlf14yvcEsZWeYmM4OqfWk1hurR1E3\n",
       "5qmiOV7r35qz5b3r+GTONgnWr0v46W0GTMV8IM9gddFqA6LFFLntKZ0EC7RnY6lspF2eDdAuntbD\n",
       "O/LdL6T6XebjruewuNASQ5wsGPRO4vbeuYcS+D5SSnD71Fp89lBZjLbKAbxkUrOBxsaJqH85hNs1\n",
       "u+fCnrRt7VQDzQcHOxRlvBueoHNumSOnlhErwt2Cz1GEMFL4W440imQxkUufVdjuThsMBO3RCpiC\n",
       "dk03SC/F3jyR8/q2dpbiyo7UIZO2wcfPwMGpAGIftltlJT2fQTNDV7jaDS0pQLwzcOh9DZoQ3b7+\n",
       "+ypcXuSpxDqfXvysuPSaOGZdX+bGEP1Hd/YuUPJGiUZzx4IM0oz0sVLPmRNRgYmSN9Ihjatfhy3i\n",
       "PT6uvsR7kefO7rYDGyytahzxdtuDSqcM72B9Rpqo2bW5YM9mm4IYf9EWUFaCGdMTVz90tJe0L1Ga\n",
       "L1h0uQdbwIBfbUoXCv4vYSrU6H4I/Ut8OV7/3TF0R57ot+VKfUeV8vKlq+uBBFGu2TTsagMnnc9J\n",
       "EM5yu3NNmmfO18qC0EaI4Aa/FQA09xGUsBv8zpxf3tRUSuVKW1AKYu50eSxaBesgm8k9kGKBJya4\n",
       "rdAyfbdbJj0CZ8N3SPJBxkqkVi+RkaDsqLspocdvau/hBWnRIDOMXw0+G8aL0kh3M1ATkCjKfFu1\n",
       "LZyPv6M1goGYVx2QsrpTkSYVIQI+80Eds/ijBdG7sPLDtHgMH44TWvYeL86eTanAqpStX+HhHvtS\n",
       "3cAUJLofHOeyrPuYUMpZvoSJWm9rEpVyYnmhpTwu0xeqDwk3/mIzxSGePSZbko1j+HILhtB93Ozo\n",
       "JdBfneL1vJ3yTVHlgu2lZPUc1zhbvvnyZ8q4KwYgiKzjbFW+HJkBA+rE0qwH4Uhw5GJJBIEfJOfz\n",
       "qVTdvNHZ1VbMDJEEKrOFH2Pff83miEqDRFB1ZsQfrs975dCOMpNdWcVBr/7pn1Gm3lXJPd2tla1R\n",
       "kNnUiUCfrk/rkODXrVbBdYJVmz/CIPJcBrtz36d45qF/5qV/Ldg5arjc/DEr67BduqHcSLN6bxww\n",
       "Eqysq8xbmeezFYNnzMcuDnevw8JZeuf/eYAbsqwhJLI96Rh00CyNdodAl/2V/NW7k1Un/ZZXynA3\n",
       "Jxzec1Dh7Qg3J25ATF9GFOVqirdNDLwqxDnat9GgK3iPc7L/SnyZodhUN9NLF9PsW4raF4qfkkh/\n",
       "aiMGjlcfPY8NtWtvGHni+aYfIoS4QTWbQA673mKA8oeeVWh96kKgL3kleokoVTWji37MZYzNq7Zo\n",
       "+8kLZO36h4/5ajhFyDLSUbGBqwE9qq0XJ3FsrRkVmWfZ4C3Nj8ELT6Wv6S8+kaOTn23OxbQ8Zy3c\n",
       "Vnf8iVc9oAgS6fM73YMVFKj7Yj2u/UqzqBEsEAzGEmJyA/YPDzukYnHUQYTA55IYKlpZKNBpT09y\n",
       "gStROKdBIWOh5o5FYMJxAx4j0A1seBhLE9uL76ldUe1ysnb7X0R5lJuur/H4uTeUAxs5zrrH0+MI\n",
       "AHB1aY3hUYKeC13n/CXjKiuJ01GU/isY9LN0rZva+/4xEVFUTMhrVVrXC5om8IgMUlKOlmrXzDdo\n",
       "L5XvesqoPmN3qS/rn4u/8CLnWCNO6rMfIccEDmn+ugJdd/Nrs9CjMe0PxtzNhrycNn5lynpCjL8/\n",
       "OFCMH9We+cbnE32Eu+IF+BpjBgYdDQeHCeQszc/wPajZupgEBloiJ93YjBb+MhTgoY+rPMs6vULV\n",
       "9zvGlYlhHZCAmxgk6jruvp+YEAERVmLCji2PvBViQkh6BdXVDQl5p8FdpvZX5r0AAAkpAZ8HakN/\n",
       "AAADABkjg/+SELggALqLjpgNBobOwE+6AoZE1Ehp2aavkhGS3bmM2Bkypj9/C/S+vwdXG+tk5fiy\n",
       "su3KFdHfwjb1JjYRUmdgA/yzmP1fDCQSopdTvYH2KlAhv2x1zeEen/cSkBNYuGQBXF/0AbKxEBfr\n",
       "wX8876QPLC5oArr683VxNlyN/ULeJSs5vMmKEpHMYoMQDr/zoXl+v7LThLOqbXvaUMXpel6Vd08t\n",
       "4LJ6t27TGDCK2gOd/423WvIaw5jWA2ZelpBAGKUgs4tK4b2wjewe3sBpicMfxM2f9S8FNLNm1qfZ\n",
       "62tCmCl0t8dtOGy1/v/EbQ/4ZHyG5C9aNIr6ralygWYIgAQD28LvSNSctMDsOu2bUzWBp7P8VqRg\n",
       "zp/IejYmjdNwY4wh3wRBg9tFTk4dk2VxeUn/NPzAH4vgP+GxlVt7QvFnsgucbMC+/V6Y9mLErI54\n",
       "1JGm1GkK5T7sixwk7pyRho+HM/237Br0IYFYKgAqNSxFhRS7i+MBWynXCXHJs36ZN+3Ym2l81YYO\n",
       "/RXGhwwheXZtxtW7l2zijBaAmCjW47ZgCGA6oJBewAHu8efub1mv1GPUnAPl/VvE3TYUVKLCAvYv\n",
       "WeOaBBeA58ww9G1Zv9gw6Dkey/LCHDIqiJbUGG3aCKOhVB8C+ecTQpXdeQ68eQYD4uwk1CH0xGef\n",
       "gxB+Jl/JJ8Sj+PShETO3AQrCp/ePJvRq4ncYztDHNgWPXIV/07oysKcsWpI5JgmWkihh1cB0XncG\n",
       "5Cm/QN2/K1JJOQ/Xb7F4LmdX0vnZ1lG8Mo1hJcKmuwpYuVeqv0NM61jiUAMIu8JCbCZAdkBZtKfW\n",
       "Gccn/pDUOS9zRfrg5O0pnqsXJ4AOOfXWqpg356rtWum8KyfA65VPQuYuq9q5Gna/iW5+td9TxiTM\n",
       "H1HWRHgZvcMnydAfS4DnusvcDJiX2LE81mg9hnI8gLIMaX8nlxzrXOGn2rvotYIt0mxCy8tUWaB1\n",
       "jIwXE5L4mdtdiLZnUwU/AKSEasytvkbVu90WknjvBKfjkYt1jC8cz+yZmMV1xmw/Knz/yZpeVrj6\n",
       "lQuMjmD3wiieFLn7XmOQYrI+3MGAhzyrDeOG4vKgjxMwxOImr0LwFCyqr26js7DfWxPRl6hgmIvm\n",
       "sSW+DT7yVqc+q3v8J+/QnoBXrJQOzAFRzZoOUIwOtjDFGlUonphmTxLBHxtlCgrPkvx1OzXnLC1s\n",
       "JH6sk9U+Blo4dnj8WvoUvv3dmXTbQIRaySo35BPixkqElmLDiLbkl1aufjRNtm509zwYUEV/4O8D\n",
       "idBYi23buDBYbWuUUbhJ2gqBHInpQIkQpFzai2oCFBiLs7wVFUv+8UlhpKKufLNgY0R4wumaeCuq\n",
       "vPx68ZpFHfN1SOOuz79K9FizbLuUHwFR9ZNSMHrzH5cE/Z6eluPnARPXsGzOvH0Uk2kvBMtJ2Ewg\n",
       "70vTMYfXFCRP7/shnjeHx/dDMXO/HwetwsK0Gc4571FdqcluCd9PtOSX6QZaJhTDEpf5DIK64VSx\n",
       "c2QdcIHeqwMs6hinnjw1/Ec1lSqxLbbKbHO7gT8z0aXBp+juQb7/+KzpnVpMePW2v4f/Od7KNHbd\n",
       "2aWvlArdF47TMPt7BiK+rNWTi9BoBmxkCrozkiqnPPReWQfD4orzJSTvxshESlghPTY00u+asTE5\n",
       "I4waW0FFBIq+OexWsecqrHzdS8H2Skw40iWEUe6pleMHQpsOywbum7LoXX/8NCVmXMizzkhDBJha\n",
       "+hEWzPlUmWoTDrHRRcfgPV98pXI/PwuZHUATRrFMfSSBrB/FkJMaRM5ZsblfOeZsgPWGvT7dSIS1\n",
       "CWKjZqvRLkcQZj7xvJnqTyhfdxxnqbu/1h0byr05h7Tbuc4v0oPm0KOvTxk8xxlIcloJvMfVBvcO\n",
       "PwTkGZBKjC46h4JwgJCGSAl28o29PFUiDXkwB/AFEP1YwLrctR6Cxg7aRTJ1Cf3JHiPXZ5bG5U+c\n",
       "p2anceBNnyaWjMZQx0nfk0GJvbp9HRvbA13TIrBWrg11ljdrlvYSV2hiUjIN5WtTm3TFpnLTMnd+\n",
       "oc1PBLscuxJB9juCd0bin84t3cr7tpWCUFrlhyl7u1WTySfHCy/YZ0VaPaH4rjr9w+pHxoltblL2\n",
       "xxy0CEPs43d41guYJDMqqkHFwiVjWHF7YGl7CYxrAhHD8y6CaG4DLT1OzLH1fAQcvxIGDvCTzIIJ\n",
       "mbNEVeYptjoXKpgPwbIv++AKEYWiQKkRVYbKl76FU7Z0VYuSQQDYCbE3JV4OsGyG9D2RCqzPFjaK\n",
       "HKaCtZ/FiWTy4xzQ1bMjjApV4255rnlXhjDkOtpr3K7+bUpiVpWLk/v1zi4vIbLCnI3kKefm95KE\n",
       "adELdc4AATkxfxKH/Dn1NxZkS14d8S73UG5+fmqTDRkDdoaDkvWQVyByLmGz/9PdphwpkJ/y7voB\n",
       "N2JWZrliazvFZyR1f51bYPMYx3BZpCng4zVAuK8f7306SnQKiDgvlf2pf2Oj2Jug4mJCEvylAaW2\n",
       "MaaXff2O+dkF5FSeTNxkWjJ1hrcDZ859U9wgqsqg48rMEDqrsfTcfeihKQolesiY76naLZDIGYDd\n",
       "FggQ1EV1lC9RRY0L+lxMqZ/V3Dmrgn1VBT0UVXadOV52MEctEbzGXRr/10ypGUhn7/QQFN442hGJ\n",
       "v1Quqh1jOCNHzr50pq05opmDrVsB6LClz0IlXFqV3RHEfNL6LEiy8BSOHE2tY33Z4xJvXCS0EK/m\n",
       "Ryq9wKhE6Ny2ytEtOq/7PBQMxPfXEJXJ+7TjOYwmSik9Ji5OrF6c4V/wjYa1JnuWYVMaY8pj/n8j\n",
       "iyQlFORJ3h5vvd5xK4RsUtcQBaMgGja56U1ra8ZMBhZEC9hHBcezYI1wczS54Ubw+FSRdrvuuJqQ\n",
       "G//6uMwWKRO5h4o8G0JOu9eLBeCYsb4g7M0ctx1IPjcTTWnefNrTPGdYuYmBq9imUnckALw6U9EE\n",
       "p6uRFZs1E33b88HKa333+IaLmLp3vZMW2apkAvNJEJfmlfpuo25gitg3Lhqx1P+TJaAxKhzOSgON\n",
       "LYoK48vtqjWZw6xvg7bPCi5MSJ4ua0GXD4sBi1to1R6SBQpRq5PB9BF/icoeEkuiXbwPOMJWdt5g\n",
       "A5YAAAu8QZsLSeEPJlMCCH/+qlUAAAMAVThv9xDsfABSEdfYlCS56X+mXVpDSCQjujcWm2lmNhaV\n",
       "0aYJF9KYh/cHb46Y2l7rXGmmOt/kWRAvU393tMgNUBEPgOcjTbFmRvp339Zt0/bnNcYkgNNWOxxH\n",
       "GdSIXZ/xFCjrDuponUV8pxXcsgAX/luFo41XD+bsxv64HVmXZ6hFEe8TimhhcrJ/w9caUJBo3a42\n",
       "l71FOokdmNDjeL5m4r+GhAMf8ttE4ckUKcmF6/OE0YPqQzO0HNBD9b+UYUwL9Edc4kHS20I+P2yn\n",
       "H2YRfwN28hMkqyHnGy0j02k+j54oe1iQbkfh8r+/tCen0aYh8FLA/qW4TzHwp9ibB6HHWR12+2Hm\n",
       "wOSkqDt3qV1bXClIf2A8M8d+IeUhCs2hf3KNLTlaWJsPYC8C1W6PhEyQJJ6SZWmbJVRC1hxZfaZd\n",
       "ZL8hk37HcpHe3M1n1exYzFF4qV4eZJc6Sa3kEDi+/bcjPT+OelHLRgO8OUiloKHlKHgijIWph0VR\n",
       "+oG/r+fETEYMBGp+GzUC92H+sMdhUeuYBPQGLe4WNRMFX7euAKmfyTmRWzVXKqnl2KUACdd1jvBh\n",
       "hNLjxO7i/4BiaQ50u6yNjs1ipxmrM8JKFFGVNizUCmfLcMQPKaAFOCaDk61estZgkJckvzIfeRk/\n",
       "by1tZvHj+PWp+cLhr/CKKPWyqChKs5ooGaPVdtsoOvLaXe3RDBtglbOp5is2VsfAXdLUD7OrwH0c\n",
       "pM/Q8cnUlT7Glyv/A+8Clnjnn805dmq+/pp6QAvcYmGe1pAeyOUZ9Ytx10gpcuN46p8tRF04EUTq\n",
       "dwmVzryk+Ub/GG32ebZht2WjdztjnQ2AWj9eqYmyxXbS/BgJxP4fOxwe2BH98fkjrBuPN4oJqNfp\n",
       "NFENP+/qQGiUadcy0VZqmWMLKdbKjnbqnqVnvDxhkEgSsqa5gyC/PymnvohBpKr11iUmj96iToFN\n",
       "PRpHzRW6h/iQP46UW70VJQdvtpMwnefIVsFtwdR4feAgTB0FLRiRUYWr+bTQ+wORwxQ63gizyKqI\n",
       "IwxKYhTXgiNITdrwpbjFSd8oq6t91OQmtp+mifiz75R4o9oAyppWKtlHhQvxhsYXVSrKTmSXQVB0\n",
       "oBLQ//kBCRD/21q0SFVFmO0jfo/DmcNzunRGwCG6Oqf64iAZqQDgMqkch9cwneoBhawRohzmokDQ\n",
       "lFP17awy4AgH6TUWSony6TaBa94wj4bIiFI68xGRnxYJg5Q7oD0x8vieHI8i5pgUiNXNuStgNuv2\n",
       "MeulLwdkQTPjO4YA9YEF3c0wkbz7EaiQX9lD5lMZNMk+GarX63cKaqOtCE0+RrfixCGB2S0UpoKD\n",
       "qWAHB9DEEYuJ+9LKlcEZbsy/hyBLDtaTV9tVvOHdrNSSpLUb8vuTUYeyhPdlWky1TtaZjPPvRI0d\n",
       "XruN96ah6vEPEdslYjtfWWPqV9tmBCkcrpr/MkBl7Vh7Cq10pL8Ggezl5RDkbFFeTArdIPh98qT+\n",
       "Rd/YQwcxHYm8AVebaxOeJ4gyr7Pa6IB/Lq+z2A1j7EZSn4d2BHObfxTc+BxTuy1O9Y+MIY5FSpzb\n",
       "rTQaMhULD4pCwpg+00h5ZwLd/xqT+YV0y/Sdgi9TmXpMEFX3h3wLdUoRmncm28D47+JtQSHk5PvC\n",
       "MN52VdhnTFSCieShoBdYgYGZU/pUhBXW8U7KBnwappJm7G5HeNhx8HYsWi0HYLzs7UDvM9Da3WuY\n",
       "+NJxBtTrE1hFoROfrv8q/zamRicMQ0vhHDg5u5fhzWRCoguMvsRxPI/6pw6b8nm5owV+g1o/ry2K\n",
       "+5plmH6K2F/B8boxO7rndcEqzrlZdzkGkC0l2xoTPCmtuxAlDMZ397k8VK+QirAjmQVJhfDp0ZYn\n",
       "Nb7gUjDBa/CV2C3w/xhsUNDyogA7yyeF+nHaOrLIKlCQb3Nxrrh2PpDTbcipe8jfnWxsuMIYvhAS\n",
       "+3XQd8FaimuU2HXGf0vMI4movWYmAk+coCQa+iCoSUpu06Rm3w+vcqv80VewJBbm6jeMOWBs9z9Q\n",
       "5sLW5lKr6MWllVCtMyQpQq49DUma3KheC6KD8rjamoOafsZYRK2v8t2t6htaFq5Zcr4RNu76X1cE\n",
       "Tsdh8IbawBY58qb+ewKZcWe+ZTQh5E74gedRwRANoXOjlAhSxcG/CojKf88zpDvYJYQFtTEQlaOG\n",
       "avFzAcrO0ZPbJLz8PLnWzlU9uTE1v/R80ZaHVH5XFR2tjeN0uWBQ/iPl+A/mpD6bxXhNN48hmoKs\n",
       "+J/KHATgC1CTuwABHJhyIAI2l0javksjyJ+0YU6c25YS3Za2yTdILGpqQu69uCK6bG0x6a+lZzGM\n",
       "aMgfkwekbImHYqdg65nG6/wDV3AZoGXceV1Qgkc5H7a8AtDzOZx3IoBUZNNl1PXlVkzwH64htnZE\n",
       "8RILcJlFPg4upeubF17MynNFtleuUUmVzigN/nUo/AFLY7ye5LJEy8BfdADpQN5hWvM551M/IIZw\n",
       "RD/ZMP3ueRaYNz/3wM6/yRlmrrjnFHz3Hwjl5LhfBL9dm8EtRMfnfNBJNH6OjtINHiEpyouikLZw\n",
       "hRZ8UxRPt3j06P3xa2vx6FtuRQuH13TYTHgKNalSXW6P6zi/vznzlSWqEFDZz3wN1iSR01vEzVCZ\n",
       "3fuY2zgkIp46XlijYFFgyM8NVmrbUMsKThfRdtvPfECbKswPN1xzWyM9ZaQ5Jc6Yi4jK0EeFM2kg\n",
       "+5s/L2Q16QljqKant5t/dmg81z4gjoosNIuYw5ex+AM9MVkrKno9qMtFDa+fentxHTVtWRR7eNKr\n",
       "CIQKq8CGJXt53nVuGIcEreD0KHOUygRjjH+LGvuypoJ7CNK7RnAp3nzIuzxaknOHK9tP4rKixBMu\n",
       "en5p4xxVNJOh5m7xEn4B0hWqda05nUTn3nNDkqs4HKRbDu0TAPev1ExwDCnLPA1yVfr+S2/CUveN\n",
       "3TTD0e603owE67tE9LCyTsHRFcXUL66V6Qwd4oD4KPnu1XnRMhVN0MCzK/x4vs+l4C2mXac1RrFz\n",
       "16l5Bv+47nvGMiy3ypWUqwWhCp7Jm3G9yccDNWhI3A4Y0xw062W5Yn1IrQc45Xvo9ONi0RxeedA5\n",
       "VBwudVahrBsJ///FUNPUOVBcHbdAkjnHjHcWbJCQzSMrZxixo4jw+Mzokm64hxZ7svb7upkZAApX\n",
       "cW50CeOid3cGUFbpmzVUNWzP/dSs/muchPpyfsmFf9jpWjxCC56YRlIh4mj4veJ2B5d1ZYSP7fMP\n",
       "VJRBJ83BIchRN78f3JaPrs+L+ZvBMoCUt1bKKZY+g/2dC5/V2EtXy5IciFSqMLsqI5HU0v69USRe\n",
       "aeAZdBogSMg5WEH9GfrlnG/WL+v1UD81kuZYdlpAncZ24fg2E2iu2gt0Z5im5/RpqRx8FFmRknv7\n",
       "gCAtnJjAfa/sea1v11ngSaR16f7qBELpN0mXZ0oVD55lyqB8MXd950O8VhrNUjmT3Aslm3vjqRiw\n",
       "9c+uDZ5QxOLy+/3TT9nFXr68L183hitVoN8hPfBPdQVWtrQYDGpK3g7i3jtHLMq5FUJ6VU4/VUKs\n",
       "XaLNAAFSY6FTs5k+jHXipNW4Ehw6ROl55nzxOJvwltcr8gbttehL+g+FBCfkMMN6WM17TiL49Hb2\n",
       "c5Tk+Ufk0JdUJdIYq4Uc7L9j4PVkuOJdbjVf1IUK45andvWmwDBNAJzm2/Ecf4ueHpSz81u7RUtd\n",
       "snR09+TKWffEAyg1UeGuD7LVUOZH93cxFpSDWnsmNxEP4yDoFFwSbUCQ6gWvaL3g/vjeEu3jA9n/\n",
       "4WPaiT8jqvt9epB6NucHXnDGNy5yJROuU1BBHmw2M+pvXA/d6Khw6S5xSGKhdx9hFXRI9P0MhL1g\n",
       "ZOoAbMm+Ttf6U1ZNOU9I7lODrC9bSqbPrffk2laF+hp/ujlZN9Wqu5FxQkcEmJEGXiqBS349L7OE\n",
       "xHj7VeNOV6XMc+6snMYWc4HFVf4bKGmJwSiYEjwjQA8JZoFiEDQZRUwVaUBZQAAACaJBnylFETw3\n",
       "/wAAAwDoFEIZCKyh0+CVqKkRJIOkN6AALS2l/3hbDhv4NWvABdJ1s/Qc9ABpmNf+7P+FjUDesD7b\n",
       "qFtzQ0NoCiYvnGaRanhoutemRacYg21HcYam9wJcVo3m7Enh8l60MjmpEb+8tacbv0l7yEi4PaQw\n",
       "7hmLcV4REu1QoWwt1bkpi8FWWv3ZNW06rFU42cFv+k4zCIc189nuxtvV1NERHRD+0aDkyOn1E5+f\n",
       "EP+CWZICu5JEhtOqLUS9A+PJ+58fF/BKjf32o/CD5aONmyTCJEWLG0cFLCfKmjz7WcUIYFe5QBvt\n",
       "1T53qpXiFV9dSWIG1z+o0TW1QaVYcTfmKVg/yYVGFE2ZmVee/AB1prpfT4jfY36MorAPhunR/bp9\n",
       "kLRSyRmxX0qtsA9csQ28OIuzLTJfDsZTQkHGb810zLcTQ4KdxToNHH1B2oTSgMJRVrO91zrNTSY5\n",
       "UOwwi6Z3MfdS2FZx9WyRfM9usgDj4TDzf4E3LmJNxlxhimuIPr+kshNpvPGlTW5E1cMOuIcpwE/R\n",
       "i2fXD2Gjb/F13GVmGzxPoKLJJELYMN11ZySimaAvHCDGQ/91Ohqj1TlBFoEvmWnvMI/yw2WU9alL\n",
       "W3NlE6FqqMjuh4bSKwBaJE6pNyJMSMPIEonlSYpilYa23AGH/yIyz2sILZiP/5zvHsHR7sU9toPt\n",
       "PKJYB9VJ0rmitwjkMQeaGX8CMc5HEfJWac2QjQHH0aFNT7yw26zDo0IsudKhnHTglkCPZLLIqZyg\n",
       "U8zsS5mEeOr8FgQ8istROLhJseQZFGV1kW+Fk8DynW6dzyPylquW5XZv40x/sjJ5zUPtcH5XRdgg\n",
       "E5/8LTNY/Cktd3cKj8lTJv75xo7qjysZaOUeTrsGICckReif6I8XNvybhGwiIRdQ+4HRY1IfO3ZX\n",
       "J+ssExwdyhoWpivbZ14pfEUFRL/iL/fUKWMaKaIwCiBWfHpn7uZIvoVeFqXUoHXGoNlVupwIkTN2\n",
       "BXPxZLQbngULQP+8A5Ynd1v5enIkCLGmUt+ft0FYLaCNSFuEiUCxssqoOYtvej6sJY/ko5NL8i5E\n",
       "iBJUYXh7C0mX/4+GcLAxW+/OXDjD9ngloOMffPBa437VDfU0FbJiRlOW8a6dGg/KQwH7MyDSPhon\n",
       "Oq9S74I2d6of92v5zBHjOzrN60lSOvfToTPJstBft4jCmE2sej+J6iyGqB6kLT0gG4WqTQIWiCQa\n",
       "a81Wzc7tkuQBuS1RMNjKBXKkZu3KKD9bFWftms5bdDo4Hsay10VsB1fzgM5XF1lCmDQEvXkwyYre\n",
       "JzBh78/Fb1qfF+THM7qJZzwsM5CVRy8a4+Wzx/AvGAW9mUQDCe6LjG/QfflArSLRT7LpyxlmyB3x\n",
       "TrhCHdTGPehJU464DSb+nFy7jX9y7SP7M/tVR2FDRj+tFiwLCfwYMjYwjIFZeYbDteU6VrJcbT2I\n",
       "7Y2VvRjKurLh6LTggzVyg1HTvULgwCSRomsz2vB64sgLytFT/Gt+8hlO2yHJvhrbJuPGgMz755UL\n",
       "Y6tJN34omspeNlSCiTPckMG+FFAAiAV74SqgVX+m08t/f/Gc0+Ey2oR+Zp+sznfqsWaLEj6YsemY\n",
       "694GeBRlMtXX8zueZu4i06Td5PD+P7pzYy3eWTUF/jL7mlx88xXdmNDTSlNR7ZZ8LN2EbusMQnJh\n",
       "PEDqe5J3500WBx4E02HoYmfA32BBlgx3LQuAptjtcjS/xAPFBwH+0CZuNzEkXlkG7mbxEiO4h691\n",
       "+ZN1LcrZJb8acz0jMTLdxDHAqyjoruHpN0T0/PPlDQu5jOUKWG3MoPoUMpX4CESQ+qpbWB9wFzAr\n",
       "UxqiAt5yKHjPIZ+6ivMOR83w+x2mGSOYBA6bxLMKr1GXnagSP/iv67us0nKPVYs59uxOhkVKsCsc\n",
       "vRCeKAFbmguRuSnE2w7VPWamT+Q03BULULC8D6ko3NOa4W4/CgXwXAfEXmIuQ0IebIAOcRcvyTUF\n",
       "27KHHRJMQqdW/XfxlbXYwTl7g/Zo20uLwMawNhTHDfbk8smvJEse9/XZlwnFTLdWQLyaqsx6c+eC\n",
       "/whvRb3nfeyXTGO3Mxftx0/vLSEamMds084YIpjKWvnF5vnu/zb2Ed69KajJpFGKsm7PmkuWlOEz\n",
       "telRnjJLXYz+mEf2hZrdUYmlEmU8xhOMnzdCokgSqWusQLB+pXr8JJPaKGUx45jh+lTycUVBP6XK\n",
       "N8ExpNzSsXnsvaMT+4kXy0TB67544Oe1PMVHku8sBT1OQTO13pzdxZEGDzs+Sd+xtkt8m5S3tpKX\n",
       "0L4zBEktUNSQc5G6/Cebr0fnOix/sDo+HjPsbrtHTDTwkjfCbUrUO9AhU+uCss/Dm2RN1DMgV2hs\n",
       "V59xMvyB+jQsF856niFlbJMyHZfVMYlHht+Y3pEipgX27re4k+6cMAewv9TWJGoE9Objg9L5eW78\n",
       "TBogHLWeHf7wLKtVc8YNSNVqXSys4dU2qlK518oIFi51+cLsfOcpoA31LUUcLzNrMi/LXxX6bSRi\n",
       "HyfQcAK/QyXs75GEUmT1ZIZ8MGLfIPdSoH/oY55diH8+zpjZUnq0hft8h2fUHXhF/IazEpIjuD9t\n",
       "hoIUrqzfQb0En7Sv2yRdSINyvsn8hN09/kMiU3PrVqGNHFYBg0Cd4oQFVpoWpJAzznA0FfZXDLNd\n",
       "aZ+vdBzGC/9UWG469t2FjqyzVpkdDvOU3uqoc1LVwwNl+SWhNZXT0ZX1Dwizj1UmL3J2qOiHPSII\n",
       "G530a+u24c5CYGU68lnCZU6JdL01PcUBis7bO1wdFLJaKQNMK5hSAjeUZSvSH0UhoaigxnCx5kVr\n",
       "h54BaoWBnUiFatqwPHKrD05JrQdxUb9UJjW9gjlND4TmcMwNqDj7D05UZHcyzaJLjS/+rcVUL24i\n",
       "D+NxAMNJVY2pd+6DByD0MntOKse8GAHso7J/J1LfPyJaQAOt343/HTrW39Kq9tFBcPCcNB40j7Zg\n",
       "q0r0QFdsyvwXD5jBH+ad++KeZIJZAwqn5Rj/Mh0AY+j4CecfNo3OEI+kutd/+WNiMhI7maAa01MW\n",
       "A18xFZpqHwK+9SNS9cFbD7Zm/MbqY/Vp4IAC1vIZvBKOPipbnK5WpGuH3K1gfAKQ2JNGbQVEdnGh\n",
       "TBoVWFfh/uMaHhTKoHha0bfpK21v8iO3njlxNqILoDE8kxS7MXZPsy7sEJBZTLPaKmTOXIEyDH7r\n",
       "4R8rIHmPkn1F7oamaDUWLgDCOY6yShW6xsklp3nw3sbjBt3fbCkzf1b82nIIicRGDs9ogRuXoR77\n",
       "TdfqIxAmamEAAAiWAZ9KakN/AAADAOgUQhkIrKHT4JWoqREe7X4AGzPPhAzZU8AIU93xwI1aw7ta\n",
       "fsTcKfpv8sEfNlt49W3BIj2HCgmr0F24fEwnJXo0q2vBmyhrqJq1ZJ7LSDHx/CqSSNRvEr6J62Rz\n",
       "6BtTls+QDO01sOmAy1NskZrJFBYF5+brNPkxWov0iJZMlfY2YjAFA9MbMx6OU3C0G4+IK8ZMguPj\n",
       "oabXYfqEUCVKDrf7Yeeo1V5IceMJhDiH+6Fgc2NzOMjoe8rIRy0agFjeKkRDe9XK3R7SSUB12SM7\n",
       "ZvEc92zYKRjI1qbEbbqLjG5Ge7joV4Wnr9hqDALrsxnRpNc0j85Hdo2emaOIFXXc+VEbK5lDdAUc\n",
       "dDZyH4tRag0wr768Ojf9VwFiCTzybmqFd9ndN/x1xVdBGgb0aVtwCthUPsKWa+WIhwljZdzYIQre\n",
       "jRWYdRS/AKEZAMZs/whw6e46Co5PwuZ1oS5/iOaq94QhDvxVi3YD8CTpy/Q/d9PjoX/WXAwL3KIt\n",
       "93FU/mx409QKN4avfaXlozI/7ca2xMiVe6JDEpCuYRTWgN8LOdjQzn9CqHmfoxMW8id1H26xPD8t\n",
       "+Z94SCvQHxsVxvl+kYqy5ghm2zUU/pjbCUuXbIyScRi9ntKfNbt3NNm5coF9DbV2JjGjVTpkQRoT\n",
       "L9TqehFaBpnGx9YuNllflmpWtVinkrqYaxqFfD9QuZbgREMEZ86iHW6T+fE7wvx9zIxJTyNnYSmV\n",
       "PJGXmr655nz9z5VybQxjwOnwN7PrbOxTZG3oyNWxAmxUNpdAFjW+ZHwZzB0kDYcFL3m7YkH62NyG\n",
       "SOnf22SxMBj3XT4zsF72FWw1iMBO9Ezo7KmBVTDdzcn60jKuXFlpcCqMEI/32RjMNsVfhZY6t77J\n",
       "3Gqyce+RIMfxn2NaC9RLBxB8LdyvtCyZMWMg9eZoz40P/EIFtvo6NfniMr02vmQyHEgRMESFekyD\n",
       "9EAXkTGrVZaCZQyzTKugSd5BxX3Ko4BbyeuZ4v9DNMTGR6YCKJ1n6S+qEp0C+3aOCb3WgCM2hjys\n",
       "ERMhJr8uAw/Aq4Lm6pmlK886HBZuUFmpJjkEAo9XZVxrBm4hL2XmfGyk2wQIf2XCXw60s38u+nDo\n",
       "opQ5xRyLTTPfumiBbi7xFO6oaOictSrIWYYIQAPKZYhlnuVihzJrxpMoHOU2Foh7A//ZU99Oz+Sl\n",
       "zCZiCNyKDUkwSNJELSGhS/TCdATjDrBScjFIck14R4L3TxAl/LpDvv2mG6CboOxZJvvMDsHNtzVj\n",
       "+OZBVQ/N7gE22JxAQUbBolrAdiB3o9J/ub0fthI6i1+Q7/0vlGtC0zZxpdiw6uuBPmt8405ht2v7\n",
       "sPLjwRDLafXeCSq3P0EjJ9xQrVVSYlK9qp4mPiAn5GMMEaOjAwqYN/dezoOuT9Xf8oVaSG65dgPN\n",
       "MSN/VeRuhJya+2v/S/W0UXJmkerFGkyfXV6U/GBFMRCR+rsPaEX0s/D9WtVluv/EWUN9RCtrNaLk\n",
       "G8on1bC7O7NSp/F238UuSkXYvEE07rJD5TLvQ/24Dqvi/APf6Qv64jU1eU1/84Rr9GwyWtlmIVeQ\n",
       "uKEefJMcAJlGJlrYYcB8ZmG5efcHJ9njPeqG0ZDDn7rEnrhdaFx0pqZi8AZRghm6rsZlCEXu2ABf\n",
       "uLkkxOLwkgPmVjWlNLUECctNyEYbtq4vwt6hReM4WPCZLzaH6khKZtZRsrEYMdgQ8SX+bt/V13jC\n",
       "8L+5EoinfoS7BeG2dvnUyIl7II4cu2KH7gQWN6w6AJyXNGeyYWDWO3aDbjLWEoR6ZHJt5x+TNL1P\n",
       "i/I0iqCc7ZVl+A1ztOY86WwCr0K5qFGkblXE0Ith7lfpz1sQbEfmQoEIkjCM1Ec2L9o2wJCZM7QP\n",
       "bn7ZEu2FqoTZkRYptFxDstkWHy0Wim/vJ4Zl3e5bPREi/QKT1QOOJCBLZLWkMkJXoIHDtX5PTYlI\n",
       "OfspvGfyNr8DvY1sBQ9YDkynRL4MvBt/+TY8uu+TMoIgGHXRdbWmaozQ77S0N4kNt9oFoigthnp9\n",
       "sZ3R6Bwi7DyS/1hrEwKYDi0QYO5fb/QCcsyuWq/YgR9HZ5KTUuhMhEuYgFGSXLN8nHnzl0WePzVN\n",
       "8rv2H2nG9BgLX03Mo7apERpKHoNSKCfS5UBjixPtt8tYz7+gK3Z8RQrI+58X36frQ0SCrdcGMwFO\n",
       "Ma4I5wzuop/ZbiXp1ziHTyyZVEOiQMz5h3CwbwgP5akHChuay3HrUTLVADDbMUXYgaefIXac24cw\n",
       "3o2rSYt+RASPZPmK6gGLCg6Koq+BQhceXRbGcLRH1S6i0FXcc+eN2tY/zWB/0OLvpyGInZNtRWZC\n",
       "6oBJrqwxqU8MX+aGnK8fvx5/b2nqKX4TB0Zez61+otoO/Rxxp1kxUSxBsfuutL2TelizeW57MlHk\n",
       "qZIQ8tiNB6S+zaAlYTP0MmANSg9XiIVC4DZWY40y4+gyCO2VNGQMmNVVy3fTF44QrsGyDy2gWdfA\n",
       "np6ZWXHcV4/fBR77oXnRKNoT+huAoSMp0lghZXbTgwuzXDknfRBCgsOgfIWl8/YeGWJibzQbrO/k\n",
       "1NNdH7BQPKKBWHWrXzgAV3k1ZoIn6RkFfrDhg3bcS5G/GtFpgSqOuE4zj4VG3DWQ1DnzeLL55qkn\n",
       "UCldxkbT4Ia3Z9KuQXAOxO0xR+lykh9344jhbIrB4ZlnQ7ZOnd/n6ucCD4LC0NSYJQAeRsolAp22\n",
       "TVpfNcPmQ/mYilVA47Z3jjaah5nxNndJSoXagnh7Mss0gH+0JvtAkXBmindVt24h4u6o7Ruf0ReP\n",
       "KodgNx18a004tZZxfcFz0r8SlBj0MN0d/Ify1NJlkAfeMngnmTl7vmE/xqPWbbbOSLvaYM3ULl1g\n",
       "sBzUv6BLK8WC4oCLdW1FKn9aogc1nDSp/KIwjgjtlw3RfACuE+koAho+RcAAAArfQZtMSahBaJlM\n",
       "CCH//qpVAAAFU4b/BPwIAia85KlO3G2kP89wpW6s1dcYUsRx8bI9PaP6ozeduVh6cOZwgiqb9dPF\n",
       "JkYKX0C+rgxBp32JGa2hnZ4YVq8rFkjUr28yKPXuWHAO9SL6ixP1GB1eE0m0tsnSFoj4P5PuKnqk\n",
       "zOq0pcYNAZuKZnyBqpF7wAQF0T8OsvDvDpJF09lB1SqmADI1BzV9dpwijhwxnfFtIORpvalskD1x\n",
       "nhtc/0nI76U9V0WARyw/zdgtvMgV97GEa9OL/+hdzXIJ3XheSB5P5ZUeMwJuny+UCb6ag6YQF5PQ\n",
       "mNNEqsON8wtHOzAw1Z8z1tAU8vyQ9b4GGRSH69r4RoFKEHWyBHIjNWFrPKDgn+gkG2bmf0SoTTL4\n",
       "YE3y3as2H7dbaIzduNMwViSyYS84ICcbrxKvMgZnPb5XvcFDGt7QBdS31YxSlA8JQLUMyTtCZbQ7\n",
       "A0KbJYGCG6Rwr+4XcREl778N9grfS8kzD/ke4Gy2h1fCu/WM47sgIcJ/Bpo7EILstNG2l/b6Avdw\n",
       "rHA+oMrCP3YDH8cHJFSiuzuJe/iJdQXCKoPpH7wW3KXg8OOkA38QzDiGHmrvMM98qZi2l2G+s5Y+\n",
       "IlfYgxn9qk0MiX1DLuyPJGP3+aTS1VBIkHYBRZotvXJrPCCEufy9ZVMzP6PIpOvnqZeKAAAF3xqV\n",
       "kIFx4XlIxmT8Zz6jHHmWjcXgX+JxvoPbcTz7I27JQOjafKaYe2u1+pRxg6ClrybBd3r3ktXGxJhn\n",
       "88LnF7yZR6ZSnv3mUgLCP0qFen5qkdxUa9jv3ubxoV0jVfJ0qcggksqbGfKHhE/99b5hqeJtvjwt\n",
       "KrmofTXHQfRrIzmiSp/RquJgBsYQD9ZAnpp/H574sTxE8JhUMUEshkWzygMvk7Aun8g81KAB5eRa\n",
       "sdxSCMSenCv6n8uJbYGWTxh8m38u0yOcHdLFMVk2+QjmdppXih4X9GEsDrIR4PU6HueFBRJ06Nq9\n",
       "YICSGickM0FCMZnNFIRpSgT+VBYRRsB6iv/6JBKdFhhm7A2ffPIAnaHsAtFOr///JxcGUq5In7+U\n",
       "QlPt9cNgmRhgoZuqcWB1P8iAUVbDek0R++UdWZH68TgbiC2xDxSlWibdKN77dvi2ix5X5u545PhO\n",
       "jhVFHRWEf1622/thPEznAcQ9oc5oAHnjjEilmb4s6DyLVD8iYIbfwevFfJmtfUd2Bg1UJF5H4znk\n",
       "K7WKouKnBwW1YpsnCnpr1stAZwNewsSGmFH8eg5xUwC/p0hvyc5aql7JGXhrUzTs3Qsiq8OIiKX5\n",
       "JtoMTmjznhjl2bPIMaTDHEbkqGyGyNUx1V04mHCGUq69E9wcuzokquqn4ygIRjoNYM6Kw0joP3w4\n",
       "e2LhGVHhv8JAveOjGxgQpeMHad4jRusDnioMn53OvsiCbmTUiQT0jFgmj0gZe9pwyrfthQr7lF82\n",
       "dPCwU8ISYm/FX11HgKluezXybtPY3hzNjEHGnKP2CAY6sPRohic38FGcNlhEr3F/DXCBlW9DPwaL\n",
       "rhA8K08ciznsKYVshQHfou3D3jY+wNHFD14jHRYpR1GFE++yJkiLGzjMHR7IniT6d3MI5IWeBrup\n",
       "mQZKsn572ObdPvZ7ar8sYXOa6a4prViMFyB2joktNqRLPkCwkXweUvVX05xMNisg2C1iWvuTFkoW\n",
       "2vLJzlvZ9eLOC+jAabJlnvb3YDT1F5ccLGNEhNdjtH2Bh8zVObWhcaWCMbCwtoQ7YJyyk0ASnRuN\n",
       "ASikn9qSNpfylm5BDiyEJg8FMbZNNqtj1vWCagLtOHxzW73ieEBRYvbSZSWoHfqzBR41osQJoKcT\n",
       "+OykdS9M5OgiPjJLTOxUIxF+Chh8SK8/oiG6ysQ3/klBY53LRFkR9+TX5dV45qmnpukQUYzFW0PH\n",
       "+nTD/8vTuzvrOx5rvskIMTHycc+gmBpy9tuUClSLejsHJ2BYCqX+rkK1IzZm/jjFnMQscs0S8usI\n",
       "j2CIaZLu+Ax8pgNI9VjMlFMNMhsETrtXZKiNQgR4pzHZEbs7GLOzuvFou7j7Zfs6wXGCi596BMMw\n",
       "X1TULxiXIeSl9qp54CDPkzXmaF8fnFYcdkZScfxd+8+1ag8XMqAdQ9UJX5fqT7fyT/Vzn5k2X3lC\n",
       "lKkN2PlVIg89dYDiMb2WlwKkILkpOSwXFZstyCUyGE9VLms3dp3FJJQKor/oh9lEx2pXu6rT7nQ8\n",
       "/mFK+wX8hEhwA7Vxq/rXw1e3IuNMVRGGfAmWyLbhNsUE52wJ0BBcIvalrx0qIwlUELkeWctFxIsz\n",
       "9Sb0+iLuXbSv9uxr+mFJ3Naak5vXOFVzzxiQww4ySrioam78O/rcfLV7YgcK6jz7fEIQFs2I7m9a\n",
       "bSNXtozenI2gnKIwKmwR1B1e6qyKKDyGMH9lao5R5m2WmtwF9Xu/PRp1comKHij3VX83DymbLP+d\n",
       "3RqagiQ4KYcQgXd3fHDHaw9217SHQIYpphaclbNgdM8oicVnGUfpSxsZ1k2EzsAyZ0rE/Blclq+c\n",
       "oFTad+z1bNx4aYzKuzT+KHQc7cpOzw0KC1DaSHdoMhDw4EAqao4pDC4V580Rif4wfEhkfoKY7xZz\n",
       "MevvHKzShPeePfyaVIibkt/ui6V1102WfgLRywzq7dlmdy15gpoMDm4B33EosOdA3dPrA12iD840\n",
       "UJpzNi9hPbbpPul7z9vCARo06lEDKsxjYYAACUaibJCQsQupvCx7ARdAiO///nNZz/FyvS0XdoKZ\n",
       "oWBxme3DR5aXBmuo3Ja30CmLScytc+khjuEcKPs2abR01jSGMFUH+nClLMhIEFNhCDy+g/Hm9bjo\n",
       "XkFb4iwHeCbDbostGDab6rByIEMoMbwuPg/Ze8QYVtstazOqEGcIyBJ7RAtXoAZSNtHurp1DqRVW\n",
       "gLYHcrp+VRVzlhmpM9qyMJmYE2dBzJsORgAlXBe9PNm6MSIN7PwdZD+8zYLgfA8TcYVetZoJzDpZ\n",
       "hHWv253PgSi7w9MIxqqpO1YCs6BDkwl3e/waMMlYTGcpq5NsP0YaqSx0bPUGZ90kw6oEEiYWYT6a\n",
       "1SdjleUNbCMwdg+l0D3cngDvGQNkU3+gFizFy0KpttEIpRFBd1H8om/MMSmhsNLVgpQoELkAAJ9l\n",
       "v6HzvK1Wd5+SCt1W7hzm7VOmDPoOytOhM4sgR92WDFiUtFKndeEW7akVKqTiPKFZIUSM5wD2IWl/\n",
       "hpo1Zti4feHWyIK6hdLetBo+PT1yd9e07d8qlh7M0FS17vsYuip5LngdrI2T1V/VPpZgx3+gvdtc\n",
       "9ptEcb2MVwZM6NphXPI6wO/Y3WJtcDxp6naj2xU6h5kI8dNZrIsI2B1P0XsDVJF8ZIqM8UFzC2ZY\n",
       "JkZuOAI+1jWEMO0J2hhsFunlOelBTILDO4r4Jf45LL+cUiWxuYMlAYEMSUaCB/tWcKvok9U1NYDQ\n",
       "HxCICyMQjiCDKRHn3+btcLFLFllc3rkKTjFCYZ3agPJhbkbCVtbFa1LzJFPdc9XRZyQkMD4vAfO8\n",
       "/V3shYb/dO2HzJzYIolIdw7PRXxgDQ4kaIZ+Dg2rDLonbI3d8mqnsBUgS+smej05mTAS0uILII4b\n",
       "VHOL6UNW/NnZ54tX3F3FkxmCNxOqAdPg8cCdn1HTtySJXzfVBK0deG58D0rxypr8bq1+9LHn1DhQ\n",
       "LznawNhTrHdcosHS10YD4hdRoQMpZXFxbriirV/R7+WSb8KdUEAAAAsFQZtuSeEKUmUwURLBD/6q\n",
       "VQAD1HVi+AGODKc0YgJSGxd97nbLb0PmLkWFpVeUwfjP+v4uEJm1rYjILePZc63SOFS8Z4r0m7/1\n",
       "T26h/F9xl5/yKvSJP7AZKDQviyK5+hT4C+XXDpcIlI413H2jQ3aAWeX6dq6IQGgcogvtbpKh5tjs\n",
       "QcKgixGYNKM1SrQP/grET6ngYi7L0uV6ZQLbEXunfsWSulU8S8O7pM3e74qxsoPC4He/kqnx8ube\n",
       "BpyrufdOXz39KfblSxWckfJg2qxnc/0Qx9dgP8zfFPO7kLYvlf6R7AXex0/4bksvZwA2IZ1fov23\n",
       "rGU6DjKQxUgDasscCPYdKMDZ5v7YWXjdJwPQZApGUzeLddeSCUpcuLWJWq9/ldMuqAw+6C0l+G0q\n",
       "FJU0X+9mLNE2A3XgSjRC7uuNYBtM7qQ4tXlb/xbQ+jy2Y3HPBTUaQSdJ6mpntZO5Blj8cSLcVjQ6\n",
       "kmDGcjIa4S2BNxEU47pVCvYTT3YgveBHGfnFIs2YLZPkp5IKsB8tCEuEpmTKNoHKI5JeTRQ9B/hy\n",
       "tDxF0RUTTRBHNBi/emfxM3kaMetUgUVP1ikYlq/Db2U68ZDV0G0QXlByqtiDOugL9jWFiShUV3yZ\n",
       "rR1Issh216ELE+8L6osTeh5oD63sE/Hk+RRpDIg5VMuZdVLjgXdkcn7y8WLyDXFQkbmnsfhKsz8i\n",
       "3Lwhc3a0Q4H2EIR2xR95Y4o3uDEfeeh77SbUOXHwvYLwFf/ZF6uK8Rs4vo02APgW/fs1XbDl1H4E\n",
       "UuBLp+5pRPdlLeb1xFn9SUql555tV9GKmUqEgh2wWUk41JfdUEZLktlSa25mn6ZX3oCnPx4kjJEO\n",
       "R2tR8CQmDnJAdiFYAwQivMI6p6ffBOA4XbJJUwgpbFoUfmymc6xQWez5/vLsilOdPR1TgxDnpHAc\n",
       "3uG1iVVD+bM0vOoq7qy3QLSVzDfIXJWxGlUVvi3J5VPw5qd5pj5R5auUPgrmWHAUrA8olWjJjhOd\n",
       "HcgDbD01P+U9POA5SG0XzS2rFV1Gcxg8h85FjDssmrjvfSAlg1W7zKMqigGz5aDQgwM0wdCU2uHp\n",
       "K3oru6Rnh0OjOYYa4b+RLpUlu5yLgNf9s7iVoucpBOJ1FB0olC44ppOdtgBPHQIyaA90hMg6/G6e\n",
       "8H5rB5D0VAiA+k9Ti4qOc3oQ06aIQzm9TDEPzFY1UPz4o+Wx3xAUOf3o5EqLMjJpBVRNEsZZ+p/g\n",
       "rllawiN03kAE9MzYspOxcj93y8WzzhGPutsWmUdhIVAr3yiB6iYt90sqs58UvjkDj7+8gwhvcwDm\n",
       "uwzbOYWE52ncxiMhfuIwNOWgJU9lKyN/Jcy0UEnq/VBoByl+lKpfnwGWkOC0WhP8LYSW278cu8KB\n",
       "TviJKnWG/lJqU0hD19lDwubG6BdNkazniOn+zYzaSg4bwPWDH+YgG+Izh0ue7tI1Hgh1cRtqUH5S\n",
       "Xh0dK4mNK/UO7dFfx8Fn932UMwTyajc+fVvAcskyO1mjFQNeNs/I8rbGIYfqozyOrqFPHJJDtNq0\n",
       "8RL+LHQl0DFqFNWF7XioQETm/VU9SL4AKe+OsfwPX8GUOtNm1ZbdN2kZt0FxopmeuRZ3km9uC4j4\n",
       "bz2t5nx/8O9OJxlOhDEh9gHzIiILk9KiQJAntoh2aPlfHISfhlD1F2JusEmhV/P1Me2OoIlLwHCK\n",
       "YPCYwZkioOuIvHEVyVfUKTtRKZ8G9ueKPuD0K0HeRgf8qT9WgXEcYzfvGBzFYdmyfSGTARE2XdNs\n",
       "IQBSRQfkBWgvYiq/qUT1/JwT2/HlW/NTeShPj6kWGQiYX91Nk+5S71MugP7OJcZTtkdfevaG7HyD\n",
       "R+QpCwAh6LuOOp7FxTSth2wqLI4Z6tQA9TvH2oR76EoLgkZ358J/JINFJIS/CAfJiApe09U/0AIA\n",
       "xHdbF0mf8Ff9or4lygkKaQ2a1h851wdh8tdAqAzL5/KMZa2ESoRaIppITA0x3OBzgPsV55iRJIDR\n",
       "fd1Bt28qFYhIOmQPBf1oF9jgzWJWVkOeAhwlD0HhdBG2QiNTdvH26QlNjqCfgEsAhjZg9J0pD5Hb\n",
       "t+9Mjw/XCkfywpa+T/cXhGRqCbkS6CGOCmlPI/gLKz2AGxMBD10WP627rLTDCBVg5eLZmxOxCw68\n",
       "wCWe5OlBl+IUz9K3yxPTPWpbjUDD1lBJk8SPcHkSH3DfJrzzqgsx5CzTvCvgAAAKyJFE0YC2nBHJ\n",
       "kjgiKo4elKqpIUiek6Lpop7Lv4dphIatkAL3b9dkBD5MJDKUygn9Gswn8ssCxnuzRZw2C+xnRcjb\n",
       "4DaTPIzCuZ7Dqo8BPOHb8da9WEbxz7swNr2N39UuqTd9nbE6oABdKePCciBtOK2lHOIzzd/6cCk+\n",
       "127ub9xLo/ZitQqC5I80BfSTq7FyUP5QBQyLvi6sKxNOGinry8fIbIDA7DDh62IwcspERzfdNTVt\n",
       "NxIRrZzg9GXro4NrCVHT1Xs/mmRA6AX+AnIbYDkGX8qxytwgHdtMF4kJhYulf0itQy+Z0YGYNJe+\n",
       "NSn/91+ANwq6mrWHXUWpy4W7ZbfWR+1lu/yERCmlQaQRgrktqEAo4Ds2Ge11VBQCYSpxISf+w7+7\n",
       "KbKIlEdJAEoK3qEt4/UikpHXPE1yB11nhzze55fPdcTgxLRL6F2Qd7qWq40ThCoJJuliftldJksh\n",
       "TEddOoPwXm/+0zR0fxpzhFmby6LX9b7femggmuiLQ81AgoXIs+tP+s12PU8ZtyX/dWS3yi9hp6As\n",
       "wWoaVG/+DhtDs0+Q9uW/kUb2GwEbp55cgz5w74dvF+dmw3T8jLOEsqY89LXXmphh807/kuso9VpV\n",
       "vvAzK7CMQBRD38JaZvOqi7mekuVsX993syBbjsuK3VNbR6hBorHca2VhlZLwxvMnIQwizim65xFN\n",
       "Nv4AfweRnlU42YDY3rDTC8mDdGC/QmoT3+Fuc7WtVGRQQbw+eZLaEbIfeZcw+CjT9+euBo33Ce9m\n",
       "LnkPpwS7G9Uu1Wdjji/5tQiVFXLv1noWCRIZD1Vcx+grfjuBcYkqj2XJGLOsBfa1PTHH1hI8ex3A\n",
       "T2BXfr9zshbobbjVnQkhJH0WDErcKPSqZCm+Id+Iki4yx2h+5zh5fgRzbnCX4pdQ2rIv0KZdiRXQ\n",
       "XcGCNvp+gHsEcc25Tk40g+XZ9qyIQUBupSJWIBRg7TEV9Xc5+qZcoQFa3ViKCm2HSSYFcWeKUWno\n",
       "PMfrHPDlmpIzHS4ojLEYF3EmVLFaFo65XU5b9gqHSWsVap6t+K/JgQv0Dk3IakTiLjVAp9VduI2F\n",
       "QJeALdbG2XJ61aZQXXw9gV7XsyBFcQQVOoKCnQk7W070ZgZJ9bxdGvEb/7mjgHacORsTDTDHFDQr\n",
       "oGblzaIndeG8eka0Hm6OzPd/OpzpjrSi213zXXZW2uolccag8SHhW/ixU0Jqs4aZMaXiKNMelisW\n",
       "mdYxuj8BAi/ekY8fDOGIJnLjhJF6CP4OU1BLDhFxflk+ZgNOcquQwULf/moGw3VtonPJJlgR/hRP\n",
       "f+25+JPyxd+OYY+P6r241JvE2Pq2oVVzzZ1/kTzp6YuuyvtG5gak+5qzwDl5tO+6N1+t3AEkOHaZ\n",
       "4fAEBX4o39y5Sx2laEj3ukyUvx+NyZlMyapJ5nFcasLwNXTsNdQJYCVy6LAa17qBXn0PHd2q2Dm2\n",
       "CfWPK2cRHInsfnK5iJLtQAUBZ8F2FyaBHdBPxP3bn7P/kkLcZRUdlczRSyRPRE4Q2SAAmNB4NZnO\n",
       "u3/8u1ZPvPUKl0kDuwAACAYBn41qQ38ABPnnyOdUC4/vy/lioIp+pdIATScSWp6pCMxvkxng3CXa\n",
       "locAZdoWfZKwNzxy05P5yWqWaDUfCtfI5lFP+2umOcWm4TS3cGV6ltnYR6vsTXqZfAAHEy630vg1\n",
       "E/4y6LU59R0s5Npa51M9tVlsdivYgXbrJdeqHSMCvBWdqPjyCeM2BB4SQRTkRKwBb7LrBXbQGq9/\n",
       "SBINTt9A7q7blUwfNPMLgv2PF78QLC3gyy769vjvTHTw1sFt/wSM6trwV+SVwTc/9sR8EMtYNQqN\n",
       "HsO99L1phrcIugLDEYGmBDCeU5UTL43qqXGQIKHobvfvMqZtXBc8tUL6mmSzS88XeQPtKlj/1Wuf\n",
       "s95FSaWbDf+aXjy/bxZDMlugsaKYe48MkQ/INX6ilvhqnF40FMrDJkZ5iHamnRMVXMZGTVotgL2v\n",
       "K59EoSTUFktQjKPGAYxgXBLksT3tCMWEMzNzay7dQlH0zHMtG/rjF/ObFBDQfAkw/Uz8bE9+6Jjq\n",
       "m3k2MM/A9YyBoBdo8G4y9qNX4Shwtiaj0YAUQ/F0HkAD3Q6TOnAk+a6XLQq+4RtK8Sw7276v8fWH\n",
       "IUKTZc4BWnCc+6TsilnOWT8CxYcHnwYgfWC2IlNRO2CB29FMFMswLyFIBMJbO832L3wzAYoKBjA6\n",
       "01a75j190ZACFbGFxQkvR4OLmkfaWJs3v0NZoZK01Rfq3K+3v7xVri5LBNuJswf57DXP1Fyc5Le7\n",
       "koOkV9OdnxQV1OMxUQDZy8Mj9Db5KEPhfEszZ2EB9b/oNKhpaTsaHFS4uUZGpIPnFIalCLPJKee9\n",
       "Y9We+xIH7fRCda6oMcyrINyWSGiPjuwfhUtEJxJDbtDesNMOQNyYOACSKPjIwvjobX0oGxg6YeZX\n",
       "tAlTtJmDbjfwTU0D4nA2Of/qNSsPt2u6nH1k77o4EIQ+Oxmv6A5klecEBL5SC/XL/RmbmehWa8fd\n",
       "B9GXSYVjaUxx12RRi2MAJgBodnp0zkY5Tda5W0GsGj/syRv4tEGOseeQWEabsdDWbusZU2M6KRfZ\n",
       "7W+EmhYNi+OfJjJi3wDopep7MjKDcPRvdp2tB2m6YTyQpaIe2VMooDoeWmT72w5n5i3xJc+T3Lrx\n",
       "HtmQXpKD+x3HD6G6ARtuuIac8GwZA/TVrW9wMMT3jABayge9wxsGOq4SYHm9nbA5wC+pwJFz+qiG\n",
       "MKRliL4pM7g1bgw/6zDtVCtb2KcpwwkI56wK9EYh7kJ94Zbc1f/Gden2BvNW97L4pb+ahQLA4x98\n",
       "y9Gyn/LgFT19kaRENO7LLpu+PB1qIXxsS/6As7tQ+4STObI/EocnX+3sF8Gn+RVFw+wdDiBFePJ8\n",
       "C/8I95X36GcLvy1ailbqO+mgT8tA6mPyBDGQ8s+Xs52UMrttczHbGqfcwWn8cfPi/cc7LCsV83eP\n",
       "kqagzuDzGyMMs9C4bFRpNRySEusNxX2JegSzOAkIeCJkRJ9XCwzEjSNDlKQN79Yz4Qk1dlygPJn0\n",
       "EJsm+R1EMOhAIIQnrvlT0L7yXEEeLYa+EC8DtG3auKSrPCbXFCAh6Dbc9usJQyqnQtAy5l25UwzA\n",
       "ZM5/tVIKBqjF2OXM662gdaEmWH5lh81uxvvVESMWBfEOKvTzCOYmHI9QD4AbHzMRrEoC163FyMTU\n",
       "1BKvWKhotX6edpsiDxk6ZuLsvTcF2XMmFA8xFyCT5EpePnpHgb6dcRPoDPj+0JT3Lk8NmQDcEpRZ\n",
       "eO1MuFl113iMQV0lDLQnmTSIJ+W36CgumRGudAO5VjvpwWZSBC/fgCB4wF5cZ5IQ42bz3+SynXXw\n",
       "pVrWcEB+u2i3mSlovLkefZUn1uBO3zPzbwiUMmaVEMYzBvz7FbZCalyiMJ4bPBxuZlb5j+w6mri9\n",
       "WuJr64au3wozuvPeagYJf3Dy75YaTPL97ztHT01v/uUJbkuJ55D3Y8BlTXqxgbzE2MnqNLX4iuxO\n",
       "rf6qS4u3H1ARXHaeeLbXPFaLLz585iD1koAUDzJKoyY1QSJoqRlO0F0zi5liGrIig8hh/fFxkjYJ\n",
       "m+rsn993zaE0GkRoMcRDjk0jQ1VDKh36IxVSlFx7otUPl1s2A+tKQDmJPxASD5k6TXqml/82KVv4\n",
       "Jtm877VC1hKUgLtSIOV2mR72f4hW9IMuINQbzcQIy+yoHOB1L31eSGRUFwngGR+B8hqcwPisSjOW\n",
       "m/7QybbH0K/VsJTZuB5zRJ+HK/uOQzKMIHlcteMXta3iG1hhdeOo/GKxSgoRxt5BEiQ143LltlJ8\n",
       "q8f7s7anElw/sX6g0wQX2n/jjLaDFET0Gb03TX25QTQMCs4F6srcIg0pcRFw5Wp3P+Xvuz9+tUlu\n",
       "tq45TJrmN/F74BP5CaEx/3zEjk0GRiedZaIkel2X+k8Uw6FwR0HAaUzS6iMil6WaYjEvWDsfKa7o\n",
       "wBOQxzz6e3UyZH5dUj+yVPfVCiTBR6YfMkjoqC9ZAly5AmSgyziiBeiRCXpin7CNYwfU1DxwPatG\n",
       "HyyoG/tgHPiUdY6DPboXy4TURB8v+2LMQ+3IIyx0gPHnAslWky2lVJeN+z34iP6TFqf5w0XVQfHh\n",
       "eu1JWKnaxY/wYzqMzxt4SrGgrlukUTxukihj2tUpFz+moL0QSmEHCu5Jc/U8Fr3ZfoMUbji0HvCB\n",
       "zVO3I8qsDdraj4WIa0U5V7RgOglSFDu0vytnEq2qbTvIFoQJq46eVQUy7GjoE3BDmqyYTY4hnXc9\n",
       "O7QauxWLPAAQoAxIAOD1CADHgQAACt1Bm5FJ4Q6JlMCH//6plgAG8uYIiF25GJgR0PNlieluytEx\n",
       "sAALrRil5IJBx8teO6cbG1GvUbX0F/2FBmuHc39i31FyXqlmdFurgZRoRDyYva60JDc1sZfhWiaq\n",
       "IR9Lc2X0RLXEQNGiKFq+VrQH6mkQyhuUDhULzDfRVHkEcbbo05PZzJ6lBlZqPhCmVm5f7EAf+9u0\n",
       "jPtwXsapp1enjPxayBUsmnNk5ZobaF1VW0wh31awnzxuCLM96Q7Fud3WxhO+wzOJEcU+psXVTFqM\n",
       "6JhSCu6bGwLsiBUboev0kclQBND7RulY75ceigpdxTE0Qovezda1GaTjAOwFW4WLFze4ArrKbUC5\n",
       "IBP1ls/rFgM7/OIfSvnOy9VfPdAr9Ri4BZlDtjDmhzcYnzYv4mWdWH7mu6MRzTEOuJNZqpf90k2T\n",
       "VexHPWv3FNrKq+GaB2XIhIKHySTw8s9fYJU4j56iUcnSZjadjUFObbByhWrk9D9kXnWW/EEFrx7s\n",
       "W1cjqSZ22evMENby8vjpiqDwWA940URzkZkWzbVw/bqYAnGLjAt76Aa3GcDLXgnxLZcMwzv/lA9B\n",
       "np9zu2eKYHTKp4TbQfmbfZ4gAIkfff85JkLKphZ/tAVTKXHeoA3suxlvIPZ6moxwwLy4om1eTppK\n",
       "ZAQu4U+TD62hw/vMHZ7ukELoIZ6HHyd7WumsA8xcivDoEXHHu+1ZvNBfTau1a9whkU/4Q+QtqbXR\n",
       "QjBmu2rK6bNnxQbf3/auqKG8Uf4jZSx/63Iy+zw6ow2jpu9S7PUPJ8G12ZUeF22c0toCsv8rXSKP\n",
       "4lswOF0dKTVS2y/DIh21J0fph2G5KU0z2leYh/VP99POLhnczd/V8eYrh4r2yRKajkisnRPAzGod\n",
       "lY3PzNBKpz320LR0e5OS0ctmSWczRxP+Rbig//WdtuMD/3HoalFx8WyuGWAD5cqgjK+4qewQdBfu\n",
       "I4Lnp1ywBeZwSfHuyFn6deN4aLE8dDKuFo4VzpKgcnd8+5I5d0ufTQPM5+BmFf6DEmiLKkUM3V5p\n",
       "zTp2bQviLjlECtTBSOibVhhh43dEc98qW+bFwS1EBW0IqqnrIOjAbHPMJAbcU1AmQ7mgs8tO2LBw\n",
       "39GPli8OhI7p9F7c2bPUkh8Nk8rAHMYR+MSOM2LZtYwDz7L3O2pPQ6/Lt/pSilVDdGTiGtOw2W6S\n",
       "EJGvJ2Kx0E2W9wD62ZD43/4YbWE2jfBdEJagiU2fcjZFJjlABvHex6ClhdOxB9VriolbRzUqhyqP\n",
       "EvlbEBazPGrtABFIFt0Labr5PKspRJTU6T8ghrxRjSW8S6jtDj/bima7IhNtbmQOIACVyNCVH9W0\n",
       "BbwrfvKQHrvFJ5KwCimch/lXRQl0SPcTzSKLa0ypdVsjW4uZWW7Xajedj8kbtZJ+OGpPvwe4cJ5b\n",
       "uIzl68RkcBr1bKezVIivuIMRRchpsMU8B8X4nPh36BjcmWQ/eWK2zOcZd0NuxeclCSfX/lWh10U+\n",
       "0F8vFLcftvNTrk0Z4ZC/u4kn2tLEf8yX6P/35SIZTMSbCsS8ITP5iCiUxM+XIO74ZAnH+fQJsXQr\n",
       "SdTPdg+uJtgCCv0Yu2Rxn5nZZQfnlsf4/TWaNWC7Wi/Lj/FGxpOvoCB+VrQrGthTii2E8crHrZ+L\n",
       "SVfgnlifgXO8vfpFUZWKg3BdKT3e+PX4c+66EnV+MozB55rjW31Cda6w1rMCSxJt5gP2vgV5MuMs\n",
       "0c5wXGjStXkoyNbhQFdFZWs3FEeoYc03mz9vTURC1Tfck7uw+Wqmh5Z47bF5/wcl6/iChMXcPCec\n",
       "YkeRIGTx6xEXh2Vb2z3PXzdN87VJqauqAiM1erLZIhkpEjnGRrCm8MedPHIfg55k3OVVkeImHuk9\n",
       "n79DcuogGT1sq5RQB8V9O6atdXJngP14AgVzBhgPIREh4O79VcgQAHd1AuQvu6ZjFhd20uYc2skX\n",
       "P99gOMLgC1jZA5/5tdTUpjf7o6k87gnoM5B5oZGrE8KO1YyZLujwhEfLutOioJKgpns9dTj0Nhsd\n",
       "2ZyOs3ZgYq0snqrvbqrNeJuhYxD9h66ToOtWjO1Fklp7xLiOCPz7oGAjno+rEhqW/AdqSOpTuUrW\n",
       "tR9laO3ehqZ9yB7k7+DXS+hhB0bzsx2RVFqxdh5Fbuae9dT5Dh2BPKFd8t8mWCAwXzCcsgJQ4hgZ\n",
       "H99tEec0iNcs66isuXh0D0HPFl4nVcUgg38IW8sV12gm47QEnnfdbUzX6basygOUzzGImsA0GY1K\n",
       "wyTrwTDTS42tf7D2sw/ejILbxMXbO3oaH329KVUAABqEpL/FADdKmUrU67Q7TP1iekuUXLI2HGoI\n",
       "/JZKBFQaRGLzmSXd16EZj6b9u5zIDQuTIZfnHtVSAHMJLSRIhOXtgvpRJ4agSXpkrO7S/BIAK5w6\n",
       "ZEGiWp+NI/7wlrL5m0SPoYxQG0iT6O0TgHY+G9+yGazIs49PEx4LOsPPvBs9lVeFB1TbX8YxHhKN\n",
       "fsLH6KbjM+4Mvzb98T7llML28O8fz2W6ems4/yTV3tVhryg85UWUxS7V3F84WwZIL8T2fnx30oUw\n",
       "QSFeB9N/sOI0d5MHoaCrjoJoIyTFidUUMoSiwq3yRBa1k4AqZNvy1ReIV0ZMOKSjzi6+6NUvgYnM\n",
       "3Fr3aXAM2ZLd4IZscrl3qDs0l2imehyvJx8fgAd6nzcd6NCm7CWleZL+0ggXDK5Kkhc7V7vmVquj\n",
       "e1rL44od4SpN4Ktqkwptt+yJ8gdvgP6DNfC1rIZf8BOBvTlVAMSr7LJ8QvAiJUzCBMMUHMN7f5f4\n",
       "RFeeFrJUFZmISJQUB3Xk5wYNrOHiF6OOxnHO/oHq/m6dBH7US8eK6Vwj0OZfeIZ1DgVQWFVwH80A\n",
       "GYKdUX5rVzJTp5LP5RXK+kywyczC31ufxiWFUWDILZcD+TLJQudXf8KDyvwSIXdpGPxFuDnKqd0/\n",
       "3KeqNW5SUduJgZXRR6Jfzx8YMDq8vu6UQHE/L1nRX4JaaQgouzGzIyflJjZiWu8K7rjZmAVhWtbE\n",
       "GpjKY4xxlRX5xINXU/3vzvMAQribNzeuVHWZOFXX3CT3UcKR4z6VQ41Uea7JeOP73Lxg++/4wTCU\n",
       "xQyUC/HsYy6VmGX8S+FfO22EjffSyZueP6L9WkfQv3cm6GqPLea7VxKqa5eVTVjYFXaptg9VZnM+\n",
       "4K6LrpFDgbZJ83S+hqCODFO6PibKDq7PxK1aSvkeuD02S2KnESQ0djf+Ty6F/58KatfH22uq3/HD\n",
       "B64NT5voK9go8ZaT1yPaPOcuZ/Vt1mNus7g25VikiJ3kiZTGh+FOs08sOpwhhvETqmFw8slXFzze\n",
       "A0IAeNk7pEvqMdhTxDTQJUnBnoSnGF/bDrz4rrFlCn7qYKh841QbKbEs4mnN6ouujpWDXYn3gJg1\n",
       "hMiRIqBEn5H+8dGYyNp39nwJu3S8Or/DZsck+SfJlfoAcCvXXWH2btm6SFZUBIzLI+IEQ2YiRnfo\n",
       "J0Z5UPUAVoaWPmVVbr6NgV0c4ictFJWqJb5/VS0ij8FPSDFLZkE5o7SPJJl5LPd+OMWqP0yioU7C\n",
       "JyUrAGGngMRqqU/mf6Poxtv2TxWDTA/Gcn/fLQKt5FFHlVUokvr6GfCvRGThi1Y+n4+vC1gweYFv\n",
       "waIHKXLM6sEEF3pwdkKPIFUG/5LZ/oM7w8/MetNbyyM3SSQFV5jK+CIsR0HFs+8J+A7Jlc4BiawW\n",
       "YjUe/Ky00tMAAwMAAAfZQZ+vRRU8N/8ACz/snwjmTwAQ/Ws13ldK4NPNZbitJ6FsVC4lVam/bnbU\n",
       "xrCmAD3GfmyCENaO35k/aLAdkIhg3rFQKePrkI6gmciLDFzw12mqM8Ihv2REPBpQxHbEdnrquF8Y\n",
       "NiXrxVufrTFA8hiVDyGzhmYogEmFMwpSazFvZ+GVyIIse9fgzxAQ9+VFBgasgRDtFDBJkXmfoeww\n",
       "EK/rrrEymC+FMRVzhVcuOKHBiuxZfuYJWs6F4/VBHhwe1GeW9ju3C9Etq9XuzMpef8nyeFvKXPeX\n",
       "9dA2HWQg/GXufx+ID4dBgPNY2BXFhCyy62f3w6F5dzSkvF8YolmUvOm7yz4L4xQZH/8Ogmrs5zs5\n",
       "v+kw4N60CvMdYIaXP6oBHnyzj7AuyLwyvXTH3GNawTSi3hsoVF4DiMGNxHLy70bdatyGgTjVaDnS\n",
       "ehYvKdlGalM8mnn0Ml+fBrcQIdwG6m35qv/qBGw6J+IgsL8H2IZaU4GmdqteVQtFq6dt24OHLQnP\n",
       "2U5CCsuu4j4OB16mZI4ug2GB4ZFFj41U9pZ5Suvw6Gd3VrnrnpXQ7gf8NFC3u2xsplmmXbxV48v7\n",
       "1MQxz4WDE6MAL3TY8mU+uvhi4uMpMPrQLc1tHkezTvVbdwwRJRZRrsAQZ5SPIh6TyOvo4MZOn89l\n",
       "RglkDdj8Sx1hdeYNgEJcanffiZn/nLrjzHIcZH/KI3PnBjN5r4PjYF1pAmGihRg4HCnvv8KtmvzK\n",
       "w/5oAsEfOZgykkx/wQH1gJPGHD44z1/NiK+wI3VaepDLcCJObJ9fWwF7nWHG2GpPIA9uyFuxDSL6\n",
       "amIezcNmCbYsFX4ka26/XqCbFvLeQl6aRkrKQeACAMzy5txfJ1PdVMflP+OYP0ROtojV3OQ7MUr5\n",
       "0SUCQV6743K9Dd39YIcKYImHQ+W75Aey1e/7bG13JnO/WePy5Sl12e7uCT3DkDXzEtySdX1V4IMa\n",
       "HJKdY9xiUlNvp731bUdQSVDutl+YZJsE4Gcb/7u/eSiDRPLvg8/Y1XTy+rFVmRFH8FES+QKnM4gr\n",
       "Eu89ZhsnoWmMsfWTr9UX7kZBoQpCFECqdUCstsQzemqm3/K+sDHpDYWc0qEdwsXeAxMn+02EuKYd\n",
       "kp40QilI1lnNzqgnBzHI+pkZpWJobo6qeTee3rWTwIDr4lHk8655uFAi4xe5Xrle+21IWFyrdR2d\n",
       "wDNwGUWhzhRHlLkw812Q2h335VJdlyl9+iw6Xqq6uoiEvlcAbLuiZMttUWUaG2u4Wu5D+hYfLh4K\n",
       "n1CTwyQRIU8VMWkhOJJGSDOLdIwAI9pt5kQeH3SfQdPlIUnCkn58Jf3Czo+ajM5tv6N7N+8m8+84\n",
       "8hkUb4XoqATTwcIf4f6lgbo+wMYJ+n53tQlz/Sz1q+CZP9yDv+/2oOh2uvWO0VkEz9CTMNphD41w\n",
       "RFHfBcRfobemxbmhIrd91oRzF1VT4sWFadvlOXL6PzkID2q0JQHj9b01O6PBJWzHG6c/jrSXKUGo\n",
       "2vaW+PSZDdkktw1OkhOlNs81LBE1PEIHBw2u/qpieNKWY+RvIIPYFtb+r/HkWT8M/+aO7HGNnA7h\n",
       "MpmD3dsvoMM+0JkFN6FlqAYWdsoqbtA7NBdN4fEfmdkAtBBmxGA8b1ydnuYT+V+S9xKLF89wI97q\n",
       "jQzh38E58nCevOhxfA7xYhqEftUzitLwdZx9EXKB9wUCEBD8Qf1CTGsjMypFz2m0e/PAnFUSvey/\n",
       "5xxTy6e8wbwmi2w1S4H9poH/KG8xcweo59WRxOtkj7RUpVD4USpgLQwuQk8sGSEdqJw5E8fAx9FP\n",
       "bmtQ9I8VLL8YNo4xZ7MQaht+kVM9kkVP/OyjmSr52cXbfvt2TpXtUBwxc27b3WiffAbA1XwnxQCG\n",
       "jkG4ISZPtqdKS5XL17ALXQDmTjXMc9c2++Dsp5mCn/WVXDbcgHH1xggmWziwW+7L7aP0TAKesvfa\n",
       "cXwq2NAGV8raJC8vnDtfPi+ZnWGFMHvGJUOs1h3Ngb2ksmUo4m/WyAg2fTV0hFsEXV1ZOTqMhzRR\n",
       "RITFv2nTD+ikI5cpvBS+9rtmcTsasHOAXJfwbk0+Bmwr59UgVp619L/crmwvJ3nfy/khFfC7Spqr\n",
       "XgjjbDU6E9vmnm+82568cBaPRTtypqwg0JHoZK5IpJiAd1Hfp5WjmZ/Z8wJdsHjF4MsMnoFiffPV\n",
       "djWl0U8zlphjFBhjqltAkdWupP7ndmlDmI6zeFjLOg5+Zt13c7QMU8E7wmQStOKcnZN+hv1Z+Sjs\n",
       "zQMqFVJEm7upXJVdE5skZj1GQErBFOW4BkgN+IbuZd5Ci0mgM/4lteI2+ucGIjd6sb21KwlbNc12\n",
       "93X1Yey3NxLF2v7LKCZK0Y8pzWwjAoHwGWNw8o3lu5x9Zn1vwuQMcWTkdRxr4MswTA0BdVp4EPPz\n",
       "ArpL83lb5flyPg9ll4Jvc0N91VKhi5BH9WuSxuo1xPnSYO2KNW8JiHq+iZE/jBemOa+kSg1+CURJ\n",
       "KFiB8lgLHWF6eZSe2GVEmjJNNbV5u5AqFpPFo1CUAHNANuRaWA1bud/RwFdL4dNVdBMrJc34K4ok\n",
       "J4bEBFxe90tInhHJxLOpX0iR59zDw+BVJjP2zh1iTVeKt560noPK4syaFME5/u9T/lRWxzveZnme\n",
       "M9ShLlROy6ImDAnfhuylZaNwsuWTCXLDuHnQA2YAAAgmAZ/QakN/AAtadIa3czhSJ2dIdnJx2tAC\n",
       "ulQAcrI64mboL91PBX1BrSyaX0n1aMfXrhCdsqBUM4U3xAGetjacVrLCUgH7MDDbWkyNsSBkzI46\n",
       "ZDp2c1W4pNFWCxVKcislwGR0sl9+GugKxAZFIaGX2lNp60uEp68uDSOcBeCzm9srXrDTWrKYnFKb\n",
       "qie0GCcKMQEnM0eqwX+V8OK8VwxouI7I20xdSORhlTOG05A58YuQIO/gveTCFZ0Vhpf3bBuepBGG\n",
       "VTV1ceRjl0ak06Lt/60HrlHqKzWOGJ4SM/ld8IfdRnY1l3PDvxChdtV3gROAeLWy9IaaftNzgASp\n",
       "VEue5KMTGkHa1osNL+KqLjwg6GA/g1z3ADKtl3vYpxscN8qUW4M9qmsykyf+tUE2/XPgDap1KSeP\n",
       "pp1kZWwHrlUsHnZYbE7LKmUvkqvaFvmo4C/xvq55GZLiA3ElKBP89dOUog20PAtJ986vHinBMtWT\n",
       "DFYZW34dnVj14bLAbwDT3fCuI0ylQNzvE4z7RBOsKcRHYUePZSx1hSvK5W0PEgTLBHmJtxEmH0Hv\n",
       "3a6fQry6k24mYmrwF6rVNFPHAhi/zQgqXPHrpX2MpeZMJfhQoKRPdYeNBeghhp7e8DslnHrexSPP\n",
       "qf9imMEsCeDN2W6IAvyqg9RRlz+KU21ezltXDYHg4zFlvFIuQsL14wUVh7EdWTO3nNwBMmTlsai9\n",
       "iEF0gJ1HgXTsz1n8Y8ta6ZZCZq8YsgtiwlnSst+bRQjL8r85ENU/Z90cqZ9Nlbu9LdT5fjuCatur\n",
       "JDkwCLrI67xBTCXNu4ire/+vl2GZVgSLDziUhb7nR3VrjrFHryL6O35IEsXfLnkxcVzmPGNwX7vu\n",
       "gnA3Nibj3iu9n6eTiDS6gZJG9uYnQA1QtrLqXFh/9ZO/ouw9rVQjES6dmRhMhfUqQPObMSvnDYUC\n",
       "fG/3W85epxZCvo+KSEGBuiaU8yLCWqo//ddVBWYTtRbHP2+oHAq50wK6irRkBMblQle2FJmSQgtf\n",
       "+GWyIyEFgE4bNfak7OHzXGJLePvTL10UtHyalkxyxHRt60z9JrOKVJjItlxxKZ/A1SMW6OxobgXS\n",
       "Mmav8ZWqUGijzFQIsVB3RSnVFl1Ka3DPGts898VeQ2fJ0q4VMOAOY8CAcLg/ki7jDm+MhtxvdkoB\n",
       "vOi1t265Z5GQOl0hNyiAx9N1Szybyq+bIYJn8UPxGvbEbby9er4n2WS68VbcsnV/9LocvG440msu\n",
       "OpZIydr0cmN8QFM5QoM4QO0pA9kPTUWwAMmsdlma9JYSix5/sqzUFpibZ0wD4djn6Q2+ADhj1RoB\n",
       "HphTw6+1FVHlR8XoK2Z86HLogeIQ+5k3nZrjPsod2MfkGe4KrZazdgvmJ9e6axL3xvpjOj9/P7DL\n",
       "7iqhbPQiB+sGlaSXzXDX1/7BurzaW5m/8oAU4Pya5hZy6GR2JS0hlKGqY5LwvAGUNhPqXv0JN3Sm\n",
       "PIxqpK+TFpgHRw+1x5SJ/zta289A3mLlAAfax9y0nc1i3B29myGrbKTsCQYSwRIJCvicrTa2tqFB\n",
       "jZyc4UYlcjef62+P1Uzhna7wuORgDo3NvbyFJQBIdAo4t6Yc0HN+8R2FGEP1xzjeVjpaHpi3Yti5\n",
       "/nYh64/yU8R0E7l+Q/Zw0ErcjqP+uCZxP/YLNwB5OLSJ6J039JWN86iR55FOc7RB73t8CnmstEtH\n",
       "rxlQMrGvqXVVzEXsvPDphFk2lPXikJ23Nv70YFFKlc0QV7D9Dt9L/2LTzrrsF09CjvXsUXm81bAe\n",
       "cobcri1MkozPN4pvK63sSm4ZuqAwcHn7cywZzCY7uC/iYPJrLWsr3PBEI5GZjUAljXjkXlwi8oZD\n",
       "YONLpz15REIM2/WVe/W1zSN+d6eyMAOfvOTEhIqtPh7UV85Jc/6GaflhcHDHVIdLzCF//uvfjkvf\n",
       "nQ02f0Vj3PUPC7p2y56v0//iBODQFlvITb8CNtKd9GgSScmAeWz4OrgpJiB25q03bzKbxM+BO32e\n",
       "JtHryx1p1DkRTgvVjbumbDH0C3H6wtktDDuk4p4VcmRMXobCLfXEJCVI8NvsefY5fvNg4G2t0Ixe\n",
       "Tt8IjlUAAAoYLWeAn1ryFyyN4YshbU3q1sgnJlCxqjynn2LxacdKKMl9wjGlkoslct+rf+YgJOEl\n",
       "dcybtKGNRuqn90z/cl6YfkxKBpcc7et8ii8yuIR9iw+KJJ3d2mauC64jqAf16C2zGkuY6PEsQ54Z\n",
       "QYYd0+QN4nyFOxEVJ3GS7cHsJwtrqgJMTBCRTo3lnBJ8kwtNxPYwLTn79eBTT+M/w0KVE/mp/CaG\n",
       "Vz0g+AslutPF/6JbH2U8qhe8Gfc/6IyPItIfFfFQfv+6JkuCaYHjWxlZDSiIbubG8+6A+UJktFop\n",
       "yjuCY81o+wrZ93O1gkwJKMg3DaO1cciwyMbBtqgGp/VgjOSAw0ds5CARXUNdGclGeBI57GEPtHzH\n",
       "CCkJ9oSwQ0HW6VcPy3B9aLAqNeOyZSkw2/YUUMg5gmYYx4ooK9qWkW9ack74RfS0g8aUr3vt5ANU\n",
       "4vZ/2DWVAV1RKM31Ok16OnPiDJsHSvYaQ4RWoS6ZmfxqTSRkEjVDMX2fyKeFGVHhpDQTrKBdBIO2\n",
       "WiKxVDSm0ccFAp0FPrz0BvlIHsyma8VDNC4X8pFRgzV9iseC089VtoXm61HW6y/HvhX2WMixFTEW\n",
       "AtXQOsLziyprBLu7q0LUjWCUdg5J66xvFpHnWJuSzrRzNCqRjho9qBQkK4BN0Q4FO0Mh+3yOkTfE\n",
       "1+7R/P2f5AAImAAACqFBm9NJqEFomUwU8N/+p4QAHR+AsBButKnVqWLKOx7j6m0iFWj/+JdrTVo+\n",
       "hDMwAG4IEgqR/D50/+wAiD3mTjGl23qPjBEpFX6xHS0NpENgNa9uI6SuoJMV3x4QjP/NWy4Wxc2y\n",
       "pcnw/gPPgre6qh+6u3ayo1zb1ZZuQ1zbnTej33fYQVPIQfxivLndXRW9Bp4vJaaLz9GY5E9zQsRU\n",
       "4DnMoHO0AqV75zuIHgo47RAIqQ9N8QibqdKqAtr+szpxYVSsjgNETsDVXtVD0SCoEsHyLjIkyT5G\n",
       "OzEzBum4xUikHUgDQuj0KnrgVzh9gJQliyhqOZxWuYBhi9D5nMRazxv4AmlMYgpDMEbUp4TDrFpv\n",
       "yNfDnXrN8cviLf5RFhLmg9SxOFnbyFoaccHq8EJQcUA+pPc6Y4eMcq1BLN5A6t7R8WM6CnwM1MvK\n",
       "tC7j/hEZsD7QnarfXlsV5UsmredltOx55eolhingLJwkeJFMdEqmkb7Hj8obwv9xb1fZe5+NYPBR\n",
       "wb4dbzyMX5dzXJGAcWT2ruhCpyfoFj5xPODyemUqe1tHT5OkXmS8neVffkrO5jogWd8aYAV+CLf/\n",
       "BMw/grXKIB/HUj5kBaBt6kwh+Xye7+07N0wlHf7oWaDUNvULSMifGK/bT19SEmUOwf0ebNemQYqN\n",
       "EY06/TcAEgG6L1zJ/h6Cv3yIuGz1r0oQOVL7E9SCYG6kcdJf2BDlAe8ib778mZ5QpwtTJ24b1SAk\n",
       "ryTnhfKGfEeMq/+DcsxxJItyAnZHX2svomWLxfDPpE17bm0s7E6d4wwBmL5e3oJxvXAb5WhROttd\n",
       "Wme94CLE8kmQOe9CtP5poMz7kzbh3rgc1gQzotsrE+FXXZvAfmSZSSA1ExOvRSkR9iQR400uac1L\n",
       "EOYTZ89gGx/kL5qvgHDHFgjEO7330boGE1TxnqxsCdm2P3DDzvEFNrcmmXLp7xLHglHD3p1gGbQm\n",
       "vKO4kdUkVWPRW5y79AD9FO7hz325vwoO0CE+edYIJ2AAHsG5ds4SWCuL8OdwT0eWd5sAxjbX0is+\n",
       "hihF1wqXI9wUl+1gsycDnR8grsEu1FZ4RcOL83HwHG6Uue8dXBZ8ZmYw1BCXVALEe3Ojj7MvKaOc\n",
       "dfOzIZlwvR7uZa6IYtwbOKgfO31wS2rQimMFCi0AY9ct9+8P195aNBQuEZsWeH+I7Yu8QFZ2suM/\n",
       "TrODvKl01T2w8lkxrKRG9A4VDAsXZ0rDFAdXaDQHmIdq9yh5e/7lVCtNxwDiMIql+EKH5vRfBM8D\n",
       "d65QK+3eph0dbz19h0AaZpTPfyLpBXL/3k0p+DqF+a4TZ0WmFHVMJZcmgx8UQwHrZBAbt/TJcos2\n",
       "1pX7gUKrwR3v9Um2eWi1GgzvzT19GYp7ZbTG+Vd4l1jRsP5UHTk2xNDBKUpylvcEwlo3QzCbaVAa\n",
       "9+FXQDB41a2DzmGZ18fy5sEyycizJ0j6jHMJoIsQjNXJZE83D3F3zoTeR2hlKvn1GY2JhR/CtOxi\n",
       "r8MC54HJHjZebKiomEbjZA72OXUeVUCNCJYLN6HGxC1d7U4IXzc9GN1xeG1G1S+VO/649nf4RidS\n",
       "BdTLgpTOuphMhE7BaDYAyKk3+VIAz7hDymNPox9xwBstcbiALQYdGLpVIhuQvrg08NNso8zYqjdV\n",
       "yxbW8C+BQ8nh1vj0pJh+uKY9CA1WdtYbwZ9RIk40x9K46vPZTpiLjraCQ2JNbxpy/su8ghCAw5Tv\n",
       "LS368VErrGkZlEmhEilKnmT4DqnHQX93T/1+HCMQ5bAkDjPwUhmidbXThkPaYZz/LXIOYSJD2IWN\n",
       "2cTadxcxzzT9sHKq6xjxY9Js+ZV36Ed353KEJ388kCUCHGqoYLEb9uPG8neSQ8Oog9vr0BJf6f7y\n",
       "zJuJafSI7wQBTpb+27F8ICtZO+iD83Q7NWY9yVVdgvf7nfK+aie9WdOYfpoU2KNMK+JBQptGgbLv\n",
       "EM+rHb8u6qIUYGCHqoZGlRWm7yaytWnoSDzVeSmnG0CkeEwdn9W1QvRZMj3qscr4e3AludK8q3n6\n",
       "sWf7RQ4h7hEEoRJoghGo2O7a2PPOHU5xMRRy54/8iQ7YFV3azrOToV10Dqb0LQ2pOPVNFsxh53VN\n",
       "QhKKr+XgJVV1MqEjfc/GU1p6+fR3sdQ5ZgUFpwiQqQ1nWL9mxMEiGVJP4YvwDoC8Z98cj3fWOMlR\n",
       "c/FP+B+CkxTDq9DC32KFjRhBmbhTXzP6QPDpFk1veSNEtTtHJ2U+S4A0ZNGjMhQvTW0k7UP5oxx1\n",
       "fIx460j69eX+m3q/Hsn5dhhG7OYuNNTGusgBpNlz32HUj6ScgSvm0PLRog35Q0Ad+77ugBmKifUd\n",
       "2db7AMIOu4Q+bqxUCsYS2Qqv/9AScfE/b37vrI8viC9Z4iXHKvgl2N3EPgwuIQhDUHhkBz+l+QLK\n",
       "7V1nonk0tpweF1lmBvjN4DVTYH06s+koRnmKb4kOGsJMDi6gTaRroM1se+Co/of3dXeIVLifU/2N\n",
       "2ILplj3a+NVnR1CYCS/CWQapa5ah7/WkElRuo4ShDPV2FCUvVUqgsqMSmE6TH6ecF/4Z3idoNGDD\n",
       "vx82LHXgzxvg4xWMg8bJTbKmWfAKzAFrO3r+6+407ct3/P8AHKho1yoxCbcnf9LDcK/lZ2aI9hsX\n",
       "v/MAPaZW04Pl+dpA+TCfgZAlqC784UHhX/dNAUl2zE4k/zXzJskRgi29Dc4eN30WLXbYcUX3gmVX\n",
       "SeXEpfn7XK1U7hVryqqE1gsIU3F5KhqfaT5bBmXcCHD6jvqGU2EMCNf+7fMm1l7FQsaj1trT4290\n",
       "WqMuiI+317ZGYHlkKkgz5raxtqawnkeTunKut8Nkc4Rnwz7ZpEYzJpXKZcrRXjSpzKqf5ghivnqR\n",
       "atH8CCG42IzkRdCJZ/3tJQo9WSmUG4VC9OPUQyHqymxdp5m8JYh0Kth935B/DXStMGQse2Iktvd9\n",
       "eRjQx9kGxWe9EWEAieZ169+TuNgl4S/KpoN+ErmUC6hXElpg7qcSIkIqDOlffkC9LCQU6IOEl/5A\n",
       "7QZA3+a7CbPgf8KkkRk+9+vW7SN6pApExZSZp/D5UxPcaPRt5Z/+8oqlOF2iVAUhcuT9zqjlnwGC\n",
       "oNDeL3+gznpBx/GDTj25I22sNYQdfcgQ/SeImonFx6iOIUFOiSk6McYlOYmhTEHgRF6qIaqqpqkQ\n",
       "23k1gXgw111ARzdCzu/gbY3Uf3RKpI1OEk2ydrafYHx05R7XfGhuvCJElHF92TATrX0e19k9M3U7\n",
       "/fgRPHVw/Rq8jtyasnWUT8y4fLtGAxGpKemAl5elazRwpWe8D1BNuNp9/YMNfa726bsmdEXQ7ecu\n",
       "hVYh5PJDkZoVMmrH18eKyOicORtLvE9fWvGUGuHXN3PVtgELXfsjaCr7/b0/HPG1RW9tX8QkIh1M\n",
       "vurRpd6dqtdu162vHCIrVoFc70a2aE4X4Z9+hSf47nP+8OCnFcEQpq+S/EQwRO/5zPpF/kQ/yWNB\n",
       "H5N+fnXHHsFt5roMSVXZnzJWjnlqOZw1XcA9DvmGNyKaXWNma3NrysKxmQUx1UGapA+23uba0t91\n",
       "TRaC974luRuTescy7QUEL/+twVTt+/+eh9II4xMvTjAvJuGEYwdMrfEPTkW0PUaiNi02SCgAAwMA\n",
       "AAlWAZ/yakN/AAHQUrSGPFqlxtm5eQtIfPUAEZXA3af/002RT9+nu2hyGBNIYKkimZskWegS84PC\n",
       "vZgmK4/XmxaDMIUYZRS1MfgjD5MJWZ/8ZoX741VidSOLJPTawyU5OMbIJS5/msYOJflpU/Boa26b\n",
       "aW6ZOTtbnSDShfBWfcMczzb5pHaiPQfzK7w++Aw55nfr/Jp2wzlrfQMi9BLYcMbZt9UWzzhj994f\n",
       "HkyerJV+S0pVQrt3n+GEwmcJOlQNDiqoUCHLQUIAuXNlGCokf/XLiJUyFGvcu84mC+ZZ7BgU/0lT\n",
       "xmrEFFFQHE17qxLS28a5rb/kxS0Dz5PYhLBW1CN6kuczSpG3mzsGH5ZRgjEm7mWzkH3U4sJoflL6\n",
       "QR6zHJllwydi5e20/hVdVr3nI0spfifvKeBRQvZ1LPCYB7hikUZUu1K4w6KAFPRMeGWqnuJL8H4C\n",
       "qdGJ8+nen+Petamq1Qj5LatRFxZwoInHwe0fF0EoUUbzeeuLAtEwZQaL5dgCGtQPmlnI6l4iBeZA\n",
       "Zs09TuAI54JLWC7Nz/49plN1b5BFDeSJHNnUUDdZuvcJnRoLZUOgVUBGhQRWwFTQB0F/kwParkwv\n",
       "XvZLVwPPwwaw+jMLjfJK1/A5LQRBGWG9k+Co3g8XYnQ7sDO2fm4r5GlLYdq+8R83uxO5ZMclz/4x\n",
       "HCck/I0zmAyUY3Db06Ls9COwrC/l9hH9zpUrjyqGMan1EooYWOngAFxvP3of6/EQY4sIwRIeUzWL\n",
       "PRBrODqaXuh/+8my0IhbNFHfYrqn2qEZ1E5Y8FK9cNXYyC8chkyBWhsuqol8jZYBO9hWZjNZb9XE\n",
       "qF/lQORERLrbvzzfAEjV6uqbW4mf31hnVdKZARs0HQsZVTWpOk7CYuHvAAZ7yjudm6UsEEhUPoWR\n",
       "WWSaHf3/4yV63/LSdH1TynVBtUIbxLloZiGrPEEo6uJYHhwVpzmLpzLaFu9LWYGZISgpeUKUNljn\n",
       "428drwaOFj5XmBxQyjoWCG0zpxOAHXZTlqjZI/Na8MM/mrI4s6Klm82PPL0syySNygSngfhm4iOS\n",
       "Ag276FLh/NtDZiWvNeAGjYyJ/NDA45G41+CTkvFFajl/bhb8sWvAQ5kTzk/2POTg0qvNi2KYOE50\n",
       "3ltIQ4BQW4k9BNqu4SZTMNg5k78Juchbw+JUyl8g9jBaw5OnO8+EeyfASJDEtrDNHg/lGZUx9wm3\n",
       "5YvHNlt01SPu3cmczLWhB9js8UzthnCI8jTjSs3SzauvP8/henQKHCDssM5tax2NtAhoHCI+1Nnj\n",
       "xZLRtQ0nU2yh/+XXjPf79+MD1ZaNckJj+UvaicrQXRXbJi6+ILHDXU929gSDMwQvvp8On7gNk/wN\n",
       "Qs1hlC7u/ToCw1yXnTLIMR68chELiuuzviRnVyJz1gOBaovmgXWUoZoEp9nXnk1cSeNfBEVW5mhE\n",
       "BETXYKp1jOVzn7RQ7FdZTDqJk/IZzmt3LB5UrwFa30b2oH/3cPwq55hDV9dRxWwsLEIduAk6C51p\n",
       "hARwLJFP4t8bm1WAGxbJH9y+t9oK2s3kAu3kAzOQUo55UtKDz94Hjc5z8CLj0LXjpHgrU81Ol1B5\n",
       "1qZs1aatWZIGZ60/Za9dhYBrKk70qsrE1YvsgTEbNPM6Y9N2ls4LxmPEhbrW0XsjspgJRRPi9Sg5\n",
       "HNZ+w7ue+LsAMYneCKHK3BSNdLeW6gYa48NH2dl4oouS1DRpA27dKvHPOAIC42iKfadB3DgLJcrV\n",
       "2ZHUoJqMZTotznjEF3xh9M/xhFrwl4lv/sc+eb+tmoUYyyd8AWODL7iUZep14MNErLu2csbHqe7/\n",
       "FmNRl+2k5JyVMqFOzSIeCqCAx/tX3gHDvxxFNq+TgHLCcl9JjdcQ4B0j1SwaclCpS/3n+iix9uc9\n",
       "JZzwT7lUo654LK8bEZEoCb+FTOm3eFoyBMZhgBFsKbX3NxENnS4HcrDkW0wSyRWNqtYjDHwAw8Es\n",
       "Ojm5XGEw3i1SNL1ZMpA0J67ON0Kk+1DjWOUG8U96+8lCq6BRjtdfoMbt3tszgKEmmGg0tDnc0kKz\n",
       "+qUXKVKy7JgGeCjgERAlWZNGzT3Z9J86cIylmSxHsYZSGBAaGXZ2IBune25yW0ZgulcfSbfH53dJ\n",
       "OcnjmIE255m7f5+7kG6rVr07BD6YdejtJbucMCLm3YKHj9HJz81rW7mPJ/aH0bhsolBThKxNJjLA\n",
       "5/JkI8FWHv7O3g+92t/vamYWGc05oqukwDUhViVWHUJhW1vC/dEFRKZO/TC95/y/S9vgoCr6JsvV\n",
       "PfUtbEi9sX1PSLxmzpRwazxwGPtJf4w61yzg4JPMQwbCJ29wdIrnJQgTi2nyac8K7uDdbLXJ9lEv\n",
       "hpiyPGOvGwa5vx5M3D3d6RxRPg0TQ+ThZaTx7OKHZ2UxHMNSjGzABo5uRrOm0RRcaO/Zw2G7F8Tt\n",
       "eNZFibGnzfu5rVmLKva3WBr+2sPyz0OAQlq3OkZdWqODOHnpWfdeQwMAvqON8yWii7uciEtVgBHm\n",
       "HwZuLQaWaYZIwPbG4jbMUMReBkeFibWk/NuBtzl1hHm7bsuH62xpPUL1wSy6x6352WyIO7qwdZGs\n",
       "rowBp/9JfWhVWl8dSOYqXoGtfaGRC7yU091zoTVx0AMCM90/Ow5O2LD17dZgB47sfXyd0RAfVMve\n",
       "GhQei9d2iYPZPpYlZBuPtAzWejpwGia1dCKxCXBp3NmqCOhyerm6fpLu9VDhhZzv3o2grO7oFZYy\n",
       "MjaUcV7JFUmOYmYy++F2JIsgFhxaeMYDhJ6juRdk6UPRc5O7GHFGyOdF0yZKQaI0Wn4ZM6X+npq6\n",
       "foCTT59At7WvgTGiSrn/DQiW+8ufN95p/qRAUMtriBJ+uI2Gu2nW4wZGmDi6TUks79gzPzm46j2w\n",
       "nkitaOCeFdvaHfdy5Ogjg/nQtDHrQ8uQH7Sm2nmKBrggmUniTFlKqu0eDh0I8DdxUgEGiiafh9Kw\n",
       "fB6nQD9lZlBeDDyXZ5B0iyKehOBRc0UN7OeFXes1sed8u/m9DaB0YqykrCFq0aYkD3efz5SKMoT/\n",
       "T6Q0asULCJsHYTW9knR+FgSx3HaOpveccb7wSWSjf05iT9naEknS9stNLSczTQz6T5pKKCSCbhvy\n",
       "YAVHo05pfg9LUH3wr1dxhXGxnQ+No5f8EB7BUvHzNjP3WnBD1ivUS/KENsHRKSdMEc0JFpEwAaEA\n",
       "AAPibW9vdgAAAGxtdmhkAAAAAAAAAAAAAAAAAAAD6AAAB9AAAQAAAQAAAAAAAAAAAAAAAAEAAAAA\n",
       "AAAAAAAAAAAAAAABAAAAAAAAAAAAAAAAAABAAAAAAAAAAAAAAAAAAAAAAAAAAAAAAAAAAAAAAAAA\n",
       "AgAAAwx0cmFrAAAAXHRraGQAAAADAAAAAAAAAAAAAAABAAAAAAAAB9AAAAAAAAAAAAAAAAAAAAAA\n",
       "AAEAAAAAAAAAAAAAAAAAAAABAAAAAAAAAAAAAAAAAABAAAAAAkAAAAJAAAAAAAAkZWR0cwAAABxl\n",
       "bHN0AAAAAAAAAAEAAAfQAAAIAAABAAAAAAKEbWRpYQAAACBtZGhkAAAAAAAAAAAAAAAAAAAoAAAA\n",
       "UABVxAAAAAAALWhkbHIAAAAAAAAAAHZpZGUAAAAAAAAAAAAAAABWaWRlb0hhbmRsZXIAAAACL21p\n",
       "bmYAAAAUdm1oZAAAAAEAAAAAAAAAAAAAACRkaW5mAAAAHGRyZWYAAAAAAAAAAQAAAAx1cmwgAAAA\n",
       "AQAAAe9zdGJsAAAAt3N0c2QAAAAAAAAAAQAAAKdhdmMxAAAAAAAAAAEAAAAAAAAAAAAAAAAAAAAA\n",
       "AkACQABIAAAASAAAAAAAAAABAAAAAAAAAAAAAAAAAAAAAAAAAAAAAAAAAAAAAAAAAAAAGP//AAAA\n",
       "NWF2Y0MBZAAW/+EAGGdkABas2UCQEmhAAAADAEAAAAUDxYtlgAEABmjr48siwP34+AAAAAAcdXVp\n",
       "ZGtoQPJfJE/FujmlG88DI/MAAAAAAAAAGHN0dHMAAAAAAAAAAQAAABQAAAQAAAAAFHN0c3MAAAAA\n",
       "AAAAAQAAAAEAAABwY3R0cwAAAAAAAAAMAAAABwAACAAAAAABAAAMAAAAAAEAAAQAAAAAAQAAEAAA\n",
       "AAACAAAEAAAAAAEAAAgAAAAAAQAADAAAAAABAAAEAAAAAAEAABAAAAAAAgAABAAAAAABAAAMAAAA\n",
       "AAEAAAQAAAAAHHN0c2MAAAAAAAAAAQAAAAEAAAAUAAAAAQAAAGRzdHN6AAAAAAAAAAAAAAAUAAAZ\n",
       "PAAACgAAAApdAAAJEQAACG4AAAfsAAAImAAACzsAAAktAAALwAAACaYAAAiaAAAK4wAACwkAAAgK\n",
       "AAAK4QAAB90AAAgqAAAKpQAACVoAAAAUc3RjbwAAAAAAAAABAAAAMAAAAGJ1ZHRhAAAAWm1ldGEA\n",
       "AAAAAAAAIWhkbHIAAAAAAAAAAG1kaXJhcHBsAAAAAAAAAAAAAAAALWlsc3QAAAAlqXRvbwAAAB1k\n",
       "YXRhAAAAAQAAAABMYXZmNTguNDUuMTAw\n",
       "\">\n",
       "  Your browser does not support the video tag.\n",
       "</video>"
      ],
      "text/plain": [
       "<IPython.core.display.HTML object>"
      ]
     },
     "execution_count": 64,
     "metadata": {},
     "output_type": "execute_result"
    }
   ],
   "source": [
    "from matplotlib.path import Path\n",
    "from matplotlib.textpath import TextToPath\n",
    "from matplotlib.font_manager import FontProperties\n",
    "from matplotlib.patches import PathPatch\n",
    "import matplotlib.animation as animation\n",
    "from IPython.display import HTML\n",
    "\n",
    "# set up a figure and axes\n",
    "fig = plt.figure(figsize=(8, 8))\n",
    "ax1 = fig.add_subplot(111)\n",
    "ax1.set_xlabel(\"$x$\", fontsize=14)\n",
    "ax1.set_ylabel(\"$y$\", fontsize=14)\n",
    "ax1.set_title('Linear transformation', fontsize=14)\n",
    "ax1.set_xlim(-550, 550)\n",
    "ax1.set_ylim(-550, 550)\n",
    "\n",
    "# set-up the thing we're going to change in the animation\n",
    "fp = FontProperties(family='Arial', style='italic', weight='semibold')\n",
    "verts, codes = TextToPath().get_text_path(fp, \"ACSE 2020\")\n",
    "# turn verts into a numpy array of size Nx2\n",
    "verts = np.array(verts)\n",
    "path = Path(verts, codes, closed=True)\n",
    "patch = PathPatch(path, facecolor='r', lw=2)\n",
    "ax1.add_patch(patch)\n",
    "plt.close()\n",
    "\n",
    "## initialization function\n",
    "def init():\n",
    "    return patch,\n",
    "      \n",
    "def animate(i, verts, n_frames):\n",
    "    theta = -2.*np.pi*i/n_frames # minus sign to rotate clockwise; rotate once\n",
    "    A = np.array([[np.cos(theta),-np.sin(theta)],[np.sin(theta),np.cos(theta)]]) # rotation matrix\n",
    "    verts = (A@(verts.T)).T  # make verts 2xN, then convert result back to Nx2 \n",
    "    # update the vertics that make up our PathPatch\n",
    "    patch.get_path().vertices = verts\n",
    "    return patch,\n",
    "\n",
    "n_frames = 20\n",
    "anim = animation.FuncAnimation(fig, animate, init_func=init, frames=np.arange(0, n_frames), \n",
    "                               fargs=(verts, n_frames),\n",
    "                               interval=100, blit=True)\n",
    "\n",
    "# save the animation as gif or mp4 if needed\n",
    "#anim.save('animations/logo.gif', writer='imagemagick')\n",
    "#anim.save('animations/logo.mp4', extra_args=['-vcodec', 'libx264'])\n",
    "\n",
    "# display in notebook\n",
    "#HTML(anim.to_jshtml())\n",
    "HTML(anim.to_html5_video())"
   ]
  },
  {
   "cell_type": "markdown",
   "metadata": {},
   "source": [
    "# Summary\n",
    "\n",
    "We have covered:\n",
    "\n",
    "\n",
    "- A reminder on linear algebra - matrices, vectors and arithmetic with them.\n",
    "\n",
    "\n",
    "- How to formulate and solve linear systems.\n",
    "\n",
    "\n",
    "- When linear systems have a unique solution ... determinant ... the inverse of a matrix, Cramer's rule.\n",
    "\n",
    "\n",
    "- Vector bases, linear independence, rank of a matrix etc, and how this links to the solution of linear systems.\n",
    "\n",
    "\n",
    "- Some geometrical interpretations of linear systems/transformations; the solvability of linear systems in terms of columns/vector basis."
   ]
  },
  {
   "cell_type": "markdown",
   "metadata": {},
   "source": [
    "## Next lecture\n",
    "\n",
    "We will move the linear algebra review on to eigenvalues and eigenvectors, more geometrical interpretations, and use of linear algebra in the analysis and solution of (systems of) ordinary differential equations (ODEs).\n"
   ]
  }
 ],
 "metadata": {
  "celltoolbar": "Slideshow",
  "kernelspec": {
   "display_name": "Python 3",
   "language": "python",
   "name": "python3"
  },
  "language_info": {
   "codemirror_mode": {
    "name": "ipython",
    "version": 3
   },
   "file_extension": ".py",
   "mimetype": "text/x-python",
   "name": "python",
   "nbconvert_exporter": "python",
   "pygments_lexer": "ipython3",
   "version": "3.8.5"
  },
  "latex_envs": {
   "LaTeX_envs_menu_present": true,
   "autoclose": true,
   "autocomplete": true,
   "bibliofile": "biblio.bib",
   "cite_by": "apalike",
   "current_citInitial": 1,
   "eqLabelWithNumbers": true,
   "eqNumInitial": 1,
   "hotkeys": {
    "equation": "Ctrl-E",
    "itemize": "Ctrl-I"
   },
   "labels_anchors": false,
   "latex_user_defs": false,
   "report_style_numbering": false,
   "user_envs_cfg": true
  },
  "toc": {
   "base_numbering": 1,
   "nav_menu": {},
   "number_sections": true,
   "sideBar": true,
   "skip_h1_title": false,
   "title_cell": "Table of Contents",
   "title_sidebar": "Contents",
   "toc_cell": true,
   "toc_position": {
    "height": "calc(100% - 180px)",
    "left": "10px",
    "top": "150px",
    "width": "296.181px"
   },
   "toc_section_display": true,
   "toc_window_display": true
  }
 },
 "nbformat": 4,
 "nbformat_minor": 1
}
