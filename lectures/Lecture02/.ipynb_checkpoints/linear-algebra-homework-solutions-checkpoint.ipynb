{
 "cells": [
  {
   "cell_type": "markdown",
   "metadata": {},
   "source": [
    "# ACSE-2  <a class=\"tocSkip\">\n",
    "\n",
    "## Linear Algebra <a class=\"tocSkip\">\n",
    "    \n",
    "### Homework Exercises - Solutions <a class=\"tocSkip\">"
   ]
  },
  {
   "cell_type": "markdown",
   "metadata": {
    "toc": true
   },
   "source": [
    "<h1>Table of Contents<span class=\"tocSkip\"></span></h1>\n",
    "<div class=\"toc\"><ul class=\"toc-item\"><li><span><a href=\"#Homework\" data-toc-modified-id=\"Homework-1\"><span class=\"toc-item-num\">1&nbsp;&nbsp;</span>Homework</a></span><ul class=\"toc-item\"><li><span><a href=\"#Homework---2D-linear-systems\" data-toc-modified-id=\"Homework---2D-linear-systems-1.1\"><span class=\"toc-item-num\">1.1&nbsp;&nbsp;</span>Homework - 2D linear systems</a></span><ul class=\"toc-item\"><li><span><a href=\"#Solution---2D-linear-systems\" data-toc-modified-id=\"Solution---2D-linear-systems-1.1.1\"><span class=\"toc-item-num\">1.1.1&nbsp;&nbsp;</span>Solution - 2D linear systems</a></span></li></ul></li><li><span><a href=\"#Homework---checking-properties-of-transposes\" data-toc-modified-id=\"Homework---checking-properties-of-transposes-1.2\"><span class=\"toc-item-num\">1.2&nbsp;&nbsp;</span>Homework - checking properties of transposes</a></span><ul class=\"toc-item\"><li><span><a href=\"#Solution---checking-properties-of-transposes\" data-toc-modified-id=\"Solution---checking-properties-of-transposes-1.2.1\"><span class=\"toc-item-num\">1.2.1&nbsp;&nbsp;</span>Solution - checking properties of transposes</a></span></li></ul></li><li><span><a href=\"#Homework---prove-that-$(AB)^T-=-B^T-A^T$-[*]\" data-toc-modified-id=\"Homework---prove-that-$(AB)^T-=-B^T-A^T$-[*]-1.3\"><span class=\"toc-item-num\">1.3&nbsp;&nbsp;</span>Homework - prove that $(AB)^T = B^T A^T$ [*]</a></span><ul class=\"toc-item\"><li><span><a href=\"#Solution---prove-that-$(AB)^T-=-B^T-A^T$\" data-toc-modified-id=\"Solution---prove-that-$(AB)^T-=-B^T-A^T$-1.3.1\"><span class=\"toc-item-num\">1.3.1&nbsp;&nbsp;</span>Solution - prove that $(AB)^T = B^T A^T$</a></span></li></ul></li><li><span><a href=\"#Homework---symmetric-matrices\" data-toc-modified-id=\"Homework---symmetric-matrices-1.4\"><span class=\"toc-item-num\">1.4&nbsp;&nbsp;</span>Homework - symmetric matrices</a></span><ul class=\"toc-item\"><li><span><a href=\"#Solution---symmetric-matrices\" data-toc-modified-id=\"Solution---symmetric-matrices-1.4.1\"><span class=\"toc-item-num\">1.4.1&nbsp;&nbsp;</span>Solution - symmetric matrices</a></span></li></ul></li><li><span><a href=\"#Homework---complexity-of-matrix-vector-multiplication-[*]\" data-toc-modified-id=\"Homework---complexity-of-matrix-vector-multiplication-[*]-1.5\"><span class=\"toc-item-num\">1.5&nbsp;&nbsp;</span>Homework - complexity of matrix-vector multiplication [*]</a></span><ul class=\"toc-item\"><li><span><a href=\"#Solution---complexity-of-matrix-vector-multiplication\" data-toc-modified-id=\"Solution---complexity-of-matrix-vector-multiplication-1.5.1\"><span class=\"toc-item-num\">1.5.1&nbsp;&nbsp;</span>Solution - complexity of matrix-vector multiplication</a></span></li></ul></li><li><span><a href=\"#Homework---matrix-vector-multiplication-as-a-weighted-sum-of-columns\" data-toc-modified-id=\"Homework---matrix-vector-multiplication-as-a-weighted-sum-of-columns-1.6\"><span class=\"toc-item-num\">1.6&nbsp;&nbsp;</span>Homework - matrix-vector multiplication as a weighted sum of columns</a></span><ul class=\"toc-item\"><li><span><a href=\"#Solution---matrix-vector-multiplication-as-a-weighted-sum-of-columns\" data-toc-modified-id=\"Solution---matrix-vector-multiplication-as-a-weighted-sum-of-columns-1.6.1\"><span class=\"toc-item-num\">1.6.1&nbsp;&nbsp;</span>Solution - matrix-vector multiplication as a weighted sum of columns</a></span></li></ul></li><li><span><a href=\"#Homework---formula-for-the-inverse-of-a-$2\\times-2$-matrix-[*]\" data-toc-modified-id=\"Homework---formula-for-the-inverse-of-a-$2\\times-2$-matrix-[*]-1.7\"><span class=\"toc-item-num\">1.7&nbsp;&nbsp;</span>Homework - formula for the inverse of a $2\\times 2$ matrix [*]</a></span><ul class=\"toc-item\"><li><span><a href=\"#Solution---formula-for-the-inverse-of-a-$2\\times-2$-matrix\" data-toc-modified-id=\"Solution---formula-for-the-inverse-of-a-$2\\times-2$-matrix-1.7.1\"><span class=\"toc-item-num\">1.7.1&nbsp;&nbsp;</span>Solution - formula for the inverse of a $2\\times 2$ matrix</a></span></li></ul></li><li><span><a href=\"#Homework---tricky-matrices-[*---as-we'll-do-this-in-more-detail-in-L4]\" data-toc-modified-id=\"Homework---tricky-matrices-[*---as-we'll-do-this-in-more-detail-in-L4]-1.8\"><span class=\"toc-item-num\">1.8&nbsp;&nbsp;</span>Homework - tricky matrices [* - as we'll do this in more detail in L4]</a></span><ul class=\"toc-item\"><li><span><a href=\"#Solution---tricky-matrices\" data-toc-modified-id=\"Solution---tricky-matrices-1.8.1\"><span class=\"toc-item-num\">1.8.1&nbsp;&nbsp;</span>Solution - tricky matrices</a></span></li></ul></li><li><span><a href=\"#Homework---linear-transformations\" data-toc-modified-id=\"Homework---linear-transformations-1.9\"><span class=\"toc-item-num\">1.9&nbsp;&nbsp;</span>Homework - linear transformations</a></span><ul class=\"toc-item\"><li><span><a href=\"#Solution---linear-transformations\" data-toc-modified-id=\"Solution---linear-transformations-1.9.1\"><span class=\"toc-item-num\">1.9.1&nbsp;&nbsp;</span>Solution - linear transformations</a></span></li></ul></li><li><span><a href=\"#Homework---implementing-a-function-to-compute-the-determinant-[**]\" data-toc-modified-id=\"Homework---implementing-a-function-to-compute-the-determinant-[**]-1.10\"><span class=\"toc-item-num\">1.10&nbsp;&nbsp;</span>Homework - implementing a function to compute the determinant [**]</a></span><ul class=\"toc-item\"><li><span><a href=\"#Solution---implementing-a-function-to-compute-the-determinant\" data-toc-modified-id=\"Solution---implementing-a-function-to-compute-the-determinant-1.10.1\"><span class=\"toc-item-num\">1.10.1&nbsp;&nbsp;</span>Solution - implementing a function to compute the determinant</a></span></li></ul></li><li><span><a href=\"#Homework---another-way-to-derive-Cramer's-rule-[**]\" data-toc-modified-id=\"Homework---another-way-to-derive-Cramer's-rule-[**]-1.11\"><span class=\"toc-item-num\">1.11&nbsp;&nbsp;</span>Homework - another way to derive Cramer's rule [**]</a></span><ul class=\"toc-item\"><li><span><a href=\"#Solution---another-way-to-derive-Cramer's-rule\" data-toc-modified-id=\"Solution---another-way-to-derive-Cramer's-rule-1.11.1\"><span class=\"toc-item-num\">1.11.1&nbsp;&nbsp;</span>Solution - another way to derive Cramer's rule</a></span></li></ul></li><li><span><a href=\"#Homework---implementing-Cramer's-rule-[**]\" data-toc-modified-id=\"Homework---implementing-Cramer's-rule-[**]-1.12\"><span class=\"toc-item-num\">1.12&nbsp;&nbsp;</span>Homework - implementing Cramer's rule [**]</a></span><ul class=\"toc-item\"><li><span><a href=\"#Solution---implementing-Cramer's-rule\" data-toc-modified-id=\"Solution---implementing-Cramer's-rule-1.12.1\"><span class=\"toc-item-num\">1.12.1&nbsp;&nbsp;</span>Solution - implementing Cramer's rule</a></span></li></ul></li><li><span><a href=\"#Homework---demonstrate-volume-=-determinant-using-cross-product-[*]\" data-toc-modified-id=\"Homework---demonstrate-volume-=-determinant-using-cross-product-[*]-1.13\"><span class=\"toc-item-num\">1.13&nbsp;&nbsp;</span>Homework - demonstrate volume = determinant using cross product [*]</a></span><ul class=\"toc-item\"><li><span><a href=\"#Solution---demonstrate-volume-=-determinant-using-cross-product\" data-toc-modified-id=\"Solution---demonstrate-volume-=-determinant-using-cross-product-1.13.1\"><span class=\"toc-item-num\">1.13.1&nbsp;&nbsp;</span>Solution - demonstrate volume = determinant using cross product</a></span></li></ul></li><li><span><a href=\"#Homework---extending-our-logo-animation-[*]\" data-toc-modified-id=\"Homework---extending-our-logo-animation-[*]-1.14\"><span class=\"toc-item-num\">1.14&nbsp;&nbsp;</span>Homework - extending our logo animation [*]</a></span><ul class=\"toc-item\"><li><span><a href=\"#Homework---extending-our-logo-animation\" data-toc-modified-id=\"Homework---extending-our-logo-animation-1.14.1\"><span class=\"toc-item-num\">1.14.1&nbsp;&nbsp;</span>Homework - extending our logo animation</a></span></li></ul></li></ul></li></ul></div>"
   ]
  },
  {
   "cell_type": "code",
   "execution_count": 2,
   "metadata": {},
   "outputs": [],
   "source": [
    "%matplotlib inline\n",
    "%precision 16\n",
    "import numpy as np\n",
    "import matplotlib.pyplot as plt\n",
    "import scipy.linalg as sl\n",
    "from pprint import pprint"
   ]
  },
  {
   "cell_type": "code",
   "execution_count": 8,
   "metadata": {},
   "outputs": [
    {
     "data": {
      "text/html": [
       "<style>\n",
       "div.optional {\n",
       "    display: block;\n",
       "    background-color: #d7e2ff;\n",
       "    border-color: #d7e2ff;\n",
       "    border-left: 5px solid #d7e2ff;\n",
       "    padding: 0.5em;\n",
       "}\n",
       "div.advanced {\n",
       "    display: block;\n",
       "    background-color: #fff4d7;\n",
       "    border-color: #fff4d7;\n",
       "    border-left: 5px solid #fff4d7;\n",
       "    padding: 0.5em;\n",
       "}\n",
       "</style>\n"
      ],
      "text/plain": [
       "<IPython.core.display.HTML object>"
      ]
     },
     "metadata": {},
     "output_type": "display_data"
    }
   ],
   "source": [
    "%%html\n",
    "<style>\n",
    "div.optional {\n",
    "    display: block;\n",
    "    background-color: #d7e2ff;\n",
    "    border-color: #d7e2ff;\n",
    "    border-left: 5px solid #d7e2ff;\n",
    "    padding: 0.5em;\n",
    "}\n",
    "div.advanced {\n",
    "    display: block;\n",
    "    background-color: #fff4d7;\n",
    "    border-color: #fff4d7;\n",
    "    border-left: 5px solid #fff4d7;\n",
    "    padding: 0.5em;\n",
    "}\n",
    "</style>"
   ]
  },
  {
   "cell_type": "markdown",
   "metadata": {},
   "source": [
    "# Homework"
   ]
  },
  {
   "cell_type": "markdown",
   "metadata": {},
   "source": [
    "## Homework - 2D linear systems\n",
    "\n",
    "Recall from the lecture the system\n",
    "\n",
    "\\begin{eqnarray*}\n",
    "  2x + 3y &=& 7 \\\\[5pt]\n",
    "   x - 4y &=& 3,\n",
    "\\end{eqnarray*} \n",
    "\n",
    "and the following plot which demonstrated a unique solution."
   ]
  },
  {
   "cell_type": "code",
   "execution_count": 3,
   "metadata": {},
   "outputs": [
    {
     "data": {
      "image/png": "[encoded data removed]",
      "text/plain": [
       "<Figure size 360x360 with 1 Axes>"
      ]
     },
     "metadata": {
      "needs_background": "light"
     },
     "output_type": "display_data"
    }
   ],
   "source": [
    "# unique solution\n",
    "x = np.linspace(-1,5,100)\n",
    "y1 = -(2./3.)*x + (7./3.)\n",
    "y2 = (1./4.)*x - (3./4.)\n",
    "\n",
    "fig = plt.figure(figsize=(5, 5))\n",
    "\n",
    "ax1 = fig.add_subplot(111)\n",
    "\n",
    "ax1.set_xlabel(\"$x$\", fontsize=14)\n",
    "ax1.set_ylabel(\"$y$\", fontsize=14)\n",
    "ax1.set_title('Two lines', fontsize=14)\n",
    "ax1.grid(True)\n",
    "\n",
    "ax1.plot(x,y1,'b', label='$2x+3y=7$')\n",
    "ax1.plot(x,y2,'r', label='$x-4y=3$')\n",
    "\n",
    "ax1.legend(loc='best', fontsize=14);"
   ]
  },
  {
   "cell_type": "markdown",
   "metadata": {},
   "source": [
    "You were asked in class what other situations are possible and to construct examples and the corresponding plots - try to come up with and plot these situations."
   ]
  },
  {
   "cell_type": "markdown",
   "metadata": {},
   "source": [
    "### Solution - 2D linear systems"
   ]
  },
  {
   "cell_type": "code",
   "execution_count": 4,
   "metadata": {},
   "outputs": [
    {
     "data": {
      "image/png": "[encoded data removed]",
      "text/plain": [
       "<Figure size 360x360 with 1 Axes>"
      ]
     },
     "metadata": {
      "needs_background": "light"
     },
     "output_type": "display_data"
    }
   ],
   "source": [
    "# consider the following situation\n",
    "x = np.linspace(-1,5,100)\n",
    "y1 = -(2./3.)*x + (7./3.)\n",
    "y2 = -(4./6.)*x - (1./6.)\n",
    "\n",
    "fig = plt.figure(figsize=(5, 5))\n",
    "\n",
    "ax1 = fig.add_subplot(111)\n",
    "\n",
    "ax1.set_xlabel(\"$x$\", fontsize=14)\n",
    "ax1.set_ylabel(\"$y$\", fontsize=14)\n",
    "ax1.set_title('Two lines', fontsize=14)\n",
    "ax1.grid(True)\n",
    "\n",
    "ax1.plot(x,y1,'b', label='$2x+3y=7$')\n",
    "ax1.plot(x,y2,'r', label='$-4x-6y=1$')\n",
    "\n",
    "ax1.legend(loc='best', fontsize=14);"
   ]
  },
  {
   "cell_type": "markdown",
   "metadata": {},
   "source": [
    "The following are all true, but not all equivalent statements:\n",
    "\n",
    "1. The lines do not intersect at any point.\n",
    "\n",
    "2. No single $(x,y)$ pair of values can satisfy both equations simultaneously.\n",
    "\n",
    "3. The linear/matrix system has no solution (we are in a *no solution existence* situation).\n",
    "\n",
    "4. The corresponding matrix has zero determinant.\n",
    "\n",
    "5. The matrix has no inverse.\n",
    "\n",
    "Let's check point 4:"
   ]
  },
  {
   "cell_type": "code",
   "execution_count": 5,
   "metadata": {},
   "outputs": [
    {
     "name": "stdout",
     "output_type": "stream",
     "text": [
      "The determinant is:  6.661338147750939e-16\n",
      "This is effectively zero: True\n"
     ]
    }
   ],
   "source": [
    "A = np.array([[2,3],[-4,-6]])\n",
    "print('The determinant is: ',sl.det(A))\n",
    "print('This is effectively zero:',np.allclose(0,sl.det(A)))"
   ]
  },
  {
   "cell_type": "markdown",
   "metadata": {},
   "source": [
    "Of course there is another potential scenario (which can be demonstrated with the same $A$ matrix as the previous case which had no solutions!):"
   ]
  },
  {
   "cell_type": "code",
   "execution_count": 6,
   "metadata": {},
   "outputs": [
    {
     "data": {
      "image/png": "[encoded data removed]",
      "text/plain": [
       "<Figure size 360x360 with 1 Axes>"
      ]
     },
     "metadata": {
      "needs_background": "light"
     },
     "output_type": "display_data"
    }
   ],
   "source": [
    "x = np.linspace(-1,5,100)\n",
    "y1 = -(2./3.)*x + (7./3.)\n",
    "y2 = -(4./6.)*x + (14./6.)\n",
    "\n",
    "fig = plt.figure(figsize=(5, 5))\n",
    "\n",
    "ax1 = fig.add_subplot(111)\n",
    "\n",
    "ax1.set_xlabel(\"$x$\", fontsize=14)\n",
    "ax1.set_ylabel(\"$y$\", fontsize=14)\n",
    "ax1.set_title('Two lines', fontsize=14)\n",
    "ax1.grid(True)\n",
    "\n",
    "ax1.plot(x,y1,'b', label='$2x+3y=7$')\n",
    "ax1.plot(x,y2,'r', label='$-4x-6y=-14$')\n",
    "\n",
    "ax1.legend(loc='best', fontsize=14);"
   ]
  },
  {
   "cell_type": "markdown",
   "metadata": {},
   "source": [
    "In this case some of our previous statements will still hold (as the LHS matrix is unchanged), but some will change (as the RHS vector is different):\n",
    "\n",
    "1. The lines now intersect at infinitely many points - not at all points in 2D, but along a 1D subspace embedded within 2D.\n",
    "\n",
    "2. We therefore have a continuous family of $(x,y)$ pairs of values that satisfy both equations simultaneously.\n",
    "\n",
    "3. The linear/matrix system has infinitely many solutions (our previous *no solution existence* situation has become a *non-uniqueness* situation).\n",
    "\n",
    "4. The corresponding matrix has zero determinant.\n",
    "\n",
    "5. The matrix has no inverse.\n",
    "\n",
    "So 4 and 5 haven't changed, but the change in RHS vector has changed 1,2,3 dramatically.\n",
    "\n",
    "To summarise, other than cases with a unique solution, 2D linear systems can also have no solutions or infinitely many solutions. If we want existence **AND** uniqueness of solution of course both scenarios aren't good!"
   ]
  },
  {
   "cell_type": "markdown",
   "metadata": {},
   "source": [
    "## Homework - checking properties of transposes\n",
    "\n",
    "Check the four properties of the transpose operator from the lecture for some example matrices.\n",
    "\n",
    "Hint: \n",
    "\n",
    "```Python\n",
    "A = np.random.random((m,n))\n",
    "```\n",
    "\n",
    "is a convenient way to generate an arbitrary m by n matrix."
   ]
  },
  {
   "cell_type": "markdown",
   "metadata": {},
   "source": [
    "### Solution - checking properties of transposes"
   ]
  },
  {
   "cell_type": "markdown",
   "metadata": {},
   "source": [
    "- I made a deliberate mistake here - what was it? Can you fix this test?\n",
    "\n",
    "- Why did I make the above choices in the use of `allcose` vs `array_equal`?"
   ]
  },
  {
   "cell_type": "code",
   "execution_count": 7,
   "metadata": {},
   "outputs": [
    {
     "name": "stdout",
     "output_type": "stream",
     "text": [
      "(A+B)^T = A^T + B^T:  True\n",
      "(alpha * A)^T = alpha * A^T:  True\n",
      "(A^T)^T = A:  True\n"
     ]
    },
    {
     "ename": "ValueError",
     "evalue": "matmul: Input operand 1 has a mismatch in its core dimension 0, with gufunc signature (n?,k),(k,m?)->(n?,m?) (size 10 is different from 20)",
     "output_type": "error",
     "traceback": [
      "\u001b[1;31m---------------------------------------------------------------------------\u001b[0m",
      "\u001b[1;31mValueError\u001b[0m                                Traceback (most recent call last)",
      "\u001b[1;32m<ipython-input-7-59d4ce9acd71>\u001b[0m in \u001b[0;36m<module>\u001b[1;34m\u001b[0m\n\u001b[0;32m      7\u001b[0m \u001b[0mprint\u001b[0m\u001b[1;33m(\u001b[0m\u001b[1;34m'(alpha * A)^T = alpha * A^T: '\u001b[0m\u001b[1;33m,\u001b[0m\u001b[0mnp\u001b[0m\u001b[1;33m.\u001b[0m\u001b[0mallclose\u001b[0m\u001b[1;33m(\u001b[0m\u001b[1;33m(\u001b[0m\u001b[0malpha\u001b[0m \u001b[1;33m*\u001b[0m \u001b[0mA\u001b[0m\u001b[1;33m)\u001b[0m\u001b[1;33m.\u001b[0m\u001b[0mT\u001b[0m\u001b[1;33m,\u001b[0m \u001b[0malpha\u001b[0m \u001b[1;33m*\u001b[0m \u001b[0mA\u001b[0m\u001b[1;33m.\u001b[0m\u001b[0mT\u001b[0m\u001b[1;33m)\u001b[0m\u001b[1;33m)\u001b[0m\u001b[1;33m\u001b[0m\u001b[1;33m\u001b[0m\u001b[0m\n\u001b[0;32m      8\u001b[0m \u001b[0mprint\u001b[0m\u001b[1;33m(\u001b[0m\u001b[1;34m'(A^T)^T = A: '\u001b[0m\u001b[1;33m,\u001b[0m\u001b[0mnp\u001b[0m\u001b[1;33m.\u001b[0m\u001b[0marray_equal\u001b[0m\u001b[1;33m(\u001b[0m\u001b[1;33m(\u001b[0m\u001b[0mA\u001b[0m\u001b[1;33m.\u001b[0m\u001b[0mT\u001b[0m\u001b[1;33m)\u001b[0m\u001b[1;33m.\u001b[0m\u001b[0mT\u001b[0m\u001b[1;33m,\u001b[0m \u001b[0mA\u001b[0m\u001b[1;33m)\u001b[0m\u001b[1;33m)\u001b[0m\u001b[1;33m\u001b[0m\u001b[1;33m\u001b[0m\u001b[0m\n\u001b[1;32m----> 9\u001b[1;33m \u001b[0mprint\u001b[0m\u001b[1;33m(\u001b[0m\u001b[1;34m'(AB)^T = B^T A^T: '\u001b[0m\u001b[1;33m,\u001b[0m\u001b[0mnp\u001b[0m\u001b[1;33m.\u001b[0m\u001b[0mallclose\u001b[0m\u001b[1;33m(\u001b[0m\u001b[1;33m(\u001b[0m\u001b[0mA\u001b[0m\u001b[1;33m@\u001b[0m\u001b[0mB\u001b[0m\u001b[1;33m)\u001b[0m\u001b[1;33m.\u001b[0m\u001b[0mT\u001b[0m\u001b[1;33m,\u001b[0m \u001b[0mB\u001b[0m\u001b[1;33m.\u001b[0m\u001b[0mT\u001b[0m \u001b[1;33m@\u001b[0m \u001b[0mA\u001b[0m\u001b[1;33m.\u001b[0m\u001b[0mT\u001b[0m\u001b[1;33m)\u001b[0m\u001b[1;33m)\u001b[0m\u001b[1;33m\u001b[0m\u001b[1;33m\u001b[0m\u001b[0m\n\u001b[0m",
      "\u001b[1;31mValueError\u001b[0m: matmul: Input operand 1 has a mismatch in its core dimension 0, with gufunc signature (n?,k),(k,m?)->(n?,m?) (size 10 is different from 20)"
     ]
    }
   ],
   "source": [
    "m = 10\n",
    "n = 20\n",
    "A = np.random.random((m,n))\n",
    "B = np.random.random((m,n))\n",
    "print('(A+B)^T = A^T + B^T: ',np.allclose((A+B).T, A.T + B.T))\n",
    "alpha = np.pi\n",
    "print('(alpha * A)^T = alpha * A^T: ',np.allclose((alpha * A).T, alpha * A.T))\n",
    "print('(A^T)^T = A: ',np.array_equal((A.T).T, A))\n",
    "print('(AB)^T = B^T A^T: ',np.allclose((A@B).T, B.T @ A.T))\n"
   ]
  },
  {
   "cell_type": "markdown",
   "metadata": {},
   "source": [
    "## Homework - prove that $(AB)^T = B^T A^T$ [*]\n",
    "\n",
    "As per the section title!"
   ]
  },
  {
   "cell_type": "markdown",
   "metadata": {},
   "source": [
    "### Solution - prove that $(AB)^T = B^T A^T$\n",
    "\n",
    "Something like this:\n",
    "\n",
    "Suppose $A = [a_{ij}]_{m\\times n}$ and $B = [b_{ij}]_{n\\times p}$.\n",
    "\n",
    "Define $C=(AB)^T$ and $D= B^T A^T$.  We need to show that $c_{ij}=d_{ij}$ $\\forall i, j$.\n",
    "\n",
    "The $(i,j)$-th entry of the product $AB$ is given by \n",
    "\n",
    "$$\\sum_{k=1}^n a_{ik} b_{kj}$$\n",
    "\n",
    "$c_{ij}$, the $(i,j)$-th entry of the transpose of this product ($C=(AB)^T)$, \n",
    "is given by the above but with the $i$ and $j$ indices swapped:\n",
    "\n",
    "$$c_{ij} = \\sum_{k=1}^n a_{jk} b_{ki}$$\n",
    "\n",
    "$d_{ij}$, the $(i,j)$-th entry of $B^T A^T$, is given by the product of $B^T$ with $A^T$ - we take rows of $B^T$ and multiply them against columns of $A^T$ (that's the same as columns of $B$ against rows of $A$):\n",
    "\n",
    "$$d_{ij} =  \\sum_{k=1}^n b_{ki} a_{jk}$$\n",
    "\n",
    "Thus $c_{ij} = d_{ij}$ $\\forall i,j$, and so $C=D$, i.e. $(AB)^T = B^T A^T$."
   ]
  },
  {
   "cell_type": "markdown",
   "metadata": {},
   "source": [
    "## Homework - symmetric matrices\n",
    "\n",
    "1. Given an $n\\times n$ symmetric matrix $A$ and an arbitrary $m\\times n$ matrix B, show that the matrix $BAB^T$ is symmetric.\n",
    "\n",
    "Verify through an example using NumPy.\n",
    "\n",
    "\n",
    "\n",
    "2. If $A$ and $B$ are both symmetric square matrices, are $AB+BA$ and $AB-BA$ symmetric or skew-symmetric?"
   ]
  },
  {
   "cell_type": "markdown",
   "metadata": {},
   "source": [
    "### Solution - symmetric matrices\n",
    "\n",
    "$$(BAB^T)^T = ((BA)B^T)^T = (B^T)^T (BA)^T = B A^T B^T = B A B^T $$\n",
    "\n",
    "and so $BAB^T$ is symmetric.\n",
    "\n",
    "\n",
    "Similarly $AB+BA$ is symmetric but $AB-BA$ is skew symmetric."
   ]
  },
  {
   "cell_type": "code",
   "execution_count": 9,
   "metadata": {},
   "outputs": [
    {
     "name": "stdout",
     "output_type": "stream",
     "text": [
      "[[ 21  51  81]\n",
      " [ 51 121 191]\n",
      " [ 81 191 301]]\n",
      "Is symmetric:  True\n"
     ]
    }
   ],
   "source": [
    "# symmetric 2x2 matrix\n",
    "A = np.array( [[1, 4], [4,1] ] )\n",
    "# arbitrary 3x2 matrix\n",
    "B = np.array( [[1, 2], [3,4], [5,6] ] )\n",
    "\n",
    "print((B@A)@B.T)\n",
    "\n",
    "print('Is symmetric: ',np.array_equal((B@A)@B.T,  ((B@A)@B.T).T))"
   ]
  },
  {
   "cell_type": "markdown",
   "metadata": {},
   "source": [
    "<div class=\"optional\">\n",
    "\n",
    "## Homework - complexity of matrix-vector multiplication [*]\n",
    "\n",
    "Extend the timing check of matrix-vector multiplication we did in lecture for a small matrix to a series of increasing matrix sizes.\n",
    "\n",
    "Plot how your timings depend on problem size - I suggest you present your results using a log-log plot with $n$ on the $x$ axis and run times on the $y$ axis.\n",
    "\n",
    "</div>"
   ]
  },
  {
   "cell_type": "markdown",
   "metadata": {},
   "source": [
    "### Solution - complexity of matrix-vector multiplication"
   ]
  },
  {
   "cell_type": "code",
   "execution_count": 10,
   "metadata": {},
   "outputs": [
    {
     "name": "stdout",
     "output_type": "stream",
     "text": [
      "A @ x = mat_vec_product(A, x):   True\n",
      "17.6 µs ± 4.93 µs per loop (mean ± std. dev. of 3 runs, 10 loops each)\n",
      "15.8 µs ± 3.83 µs per loop (mean ± std. dev. of 3 runs, 10 loops each)\n",
      "11.5 ms ± 584 µs per loop (mean ± std. dev. of 3 runs, 10 loops each)\n",
      "1.4150000001222907e-05 1.275999999990063e-05 0.010778320000000008\n"
     ]
    }
   ],
   "source": [
    "# check one m,n choice\n",
    "\n",
    "def mat_vec_product(A, x):\n",
    "    \"\"\"Function to compute the matrix vector product Ax.\n",
    "\n",
    "    Parameters\n",
    "    ----------\n",
    "    A : ndarray\n",
    "        Some matrix A with shape (m,n)\n",
    "    x : array_like\n",
    "        Some vector x with shape (n,)\n",
    "\n",
    "    Returns\n",
    "    -------\n",
    "    b : ndarray\n",
    "        RHS vector b with shape (m,)\n",
    "    \"\"\"\n",
    "    m, n = np.shape(A)\n",
    "    b = np.zeros(m)\n",
    "    for i in range(m):\n",
    "        for j in range(n):\n",
    "            b[i] += A[i, j] * x[j]\n",
    "    return b\n",
    "\n",
    "m = 123\n",
    "n = 149\n",
    "A = np.random.random((m,n))\n",
    "x = np.random.random((n))\n",
    "\n",
    "print('A @ x = mat_vec_product(A, x):  ', np.allclose(A@x , mat_vec_product(A, x)))\n",
    "\n",
    "time_at = %timeit -n 10 -r 3 -o b=A@x\n",
    "time_dot = %timeit -n 10 -r 3 -o b=A.dot(x)\n",
    "time_ours = %timeit -n 10 -r 3 -o b=mat_vec_product(A, x)\n",
    "\n",
    "print(time_at.best, time_dot.best, time_ours.best)"
   ]
  },
  {
   "cell_type": "code",
   "execution_count": 11,
   "metadata": {},
   "outputs": [
    {
     "name": "stdout",
     "output_type": "stream",
     "text": [
      "1.55 µs ± 665 ns per loop (mean ± std. dev. of 3 runs, 10 loops each)\n",
      "937 ns ± 533 ns per loop (mean ± std. dev. of 3 runs, 10 loops each)\n",
      "3.76 µs ± 1.21 µs per loop (mean ± std. dev. of 3 runs, 10 loops each)\n",
      "2.29 µs ± 1.59 µs per loop (mean ± std. dev. of 3 runs, 10 loops each)\n",
      "2.07 µs ± 1.16 µs per loop (mean ± std. dev. of 3 runs, 10 loops each)\n",
      "7.62 µs ± 2.69 µs per loop (mean ± std. dev. of 3 runs, 10 loops each)\n",
      "1.77 µs ± 938 ns per loop (mean ± std. dev. of 3 runs, 10 loops each)\n",
      "1.06 µs ± 573 ns per loop (mean ± std. dev. of 3 runs, 10 loops each)\n",
      "13.7 µs ± 321 ns per loop (mean ± std. dev. of 3 runs, 10 loops each)\n",
      "1.63 µs ± 726 ns per loop (mean ± std. dev. of 3 runs, 10 loops each)\n",
      "The slowest run took 5.11 times longer than the fastest. This could mean that an intermediate result is being cached.\n",
      "1.54 µs ± 1.26 µs per loop (mean ± std. dev. of 3 runs, 10 loops each)\n",
      "46.7 µs ± 487 ns per loop (mean ± std. dev. of 3 runs, 10 loops each)\n",
      "1.78 µs ± 889 ns per loop (mean ± std. dev. of 3 runs, 10 loops each)\n",
      "The slowest run took 8.90 times longer than the fastest. This could mean that an intermediate result is being cached.\n",
      "4.65 µs ± 3.67 µs per loop (mean ± std. dev. of 3 runs, 10 loops each)\n",
      "187 µs ± 26.9 µs per loop (mean ± std. dev. of 3 runs, 10 loops each)\n",
      "The slowest run took 5.28 times longer than the fastest. This could mean that an intermediate result is being cached.\n",
      "2.94 µs ± 2.44 µs per loop (mean ± std. dev. of 3 runs, 10 loops each)\n",
      "1.47 µs ± 670 ns per loop (mean ± std. dev. of 3 runs, 10 loops each)\n",
      "702 µs ± 29.7 µs per loop (mean ± std. dev. of 3 runs, 10 loops each)\n",
      "3.26 µs ± 2.27 µs per loop (mean ± std. dev. of 3 runs, 10 loops each)\n",
      "1.84 µs ± 1.04 µs per loop (mean ± std. dev. of 3 runs, 10 loops each)\n",
      "2.59 ms ± 20.2 µs per loop (mean ± std. dev. of 3 runs, 10 loops each)\n",
      "16.2 µs ± 9.04 µs per loop (mean ± std. dev. of 3 runs, 10 loops each)\n",
      "41.7 µs ± 20.8 µs per loop (mean ± std. dev. of 3 runs, 10 loops each)\n",
      "10.6 ms ± 469 µs per loop (mean ± std. dev. of 3 runs, 10 loops each)\n",
      "The slowest run took 4.42 times longer than the fastest. This could mean that an intermediate result is being cached.\n",
      "23 µs ± 16.9 µs per loop (mean ± std. dev. of 3 runs, 10 loops each)\n",
      "21.8 µs ± 10.4 µs per loop (mean ± std. dev. of 3 runs, 10 loops each)\n",
      "40 ms ± 1.13 ms per loop (mean ± std. dev. of 3 runs, 10 loops each)\n",
      "41.5 µs ± 11 µs per loop (mean ± std. dev. of 3 runs, 10 loops each)\n",
      "32.4 µs ± 15.3 µs per loop (mean ± std. dev. of 3 runs, 10 loops each)\n",
      "The slowest run took 4.72 times longer than the fastest. This could mean that an intermediate result is being cached.\n",
      "604 µs ± 359 µs per loop (mean ± std. dev. of 3 runs, 10 loops each)\n",
      "223 µs ± 128 µs per loop (mean ± std. dev. of 3 runs, 10 loops each)\n",
      "1.71 ms ± 314 µs per loop (mean ± std. dev. of 3 runs, 10 loops each)\n",
      "1.74 ms ± 230 µs per loop (mean ± std. dev. of 3 runs, 10 loops each)\n",
      "7.81 ms ± 1.04 ms per loop (mean ± std. dev. of 3 runs, 10 loops each)\n",
      "7.58 ms ± 545 µs per loop (mean ± std. dev. of 3 runs, 10 loops each)\n",
      "28.5 ms ± 899 µs per loop (mean ± std. dev. of 3 runs, 10 loops each)\n",
      "28 ms ± 699 µs per loop (mean ± std. dev. of 3 runs, 10 loops each)\n",
      "105 ms ± 1.28 ms per loop (mean ± std. dev. of 3 runs, 10 loops each)\n",
      "107 ms ± 4.84 ms per loop (mean ± std. dev. of 3 runs, 10 loops each)\n"
     ]
    },
    {
     "data": {
      "image/png": "[encoded data removed]",
      "text/plain": [
       "<Figure size 504x504 with 1 Axes>"
      ]
     },
     "metadata": {
      "needs_background": "light"
     },
     "output_type": "display_data"
    }
   ],
   "source": [
    "# see how timings depend on problem size - estimate complexity\n",
    "# assume square matrices\n",
    "\n",
    "# problem sizes to test - we'll assume m=n\n",
    "ns = np.array([2**p for p in range(15)])\n",
    "\n",
    "# an upper limit on problem sizes to apply our code to!\n",
    "ns_max_ours = 300\n",
    "\n",
    "# arrays to store the timings\n",
    "times_at = np.zeros(len(ns))\n",
    "times_dot = np.zeros(len(ns))\n",
    "times_ours = np.zeros(len(ns))\n",
    "\n",
    "# loop over tests\n",
    "for it, n in enumerate(ns):\n",
    "    A = np.random.random((n,n))\n",
    "    x = np.random.random((n))\n",
    "\n",
    "    tt = %timeit -n 10 -r 3 -o b=A@x\n",
    "    times_at[it] = tt.best\n",
    "    tt = %timeit -n 10 -r 3 -o b=A.dot(x)\n",
    "    times_dot[it] = tt.best\n",
    "    if n < ns_max_ours:\n",
    "        tt = %timeit -n 10 -r 3 -o b=mat_vec_product(A, x)\n",
    "        times_ours[it] = tt.best\n",
    "\n",
    "# set up figure\n",
    "fig = plt.figure(figsize=(7, 7))\n",
    "ax1 = fig.add_subplot(111)\n",
    "\n",
    "ax1.loglog(ns, times_at, 'ko-', label='@')\n",
    "ax1.loglog(ns, times_dot, 'bo-', label='.dot')\n",
    "ax1.loglog(ns[np.where(ns<ns_max_ours)[0]], times_ours[np.where(ns<ns_max_ours)[0]], 'ro-', label=\"Our function\")\n",
    "\n",
    "ax1.set_xlabel('$n$', fontsize=16)\n",
    "ax1.set_ylabel('%Timeit best time [seconds]', fontsize=16)\n",
    "ax1.set_title('Matix vector product cost', fontsize=16)\n",
    "ax1.legend(loc='best', fontsize=14)\n",
    "ax1.grid(True)"
   ]
  },
  {
   "cell_type": "markdown",
   "metadata": {},
   "source": [
    "## Homework - matrix-vector multiplication as a weighted sum of columns\n",
    "\n",
    "In the lecture we pointed out \"another useful interpretation\" of matrix vector multiplication.\n",
    "\n",
    "Code up this approach and perform the same testing that we did in the lecture for `def mat_vec_product(A, x)`."
   ]
  },
  {
   "cell_type": "markdown",
   "metadata": {},
   "source": [
    "### Solution - matrix-vector multiplication as a weighted sum of columns"
   ]
  },
  {
   "cell_type": "code",
   "execution_count": 12,
   "metadata": {},
   "outputs": [
    {
     "name": "stdout",
     "output_type": "stream",
     "text": [
      "[ 5. -3.]\n",
      "mat_vec_product2(A, x) == A@x:   True\n",
      "[ 5. -3.  2.]\n",
      "mat_vec_product2(A, x) == A@x:   True\n"
     ]
    }
   ],
   "source": [
    "def mat_vec_product2(A, x):\n",
    "    \"\"\"Function to compute the matrix vector product Ax - a different approach.\n",
    "\n",
    "    Parameters\n",
    "    ----------\n",
    "    A : ndarray\n",
    "        Some matrix A with shape (m,n)\n",
    "    x : array_like\n",
    "        Some vector x with shape (n,)\n",
    "\n",
    "    Returns\n",
    "    -------\n",
    "    b : ndarray\n",
    "        RHS vector b with shape (m,)\n",
    "    \"\"\"\n",
    "    m, n = np.shape(A)\n",
    "    assert x.ndim == 1 # restrict to the case where x is 1D\n",
    "    assert n == len(x) # as 1D we can check the length of x is consistent with A\n",
    "    b = np.zeros(m) # and then initialise the appropriate length array for b\n",
    "    for j in range(n):\n",
    "            b[:] += x[j] * A[:, j]\n",
    "    return b\n",
    "\n",
    "A = np.array([[2, 3], [1, -4]])\n",
    "x = np.array([1, 1])\n",
    "\n",
    "print(mat_vec_product2(A,x))\n",
    "print('mat_vec_product2(A, x) == A@x:  ', np.allclose(mat_vec_product2(A, x), A@x))\n",
    "\n",
    "# Check a non-square matrix\n",
    "A = np.array([[2, 3], [1, -4], [1,1]])\n",
    "# based on the above weighted sum of columns, what should Ax be for the following x?\n",
    "x = np.array([1, 1])\n",
    "\n",
    "print(mat_vec_product2(A,x))\n",
    "print('mat_vec_product2(A, x) == A@x:  ', np.allclose(mat_vec_product2(A, x), A@x))"
   ]
  },
  {
   "cell_type": "markdown",
   "metadata": {},
   "source": [
    "<div class=\"optional\">\n",
    "\n",
    "## Homework - formula for the inverse of a $2\\times 2$ matrix [\\*]\n",
    "\n",
    "Starting from the augmented matrix\n",
    "\n",
    "$$\n",
    "[A \\, | \\, I] = \n",
    "\\left[\n",
    "  \\begin{array}{rr|rr}\n",
    "    a & b & 1 & 0 \\\\\n",
    "    c & d & 0 & 1  \n",
    "  \\end{array}\n",
    "\\right]\n",
    "$$\n",
    "\n",
    "use row operations to derive the general formula for the inverse matrix.\n",
    "    \n",
    "</div>"
   ]
  },
  {
   "cell_type": "markdown",
   "metadata": {},
   "source": [
    "### Solution - formula for the inverse of a $2\\times 2$ matrix\n",
    "\n",
    "\\begin{align*}\n",
    "[A \\, | \\, I] = \n",
    "\\left[\n",
    "  \\begin{array}{cc|cc}\n",
    "    a & b & 1 & 0 \\\\\n",
    "    c & d & 0 & 1  \n",
    "  \\end{array}\n",
    "\\right]\n",
    "\\xrightarrow{(1)\\leftarrow c(1);\\, (2)\\leftarrow a(2)}\n",
    "\\left[\n",
    "  \\begin{array}{cc|cc}\n",
    "    ca & cb & c & 0 \\\\\n",
    "    ac & ad & 0 & a  \n",
    "  \\end{array}\n",
    "\\right]\n",
    "\\xrightarrow{(2)\\leftarrow (2)-(1)}\n",
    "\\left[\n",
    "  \\begin{array}{cc|cc}\n",
    "    ca & cb      & c  & 0 \\\\\n",
    "    0  & ad - bc & -c & a  \n",
    "  \\end{array}\n",
    "\\right]\n",
    "\\xrightarrow{(2)\\leftarrow (2)/(ad-bc)}\n",
    "\\left[\n",
    "  \\begin{array}{cc|cc}\n",
    "    ca & cb & c  & 0 \\\\\n",
    "    0  & 1  & -c(ad-bc)  & a/(ad-bc)  \n",
    "  \\end{array}\n",
    "\\right]\n",
    "\\xrightarrow{(1)\\leftarrow (1)-cb(2)}\n",
    "\\left[\n",
    "  \\begin{array}{cc|cc}\n",
    "    ca & 0 & c + c^2b/(ad-bc)  & -acb/(ad-bc) \\\\\n",
    "    0  & 1 & -c/(ad-bc) & a/(ad-bc)  \n",
    "  \\end{array}\n",
    "\\right]\n",
    "\\xrightarrow{(1)\\leftarrow (1)/ca}\n",
    "\\left[\n",
    "  \\begin{array}{cc|cc}\n",
    "    1 & 0 & 1/a + cb/(a(ad-bc))  & -b(ad-bc) \\\\\n",
    "    0  & 1 & -c/(ad-bc) & a/(ad-bc)  \n",
    "  \\end{array}\n",
    "\\right]\n",
    "\\end{align*}\n",
    "\n",
    "and finally note that \n",
    "\n",
    "$$ \\frac{1}{a} + \\frac{cb}{a(ad-bc)} = \\frac{ad-bc + cb}{a(ad-bc)} = \\frac{ad}{a(ad-bc)} = \\frac{d}{ad-bc}$$\n",
    "\n",
    "and so we are left with\n",
    "\n",
    "$$A^{-1} =\n",
    "\\begin{pmatrix}\n",
    "1/a + cb/(a(ad-bc))  & -b(ad-bc) \\\\\n",
    "-c/(ad-bc) & a/(ad-bc)  \n",
    "\\end{pmatrix} = \n",
    "\\begin{pmatrix}\n",
    "d/(ad-bc)  & -b(ad-bc) \\\\\n",
    "-c/(ad-bc) & a/(ad-bc)  \n",
    "\\end{pmatrix}\n",
    "= \n",
    "\\frac{1}{ad-bc}\n",
    "\\begin{pmatrix}\n",
    "d  & -b \\\\\n",
    "-c & a \n",
    "\\end{pmatrix}\n",
    "$$\n",
    "\n",
    "as required.\n",
    "\n",
    "Note of course that an early step in the derivation above involved dividing through by $ad-bc$, and therefore required that this quantity be non-zero. Of course we recognise this as the determinant of the matrix!"
   ]
  },
  {
   "cell_type": "markdown",
   "metadata": {},
   "source": [
    "<div class=\"optional\">\n",
    "\n",
    "## Homework - tricky matrices [* - as we'll do this in more detail in L4]\n",
    "\n",
    "Consider the problem\n",
    "\n",
    "$$\n",
    "\\begin{pmatrix}\n",
    "    6.073 & 2.693 \\\\\n",
    "    4.772 & 2.116 \n",
    "\\end{pmatrix}  \n",
    "\\begin{pmatrix}\n",
    "    x \\\\\n",
    "    y \n",
    "\\end{pmatrix}  =\n",
    "\\begin{pmatrix}\n",
    "    3.921 \\\\\n",
    "    3.082 \n",
    "\\end{pmatrix}.\n",
    "$$\n",
    "\n",
    "1. Solve this problem using the `sl.solve` function, as well as by computing the inverse and multiplying through.\n",
    "\n",
    "\n",
    "2. Use `np.allclose` to demonstrate how many decimal places the two answers agree to.\n",
    "\n",
    "\n",
    "Stick with one of these solution methods for the remainder of these questions.\n",
    "\n",
    "\n",
    "3. Perturb $a_{11}$ by $-10^{-3}$ - how much does the result of the linear system change?\n",
    "\n",
    "\n",
    "4. Perturb both entries of $\\boldsymbol{b}$ by $10^{-3}$ - how much does the result of the linear system change?\n",
    "\n",
    "\n",
    "5. Round all entries of the original system to two decimal places - how much does the result of the linear system change?\n",
    "\n",
    "\n",
    "6. For each of the tests above calculate a relative error compared to the original solution (remember a relative error of 1 corresponds to an error of 100% the original). You can use `sl.norm` to compute the magnitude of a vector.\n",
    "\n",
    "</div>"
   ]
  },
  {
   "cell_type": "markdown",
   "metadata": {},
   "source": [
    "### Solution - tricky matrices"
   ]
  },
  {
   "cell_type": "code",
   "execution_count": 13,
   "metadata": {},
   "outputs": [
    {
     "name": "stdout",
     "output_type": "stream",
     "text": [
      "sl.det(A1):  -0.0005279999999987843\n",
      "\n",
      "sl.solve(A1,b1):  [  5.662878787878422 -11.314393939393115]\n",
      "\n",
      "sl.inv(A1)@b1:  [  5.662878787877545 -11.314393939392431]\n",
      "\n",
      "sl.solve(A1,b1) - sl.inv(A1)@b1:  [ 8.775202786637237e-13 -6.838973831690964e-13]\n",
      "\n",
      "sl.solve(A1,b1) == sl.inv(A1)@b1: True\n",
      "\n",
      "sl.solve(A1,b1) == sl.inv(A1)@b1: False\n",
      "\n",
      "So they agree to 12 decimal places\n",
      "\n",
      "sl.det(A2):  4.900000000053958e-05\n",
      "\n",
      "sl.solve(A2,b2):  [-61.020408162783674 139.04081632544467 ]\n",
      "\n",
      "Rel error:  12.999808664501728\n",
      "\n",
      "sl.inv(A3)@b3 : [  6.755681818181686 -13.778409090905381]\n",
      "\n",
      "Rel error:  0.21304034266384322\n",
      "\n",
      "sl.inv(A4)@b4:  [ 0.6792452830188119 -0.075471698113067 ]\n",
      "\n",
      "Rel error:  0.9716961364170202\n"
     ]
    }
   ],
   "source": [
    "A1 = np.array([[6.073, 2.693],[4.772,2.116]])\n",
    "b1 = np.array([3.921,3.082])\n",
    "\n",
    "# 1.\n",
    "print('sl.det(A1): ', sl.det(A1))\n",
    "print('\\nsl.solve(A1,b1): ', sl.solve(A1,b1)) #solution using sl.solve\n",
    "print('\\nsl.inv(A1)@b1: ', sl.inv(A1)@b1) #solution by computing the inverse and multiplying through\n",
    "print('\\nsl.solve(A1,b1) - sl.inv(A1)@b1: ', sl.solve(A1,b1) - sl.inv(A1)@b1) #check difference\n",
    "\n",
    "# 2.\n",
    "print('\\nsl.solve(A1,b1) == sl.inv(A1)@b1:', np.allclose(sl.solve(A1,b1), sl.inv(A1)@b1, rtol=0.0, atol=1e-12))\n",
    "print('\\nsl.solve(A1,b1) == sl.inv(A1)@b1:', np.allclose(sl.solve(A1,b1), sl.inv(A1)@b1, rtol=0.0, atol=1e-13))\n",
    "\n",
    "print('\\nSo they agree to 12 decimal places')\n",
    "\n",
    "# 3.\n",
    "A2 = A1 - np.diag(np.array([[1.0e-3,0],[0,0]]))\n",
    "print('\\nsl.det(A2): ', sl.det(A2))\n",
    "b2 = b1\n",
    "print('\\nsl.solve(A2,b2): ', sl.solve(A2,b2))\n",
    "x1 = sl.inv(A1)@b1\n",
    "x2 = sl.inv(A2)@b2\n",
    "print('\\nRel error: ',sl.norm(x1 - x2)/sl.norm(x1)) #6.\n",
    "\n",
    "# 4.\n",
    "A3 = A1\n",
    "b3 = b1 + 1.0e-3*np.array([1,1])\n",
    "print('\\nsl.inv(A3)@b3 :', sl.inv(A3)@b3)\n",
    "x3 = sl.inv(A3)@b3\n",
    "print('\\nRel error: ', sl.norm(x1 - x3)/sl.norm(x1)) #6.\n",
    "\n",
    "# 5.\n",
    "A4 = np.round(A1,2)\n",
    "b4 = np.round(b1,2)\n",
    "print('\\nsl.inv(A4)@b4: ',sl.inv(A4)@b4)\n",
    "x4 = sl.inv(A4)@b4\n",
    "print('\\nRel error: ', sl.norm(x1 - x4)/sl.norm(x1)) #6."
   ]
  },
  {
   "cell_type": "markdown",
   "metadata": {},
   "source": [
    "Note that I printed out the determinants of these matrices and they were small - we'll return to this in lecture 4 and in ACSE-3.\n",
    "\n",
    "NB. Saying that something is small is completely meaningless unless you say small compared/relative to something!!!"
   ]
  },
  {
   "cell_type": "markdown",
   "metadata": {},
   "source": [
    "## Homework - linear transformations\n",
    "\n",
    "Recall from lectures we said that \n",
    "the action of multiplying by a matrix is what is called a [linear operator](https://en.wikipedia.org/wiki/Linear_map). This means that matrix multiplication satisfies the properties (for a matrix $A$, vectors $\\boldsymbol{x}$ and $\\boldsymbol{y}$, and scalar $\\alpha$)\n",
    "\n",
    "\n",
    "1. $A (x + y) = Ax + Ay$\n",
    "\n",
    "\n",
    "2. $A (\\alpha x) = \\alpha A x$\n",
    "\n",
    "\n",
    "Convince yourselves of these facts for a $2\\times 2$ example geometrically - i.e. plot these things as vectors in 2D space."
   ]
  },
  {
   "cell_type": "markdown",
   "metadata": {},
   "source": [
    "### Solution - linear transformations\n",
    "\n",
    "Let's just choose a random matrix and two random points and plot them"
   ]
  },
  {
   "cell_type": "code",
   "execution_count": 14,
   "metadata": {
    "scrolled": false
   },
   "outputs": [
    {
     "name": "stdout",
     "output_type": "stream",
     "text": [
      "$A(p+q)=Ap+Aq$:  True\n"
     ]
    },
    {
     "data": {
      "image/png": "[encoded data removed]",
      "text/plain": [
       "<Figure size 432x432 with 1 Axes>"
      ]
     },
     "metadata": {
      "needs_background": "light"
     },
     "output_type": "display_data"
    }
   ],
   "source": [
    "fig = plt.figure(figsize=(6, 6))\n",
    "\n",
    "ax1 = fig.add_subplot(111)\n",
    "\n",
    "ax1.set_xlabel(\"$x, x'$\", fontsize=14)\n",
    "ax1.set_ylabel(\"$y, y'$\", fontsize=14)\n",
    "ax1.set_title('Transforming points', fontsize=14)\n",
    "#ax1.grid(True)\n",
    "\n",
    "# unit vectors\n",
    "i = np.array([1,0])\n",
    "j = np.array([0,1])\n",
    "\n",
    "# plot the vectors\n",
    "ax1.quiver(i[0], i[1], angles='xy', scale_units='xy', scale=1, color='k', zorder=10)\n",
    "ax1.quiver(j[0], j[1], angles='xy', scale_units='xy', scale=1, color='k', zorder=10)\n",
    "# add some text\n",
    "ax1.text(i[0]+0.1, i[1], '$i$', fontsize=12)\n",
    "ax1.text(j[0], j[1]+0.1, '$j$', fontsize=12)\n",
    "\n",
    "# a point p\n",
    "p = np.array([1.9, 2.3])\n",
    "# anohter point q\n",
    "q = np.array([0.2, 1.1])\n",
    "\n",
    "# plot them\n",
    "ax1.plot(p[0],p[1],'bo', label='$p$')\n",
    "ax1.plot(q[0],q[1],'go', label='$q$')\n",
    "spq = p+q\n",
    "# and the sum\n",
    "ax1.plot(spq[0],spq[1],'ro', label='$p+q$')\n",
    "\n",
    "# add some text\n",
    "ax1.text(p[0],p[1]+0.1, '$p$', fontsize=12)\n",
    "ax1.text(q[0],q[1]+0.1, '$q$', fontsize=12)\n",
    "ax1.text(spq[0],spq[1]+0.1, '$p+q$', fontsize=12)\n",
    "                    \n",
    "# consider a random matrix\n",
    "A = np.array([[0.4,1.2],[-0.1,0.4]])\n",
    "\n",
    "# tranform the points\n",
    "p_ = A@p\n",
    "q_ = A@q\n",
    "spq_ = A@spq\n",
    "\n",
    "# plot the transformed points\n",
    "ax1.plot(p_[0],p_[1],'b*', label=\"$Ap$\")\n",
    "ax1.plot(q_[0],q_[1],'g*', label=\"$Aq$\")\n",
    "ax1.plot(spq_[0],spq_[1],'r*', label=\"$A(p+q) = Ap+Aq$\")\n",
    "\n",
    "# add some text\n",
    "ax1.text(p_[0],p_[1]+0.1, '$Ap$', fontsize=12)\n",
    "ax1.text(q_[0],q_[1]+0.1, '$Aq$', fontsize=12)\n",
    "ax1.text(spq_[0],spq_[1]+0.1, '$A(p+q)$', fontsize=12)\n",
    "\n",
    "# make the axis lengths equal - so i and j are same size\n",
    "ax1.axis('equal')\n",
    "\n",
    "ax1.legend(fontsize=14, bbox_to_anchor=(1.02,1), loc=\"upper left\")\n",
    "\n",
    "# confirm linearity of transformation\n",
    "print('$A(p+q)=Ap+Aq$: ',np.allclose( p_ + q_, spq_) )"
   ]
  },
  {
   "cell_type": "markdown",
   "metadata": {},
   "source": [
    "<div class=\"advanced\">\n",
    "\n",
    "## Homework - implementing a function to compute the determinant [**]\n",
    "    \n",
    "[This and the next exercise are pretty touch - you may want to return to these after we've covered some similar algorithms and more complex code in ACSE-3].\n",
    "\n",
    "Write a recursive function to calculate the determinant by expanding out the first row of a matrix, using the formulae here for example: <https://en.wikipedia.org/wiki/Determinant>\n",
    "\n",
    "Hint: you may find  `np.r_` or `np.concatenate` useful to construct the indices required to form a *minor* (defined in lecture - cofactor without the sign) of the matrix - a key line of **my** solution for example reads\n",
    "               \n",
    "```python\n",
    "def determinant(A):\n",
    ".\n",
    ".\n",
    ".\n",
    "    det += (-1.)**col * A[0, col] * determinant( A[1:, np.r_[0:col,col+1:n]] )\n",
    ".\n",
    ".\n",
    ".\n",
    "```\n",
    "\n",
    "<https://docs.scipy.org/doc/numpy/reference/generated/numpy.r_.html>\n",
    "\n",
    "</div>"
   ]
  },
  {
   "cell_type": "markdown",
   "metadata": {},
   "source": [
    "### Solution - implementing a function to compute the determinant"
   ]
  },
  {
   "cell_type": "code",
   "execution_count": 15,
   "metadata": {},
   "outputs": [
    {
     "name": "stdout",
     "output_type": "stream",
     "text": [
      "133.0\n",
      "True\n"
     ]
    }
   ],
   "source": [
    "def determinant(A):\n",
    "    \"\"\" Returns the determinant of A\n",
    "    \"\"\"\n",
    "    n = A.shape[0]\n",
    "    # check matrix is square\n",
    "    assert(n == A.shape[1])\n",
    "    if n == 1: \n",
    "        return A[0,0]\n",
    "    elif n==2: \n",
    "        return A[0,0] * A[1,1] - A[0,1] * A[1,0]\n",
    "    else:\n",
    "        det = 0.0\n",
    "        for col in range(n):\n",
    "            # expand out the first row: \n",
    "            # -1 to the power of entry number, multiplied by entry, multiplied by det of minor matrix\n",
    "            det += (-1.)**col * A[0, col] * determinant( A[1:, np.r_[0:col,col+1:n]] )\n",
    "    return det\n",
    "\n",
    "# test our code on a simple small matrix\n",
    "A = np.array([[10., 2., 1.], [6., 5., 4.], [1., 4., 7.]])\n",
    "print(determinant(A))\n",
    "print(np.isclose(determinant(A),sl.det(A)))"
   ]
  },
  {
   "cell_type": "markdown",
   "metadata": {},
   "source": [
    "<div class=\"advanced\">\n",
    "\n",
    "## Homework - another way to derive Cramer's rule [**]\n",
    "\n",
    "Define the columns of the identity matrix as $\\boldsymbol{e}_j$, i.e.\n",
    "\n",
    "$$I = \n",
    "\\begin{pmatrix}\n",
    "      &     &         &      \\\\\n",
    "  \\boldsymbol{e}_{:1} & \\boldsymbol{e}_{:2} &  \\ldots &  \\boldsymbol{e}_{:n} \\\\\n",
    "      &     &         &     \\\\\n",
    "      &     &         &    \n",
    "\\end{pmatrix}\n",
    "$$\n",
    "\n",
    "where \n",
    "\n",
    "$$\\boldsymbol{e}_{:j} = \n",
    "\\begin{pmatrix}\n",
    "0 & \\cdots & 0 & 1 & 0 &\\cdots & 0\n",
    "\\end{pmatrix}^T\n",
    "$$\n",
    "\n",
    "where the $1$ appears in the $j$-th entry of the vector.\n",
    "\n",
    "Define $X_k$ to be the identity matrix with the $k$-th column replaced by the unknown vector\n",
    "$\\boldsymbol{x}$:\n",
    "\n",
    "$$X_k = \n",
    "\\begin{pmatrix}\n",
    "      &     &         &   &&&&   \\\\\n",
    "  \\boldsymbol{e}_{:1} & \\boldsymbol{e}_{:2} &  \\ldots & \\boldsymbol{e}_{:j-1} & \\boldsymbol{x} & \\boldsymbol{e}_{:j+1}  & \\ldots & \\boldsymbol{e}_{:n} \\\\\n",
    "      &     &         &   &&&&  \\\\\n",
    "      &     &         &   &&&&  \n",
    "\\end{pmatrix}\n",
    "$$\n",
    "\n",
    "\n",
    "1. What does $|X_k|$ equal?\n",
    "\n",
    "\n",
    "2. What matrix results from the product $AX_k$?\n",
    "\n",
    "\n",
    "3. Starting from $|X_k| = |A^{-1}\\,A\\,X_k| $, and using the results from parts 1 and 2, try to derive the expression for Cramer's rule we wrote down in the lecture.\n",
    "\n",
    "</div>"
   ]
  },
  {
   "cell_type": "markdown",
   "metadata": {},
   "source": [
    "### Solution - another way to derive Cramer's rule\n",
    "\n",
    "1. Using an expansion of cofactors based on the $k$-th row, we can see that $|X_k| = x_k$.\n",
    "\n",
    "\n",
    "2. Consider the product $AX_k$. Because of the form of $X_k$, all but the $j$-th column of $AX_k$ will just be given by the corresponding columns of $A$, while the $j$-th column is just $A\\boldsymbol{x}$, which although we don't yet know $\\boldsymbol{b}$, we know must equal $\\boldsymbol{b}$!\n",
    "\n",
    "\n",
    "Hence\n",
    "\n",
    "$$A\\,X_k =\n",
    "\\begin{pmatrix}\n",
    "      &     &         &   &&&&   \\\\\n",
    "  \\boldsymbol{a}_{:1} & \\boldsymbol{a}_{:2} &  \\ldots & \\boldsymbol{a}_{:j-1} & \\boldsymbol{b} & \\boldsymbol{a}_{:j+1}  & \\ldots & \\boldsymbol{a}_{:n} \\\\\n",
    "      &     &         &   &&&&  \\\\\n",
    "      &     &         &   &&&&  \n",
    "\\end{pmatrix}\n",
    "$$\n",
    "\n",
    "which is the matrix $B_k$ we defined in the lecture: the matrix $A$ with the $k$-th column replaced by $\\boldsymbol{b}$.\n",
    "\n",
    "\n",
    "\n",
    "3. We therefore have that\n",
    "\n",
    "$$x_k = |X_k| = |A^{-1}\\,A\\,X_k| = |A^{-1}|\\,|A\\,X_k| = \\frac{1}{|A|}\\,|A\\,X_k| $$\n",
    "  \n",
    "\n",
    "\n",
    "We thus have our result from class:\n",
    "\n",
    "$$x_k = \\frac{|B_k|}{|A|}, \\quad  1\\leq k \\leq n$$"
   ]
  },
  {
   "cell_type": "markdown",
   "metadata": {},
   "source": [
    "<div class=\"advanced\">\n",
    "\n",
    "## Homework - implementing Cramer's rule [**]\n",
    "\n",
    "Use your determinant function to implement Cramer's rule: [https://en.wikipedia.org/wiki/Cramer%27s_rule](https://en.wikipedia.org/wiki/Cramer%27s_rule)\n",
    "\n",
    "and test on the system from lectures:\n",
    "\n",
    "```python\n",
    "A = np.array([[2.,3.,-4.], [6.,8.,2.], [4.,8.,-6.]])\n",
    "b = np.array([5.,3.,19.])\n",
    "```\n",
    "\n",
    "See if you can compare the timing of your solver against the use of `scipy.inv` and `scipy.solve` for a series of problem sizes.\n",
    "\n",
    "I considered the matrix\n",
    "\n",
    "```Python\n",
    "A_big = 5*np.eye(n)\n",
    "for i in range(n-1):\n",
    "    A_big[i,i+1] = -2.\n",
    "    A_big[i+1,i] = -2.\n",
    "b_big = np.zeros(n)\n",
    "b_big[n-1] = 1000.\n",
    "```\n",
    "and used something like this to compute a timing\n",
    "```Python\n",
    "tc = %timeit -n 10 -r 3 -o xc=cramers_rule(A_big,b_big)\n",
    "```\n",
    "Check the `timeit` docs to see what this does. You can extract the best time using `tc.best`.\n",
    "\n",
    "\n",
    "\n",
    "\n",
    "\n",
    "\n",
    "NB. this is the system above:\n",
    "\n",
    "$A\\boldsymbol{x}=\\boldsymbol{b}$ where:\n",
    "\n",
    "$$\n",
    "A = \\begin{pmatrix}\n",
    "5 & -2 & 0 & 0 & \\cdots & 0 \\\\\n",
    "-2 & 5 & -2 & 0 & \\cdots & 0 \\\\\n",
    "0 & -2 & 5 & -2 & \\cdots & 0 \\\\\n",
    "\\vdots & & & \\ddots & & \\vdots \\\\ \n",
    " & & & & 5 & -2 \\\\\n",
    "0 & \\cdots & & & -2 & 5 \\\\ \n",
    "\\end{pmatrix}\n",
    "$$\n",
    "and\n",
    "$$\n",
    "b = \\left(0, 0, \\ldots, 0, 1000  \\right)^T\n",
    "$$\n",
    "\n",
    "\n",
    "</div>"
   ]
  },
  {
   "cell_type": "markdown",
   "metadata": {},
   "source": [
    "### Solution - implementing Cramer's rule"
   ]
  },
  {
   "cell_type": "code",
   "execution_count": 16,
   "metadata": {},
   "outputs": [
    {
     "name": "stdout",
     "output_type": "stream",
     "text": [
      "array([-5.999999999999998 ,  4.999999999999999 , -0.4999999999999998])\n",
      "array([-6. ,  5. , -0.5])\n",
      "20.1 µs ± 3.37 µs per loop (mean ± std. dev. of 3 runs, 10 loops each)\n",
      "275 µs ± 38.9 µs per loop (mean ± std. dev. of 3 runs, 10 loops each)\n",
      "1.759999999961792e-05 0.00023613000000040075 13.416477273041302\n"
     ]
    }
   ],
   "source": [
    "def determinant(A):\n",
    "    \"\"\" Returns the determinant of A\n",
    "    \"\"\"\n",
    "    n = A.shape[0]\n",
    "    # check matrix is square\n",
    "    assert(n == A.shape[1])\n",
    "    if n == 1: \n",
    "        return A[0,0]\n",
    "    elif n==2: \n",
    "        return A[0,0] * A[1,1] - A[0,1] * A[1,0]\n",
    "    else:\n",
    "        det = 0.0\n",
    "        for col in range(n):\n",
    "            # expand out the first row: \n",
    "            # -1 to the power of entry number, multiplied by entry, multiplied by det of minor matrix\n",
    "            det += (-1.)**col * A[0, col] * determinant( A[1:, np.r_[0:col,col+1:n]] )\n",
    "    return det\n",
    "\n",
    "def cramers_rule(A,b):\n",
    "    \"\"\" Solve linear system Ax = b using Cramer's Rule\n",
    "    \"\"\"\n",
    "    n = np.size(b)\n",
    "    # check matrix is square\n",
    "    assert(A.shape[0] == A.shape[1])    \n",
    "    # and same number of columns as b\n",
    "    assert(A.shape[0] == n)\n",
    "    # compute and store determinant of A as we will use multiple times\n",
    "    detA = determinant(A)\n",
    "    # check it's non-zero, i.e. A is non-singular\n",
    "    assert(detA != 0)\n",
    "    x = np.zeros_like(b)\n",
    "    # loop over columns\n",
    "    for col in range(n):\n",
    "        # take a copy of A\n",
    "        Ab = np.copy(A)\n",
    "        # replace column col with b\n",
    "        Ab[:,col] = b\n",
    "        # i-th component of solution vecotr\n",
    "        x[col] = determinant(Ab)/detA\n",
    "    return x\n",
    "\n",
    "# check against scipy with our 3x3 example from lecture\n",
    "A = np.array([[2.,3.,-4.], [6.,8.,2.], [4.,8.,-6.]])\n",
    "b = np.array([5.,3.,19.])\n",
    "pprint(sl.inv(A) @ b)\n",
    "pprint(cramers_rule(A,b))\n",
    "\n",
    "time_scipy = %timeit -n 10 -r 3 -o x=sl.inv(A) @ b\n",
    "time_cramer = %timeit -n 10 -r 3 -o x=cramers_rule(A,b)\n",
    "print(time_scipy.best, time_cramer.best, time_cramer.best/time_scipy.best)"
   ]
  },
  {
   "cell_type": "code",
   "execution_count": 17,
   "metadata": {},
   "outputs": [
    {
     "name": "stdout",
     "output_type": "stream",
     "text": [
      "20.5 µs ± 4.9 µs per loop (mean ± std. dev. of 3 runs, 10 loops each)\n",
      "34.7 µs ± 8.22 µs per loop (mean ± std. dev. of 3 runs, 10 loops each)\n",
      "255 µs ± 31.6 µs per loop (mean ± std. dev. of 3 runs, 10 loops each)\n",
      "True\n",
      "20.9 µs ± 6.83 µs per loop (mean ± std. dev. of 3 runs, 10 loops each)\n",
      "55.4 µs ± 30.1 µs per loop (mean ± std. dev. of 3 runs, 10 loops each)\n",
      "1.5 ms ± 19.8 µs per loop (mean ± std. dev. of 3 runs, 10 loops each)\n",
      "True\n",
      "The slowest run took 6.46 times longer than the fastest. This could mean that an intermediate result is being cached.\n",
      "41.7 µs ± 35 µs per loop (mean ± std. dev. of 3 runs, 10 loops each)\n",
      "37.4 µs ± 15.7 µs per loop (mean ± std. dev. of 3 runs, 10 loops each)\n",
      "8.17 ms ± 382 µs per loop (mean ± std. dev. of 3 runs, 10 loops each)\n",
      "True\n",
      "25.3 µs ± 9.86 µs per loop (mean ± std. dev. of 3 runs, 10 loops each)\n",
      "39.1 µs ± 22 µs per loop (mean ± std. dev. of 3 runs, 10 loops each)\n",
      "52.4 ms ± 494 µs per loop (mean ± std. dev. of 3 runs, 10 loops each)\n",
      "True\n",
      "The slowest run took 15.55 times longer than the fastest. This could mean that an intermediate result is being cached.\n",
      "88.6 µs ± 103 µs per loop (mean ± std. dev. of 3 runs, 10 loops each)\n",
      "The slowest run took 5.24 times longer than the fastest. This could mean that an intermediate result is being cached.\n",
      "60.6 µs ± 50.1 µs per loop (mean ± std. dev. of 3 runs, 10 loops each)\n",
      "The slowest run took 8.53 times longer than the fastest. This could mean that an intermediate result is being cached.\n",
      "97 µs ± 98 µs per loop (mean ± std. dev. of 3 runs, 10 loops each)\n",
      "60.2 µs ± 22.9 µs per loop (mean ± std. dev. of 3 runs, 10 loops each)\n",
      "The slowest run took 5.43 times longer than the fastest. This could mean that an intermediate result is being cached.\n",
      "235 µs ± 193 µs per loop (mean ± std. dev. of 3 runs, 10 loops each)\n",
      "87.7 µs ± 15 µs per loop (mean ± std. dev. of 3 runs, 10 loops each)\n",
      "339 µs ± 130 µs per loop (mean ± std. dev. of 3 runs, 10 loops each)\n",
      "132 µs ± 11.8 µs per loop (mean ± std. dev. of 3 runs, 10 loops each)\n",
      "The slowest run took 11.00 times longer than the fastest. This could mean that an intermediate result is being cached.\n",
      "3.38 ms ± 3.21 ms per loop (mean ± std. dev. of 3 runs, 10 loops each)\n",
      "1.13 ms ± 246 µs per loop (mean ± std. dev. of 3 runs, 10 loops each)\n",
      "4.58 ms ± 2.13 ms per loop (mean ± std. dev. of 3 runs, 10 loops each)\n",
      "2.61 ms ± 181 µs per loop (mean ± std. dev. of 3 runs, 10 loops each)\n",
      "19.8 ms ± 6.75 ms per loop (mean ± std. dev. of 3 runs, 10 loops each)\n",
      "17.6 ms ± 7.04 ms per loop (mean ± std. dev. of 3 runs, 10 loops each)\n"
     ]
    },
    {
     "data": {
      "image/png": "[encoded data removed]",
      "text/plain": [
       "<Figure size 504x504 with 1 Axes>"
      ]
     },
     "metadata": {
      "needs_background": "light"
     },
     "output_type": "display_data"
    }
   ],
   "source": [
    "# Now compare the timings of methods using different matrix sizes\n",
    "# note no use of sparse data stucutres here\n",
    "\n",
    "ns = np.array([3, 4, 5, 6, 10, 20, 40, 80, 160, 320, 640])\n",
    "# an upper limit on problem sizes to apply Cramer to!\n",
    "ns_max_cramer = 8\n",
    "\n",
    "time_scipy_inv = np.zeros(len(ns))\n",
    "time_scipy_sol = np.zeros(len(ns))\n",
    "time_cramer = np.zeros(len(ns))\n",
    "\n",
    "# loop through increasing values of n\n",
    "for it, n in enumerate(ns):\n",
    "    A_big = 5*np.eye(n)\n",
    "    for i in range(n-1):\n",
    "        A_big[i,i+1] = -2.\n",
    "        A_big[i+1,i] = -2.\n",
    "    b_big = np.zeros(n)\n",
    "    b_big[n-1] = 1000.\n",
    "    \n",
    "    tsi = %timeit -n 10 -r 3 -o xs=sl.inv(A_big) @ b_big\n",
    "    time_scipy_inv[it] = tsi.best\n",
    "    tss = %timeit -n 10 -r 3 -o xs=sl.solve(A_big, b_big)\n",
    "    time_scipy_sol[it] = tss.best\n",
    "    if n < ns_max_cramer:\n",
    "        tc = %timeit -n 10 -r 3 -o xc=cramers_rule(A_big,b_big)\n",
    "        time_cramer[it] = tc.best\n",
    "        # might as well check our results agree with Scipy\n",
    "        print(np.allclose(sl.inv(A_big) @ b_big, cramers_rule(A_big,b_big)))\n",
    "    \n",
    "# set up figure\n",
    "fig = plt.figure(figsize=(7, 7))\n",
    "ax1 = fig.add_subplot(111)\n",
    "\n",
    "ax1.loglog(ns, time_scipy_inv, 'ko-', label='SciPy inverse')\n",
    "ax1.loglog(ns, time_scipy_sol, 'bo-', label='SciPy solve')\n",
    "ax1.loglog(ns[np.where(ns<ns_max_cramer)[0]], time_cramer[np.where(ns<ns_max_cramer)[0]], 'ro-', label=\"Cramer's rule\")\n",
    "ax1.set_xlabel('$n$', fontsize=16)\n",
    "ax1.set_ylabel('%Timeit best time [seconds]', fontsize=16)\n",
    "ax1.set_title('Linear solve cost', fontsize=16)\n",
    "ax1.legend(loc='best', fontsize=14)\n",
    "ax1.grid(True)"
   ]
  },
  {
   "cell_type": "markdown",
   "metadata": {},
   "source": [
    "<div class=\"optional\">\n",
    "\n",
    "## Homework - demonstrate volume = determinant using cross product [*]\n",
    "\n",
    "Consider the image that results from the following code, based on a similar image from the lecture.\n",
    "\n",
    "Remind yourself what a cross product of two vectors is, and how to compute it.\n",
    "\n",
    "Its magnitude is equal to the area (volume) of the parallelogram spanned by the vectors. Therefore if we take the two vectors to be the transformed basis vectors, then the magnitude of the cross product should be the ratio between the area of the red parallelogram to the blue square, i.e. the determinant.\n",
    "\n",
    "Demonstrate this.\n",
    "\n",
    "</div>"
   ]
  },
  {
   "cell_type": "code",
   "execution_count": 18,
   "metadata": {},
   "outputs": [
    {
     "data": {
      "text/plain": [
       "(-0.2000000000000000, 1.7500000000000000)"
      ]
     },
     "execution_count": 18,
     "metadata": {},
     "output_type": "execute_result"
    },
    {
     "data": {
      "image/png": "[encoded data removed]",
      "text/plain": [
       "<Figure size 432x432 with 1 Axes>"
      ]
     },
     "metadata": {
      "needs_background": "light"
     },
     "output_type": "display_data"
    }
   ],
   "source": [
    "from matplotlib.patches import Polygon\n",
    "\n",
    "# set up figure\n",
    "fig = plt.figure(figsize=(6, 6))\n",
    "\n",
    "ax1 = fig.add_subplot(111)\n",
    "ax1.set_xlabel(\"$x, x'$\", fontsize=14)\n",
    "ax1.set_ylabel(\"$y, y'$\", fontsize=14)\n",
    "ax1.set_title('Linear transformation (general)', fontsize=14)\n",
    "ax1.grid(True)\n",
    "\n",
    "i = np.array([1,0])\n",
    "j = np.array([0,1])\n",
    "\n",
    "# plot the vectors\n",
    "ax1.quiver(i[0], i[1], angles='xy', scale_units='xy', scale=1, color='b', zorder=10)\n",
    "ax1.quiver(j[0], j[1], angles='xy', scale_units='xy', scale=1, color='b', zorder=10)\n",
    "# add a unit square image\n",
    "ij = np.column_stack([np.zeros(2,),i,i+j,j]) # don't need to add zero at end as we will assume closed polygons\n",
    "ax1.add_patch(Polygon( ij.T , facecolor='lightblue', alpha=0.7))\n",
    "\n",
    "A = np.array([[0.9,0.2],[0.6,1.1]])\n",
    "i_ = A@i\n",
    "j_ = A@j\n",
    "\n",
    "\n",
    "# and the vectors\n",
    "ax1.quiver(i_[0], i_[1], angles='xy', scale_units='xy', scale=1, color='r', zorder=10)\n",
    "ax1.quiver(j_[0], j_[1], angles='xy', scale_units='xy', scale=1, color='r', zorder=10)\n",
    "# plot how the square transforms\n",
    "ij_ = np.column_stack([np.zeros(2,),i_,i_+j_,j_]) # don't need to add zero at end as we will assume closed polygons\n",
    "ax1.add_patch(Polygon( ij_.T , facecolor='mistyrose', alpha=0.7))\n",
    "\n",
    "\n",
    "ax1.text(i_[0]-0.2, i_[1]+0.01, \"$(a,c)^T$\", fontsize=12)\n",
    "ax1.text(j_[0]+0.025, j_[1]-0.1, \"$(b,d)^T$\", fontsize=12)\n",
    "\n",
    "ax1.set_xlim(-0.2,1.25)\n",
    "ax1.set_ylim(-0.2,1.75)"
   ]
  },
  {
   "cell_type": "markdown",
   "metadata": {},
   "source": [
    "### Solution - demonstrate volume = determinant using cross product\n",
    "\n",
    "Alternatively compute the magnitude of the vector that results from taking the [cross product](https://en.wikipedia.org/wiki/Cross_product) of the two transformed vectors (NB. a cross product\n",
    "is actually defined in terms of a determinant, where the first row are unit vectors)\n",
    "\n",
    "\\begin{align*}\n",
    "\\text{Volume} &= \\text{magnitude}\n",
    "\\begin{vmatrix}\n",
    "\\boldsymbol{i} & \\boldsymbol{j}  & \\boldsymbol{k} \\\\\n",
    "a & b & 0 \\\\\n",
    "c & d & 0\n",
    "\\end{vmatrix}\n",
    "\\\\[5pt]\n",
    "& = \\text{magnitude}\n",
    "\\left[(b0-0d)\\boldsymbol{i} - (a0-0c)\\boldsymbol{j} + (ad-bc)\\boldsymbol{k}\n",
    "\\right]\\\\[5pt]\n",
    "& = \\text{magnitude}\n",
    "\\begin{pmatrix}\n",
    "0 \\\\\n",
    "0 \\\\\n",
    "(ad-bc)\n",
    "\\end{pmatrix}\\\\[5pt]\n",
    "&=ad-bc = |A|\n",
    "\\end{align*}"
   ]
  },
  {
   "cell_type": "markdown",
   "metadata": {},
   "source": [
    "<div class=\"optional\">\n",
    "\n",
    "## Homework - extending our logo animation [*]\n",
    "\n",
    "See if you can update the script to generate the rotating ACSE logo animation to something like the second animation from the start of the lecture.\n",
    "\n",
    "Hint: to do this I made use of `scipy.interpolate.interp1d` along with `numpy.random.random` to generate a random path for the logo to follow, as well as randomly change the size - I smoothed these in time so the path and sizing didn't jump discontinuously.\n",
    "\n",
    "</div>"
   ]
  },
  {
   "cell_type": "markdown",
   "metadata": {},
   "source": [
    "e.g. something like this:\n",
    "\n",
    "<video controls loop width=\"400\" src=\"animations/logo-matt.mp4\"/>"
   ]
  },
  {
   "cell_type": "markdown",
   "metadata": {},
   "source": [
    "### Homework - extending our logo animation"
   ]
  },
  {
   "cell_type": "code",
   "execution_count": 3,
   "metadata": {},
   "outputs": [
    {
     "ename": "RuntimeError",
     "evalue": "Requested MovieWriter (ffmpeg) not available",
     "output_type": "error",
     "traceback": [
      "\u001b[0;31m---------------------------------------------------------------------------\u001b[0m",
      "\u001b[0;31mRuntimeError\u001b[0m                              Traceback (most recent call last)",
      "\u001b[0;32m<ipython-input-3-e543b816f35d>\u001b[0m in \u001b[0;36m<module>\u001b[0;34m\u001b[0m\n\u001b[1;32m     70\u001b[0m \u001b[0;31m# display in notebook\u001b[0m\u001b[0;34m\u001b[0m\u001b[0;34m\u001b[0m\u001b[0;34m\u001b[0m\u001b[0m\n\u001b[1;32m     71\u001b[0m \u001b[0;31m#HTML(anim.to_jshtml())\u001b[0m\u001b[0;34m\u001b[0m\u001b[0;34m\u001b[0m\u001b[0;34m\u001b[0m\u001b[0m\n\u001b[0;32m---> 72\u001b[0;31m \u001b[0mHTML\u001b[0m\u001b[0;34m(\u001b[0m\u001b[0manim\u001b[0m\u001b[0;34m.\u001b[0m\u001b[0mto_html5_video\u001b[0m\u001b[0;34m(\u001b[0m\u001b[0;34m)\u001b[0m\u001b[0;34m)\u001b[0m\u001b[0;34m\u001b[0m\u001b[0;34m\u001b[0m\u001b[0m\n\u001b[0m",
      "\u001b[0;32m/Library/Frameworks/Python.framework/Versions/3.8/lib/python3.8/site-packages/matplotlib/animation.py\u001b[0m in \u001b[0;36mto_html5_video\u001b[0;34m(self, embed_limit)\u001b[0m\n\u001b[1;32m   1314\u001b[0m                 \u001b[0;31m# We create a writer manually so that we can get the\u001b[0m\u001b[0;34m\u001b[0m\u001b[0;34m\u001b[0m\u001b[0;34m\u001b[0m\u001b[0m\n\u001b[1;32m   1315\u001b[0m                 \u001b[0;31m# appropriate size for the tag\u001b[0m\u001b[0;34m\u001b[0m\u001b[0;34m\u001b[0m\u001b[0;34m\u001b[0m\u001b[0m\n\u001b[0;32m-> 1316\u001b[0;31m                 \u001b[0mWriter\u001b[0m \u001b[0;34m=\u001b[0m \u001b[0mwriters\u001b[0m\u001b[0;34m[\u001b[0m\u001b[0mmpl\u001b[0m\u001b[0;34m.\u001b[0m\u001b[0mrcParams\u001b[0m\u001b[0;34m[\u001b[0m\u001b[0;34m'animation.writer'\u001b[0m\u001b[0;34m]\u001b[0m\u001b[0;34m]\u001b[0m\u001b[0;34m\u001b[0m\u001b[0;34m\u001b[0m\u001b[0m\n\u001b[0m\u001b[1;32m   1317\u001b[0m                 writer = Writer(codec='h264',\n\u001b[1;32m   1318\u001b[0m                                 \u001b[0mbitrate\u001b[0m\u001b[0;34m=\u001b[0m\u001b[0mmpl\u001b[0m\u001b[0;34m.\u001b[0m\u001b[0mrcParams\u001b[0m\u001b[0;34m[\u001b[0m\u001b[0;34m'animation.bitrate'\u001b[0m\u001b[0;34m]\u001b[0m\u001b[0;34m,\u001b[0m\u001b[0;34m\u001b[0m\u001b[0;34m\u001b[0m\u001b[0m\n",
      "\u001b[0;32m/Library/Frameworks/Python.framework/Versions/3.8/lib/python3.8/site-packages/matplotlib/animation.py\u001b[0m in \u001b[0;36m__getitem__\u001b[0;34m(self, name)\u001b[0m\n\u001b[1;32m    164\u001b[0m         \u001b[0;32mif\u001b[0m \u001b[0mself\u001b[0m\u001b[0;34m.\u001b[0m\u001b[0mis_available\u001b[0m\u001b[0;34m(\u001b[0m\u001b[0mname\u001b[0m\u001b[0;34m)\u001b[0m\u001b[0;34m:\u001b[0m\u001b[0;34m\u001b[0m\u001b[0;34m\u001b[0m\u001b[0m\n\u001b[1;32m    165\u001b[0m             \u001b[0;32mreturn\u001b[0m \u001b[0mself\u001b[0m\u001b[0;34m.\u001b[0m\u001b[0m_registered\u001b[0m\u001b[0;34m[\u001b[0m\u001b[0mname\u001b[0m\u001b[0;34m]\u001b[0m\u001b[0;34m\u001b[0m\u001b[0;34m\u001b[0m\u001b[0m\n\u001b[0;32m--> 166\u001b[0;31m         \u001b[0;32mraise\u001b[0m \u001b[0mRuntimeError\u001b[0m\u001b[0;34m(\u001b[0m\u001b[0;34mf\"Requested MovieWriter ({name}) not available\"\u001b[0m\u001b[0;34m)\u001b[0m\u001b[0;34m\u001b[0m\u001b[0;34m\u001b[0m\u001b[0m\n\u001b[0m\u001b[1;32m    167\u001b[0m \u001b[0;34m\u001b[0m\u001b[0m\n\u001b[1;32m    168\u001b[0m \u001b[0;34m\u001b[0m\u001b[0m\n",
      "\u001b[0;31mRuntimeError\u001b[0m: Requested MovieWriter (ffmpeg) not available"
     ]
    }
   ],
   "source": [
    "from matplotlib.path import Path\n",
    "from matplotlib.textpath import TextToPath\n",
    "from matplotlib.font_manager import FontProperties\n",
    "from matplotlib.patches import PathPatch\n",
    "import matplotlib.animation as animation\n",
    "from IPython.display import HTML\n",
    "\n",
    "from scipy.interpolate import interp1d\n",
    "\n",
    "# set up some random functions to be used to provide a random path and scaling\n",
    "\n",
    "# n controls how many frames in simulation and how many random movements\n",
    "n = 6  # the animation shown at start of lecture used n=30 but this takes a while to run\n",
    "#n = 30  # the animation shown at start of lecture used n=30 but this takes a while to run\n",
    "\n",
    "i = np.arange(n)\n",
    "x = -1 + 2*np.random.random((n))\n",
    "y = -1 + 2*np.random.random((n))\n",
    "z = np.random.random((n))\n",
    "f = interp1d(i, x, kind='cubic')\n",
    "g = interp1d(i, y, kind='cubic')\n",
    "h = interp1d(i, z, kind='cubic')\n",
    "\n",
    "# set up a figure and axes\n",
    "fig = plt.figure(figsize=(8, 8))\n",
    "ax1 = fig.add_subplot(111)\n",
    "ax1.set_xlim(-750, 750)\n",
    "ax1.set_ylim(-750, 750)\n",
    "ax1.axis('off')\n",
    "\n",
    "# set-up the thing we're going to change in the animation\n",
    "fp = FontProperties(family='Arial', style='italic', weight='semibold')\n",
    "#verts, codes = TextToPath().get_text_path(fp, \"** Matt **\")\n",
    "verts, codes = TextToPath().get_text_path(fp, \"ACSE 2020\")\n",
    "# turn verts into a numpy array of size Nx2\n",
    "verts = np.array(verts)\n",
    "path = Path(verts, codes, closed=True)\n",
    "patch = PathPatch(path, facecolor='r', lw=2)\n",
    "ax1.add_patch(patch)\n",
    "plt.close()\n",
    "\n",
    "## initialization function\n",
    "def init():\n",
    "    return patch,\n",
    "\n",
    "def animate(i, verts, n_frames):\n",
    "    theta = -2.*np.pi* 5 *i/n_frames # minus sign to rotate clockwise; rotate total of 5 times\n",
    "    A = np.array([[np.cos(theta),-np.sin(theta)],[np.sin(theta),np.cos(theta)]]) # rotation matrix\n",
    "    # translate to be cented on origin before rotating\n",
    "    verts = verts - \\\n",
    "            [0.5*(np.max(verts[:,0]) - np.min(verts[:,0])),\n",
    "             0.5*(np.max(verts[:,1]) - np.min(verts[:,1]))]\n",
    "    verts = (A@(verts.T)).T  # make verts 2xN, then convert result back to Nx2 \n",
    "    verts = verts * 3*(0.1+h((n-1)*i/n_frames)) # scale randomly (this could be done as a linear transformation above)\n",
    "    verts = verts + [250*f((0.5*(n-1)*i/n_frames)), 250*g((0.5*(n-1)*i/n_frames))] # translate randomly\n",
    "    # update the vertics that make up our PathPatch\n",
    "    patch.get_path().vertices = verts\n",
    "    return patch,\n",
    "\n",
    "n_frames = 20*n\n",
    "anim = animation.FuncAnimation(fig, animate, init_func=init, frames=np.arange(0, n_frames), \n",
    "                               fargs=(verts, n_frames),\n",
    "                               interval=40, blit=True)\n",
    "\n",
    "# save the animation as gif or mp4 if needed\n",
    "#anim.save('animations/logo-drunk.gif', writer='imagemagick')\n",
    "#anim.save('animations/logo-drunk.mp4', extra_args=['-vcodec', 'libx264'])\n",
    "#anim.save('animations/logo-matt.mp4', extra_args=['-vcodec', 'libx264'])\n",
    "\n",
    "# display in notebook\n",
    "#HTML(anim.to_jshtml())\n",
    "HTML(anim.to_html5_video())"
   ]
  },
  {
   "cell_type": "code",
   "execution_count": null,
   "metadata": {},
   "outputs": [],
   "source": []
  }
 ],
 "metadata": {
  "celltoolbar": "Slideshow",
  "kernelspec": {
   "display_name": "Python 3",
   "language": "python",
   "name": "python3"
  },
  "language_info": {
   "codemirror_mode": {
    "name": "ipython",
    "version": 3
   },
   "file_extension": ".py",
   "mimetype": "text/x-python",
   "name": "python",
   "nbconvert_exporter": "python",
   "pygments_lexer": "ipython3",
   "version": "3.8.5"
  },
  "latex_envs": {
   "LaTeX_envs_menu_present": true,
   "autoclose": true,
   "autocomplete": true,
   "bibliofile": "biblio.bib",
   "cite_by": "apalike",
   "current_citInitial": 1,
   "eqLabelWithNumbers": true,
   "eqNumInitial": 1,
   "hotkeys": {
    "equation": "Ctrl-E",
    "itemize": "Ctrl-I"
   },
   "labels_anchors": false,
   "latex_user_defs": false,
   "report_style_numbering": false,
   "user_envs_cfg": true
  },
  "toc": {
   "base_numbering": 1,
   "nav_menu": {},
   "number_sections": true,
   "sideBar": true,
   "skip_h1_title": false,
   "title_cell": "Table of Contents",
   "title_sidebar": "Contents",
   "toc_cell": true,
   "toc_position": {},
   "toc_section_display": true,
   "toc_window_display": false
  }
 },
 "nbformat": 4,
 "nbformat_minor": 1
}
